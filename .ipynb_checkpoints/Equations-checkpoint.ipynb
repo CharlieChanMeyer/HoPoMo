{
 "cells": [
  {
   "cell_type": "markdown",
   "metadata": {},
   "source": [
    "# Equations"
   ]
  },
  {
   "cell_type": "markdown",
   "metadata": {},
   "source": [
    "## Necessary imports"
   ]
  },
  {
   "cell_type": "code",
   "execution_count": 1,
   "metadata": {},
   "outputs": [],
   "source": [
    "import math\n",
    "import random\n",
    "import pandas as pd\n",
    "import numpy as np"
   ]
  },
  {
   "cell_type": "markdown",
   "metadata": {},
   "source": [
    "## Constants"
   ]
  },
  {
   "cell_type": "code",
   "execution_count": 2,
   "metadata": {},
   "outputs": [],
   "source": [
    "####### Définitions des variables\n",
    "ELRbase0 = 1600.\n",
    "SUPthreshold = 0.2\n",
    "CELLShive = 250000\n",
    "x1, x2, x3, x4, x5 = 385, 30, 36, 155, 30\n",
    "LIFESPANegg = 3\n",
    "LIFESPANlarva = 5\n",
    "LIFESPANpupa = 12\n",
    "MORTALITYeggs = 0.03\n",
    "MORTALITYlarvae = 0.01\n",
    "MORTALITYpupae = 0.001\n",
    "CANNIBALISMhungerbase = [0.23, 0.3, 0.58, 0.06, 0] # for i in [1,2,...,5]\n",
    "MORTALITYbase = 0.01\n",
    "MORTALITYnursing = 0.005\n",
    "MORTALITYprocessing = 0.005\n",
    "MORTALITYforaging = 0.035\n",
    "LOADpollenforager = 0.06\n",
    "LOADnectarforager = 0.04\n",
    "TURNSnectarforager = 15\n",
    "TURNSpollenforager = 10\n",
    "FACTORforagingsuccess = 0.8\n",
    "FACTORminpollenforagers = 0.01\n",
    "FACTORforagingmax = 0.33\n",
    "ProcessorsPerCell = 2\n",
    "FACTORpollenstorage = 6\n",
    "FACTORpollensavingmax = 0.3\n",
    "RATIOnectar_to_honey = 0.4 # 20/50\n",
    "w_nectar = 0.43\n",
    "w_pollen = 0.23\n",
    "w_cellsbase = 0.037\n",
    "w_honey = 0.5\n",
    "w_egg = 0.0001\n",
    "w_pupa = 0.16\n",
    "w_adult = 0.1\n",
    "w_larva = [0.0002,0.00059, 0.00331, 0.0644, 0.160] # for i in [1,...,5]\n",
    "w_hivebase = 14000 #(\"14,000g\")\n",
    "ERLstochrange = .05\n",
    "\n",
    "#######Creations des tableaux\n",
    "STORESpollenTab = np.zeros(366)\n",
    "STOREShoneyTab = np.zeros(366)\n",
    "STORESnectarTab = np.zeros(366)\n",
    "BroodCellsTab = np.zeros(366)\n",
    "BEESadultTab = np.zeros(366)\n",
    "WEIGHTcolonyTab = np.zeros(366)\n",
    "t = np.arange(366)\n",
    "opt = 8 # equation choice (7 or 8) for CELLSeggs(t)\n",
    "opt2 = 12 # equation choice (12 or 13) for CELLSlarvae(t)\n",
    "opt3 = 15 # equation choice (15 or 16) for CELLSpupae(t)\n"
   ]
  },
  {
   "cell_type": "markdown",
   "metadata": {},
   "source": [
    "## Initialisations"
   ]
  },
  {
   "cell_type": "code",
   "execution_count": 3,
   "metadata": {},
   "outputs": [],
   "source": [
    "####### Initialisation des valeurs à 0\n",
    "STORESpollenTab[0] = 0\n",
    "STOREShoneyTab[0] = 50000\n",
    "STORESnectarTab[0] = 0\n",
    "BroodCellsTab[0] = 0\n",
    "BEESadultTab[0] = 15000\n",
    "WEIGHTcolonyTab[0] = 50\n",
    "\n",
    "####### Creation du dataframe\n",
    "ar = np.array([STORESpollenTab,STOREShoneyTab,STORESnectarTab,BroodCellsTab,BEESadultTab,WEIGHTcolonyTab])\n",
    "dFResult= pd.DataFrame({'STORESpollen' : STORESpollenTab, 'STOREShoney' : STOREShoneyTab, 'STORESnectar' : STORESnectarTab, 'BroodCells' : BroodCellsTab,'BEESadult' : BEESadultTab,'WEIGHTcolony' : WEIGHTcolonyTab})\n",
    "\n",
    "####### Parameter swarming day\n",
    "swd = 140\n",
    "\n",
    "####### Test\n",
    "NECTARNEEDlarva = np.arange(1,6,1.0)\n",
    "POLLENNEEDlarva = np.arange(1,6,1.0)\n",
    "\n",
    "####### Définitions des variables \"inconnues\"\n",
    "POLLENNEEDadult = 1\n",
    "POLLENNEEDnurse = 1\n",
    "NECTARNEEDactiveforager = 1\n",
    "NECTARNEEDadult = 1\n",
    "NECTARNEEDnurse = 1"
   ]
  },
  {
   "cell_type": "markdown",
   "metadata": {},
   "source": [
    "### Array Initialisations"
   ]
  },
  {
   "cell_type": "code",
   "execution_count": 4,
   "metadata": {},
   "outputs": [],
   "source": [
    "global CELLSemptyArray, SUPcombArray, ELRArray, CELLSeggsArray,\n",
    "CELLSlarvaeArray, CELLSpupaeArray, CELLSbroodArray, MORTALITYadultArray,\n",
    "BEESadultArray, INDEXflightArray\n",
    "\n",
    "CELLSemptyArray = []\n",
    "SUPcombArray = []\n",
    "ELRArray = []\n",
    "CELLSeggsArray = []\n",
    "CELLSlarvaeArray = []\n",
    "CELLSpupaeArray = []\n",
    "CELLSbroodArray = []\n",
    "MORTALITYadultArray = []\n",
    "BEESadultArray = []\n",
    "INDEXflightArray = []"
   ]
  },
  {
   "cell_type": "markdown",
   "metadata": {},
   "source": [
    "## 2.1.   Modeling the queen’s egg laying behavior"
   ]
  },
  {
   "cell_type": "code",
   "execution_count": 5,
   "metadata": {},
   "outputs": [],
   "source": [
    "def season(t):\n",
    "    # (1)\n",
    "    return max(1-(1/(1+x1*math.exp(-2*t/x2))),1/(1+x3*math.exp(-2*(t-x4)/x5)))"
   ]
  },
  {
   "cell_type": "code",
   "execution_count": 6,
   "metadata": {},
   "outputs": [
    {
     "data": {
      "text/plain": [
       "[<matplotlib.lines.Line2D at 0x7f5396b13490>]"
      ]
     },
     "execution_count": 6,
     "metadata": {},
     "output_type": "execute_result"
    },
    {
     "data": {
      "image/png": "[encoded data removed]",
      "text/plain": [
       "<Figure size 720x360 with 1 Axes>"
      ]
     },
     "metadata": {
      "needs_background": "light"
     },
     "output_type": "display_data"
    }
   ],
   "source": [
    "import matplotlib.pyplot as plt\n",
    "import numpy as np\n",
    "\n",
    "graph = []\n",
    "\n",
    "for i in range(360):\n",
    "    graph.append(season(i))\n",
    "\n",
    "plt.figure(figsize=(10,5))\n",
    "plt.plot(np.linspace(1,360, 360), graph)"
   ]
  },
  {
   "cell_type": "code",
   "execution_count": 7,
   "metadata": {},
   "outputs": [],
   "source": [
    "def CELLSempty(t):\n",
    "    # (2)\n",
    "    if t>len(CELLSemptyArray):\n",
    "        CELLSempty(t-1)\n",
    "    if t==len(CELLSemptyArray):\n",
    "        res = CELLShive(t) - CELLSbrood(t) - STORESpollen(t) - STORESnectar(t) - STOREShoney(t)\n",
    "        CELLSemptyArray = np.append(CELLSemptyArray, res)\n",
    "    return CELLSemptyArray[t]"
   ]
  },
  {
   "cell_type": "code",
   "execution_count": 8,
   "metadata": {},
   "outputs": [],
   "source": [
    "def SUPcomb(t):\n",
    "    # (3)\n",
    "    if t>len(SUPcombArray):\n",
    "        SUPcomb(t-1)\n",
    "    if t == len(SUPcombArray):\n",
    "        if CELLSempty(t)/(CELLShive(t) + 1) < SUPthreshold:\n",
    "            res = CELLSempty(t)/((CELLShive(t) + 1) * SUPthreshold)\n",
    "        else:\n",
    "            res = 1\n",
    "        SUPcombArray = np.append(SUPcombArray, res)\n",
    "    return SUPcombArray[t]"
   ]
  },
  {
   "cell_type": "code",
   "execution_count": 9,
   "metadata": {},
   "outputs": [],
   "source": [
    "def ELRstoch(t):\n",
    "    # (4)\n",
    "    return random.uniform(-ERLstochrange,ERLstochrange)"
   ]
  },
  {
   "cell_type": "code",
   "execution_count": 13,
   "metadata": {},
   "outputs": [
    {
     "ename": "IndexError",
     "evalue": "list index out of range",
     "output_type": "error",
     "traceback": [
      "\u001b[0;31m---------------------------------------------------------------------------\u001b[0m",
      "\u001b[0;31mIndexError\u001b[0m                                Traceback (most recent call last)",
      "\u001b[0;32m<ipython-input-13-494d0980ed4d>\u001b[0m in \u001b[0;36m<module>\u001b[0;34m\u001b[0m\n\u001b[1;32m     10\u001b[0m     \u001b[0;32mreturn\u001b[0m \u001b[0mELRArray\u001b[0m\u001b[0;34m[\u001b[0m\u001b[0mt\u001b[0m\u001b[0;34m]\u001b[0m\u001b[0;34m\u001b[0m\u001b[0;34m\u001b[0m\u001b[0m\n\u001b[1;32m     11\u001b[0m \u001b[0;34m\u001b[0m\u001b[0m\n\u001b[0;32m---> 12\u001b[0;31m \u001b[0mprint\u001b[0m\u001b[0;34m(\u001b[0m\u001b[0mELR\u001b[0m\u001b[0;34m(\u001b[0m\u001b[0;36m5\u001b[0m\u001b[0;34m)\u001b[0m\u001b[0;34m)\u001b[0m\u001b[0;34m\u001b[0m\u001b[0;34m\u001b[0m\u001b[0m\n\u001b[0m",
      "\u001b[0;32m<ipython-input-13-494d0980ed4d>\u001b[0m in \u001b[0;36mELR\u001b[0;34m(t)\u001b[0m\n\u001b[1;32m      8\u001b[0m         \u001b[0mELRArray\u001b[0m \u001b[0;34m=\u001b[0m \u001b[0mnp\u001b[0m\u001b[0;34m.\u001b[0m\u001b[0mappend\u001b[0m\u001b[0;34m(\u001b[0m\u001b[0mELRArray\u001b[0m\u001b[0;34m,\u001b[0m \u001b[0mres\u001b[0m\u001b[0;34m)\u001b[0m\u001b[0;34m\u001b[0m\u001b[0;34m\u001b[0m\u001b[0m\n\u001b[1;32m      9\u001b[0m         \u001b[0mprint\u001b[0m\u001b[0;34m(\u001b[0m\u001b[0mELRArray\u001b[0m\u001b[0;34m)\u001b[0m\u001b[0;34m\u001b[0m\u001b[0;34m\u001b[0m\u001b[0m\n\u001b[0;32m---> 10\u001b[0;31m     \u001b[0;32mreturn\u001b[0m \u001b[0mELRArray\u001b[0m\u001b[0;34m[\u001b[0m\u001b[0mt\u001b[0m\u001b[0;34m]\u001b[0m\u001b[0;34m\u001b[0m\u001b[0;34m\u001b[0m\u001b[0m\n\u001b[0m\u001b[1;32m     11\u001b[0m \u001b[0;34m\u001b[0m\u001b[0m\n\u001b[1;32m     12\u001b[0m \u001b[0mprint\u001b[0m\u001b[0;34m(\u001b[0m\u001b[0mELR\u001b[0m\u001b[0;34m(\u001b[0m\u001b[0;36m5\u001b[0m\u001b[0;34m)\u001b[0m\u001b[0;34m)\u001b[0m\u001b[0;34m\u001b[0m\u001b[0;34m\u001b[0m\u001b[0m\n",
      "\u001b[0;31mIndexError\u001b[0m: list index out of range"
     ]
    }
   ],
   "source": [
    "def ELR(t):\n",
    "    # (5)\n",
    "    global ELRArray\n",
    "    if t > len(ELRArray):\n",
    "        res = ELRbase(t)\n",
    "    elif t == len(ELRArray):\n",
    "        res = ELRbase(t) * (1 + ELRstoch(t)) * (1 - season(t)) * SUPcomb(t)\n",
    "        ELRArray = np.append(ELRArray, res)\n",
    "    return ELRArray[t]"
   ]
  },
  {
   "cell_type": "markdown",
   "metadata": {},
   "source": [
    "## 2.2. Modeling the immature stages"
   ]
  },
  {
   "cell_type": "markdown",
   "metadata": {},
   "source": [
    "### 2.2.1 Eggs"
   ]
  },
  {
   "cell_type": "code",
   "execution_count": null,
   "metadata": {},
   "outputs": [],
   "source": [
    "#VOIR INIT\n",
    "def EGGS(i,t):\n",
    "    # (6)\n",
    "    if i == 1:\n",
    "        res = ELR(t-1) * (1 - MORTALITYeggs)\n",
    "    elif i in [2,3]:\n",
    "        res = EGGS(i-1,t-1) * (1 - MORTALITYeggs)\n",
    "    return res"
   ]
  },
  {
   "cell_type": "code",
   "execution_count": null,
   "metadata": {},
   "outputs": [],
   "source": [
    "def CELLSeggs(t):\n",
    "    # (7)\n",
    "    if t > len(CELLSeggsArray):\n",
    "        CELLSeggs(t-1)\n",
    "    elif t == len(CELLSeggsArray):\n",
    "        sum = 0\n",
    "        for i in range(1,LIFESPANegg):\n",
    "            sum += EGGS(i,t)\n",
    "        CELLSeggsArray = np.append(CELLSeggsArray, sum)\n",
    "    return CELLSeggsArray[t]"
   ]
  },
  {
   "cell_type": "markdown",
   "metadata": {},
   "source": [
    "### 2.2.2. Larvae (unsealed)"
   ]
  },
  {
   "cell_type": "code",
   "execution_count": null,
   "metadata": {},
   "outputs": [],
   "source": [
    "def SURVIVALlarvae(i,t):\n",
    "    # (9)\n",
    "    return (1 - CANNIBALISMlarvae(i,t)) * (1 - MORTALITYlarvae)"
   ]
  },
  {
   "cell_type": "code",
   "execution_count": null,
   "metadata": {},
   "outputs": [],
   "source": [
    "def CANNIBALISMlarvae(i,t):\n",
    "    # (10)\n",
    "    return CANNIBALISMhungerbase[i] * (1 - (INDEXpollensituation(t-1) * INDEXnursingquality(t-1)))"
   ]
  },
  {
   "cell_type": "code",
   "execution_count": null,
   "metadata": {},
   "outputs": [],
   "source": [
    "#VOIR INIT\n",
    "def LARVAE(i,t):\n",
    "    # (11)\n",
    "    if i == 1:\n",
    "        res = EGGS(LIFESPANegg,t-1)*SURVIVALlarvae(1,t)\n",
    "    elif 1 < i and i <= LIFESPANlarva:\n",
    "        res = LARVAE(i-1,t-1) * SURVIVALlarvae(i,t)\n",
    "    return res"
   ]
  },
  {
   "cell_type": "code",
   "execution_count": null,
   "metadata": {},
   "outputs": [],
   "source": [
    "def CELLSlarvae(t):\n",
    "    # (12)\n",
    "    if t > len(CELLSlarvaeArray):\n",
    "        CELLSlarvae(t-1)\n",
    "    elif t == len(CELLSlarvaeArray):\n",
    "        sum = 0\n",
    "        for i in range(1, LIFESPANlarva):\n",
    "            sum += LARVAE(i,t)\n",
    "        CELLSlarvaeArray = np.append(CELLSlarvaeArray, sum)\n",
    "    return CELLSlarvaeArray[t] "
   ]
  },
  {
   "cell_type": "code",
   "execution_count": null,
   "metadata": {},
   "outputs": [],
   "source": [
    "# def CELLSlarvae13(t):\n",
    "#     # (13)\n",
    "#     # alternative to (12)\n",
    "    \n",
    "#     def product(i):\n",
    "#         prdct = 1\n",
    "#         for k in range(i+1):\n",
    "#             if k != 0:\n",
    "#                 prdct *= SURVIVALlarvae(k,t-i+k)\n",
    "#         return prdct\n",
    "    \n",
    "#     sum = 0\n",
    "#     for i in range(LIFESPANlarva+1):\n",
    "#         if i != 0:\n",
    "#             sum += (ELR(t-i-LIFESPANegg)*math.pow(1-MORTALITYeggs,i)*product(i))  \n",
    "    \n",
    "#     return sum"
   ]
  },
  {
   "cell_type": "code",
   "execution_count": null,
   "metadata": {},
   "outputs": [],
   "source": [
    "# def CELLSlarvae(t,opt):\n",
    "#     # (12) / (13)\n",
    "#     if opt == 12:\n",
    "#         return CELLSlarvae12(t)\n",
    "#     elif opt == 13:\n",
    "#         return CELLSlarvae13(t)\n",
    "#     else:\n",
    "#         raise Exception(\"opt must be 12 or 13\")"
   ]
  },
  {
   "cell_type": "code",
   "execution_count": null,
   "metadata": {},
   "outputs": [],
   "source": [
    "#VOIR INIT\n",
    "def PUPAE(i,t):\n",
    "    # (14)\n",
    "    if i == 1:\n",
    "        res = LARVAE(LIFESPANlarva,t-1) * (1 - MORTALITYpupae)\n",
    "    elif 1 < i and i <= LIFESPANpupa:\n",
    "        res = PUPAE(i-1,t-1) * (1 - MORTALITYpupae)\n",
    "    return res"
   ]
  },
  {
   "cell_type": "code",
   "execution_count": null,
   "metadata": {},
   "outputs": [],
   "source": [
    "def CELLSpupae(t):\n",
    "    # (15)\n",
    "    if t > len(CELLSpupaeArray):\n",
    "        CELLSpupae(t-1)\n",
    "    elif t == len(CELLSpupaeArray):\n",
    "        sum = 0\n",
    "        for i in range(1,LIFESPANpupa):\n",
    "            sum += PUPAE((i,t))\n",
    "        CELLSpupaeArray = np.append(CELLSpupaeArray, sum)\n",
    "    return CELLSpupaeArray[t] "
   ]
  },
  {
   "cell_type": "code",
   "execution_count": null,
   "metadata": {},
   "outputs": [],
   "source": [
    "# def CELLSpupae16(t):\n",
    "#     # (16)\n",
    "#     # alternative to (15)\n",
    "    \n",
    "#     def product(i):\n",
    "#         prdct = 1\n",
    "#         for k in range(LIFESPANlarva+1):\n",
    "#             if k != 0:\n",
    "#                 prdct *= SURVIVALlarvae(k,t-i-LIFESPANlarva+k)\n",
    "#         return prdct\n",
    "    \n",
    "#     sum = 0\n",
    "#     for i in range(LIFESPANpupa+1):\n",
    "#         if i != 0:\n",
    "#             sum += (ELR(t-i-LIFESPANegg-LIFESPANlarva)*math.pow(1-MORTALITYeggs,LIFESPANegg)*product(i)*math.pow(1-MORTALITYpupae,i))  \n",
    "    \n",
    "#     return sum"
   ]
  },
  {
   "cell_type": "code",
   "execution_count": null,
   "metadata": {},
   "outputs": [],
   "source": [
    "# def CELLSpupae(t,opt):\n",
    "#     # (15) / (16)\n",
    "#     if opt == 15:\n",
    "#         return CELLSpupae15(t)\n",
    "#     elif opt == 16:\n",
    "#         return CELLSpupae16(t)\n",
    "#     else:\n",
    "#         raise Exception(\"opt must be 15 or 16\")"
   ]
  },
  {
   "cell_type": "code",
   "execution_count": null,
   "metadata": {},
   "outputs": [],
   "source": [
    "def CELLSbrood(t):\n",
    "    # (17)\n",
    "    if t > len(CELLSbroodArray):\n",
    "        CELLSbrood(t-1)\n",
    "    elif t == len(CELLSbroodArray):\n",
    "        res = CELLSeggs(t) + CELLSlarvae(t) + CELLSpupae(t)\n",
    "        CELLSbroodArray = np.append(CELLSbroodArray, res)\n",
    "    return CELLSbroodArray[t]"
   ]
  },
  {
   "cell_type": "markdown",
   "metadata": {},
   "source": [
    "## 2.3 Modeling the population of adult bees"
   ]
  },
  {
   "cell_type": "code",
   "execution_count": null,
   "metadata": {},
   "outputs": [],
   "source": [
    "def MORTALITYadult(t) :\n",
    "    # (18)\n",
    "    if t > len(MORTALITYadultArray):\n",
    "        MORTALITYadult(t-1)\n",
    "    elif t == len(MORTALITYadultArray):\n",
    "        res = MORTALITYadultbase\n",
    "        res += (MORTALITYnursing * NURSES(t - 1) / BEESadult(t - 1) + 1)\n",
    "        res += (MORTALITYprocessing * PROCESSORS(t - 1) / BEESadult(t - 1) + 1)\n",
    "        res += (MORTALITYforaging * FORAGERSactive(t - 1) / BEESadult(t - 1) + 1)\n",
    "        MORTALITYadultArray = np.append(MORTALITYadultArray, res)\n",
    "    return MORTALITYadultArray[t]"
   ]
  },
  {
   "cell_type": "code",
   "execution_count": null,
   "metadata": {},
   "outputs": [],
   "source": [
    "def BEESadult(t) : \n",
    "    # (19)\n",
    "    if t>len(BEESadultArray):\n",
    "        BEESadult(t-1)\n",
    "    elif t==len(BEESadultArray):\n",
    "        res = (BEESadult(t-1) + PUPAE(LIFESPANpupa, t-1))*(1 - MORTALITYadult(t) - BEESswarm(t))\n",
    "        BEESadultArray = np.append(BEESadultArray, res)\n",
    "    return BEESadultArray[t]"
   ]
  },
  {
   "cell_type": "markdown",
   "metadata": {},
   "source": [
    "## 2.4 Modeling the influence of the environment"
   ]
  },
  {
   "cell_type": "code",
   "execution_count": null,
   "metadata": {},
   "outputs": [],
   "source": [
    "#VOIR ICI\n",
    "def INDEXrain(t) :\n",
    "    # (20)\n",
    "\treturn (1 - RAIN(t))"
   ]
  },
  {
   "cell_type": "code",
   "execution_count": null,
   "metadata": {},
   "outputs": [],
   "source": [
    "#VOIR ICI\n",
    "def RAIN(t) :\n",
    "    # (21)\n",
    "\tres = HOURSraining_during_daylight(t) / HOURSdaylight(t)\n",
    "\treturn res"
   ]
  },
  {
   "cell_type": "code",
   "execution_count": null,
   "metadata": {},
   "outputs": [],
   "source": [
    "#VOIR ICI\n",
    "def INDEXtemperature(t) :\n",
    "    # (22)\n",
    "\tif ((TEMP(t) <= 14) or (TEMP(t) > 40)) :\n",
    "\t\tres = 0\n",
    "\telif (TEMP(t) <= 22) :\n",
    "\t\tres = (TEMP(t) - 14) / 8\n",
    "\telif (TEMP(t) <= 32) : \n",
    "\t\tres = 1\n",
    "\telse : \n",
    "\t\tres = (40 - TEMP(t)) / 8 \n",
    "\n",
    "\treturn res"
   ]
  },
  {
   "cell_type": "code",
   "execution_count": null,
   "metadata": {},
   "outputs": [],
   "source": [
    "def INDEXflight(t): \n",
    "    # (23)\n",
    "    if t > len(INDEXflightArray):\n",
    "        INDEXflight(t-1)\n",
    "    elif t == len(INDEXflightArray):\n",
    "        res = (INDEXrain(t) * INDEXtemperature(t))\n",
    "        INDEXflightArray = np.append(INDEXflightArray, res)\n",
    "    return INDEXflightArray[t]"
   ]
  },
  {
   "cell_type": "code",
   "execution_count": null,
   "metadata": {},
   "outputs": [],
   "source": [
    "def INDEXnectaroutside(t) :\n",
    "    # (24)\n",
    "\treturn min((1 - season(t)) * 1.5, 1)"
   ]
  },
  {
   "cell_type": "code",
   "execution_count": null,
   "metadata": {},
   "outputs": [],
   "source": [
    "def INDEXpollenoutside(t) :\n",
    "    # (25)\n",
    "\treturn min((1 - season(t)) * 1.5, 1)"
   ]
  },
  {
   "cell_type": "markdown",
   "metadata": {},
   "source": [
    "## 2.5 Modeling task decisions"
   ]
  },
  {
   "cell_type": "code",
   "execution_count": null,
   "metadata": {},
   "outputs": [],
   "source": [
    "def NEEDworkers(t):\n",
    "    # (26)\n",
    "    return NEEDnurses(t) + NEEDpollenforagers(t)"
   ]
  },
  {
   "cell_type": "code",
   "execution_count": null,
   "metadata": {},
   "outputs": [],
   "source": [
    "def RATIOworkforce(t, FACTORothertasks = 0.2):\n",
    "    # (27)\n",
    "    return min(BEESadult(t) * (1 - FACTORothertasks) / (NEEDWORKERS(t) + 1), 1)"
   ]
  },
  {
   "cell_type": "markdown",
   "metadata": {},
   "source": [
    "## 2.6 Modeling the regulation of nursing"
   ]
  },
  {
   "cell_type": "code",
   "execution_count": null,
   "metadata": {},
   "outputs": [],
   "source": [
    "def NEEDnurses(t):\n",
    "    # (28)\n",
    "    res = 0\n",
    "    for i in range(1, LIFESPANlarva):\n",
    "        res = LARVAE(i, t) * NEEDnurses_per_larva(i)\n",
    "    return res + CELLSeggs(t,opt) * NEEDnursesperegg + CELLSpupae(t,opt3) * NEEDnursesperpupa"
   ]
  },
  {
   "cell_type": "code",
   "execution_count": null,
   "metadata": {},
   "outputs": [],
   "source": [
    "def NURSES(t):\n",
    "    # (29)\n",
    "    return NEEDworkers(t) + RATIOworkforce(t)"
   ]
  },
  {
   "cell_type": "code",
   "execution_count": null,
   "metadata": {},
   "outputs": [],
   "source": [
    "def INDEXnursingquality(t):\n",
    "    # (30)\n",
    "    return NURSES(t)/(NEEDnurses(t) + 1)"
   ]
  },
  {
   "cell_type": "markdown",
   "metadata": {},
   "source": [
    "## 2.7 Modeling the regulation of foraging"
   ]
  },
  {
   "cell_type": "code",
   "execution_count": null,
   "metadata": {},
   "outputs": [],
   "source": [
    "def FORAGERS(t):\n",
    "    # (31) represents the available workforce for the foraging task.\n",
    "    res = FORAGERSpollen(t)+FORAGERSnectaractive(t)\n",
    "    return(res)"
   ]
  },
  {
   "cell_type": "code",
   "execution_count": null,
   "metadata": {},
   "outputs": [],
   "source": [
    "def FORAGERSactive(t):\n",
    "    # (32) represents the actual number of foragers that fly out\n",
    "    res = FORAGERSpollenactive(t)+FORAGERSnectaractive(t)\n",
    "    return(res)"
   ]
  },
  {
   "cell_type": "markdown",
   "metadata": {},
   "source": [
    "### 2.7.1 Recruitment of pollen foragers"
   ]
  },
  {
   "cell_type": "code",
   "execution_count": null,
   "metadata": {},
   "outputs": [],
   "source": [
    "def NEEDpollen(t):\n",
    "    # (33) calculate the colony’s pollen demand\n",
    "    res = NEEDpollen_larvae(t)+NEEDpollen_adult(t)\n",
    "    return(res)"
   ]
  },
  {
   "cell_type": "code",
   "execution_count": null,
   "metadata": {},
   "outputs": [],
   "source": [
    "def NEEDpollen_larvae(t):\n",
    "    # (34) represents the pollen demand of larvae of all ages\n",
    "    result = 0\n",
    "    for i in range(1,LIFESPANlarva):\n",
    "        result+= (POLLENNEEDlarva[i-1]*(LARVAE(i,t)))\n",
    "    return(result)"
   ]
  },
  {
   "cell_type": "code",
   "execution_count": null,
   "metadata": {},
   "outputs": [],
   "source": [
    "def NEEDpollen_adult(t):\n",
    "    # (35) represents the adult’s pollen demand\n",
    "    result = BEESadult(t) * POLLENNEEDadult + NURSES(t) * POLLENNEEDnurse\n",
    "    return(result)"
   ]
  },
  {
   "cell_type": "code",
   "execution_count": null,
   "metadata": {},
   "outputs": [],
   "source": [
    "def NEEDpollenincome(t):\n",
    "    # (36) represents the daily need for pollen income\n",
    "    S = 0\n",
    "    for i in range(0,2):\n",
    "        S += NEEDpollen(t - i)\n",
    "    tmp = S/3 * FACTORpollenstorage - STORESpollen(t)\n",
    "    result = max(0,tmp)\n",
    "    return(result)"
   ]
  },
  {
   "cell_type": "code",
   "execution_count": null,
   "metadata": {},
   "outputs": [],
   "source": [
    "def NEEDpollenforagers(t):\n",
    "    # (37) models the number of pollen foragers needed according to the current need for additional pollen.\n",
    "    result = NEEDpollenincome(t-1) / (LOADpollenforager * TURNSpollenforager * FACTORforagingsuccess)\n",
    "    return(result)"
   ]
  },
  {
   "cell_type": "code",
   "execution_count": null,
   "metadata": {},
   "outputs": [],
   "source": [
    "def FORAGERSpollen(t):\n",
    "    # (38) models the potential number of pollen foragers each day\n",
    "    max1 = NEEDpollenforagers(t) * RATIOworkforce(t)\n",
    "    max2 = (BEESadult(t)-NURSES(t))*FACTORminpollenforagers\n",
    "    min1 = max(max1,max2)\n",
    "    min2 = BEESadult(t) * FACTORforagingmax\n",
    "    result = min(min1,min2)\n",
    "    return(result)"
   ]
  },
  {
   "cell_type": "code",
   "execution_count": null,
   "metadata": {},
   "outputs": [],
   "source": [
    "def FORAGERSpollenactive(t):\n",
    "    # (39) models the number of foragers that actually leave the hive for foraging flights\n",
    "    result = FORAGERSpollen(t) * INDEXflight(t) * INDEXpollenoutside(t)\n",
    "    return(result)"
   ]
  },
  {
   "cell_type": "markdown",
   "metadata": {},
   "source": [
    "\n",
    "\n",
    "\n",
    "### 2.7.2 Recruitment of nectar foragers"
   ]
  },
  {
   "cell_type": "code",
   "execution_count": null,
   "metadata": {},
   "outputs": [],
   "source": [
    "def NEEDnectar(t):\n",
    "    # (40) model the demand for nectar\n",
    "    result = NEEDnectar_larvae(t) + NEEDnectar_adult(t)\n",
    "    return(result)"
   ]
  },
  {
   "cell_type": "code",
   "execution_count": null,
   "metadata": {},
   "outputs": [],
   "source": [
    "def NEEDnectar_larvae(t):\n",
    "    # (41) model the demand for larvae nectar\n",
    "    result = 0\n",
    "    for i in range(1,LIFESPANlarva):\n",
    "        result += NECTARNEEDlarva[i-1] * LARVAE(i,t)\n",
    "    return(result)"
   ]
  },
  {
   "cell_type": "code",
   "execution_count": null,
   "metadata": {},
   "outputs": [],
   "source": [
    "def NEEDnectar_adult(t):\n",
    "    # (42)model the demand for adult nectar\n",
    "    result = BEESadult(t) * NECTARNEEDadult + NURSES(t) * NECTARNEEDnurse + FORAGESactive(t) * NECTARNEEDactiveforager\n",
    "    return(result)"
   ]
  },
  {
   "cell_type": "code",
   "execution_count": null,
   "metadata": {},
   "outputs": [],
   "source": [
    "def WORKFORCEnectar(t):\n",
    "    # (43) calculates the number of adult bees that are not involved in other tasks and thus are still available for a task associated with nectar collection\n",
    "    result = 0\n",
    "    if (RATIOworkforce(t) == 1):\n",
    "        result = (BEESadult(t) * (1 - FACTORothertasks)) - NURSES(t) - FORAGERSpollen(t)\n",
    "    return(result)"
   ]
  },
  {
   "cell_type": "code",
   "execution_count": null,
   "metadata": {},
   "outputs": [],
   "source": [
    "def FORAGERSnectar(t):\n",
    "    # (44) models the number of potential nectar foragers\n",
    "    min1 = (BEESadult(t) * FACTORforagingmax) - FORAGERSpollen(t)\n",
    "    min2 = WORKFORCEnectar(t) - PROCESSORS(t)\n",
    "    result = min(min1,min2)\n",
    "    return(result)"
   ]
  },
  {
   "cell_type": "code",
   "execution_count": null,
   "metadata": {},
   "outputs": [],
   "source": [
    "def FORAGERSnectaractive(t): \n",
    "    # (45) models the number of nectar foragers that actually leave the hive for foraging flights\n",
    "    result = FORAGERSnectar(t) * INDEXflight(t) * INDEXnectaroutside(t)\n",
    "    return(result)"
   ]
  },
  {
   "cell_type": "markdown",
   "metadata": {},
   "source": [
    "## 2.8 Modeling the resource influx into the colony"
   ]
  },
  {
   "cell_type": "code",
   "execution_count": null,
   "metadata": {},
   "outputs": [],
   "source": [
    "def INCOMEpollen(t):\n",
    "    # (46) project the daily influx of pollen\n",
    "    result = FORAGERSpollenactive(t) * LOADpollenforager * TURNSpollenforager * FACTORforagingstoch(t) * FACTORforagingsuccess\n",
    "    return(result)"
   ]
  },
  {
   "cell_type": "code",
   "execution_count": null,
   "metadata": {},
   "outputs": [],
   "source": [
    "def FACTORforagingstoch(t):\n",
    "    # (47) used to vary the daily foraging success symmetrically around 1\n",
    "    if (stochastic_factor > 0.24 and stochastic_factor < 0.26):\n",
    "        result = random.randint(75,125) /100\n",
    "    else:\n",
    "        result = 1\n",
    "    return(result)"
   ]
  },
  {
   "cell_type": "code",
   "execution_count": null,
   "metadata": {},
   "outputs": [],
   "source": [
    "def INDEXpollensituation(t):\n",
    "    # (48) describes the level of the pollen stores in relation to the demand situation of the colony\n",
    "    min1 = STORESpollen(t) / (NEEDpollen(t) * FACTORpollenstorage + 1)\n",
    "    result = min(1,min1)\n",
    "    return(result)"
   ]
  },
  {
   "cell_type": "code",
   "execution_count": null,
   "metadata": {},
   "outputs": [],
   "source": [
    "def INCOMEnectar(t):\n",
    "    # (49) project the daily influx of nectar\n",
    "    min1 = FORAGERSnectaractive(t) * LOADnectarforager * TURNSnectarforager * FACTORforagingstoch(t) * FACTORforagingsuccess\n",
    "    min2 = CELLSempty(t - 1)\n",
    "    result = min(min1,min2)\n",
    "    return(result)"
   ]
  },
  {
   "cell_type": "markdown",
   "metadata": {},
   "source": [
    "## 2.9 Regulation of food processing"
   ]
  },
  {
   "cell_type": "code",
   "execution_count": null,
   "metadata": {},
   "outputs": [],
   "source": [
    "#Needed nectar processors on day t\n",
    "def NEEDprocessors(t):\n",
    "    #(50)\n",
    "    result = STORESnectar(t-1)*ProcessorsPerCell\n",
    "    return(result)"
   ]
  },
  {
   "cell_type": "code",
   "execution_count": null,
   "metadata": {},
   "outputs": [],
   "source": [
    "def PROCESSORS(t):\n",
    "    #(51)\n",
    "    result = min(NEEDprocessors(t), WORKFOREnectar(t))\n",
    "    return(result)"
   ]
  },
  {
   "cell_type": "code",
   "execution_count": null,
   "metadata": {},
   "outputs": [],
   "source": [
    "def PROCESSEDnectar(t):\n",
    "    #(52)\n",
    "    result = min(STORESnectar(t-1)-USAGEnectar(t), PROCESSORS(t)/ProcessorsPerCell)\n",
    "    return(result)"
   ]
  },
  {
   "cell_type": "markdown",
   "metadata": {},
   "source": [
    "## 2.10 Management of nutrient stores"
   ]
  },
  {
   "cell_type": "code",
   "execution_count": null,
   "metadata": {},
   "outputs": [],
   "source": [
    "#The daily usage (consumption) of pollen\n",
    "def USAGEpollen(t):\n",
    "    #(53)\n",
    "    result = min(dFResult.loc[dFResult.index[t-1],'STORESpollen'], NEEDpollen(t-1)*(1-(FACTORpollensavingmax*(1-INDEXpollensituation(t-1)))))\n",
    "    return(result)"
   ]
  },
  {
   "cell_type": "code",
   "execution_count": null,
   "metadata": {},
   "outputs": [],
   "source": [
    "#The daily amount of stored pollen\n",
    "def STORESpollen(t):\n",
    "    #(54)\n",
    "    if t<=0:\n",
    "        t=0\n",
    "    result = dFResult.loc[dFResult.index[t-1],'STORESpollen'] + INCOMEpollen(t) - USAGEpollen(t)\n",
    "    return(result)"
   ]
  },
  {
   "cell_type": "code",
   "execution_count": null,
   "metadata": {},
   "outputs": [],
   "source": [
    "def USAGEnectar(t):\n",
    "    #(55)\n",
    "    result = min(dFResult.loc[dFResult.index[t-1],'STORESnectar'], NEEDnectar(t))\n",
    "    return(result)"
   ]
  },
  {
   "cell_type": "code",
   "execution_count": null,
   "metadata": {},
   "outputs": [],
   "source": [
    "def USAGEhoney(t):\n",
    "    #(56)\n",
    "    result = min(dFResult.loc[dFResult.index[t-1],'STOREShoney'], (NEEDnectar(t)-USAGEnectar(t))*RATIOnectar_to_honey)\n",
    "    return(result)"
   ]
  },
  {
   "cell_type": "code",
   "execution_count": null,
   "metadata": {},
   "outputs": [],
   "source": [
    "def STORESnectar(t):\n",
    "    #(57)\n",
    "    result = dFResult.loc[dFResult.index[t-1],'STORESnectar']+INCOMEnectar(t) - USAGEnectar(t)-PROCESSEDnectar(t)\n",
    "    return(result)"
   ]
  },
  {
   "cell_type": "code",
   "execution_count": null,
   "metadata": {},
   "outputs": [],
   "source": [
    "def STOREShoney(t):\n",
    "    #(58)\n",
    "    result = dFResult.loc[dFResult.index[t-1],'STOREShoney']-USAGEhoney(t)+(PROCESSEDnectar(t)*RATIOnectar_to_honey)\n",
    "    return(result)"
   ]
  },
  {
   "cell_type": "code",
   "execution_count": null,
   "metadata": {},
   "outputs": [],
   "source": [
    "def WEIGHTcolony(t):\n",
    "    #(59)\n",
    "    res = 0\n",
    "    for i in range(1, LIFESPANlarva):\n",
    "        res = res + (w_larva[i]*LARVAE(i,t))\n",
    "    \n",
    "    result = 1/1000*(w_hivebase+w_cellsbase*CELLShive+w_pollen*STORESpollen(t)\n",
    "            +w_honey*STOREShoney(t)+w_egg*CELLSeggs(t,opt)\n",
    "            +w_pupa*CELLSpupae(t,opt3)\n",
    "            +res\n",
    "            +w_adult*BEESadult(t))\n",
    "    return(result)"
   ]
  },
  {
   "cell_type": "code",
   "execution_count": null,
   "metadata": {},
   "outputs": [],
   "source": [
    "def BEESlazy(t):\n",
    "    #(60)\n",
    "    result = (BEESadult(t)*(1-FACTORothertasks))-FORAGERSactive(t)-NURSES(t)-PROCESSORS(t)\n",
    "    return(result)"
   ]
  },
  {
   "cell_type": "code",
   "execution_count": null,
   "metadata": {},
   "outputs": [],
   "source": [
    "def FACTORqueen(t):\n",
    "  # (61)\n",
    "    if ((swd - 30) <= t and t < (swd -3)):\n",
    "        res = 1.2\n",
    "    elif ((swd - 3) <= t and t < (swd + 14)):\n",
    "        res = 0\n",
    "    else:\n",
    "        res = 1\n",
    "    return res"
   ]
  },
  {
   "cell_type": "code",
   "execution_count": 11,
   "metadata": {},
   "outputs": [],
   "source": [
    "def ELRbase(t):\n",
    "  # (62)\n",
    "    if (t<swd):\n",
    "        res = 2000\n",
    "    else:\n",
    "        res = 1200\n",
    "    return res"
   ]
  },
  {
   "cell_type": "code",
   "execution_count": null,
   "metadata": {},
   "outputs": [],
   "source": [
    "def BEESswarm(t):\n",
    "  # (63)\n",
    "    if (t == swd):\n",
    "        res = BEESadult(t-1) * 0.6\n",
    "    else:\n",
    "        res = 0\n",
    "    return res"
   ]
  },
  {
   "cell_type": "code",
   "execution_count": null,
   "metadata": {},
   "outputs": [],
   "source": [
    "def TURNSnectarforager(t):\n",
    "    # (64)\n",
    "    return 15 + 7 * ((CELLSempty(t-1))/(CELLShive+1))"
   ]
  },
  {
   "cell_type": "code",
   "execution_count": null,
   "metadata": {},
   "outputs": [],
   "source": [
    "def LOSShoney_swarm(t):\n",
    "    # (65)\n",
    "    if t == swd:\n",
    "        return min(dFResult.loc[dFResult.index[t-1],'STOREShoney'],BEESswarm(t)*LOADnectarforager)\n",
    "    else:\n",
    "        return 0"
   ]
  },
  {
   "cell_type": "code",
   "execution_count": null,
   "metadata": {},
   "outputs": [],
   "source": [
    "def USAGEhoney(t):\n",
    "    # (56a)\n",
    "    return min(dFResult.loc[dFResult.index[t-1],'STOREShoney'],((NEEDnectar(t)-USAGEnectar(t))*RATIOnectar_to_honey)+LOSShoney_swarm(t))"
   ]
  },
  {
   "cell_type": "code",
   "execution_count": null,
   "metadata": {},
   "outputs": [],
   "source": [
    "def CELLShive(t):\n",
    "    # (67)\n",
    "    if t <= swd:\n",
    "        return 0\n",
    "    elif swd < t and t <= (swd + 7):\n",
    "        return CELLShive(t-1)+(2000/7)\n",
    "    elif (swd + 7) < t and t <= (swd + 97):\n",
    "        return CELLShive(t-1)+(8000/90)\n",
    "    elif t > (swd + 97):\n",
    "        return CELLShive(t-1)"
   ]
  },
  {
   "cell_type": "code",
   "execution_count": null,
   "metadata": {},
   "outputs": [],
   "source": [
    "STOREShoney(2)"
   ]
  },
  {
   "cell_type": "code",
   "execution_count": null,
   "metadata": {
    "scrolled": true
   },
   "outputs": [],
   "source": [
    "print(ELR(20))"
   ]
  },
  {
   "cell_type": "code",
   "execution_count": null,
   "metadata": {},
   "outputs": [],
   "source": [
    "for i in range(1,365) :\n",
    "    dFResult.loc[dFResult.index[i],'STOREShoney'] = STOREShoney(i)\n",
    "    dFResult.loc[dFResult.index[i],'STORESnectar'] = STORESnectar(i)\n",
    "    dFResult.loc[dFResult.index[i],'STORESpollen'] = STORESpollen(i)\n",
    "    dFResult.loc[dFResult.index[i],'BroodCells'] = CELLSbrood(i)\n",
    "    dFResult.loc[dFResult.index[i],'BEESadult'] = BEESadult(i)\n",
    "    dFResult.loc[dFResult.index[i],'WEIGHTcolony'] = WEIGHTcolony(i)\n"
   ]
  },
  {
   "cell_type": "code",
   "execution_count": null,
   "metadata": {
    "scrolled": true
   },
   "outputs": [],
   "source": [
    "print(dFResult.loc[dFResult.index[1],'STOREShoney'])"
   ]
  },
  {
   "cell_type": "code",
   "execution_count": null,
   "metadata": {},
   "outputs": [],
   "source": [
    "print(STOREShoney(1))"
   ]
  },
  {
   "cell_type": "code",
   "execution_count": null,
   "metadata": {},
   "outputs": [],
   "source": []
  }
 ],
 "metadata": {
  "kernelspec": {
   "display_name": "Python 3",
   "language": "python",
   "name": "python3"
  },
  "language_info": {
   "codemirror_mode": {
    "name": "ipython",
    "version": 3
   },
   "file_extension": ".py",
   "mimetype": "text/x-python",
   "name": "python",
   "nbconvert_exporter": "python",
   "pygments_lexer": "ipython3",
   "version": "3.7.6"
  }
 },
 "nbformat": 4,
 "nbformat_minor": 4
}
