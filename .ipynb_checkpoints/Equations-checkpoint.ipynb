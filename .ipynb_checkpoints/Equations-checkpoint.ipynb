{
 "cells": [
  {
   "cell_type": "markdown",
   "metadata": {},
   "source": [
    "<img src=\"CYTech.png\" style=\"display: block; margin-left: auto; margin-right: auto; width: 30%;\">"
   ]
  },
  {
   "cell_type": "markdown",
   "metadata": {},
   "source": [
    "<h1 style=\"text-align:center; font-size:400%;\"> Beenamics </h1>\n",
    "<h1 style=\"text-align:center; font-size:200%; color:#666666\"> Implementation of HoPoMo model </h1>\n",
    "<br>\n",
    "<h4 style=\"text-align:center;\"> Jesse DINGLEY, Félix FROMENT, Charlie MEYER, Luca ORDONNEAU, Pierre VIRGAUX</p>"
   ]
  },
  {
   "cell_type": "markdown",
   "metadata": {},
   "source": [
    "For this project we worked on the HoPoMo model. Bees are essential to pollination and their presence guarantees us better yields for our farmers. We worked on the article that first appeared in Elsevier's newspaper and then in \"ECOLOGICAL MODELLING\" in 2007. We have implemented the equations in Python in order to reproduce the exposed model."
   ]
  },
  {
   "cell_type": "markdown",
   "metadata": {},
   "source": [
    "\n",
    "***\n",
    "\n",
    "  ## <b>1.</b> <a href=\"#1\">Setting up</a>\n",
    "  \n",
    "\n",
    " \n",
    " ## <b>2.</b> <a href=\"#2\"> Model Implementation</a>\n",
    " \n",
    " ### &nbsp;&nbsp;&nbsp;&nbsp;&nbsp;&nbsp; <b>2.1.</b>  <a href=\"#2-1\">Modeling the queen’s egg laying behavior</a>\n",
    "\n",
    " ### &nbsp;&nbsp;&nbsp;&nbsp;&nbsp;&nbsp; <b>2.2.</b>  <a href=\"#2-2\">Modeling the immature stages</a>\n",
    "\n",
    " ### &nbsp;&nbsp;&nbsp;&nbsp;&nbsp;&nbsp; <b>2.3.</b>  <a href=\"#2-3\">Modeling the population of adult bees</a>\n",
    "\n",
    " ### &nbsp;&nbsp;&nbsp;&nbsp;&nbsp;&nbsp; <b>2.4.</b>  <a href=\"#2-4\">Modeling the influence of the environment</a>\n",
    "  \n",
    " ### &nbsp;&nbsp;&nbsp;&nbsp;&nbsp;&nbsp; <b>2.5.</b>  <a href=\"#2-5\">Modeling task decisions</a>\n",
    "\n",
    " ### &nbsp;&nbsp;&nbsp;&nbsp;&nbsp;&nbsp; <b>2.6.</b>  <a href=\"#2-6\">Modeling the regulation of nursing</a>\n",
    "\n",
    " ### &nbsp;&nbsp;&nbsp;&nbsp;&nbsp;&nbsp; <b>2.7.</b>  <a href=\"#2-7\">Modeling the regulation of foraging</a>\n",
    "\n",
    " ### &nbsp;&nbsp;&nbsp;&nbsp;&nbsp;&nbsp; <b>2.8.</b>  <a href=\"#2-8\">Modeling the resource influx into the colony</a>\n",
    "\n",
    " ### &nbsp;&nbsp;&nbsp;&nbsp;&nbsp;&nbsp; <b>2.9.</b>  <a href=\"#2-9\">Regulation of food processing</a>\n",
    "\n",
    " ### &nbsp;&nbsp;&nbsp;&nbsp;&nbsp;&nbsp; <b>2.10.</b>  <a href=\"#2-10\">Management of nutrient stores</a>\n",
    "\n",
    "\n",
    " ## <b>3.</b> <a href=\"#3\">Running the model</a>\n",
    " \n"
   ]
  },
  {
   "cell_type": "markdown",
   "metadata": {},
   "source": [
    "# 1. Setting up\n",
    "<div id='1'></div>"
   ]
  },
  {
   "cell_type": "markdown",
   "metadata": {},
   "source": [
    "## Necessary imports"
   ]
  },
  {
   "cell_type": "code",
   "execution_count": 1,
   "metadata": {},
   "outputs": [],
   "source": [
    "import math\n",
    "import random\n",
    "import pandas as pd\n",
    "import numpy as np\n",
    "import matplotlib.pyplot as plt\n",
    "plt.style.use('fivethirtyeight')"
   ]
  },
  {
   "cell_type": "markdown",
   "metadata": {},
   "source": [
    "## Constants"
   ]
  },
  {
   "cell_type": "markdown",
   "metadata": {},
   "source": [
    "The operation of a hive is particularly complex and requires many pre-calculated values. The operation of a hive is particularly complex and requires many pre-calculated values. Many of these were given explicitly in the article, others were read from the graphs given and some were not. For some of them we determined them experimentally by observing the results graphs. We have synthesized all these variables in an appendix file so that the user can easily modify it."
   ]
  },
  {
   "cell_type": "code",
   "execution_count": 2,
   "metadata": {},
   "outputs": [],
   "source": [
    "from variables import *"
   ]
  },
  {
   "cell_type": "markdown",
   "metadata": {},
   "source": [
    "## Array Initializations"
   ]
  },
  {
   "cell_type": "markdown",
   "metadata": {},
   "source": [
    "We have used as you can see a lot of list to try to control infinite recursion problems. In the article the equations are given but the handling of the initial conditions remains free to be interpreted in the programming language. This method is a bit brutal but it allows us to stop the recursion problem and gives us the necessary lists to build the data frames."
   ]
  },
  {
   "cell_type": "code",
   "execution_count": 3,
   "metadata": {},
   "outputs": [],
   "source": [
    "global CELLSemptyArray, SUPcombArray, ELRArray, CELLSeggsArray, CELLSlarvaeArray, CELLSpupaeArray, CELLSbroodArray, MORTALITYadultArray, BEESadultArray, INDEXflightArray, INDEXnectaroutsideArray, INDEXpollenoutsideArray, NEEDworkersArray, RATIOworkforceArray, NEEDnursesArray, NursesArray, INDEXnursingqualityArray, FORAGERSArray, FORAGERSactiveArray, NEEDpollenArray, NEEDpollen_larvaeArray, NEEDpollen_adultArray, NEEDpollenincomeArray, NEEDpollenforagerArray, FORAGERSpollenArray, FORAGERSpollenactiveArray, NEEDnectarArray, NEEDnectar_larvaeArray, NEEDnectar_adultArray, WORKFORCEnectarArray, FORAGERSnectarArray, FORAGERSnectaractiveArray, INCOMEpollenArray, INCOMEnectarArray, INDEXpollensituationArray, NEEDprocessorsArray, PROCESSORSArray, PROCESSEDnectarArray, USAGEpollenArray, STORESpollenArray, USAGEnectarArray, USAGEhoneyArray, STORESnectarArray, STOREShoneyArray, WEIGHTcolonyArray, BEESlazyArray, TEMPArray\n",
    "CELLSemptyArray = []\n",
    "SUPcombArray = []\n",
    "ELRArray = []\n",
    "CELLSeggsArray = []\n",
    "CELLSlarvaeArray = []\n",
    "CELLSpupaeArray = []\n",
    "CELLSbroodArray = []\n",
    "MORTALITYadultArray = []\n",
    "BEESadultArray = []\n",
    "INDEXflightArray = []\n",
    "INDEXnectaroutsideArray = []\n",
    "INDEXpollenoutsideArray = []\n",
    "NEEDworkersArray = []\n",
    "NEEDnursesArray = []\n",
    "RATIOworkforceArray = []\n",
    "NursesArray = []\n",
    "INDEXnursingqualityArray = []\n",
    "FORAGERSArray = []\n",
    "FORAGERSactiveArray = []\n",
    "NEEDpollenArray = []\n",
    "NEEDpollen_larvaeArray = []\n",
    "NEEDpollen_adultArray = []\n",
    "NEEDpollenincomeArray = []\n",
    "NEEDpollenforagerArray = []\n",
    "FORAGERSpollenArray = []\n",
    "FORAGERSpollenactiveArray = []\n",
    "NEEDnectarArray = []\n",
    "NEEDnectar_larvaeArray = []\n",
    "NEEDnectar_adultArray = []\n",
    "WORKFORCEnectarArray = []\n",
    "FORAGERSnectarArray = []\n",
    "FORAGERSnectaractiveArray = []\n",
    "INCOMEpollenArray = []\n",
    "INCOMEnectarArray = []\n",
    "INDEXpollensituationArray = []\n",
    "NEEDprocessorsArray = []\n",
    "PROCESSORSArray = []\n",
    "PROCESSEDnectarArray = []\n",
    "USAGEpollenArray = []\n",
    "STORESpollenArray = []\n",
    "USAGEnectarArray = []\n",
    "USAGEhoneyArray = []\n",
    "STORESnectarArray = []\n",
    "STOREShoneyArray = []\n",
    "WEIGHTcolonyArray = []\n",
    "BEESlazyArray = []\n",
    "TEMPArray1 = np.linspace(15, 35, 183)\n",
    "TEMPArray2 = np.linspace(35, 15, 183)\n",
    "TEMPArray = np.concatenate([TEMPArray1,TEMPArray2])"
   ]
  },
  {
   "cell_type": "markdown",
   "metadata": {},
   "source": [
    "# 2. Model implementation\n",
    "<div id='2'></div>"
   ]
  },
  {
   "cell_type": "markdown",
   "metadata": {},
   "source": [
    "## 2.1.   Modeling the queen’s egg laying behavior\n",
    "<div id='2-1'></div>\n",
    "<div id='2'></div>"
   ]
  },
  {
   "cell_type": "markdown",
   "metadata": {},
   "source": [
    "This seasonal factor influences the queen's daily egg-laying rate, it also affects the nectar and\n",
    "the availability of pollen in the environment."
   ]
  },
  {
   "cell_type": "code",
   "execution_count": 4,
   "metadata": {},
   "outputs": [],
   "source": [
    "def season(t):\n",
    "    # (1)\n",
    "    return max(1-(1/(1+x1*math.exp(-2*t/x2))),1/(1+x3*math.exp(-2*(t-x4)/x5)))"
   ]
  },
  {
   "cell_type": "markdown",
   "metadata": {},
   "source": [
    "Number of empty cells at a day t"
   ]
  },
  {
   "cell_type": "code",
   "execution_count": 5,
   "metadata": {},
   "outputs": [],
   "source": [
    "def CELLSempty(t):\n",
    "    # (2)\n",
    "    global CELLSemptyArray\n",
    "    if t>len(CELLSemptyArray):\n",
    "        CELLSempty(t-1)\n",
    "    if t==len(CELLSemptyArray):\n",
    "        res = CELLShive0 - CELLSbrood(t) - STORESpollen(t) - STORESnectar(t) - STOREShoney(t)\n",
    "        CELLSemptyArray = np.append(CELLSemptyArray, res)\n",
    "    return CELLSemptyArray[t]"
   ]
  },
  {
   "cell_type": "markdown",
   "metadata": {},
   "source": [
    "Describes the suppression in egg laying when the available empty sapce in the hive is below a threshold value : SUPthreshold"
   ]
  },
  {
   "cell_type": "code",
   "execution_count": 6,
   "metadata": {},
   "outputs": [],
   "source": [
    "def SUPcomb(t):\n",
    "    # (3)\n",
    "    global SUPcombArray\n",
    "    if t>len(SUPcombArray):\n",
    "        SUPcomb(t-1)\n",
    "    if t == len(SUPcombArray):\n",
    "        if CELLSempty(t)/(CELLShive0 + 1) < SUPthreshold:\n",
    "            res = CELLSempty(t)/((CELLShive0 + 1) * SUPthreshold)\n",
    "        else:\n",
    "            res = 1\n",
    "        SUPcombArray = np.append(SUPcombArray, res)\n",
    "    return SUPcombArray[t]"
   ]
  },
  {
   "cell_type": "markdown",
   "metadata": {},
   "source": [
    "Factor around 0, so as not to be deterministic"
   ]
  },
  {
   "cell_type": "code",
   "execution_count": 7,
   "metadata": {},
   "outputs": [],
   "source": [
    "def ELRstoch(t):\n",
    "    # (4)\n",
    "    return random.uniform(-1,1)"
   ]
  },
  {
   "cell_type": "markdown",
   "metadata": {},
   "source": [
    "Modeling of the whole queen's daily laying rate at day t"
   ]
  },
  {
   "cell_type": "code",
   "execution_count": 8,
   "metadata": {},
   "outputs": [],
   "source": [
    "def ELR(t):\n",
    "    # (5)\n",
    "    global ELRArray\n",
    "    if t > len(ELRArray):\n",
    "        ELR(t-1)\n",
    "    if t == len(ELRArray):\n",
    "        res = ELRbase0 * (1 + ELRstoch(t)) * (1 - season(t)) * SUPcomb(t)\n",
    "        ELRArray = np.append(ELRArray, res)\n",
    "    return ELRArray[t]"
   ]
  },
  {
   "cell_type": "markdown",
   "metadata": {},
   "source": [
    "## 2.2. Modeling the immature stages\n",
    "<div id='2-2'></div>"
   ]
  },
  {
   "cell_type": "markdown",
   "metadata": {},
   "source": [
    "### 2.2.1 Eggs"
   ]
  },
  {
   "cell_type": "code",
   "execution_count": 9,
   "metadata": {},
   "outputs": [],
   "source": [
    "def EGGS(i,t):\n",
    "    # (6)\n",
    "    if t==0:\n",
    "        res = 0\n",
    "    elif i == 1:\n",
    "        res = ELR(t-1) * (1 - MORTALITYeggs)\n",
    "    elif i in [2,3]:\n",
    "        res = EGGS(i-1,t-1) * (1 - MORTALITYeggs)\n",
    "    return res"
   ]
  },
  {
   "cell_type": "markdown",
   "metadata": {},
   "source": [
    "Calculation of the daily total number of eggs"
   ]
  },
  {
   "cell_type": "code",
   "execution_count": 10,
   "metadata": {},
   "outputs": [],
   "source": [
    "def CELLSeggs(t):\n",
    "    # (7)\n",
    "    global CELLSeggsArray\n",
    "    if t > len(CELLSeggsArray):\n",
    "        CELLSeggs(t-1)\n",
    "    if t == len(CELLSeggsArray):\n",
    "        sum = 0\n",
    "        for i in range(1,LIFESPANegg):\n",
    "            sum += EGGS(i,t)\n",
    "        CELLSeggsArray = np.append(CELLSeggsArray, sum)\n",
    "    return CELLSeggsArray[t]"
   ]
  },
  {
   "cell_type": "markdown",
   "metadata": {},
   "source": [
    "### 2.2.2. Larvae (unsealed)"
   ]
  },
  {
   "cell_type": "markdown",
   "metadata": {},
   "source": [
    "\n",
    "We model the aging process of larvae with the notion of cannibalism depending on the age of the larvae"
   ]
  },
  {
   "cell_type": "code",
   "execution_count": 11,
   "metadata": {},
   "outputs": [],
   "source": [
    "def SURVIVALlarvae(i,t):\n",
    "    # (9)\n",
    "    return (1 - CANNIBALISMlarvae(i,t)) * (1 - MORTALITYlarvae)"
   ]
  },
  {
   "cell_type": "code",
   "execution_count": 12,
   "metadata": {},
   "outputs": [],
   "source": [
    "def CANNIBALISMlarvae(i,t):\n",
    "    # (10)\n",
    "    if t == 0:\n",
    "        res = 0\n",
    "    else:\n",
    "        res = CANNIBALISMhungerbase[i-1] * (1 - (INDEXpollensituation(t-1) * INDEXnursingquality(t-1)))\n",
    "    return res"
   ]
  },
  {
   "cell_type": "markdown",
   "metadata": {},
   "source": [
    "Calculation of the daily demographics of the age of the larvae "
   ]
  },
  {
   "cell_type": "code",
   "execution_count": 13,
   "metadata": {},
   "outputs": [],
   "source": [
    "def LARVAE(i,t):\n",
    "    # (11)\n",
    "    if t==0:\n",
    "        res = 0\n",
    "    elif i == 1:\n",
    "        res = EGGS(LIFESPANegg,t-1)*SURVIVALlarvae(1,t)\n",
    "    elif 1 < i and i <= LIFESPANlarva:\n",
    "        res = LARVAE(i-1,t-1) * SURVIVALlarvae(i,t)\n",
    "    return res"
   ]
  },
  {
   "cell_type": "markdown",
   "metadata": {},
   "source": [
    "Calculation of daily number of cells containing any age of larvae"
   ]
  },
  {
   "cell_type": "code",
   "execution_count": 14,
   "metadata": {},
   "outputs": [],
   "source": [
    "def CELLSlarvae(t):\n",
    "    # (12)\n",
    "    global CELLSlarvaeArray\n",
    "    if t > len(CELLSlarvaeArray):\n",
    "        CELLSlarvae(t-1)\n",
    "    if t == len(CELLSlarvaeArray):\n",
    "        sum = 0\n",
    "        for i in range(1, LIFESPANlarva):\n",
    "            sum += LARVAE(i,t)\n",
    "        CELLSlarvaeArray = np.append(CELLSlarvaeArray, sum)\n",
    "    return CELLSlarvaeArray[t] "
   ]
  },
  {
   "cell_type": "code",
   "execution_count": 15,
   "metadata": {},
   "outputs": [],
   "source": [
    "# def CELLSlarvae13(t):\n",
    "#     # (13)\n",
    "#     # alternative to (12)\n",
    "    \n",
    "#     def product(i):\n",
    "#         prdct = 1\n",
    "#         for k in range(i+1):\n",
    "#             if k != 0:\n",
    "#                 prdct *= SURVIVALlarvae(k,t-i+k)\n",
    "#         return prdct\n",
    "    \n",
    "#     sum = 0\n",
    "#     for i in range(LIFESPANlarva+1):\n",
    "#         if i != 0:\n",
    "#             sum += (ELR(t-i-LIFESPANegg)*math.pow(1-MORTALITYeggs,i)*product(i))  \n",
    "    \n",
    "#     return sum"
   ]
  },
  {
   "cell_type": "markdown",
   "metadata": {},
   "source": [
    "Calculation of age demographics of all sealed broods"
   ]
  },
  {
   "cell_type": "code",
   "execution_count": 16,
   "metadata": {},
   "outputs": [],
   "source": [
    "def PUPAE(i,t):\n",
    "    # (14)\n",
    "    if t==0:\n",
    "        res =0\n",
    "    elif i == 1:\n",
    "        res = LARVAE(LIFESPANlarva,t-1) * (1 - MORTALITYpupae)\n",
    "    elif 1 < i and i <= LIFESPANpupa:\n",
    "        res = PUPAE(i-1,t-1) * (1 - MORTALITYpupae)\n",
    "    return res"
   ]
  },
  {
   "cell_type": "markdown",
   "metadata": {},
   "source": [
    "Calculation of the daily age demographics of the sealed brood"
   ]
  },
  {
   "cell_type": "code",
   "execution_count": 17,
   "metadata": {},
   "outputs": [],
   "source": [
    "def CELLSpupae(t):\n",
    "    # (15)\n",
    "    global CELLSpupaeArray\n",
    "    if t > len(CELLSpupaeArray):\n",
    "        CELLSpupae(t-1)\n",
    "    if t == len(CELLSpupaeArray):\n",
    "        sum = 0\n",
    "        for i in range(1,LIFESPANpupa):\n",
    "            sum += PUPAE(i,t)\n",
    "        CELLSpupaeArray = np.append(CELLSpupaeArray, sum)\n",
    "    return CELLSpupaeArray[t] "
   ]
  },
  {
   "cell_type": "code",
   "execution_count": 18,
   "metadata": {},
   "outputs": [],
   "source": [
    "# def CELLSpupae16(t):\n",
    "#     # (16)\n",
    "#     # alternative to (15)\n",
    "    \n",
    "#     def product(i):\n",
    "#         prdct = 1\n",
    "#         for k in range(LIFESPANlarva+1):\n",
    "#             if k != 0:\n",
    "#                 prdct *= SURVIVALlarvae(k,t-i-LIFESPANlarva+k)\n",
    "#         return prdct\n",
    "    \n",
    "#     sum = 0\n",
    "#     for i in range(LIFESPANpupa+1):\n",
    "#         if i != 0:\n",
    "#             sum += (ELR(t-i-LIFESPANegg-LIFESPANlarva)*math.pow(1-MORTALITYeggs,LIFESPANegg)*product(i)*math.pow(1-MORTALITYpupae,i))  \n",
    "    \n",
    "#     return sum"
   ]
  },
  {
   "cell_type": "markdown",
   "metadata": {},
   "source": [
    "Calculation of the total number of cells filled with brood can now be calculated."
   ]
  },
  {
   "cell_type": "code",
   "execution_count": 19,
   "metadata": {},
   "outputs": [],
   "source": [
    "def CELLSbrood(t):\n",
    "    # (17)\n",
    "    global CELLSbroodArray\n",
    "    if t > len(CELLSbroodArray):\n",
    "        CELLSbrood(t-1)\n",
    "    if t == len(CELLSbroodArray):\n",
    "        if t==0:\n",
    "            res = INITCELLSbrood\n",
    "        else:\n",
    "            res = CELLSeggs(t) + CELLSlarvae(t) + CELLSpupae(t)\n",
    "        CELLSbroodArray = np.append(CELLSbroodArray, res)\n",
    "    return CELLSbroodArray[t]"
   ]
  },
  {
   "cell_type": "markdown",
   "metadata": {},
   "source": [
    "## 2.3 Modeling the population of adult bees\n",
    "<div id='2-3'></div>"
   ]
  },
  {
   "cell_type": "markdown",
   "metadata": {},
   "source": [
    "Modeling of the global daily mortality rate of adult bees"
   ]
  },
  {
   "cell_type": "code",
   "execution_count": 20,
   "metadata": {},
   "outputs": [],
   "source": [
    "def MORTALITYadult(t) :\n",
    "    # (18)\n",
    "    global MORTALITYadultArray\n",
    "    if t > len(MORTALITYadultArray):\n",
    "        MORTALITYadult(t-1)\n",
    "    if t == len(MORTALITYadultArray):\n",
    "        if t == 0:\n",
    "            res = MORTALITYadultbase\n",
    "        else:\n",
    "            res = MORTALITYadultbase\n",
    "            res += (MORTALITYnursing * NURSES(t - 1) / (BEESadult(t - 1) + 1))\n",
    "            res += (MORTALITYprocessing * PROCESSORS(t - 1) / (BEESadult(t - 1) + 1))\n",
    "            res += (MORTALITYforaging * FORAGERSactive(t - 1) / (BEESadult(t - 1) + 1))\n",
    "        MORTALITYadultArray = np.append(MORTALITYadultArray, res)\n",
    "    return MORTALITYadultArray[t]"
   ]
  },
  {
   "cell_type": "markdown",
   "metadata": {},
   "source": [
    "We model using the global mortality rate and the daily number of newly emerging bees, the daily number of adult bees in the colony"
   ]
  },
  {
   "cell_type": "code",
   "execution_count": 21,
   "metadata": {},
   "outputs": [],
   "source": [
    "def BEESadult(t) : \n",
    "    # (19)\n",
    "    global BEESadultArray\n",
    "    if t>len(BEESadultArray):\n",
    "        BEESadult(t-1)\n",
    "    if t==len(BEESadultArray):\n",
    "        if t==0:\n",
    "            res = INITBEESadult\n",
    "        else:\n",
    "            res = (BEESadult(t-1) + PUPAE(LIFESPANpupa, t-1))*(1 - MORTALITYadult(t))\n",
    "        BEESadultArray = np.append(BEESadultArray, res)\n",
    "    return BEESadultArray[t]"
   ]
  },
  {
   "cell_type": "markdown",
   "metadata": {},
   "source": [
    "## 2.4 Modeling the influence of the environment\n",
    "<div id='2-4'></div>"
   ]
  },
  {
   "cell_type": "markdown",
   "metadata": {},
   "source": [
    "`INDEXrain` has a value between 0 and 1. The closer it is to one, the less rain has affected the foraging on that day. `RAIN` correpesponds the amount of rain on a given day."
   ]
  },
  {
   "cell_type": "code",
   "execution_count": 22,
   "metadata": {},
   "outputs": [],
   "source": [
    "def INDEXrain(t) :\n",
    "    # (20)\n",
    "\treturn (1 - RAIN(t))"
   ]
  },
  {
   "cell_type": "code",
   "execution_count": 23,
   "metadata": {},
   "outputs": [],
   "source": [
    "def RAIN(t) :\n",
    "    # (21)\n",
    "    #res = HOURSraining_during_daylight(t) / HOURSdaylight(t)\n",
    "    res = 0\n",
    "    return res"
   ]
  },
  {
   "cell_type": "markdown",
   "metadata": {},
   "source": [
    "Just like `INDEXrain`, `INDEXtemperature` also has a value between 0 and 1. The closer it is to one, the greater the flight activity for the temperature. `TEMP` correponds to the mean daily temperature. "
   ]
  },
  {
   "cell_type": "code",
   "execution_count": 24,
   "metadata": {},
   "outputs": [],
   "source": [
    "def TEMP(t):\n",
    "    global TEMPArray\n",
    "    return TEMPArray[t]\n",
    "\n",
    "def INDEXtemperature(t) :\n",
    "    # (22)\n",
    "\tif ((TEMP(t) <= 14) or (TEMP(t) > 40)) :\n",
    "\t\tres = 0\n",
    "\telif (TEMP(t) <= 22) :\n",
    "\t\tres = (TEMP(t) - 14) / 8\n",
    "\telif (TEMP(t) <= 32) : \n",
    "\t\tres = 1\n",
    "\telse : \n",
    "\t\tres = (40 - TEMP(t)) / 8 \n",
    "\n",
    "\treturn res"
   ]
  },
  {
   "cell_type": "markdown",
   "metadata": {},
   "source": [
    "By multiplying the two previous environmental factors we can determine how good the overall flight conditions are. The corresponding function is `INDEXflight`. It returns once again a value between 0 and 1. The closer it is to one, the better the conditions."
   ]
  },
  {
   "cell_type": "code",
   "execution_count": 25,
   "metadata": {},
   "outputs": [],
   "source": [
    "def INDEXflight(t): \n",
    "    # (23)\n",
    "    global INDEXflightArray\n",
    "    if t > len(INDEXflightArray):\n",
    "        INDEXflight(t-1)\n",
    "    if t == len(INDEXflightArray):\n",
    "        res = (INDEXrain(t) * INDEXtemperature(t))\n",
    "        INDEXflightArray = np.append(INDEXflightArray, res)\n",
    "    return INDEXflightArray[t]"
   ]
  },
  {
   "cell_type": "markdown",
   "metadata": {},
   "source": [
    "We can also consider other factors such as the amount of nectar and pollen available:"
   ]
  },
  {
   "cell_type": "code",
   "execution_count": 26,
   "metadata": {},
   "outputs": [],
   "source": [
    "def INDEXnectaroutside(t) :\n",
    "    # (24)\n",
    "    global INDEXnectaroutsideArray\n",
    "    if t > len(INDEXnectaroutsideArray):\n",
    "        INDEXnectaroutside(t-1)\n",
    "    if t == len(INDEXnectaroutsideArray):\n",
    "        res = min((1 - season(t)) * 1.5, 1)\n",
    "        INDEXnectaroutsideArray = np.append(INDEXnectaroutsideArray, res)\n",
    "    return INDEXnectaroutsideArray[t]"
   ]
  },
  {
   "cell_type": "code",
   "execution_count": 27,
   "metadata": {},
   "outputs": [],
   "source": [
    "def INDEXpollenoutside(t) :\n",
    "    # (25)\n",
    "    global INDEXpollenoutsideArray\n",
    "    if t > len(INDEXpollenoutsideArray):\n",
    "        INDEXpollenoutside(t-1)\n",
    "    if t == len(INDEXpollenoutsideArray):\n",
    "        res = min((1 - season(t)) * 1.5, 1)\n",
    "        INDEXpollenoutsideArray = np.append(INDEXpollenoutsideArray, res)\n",
    "    return INDEXpollenoutsideArray[t]"
   ]
  },
  {
   "cell_type": "markdown",
   "metadata": {},
   "source": [
    "## 2.5 Modeling task decisions\n",
    "<div id='2-5'></div>"
   ]
  },
  {
   "cell_type": "markdown",
   "metadata": {},
   "source": [
    "Here we model the workforce of the colony. `NEEDworkers` models the daily worker need in the two high priority tasks (nursing and pollen foraging). `RATIOworkforce` models the daily ratio of workforce to workload."
   ]
  },
  {
   "cell_type": "code",
   "execution_count": 28,
   "metadata": {},
   "outputs": [],
   "source": [
    "def NEEDworkers(t):\n",
    "    # (26)\n",
    "    global NEEDworkersArray\n",
    "    if t > len(NEEDworkersArray):\n",
    "        NEEDworkers(t-1)\n",
    "    if t == len(NEEDworkersArray):\n",
    "        res = NEEDnurses(t) + NEEDpollenforagers(t)\n",
    "        NEEDworkersArray = np.append(NEEDworkersArray, res)\n",
    "    return NEEDworkersArray[t]"
   ]
  },
  {
   "cell_type": "code",
   "execution_count": 29,
   "metadata": {},
   "outputs": [],
   "source": [
    "def RATIOworkforce(t):\n",
    "    # (27)\n",
    "    global RATIOworkforceArray\n",
    "    if t > len(RATIOworkforceArray):\n",
    "        RATIOworkforce(t-1)\n",
    "    if t == len(RATIOworkforceArray):\n",
    "        res = min(BEESadult(t) * (1 - FACTORothertasks) / (NEEDworkers(t) + 1), 1)\n",
    "        RATIOworkforceArray = np.append(RATIOworkforceArray, res)\n",
    "    return RATIOworkforceArray[t]"
   ]
  },
  {
   "cell_type": "markdown",
   "metadata": {},
   "source": [
    "## 2.6 Modeling the regulation of nursing\n",
    "<div id='2-6'></div>"
   ]
  },
  {
   "cell_type": "markdown",
   "metadata": {},
   "source": [
    "Theses functions models the need of nurses, the actual number of nurses for the day as well as the nursing quality."
   ]
  },
  {
   "cell_type": "code",
   "execution_count": 30,
   "metadata": {},
   "outputs": [],
   "source": [
    "def NEEDnurses(t):\n",
    "    # (28)\n",
    "    global NEEDnursesArray\n",
    "    if t > len(NEEDnursesArray):\n",
    "        NEEDnurses(t-1)\n",
    "    if t == len(NEEDnursesArray):\n",
    "        res = 0\n",
    "    for i in range(1, LIFESPANlarva):\n",
    "        res = LARVAE(i, t) * NEEDnurses_per_larva[i]\n",
    "        res += CELLSeggs(t) * NEEDnurses_per_egg + CELLSpupae(t) * NEEDnurses_per_pupa\n",
    "        NEEDnursesArray = np.append(NEEDnursesArray,res)\n",
    "    return NEEDnursesArray[t]"
   ]
  },
  {
   "cell_type": "code",
   "execution_count": 31,
   "metadata": {},
   "outputs": [],
   "source": [
    "def NURSES(t):\n",
    "    # (29)\n",
    "    global NursesArray\n",
    "    if t > len(NursesArray):\n",
    "        NURSES(t-1)\n",
    "    if t==len(NursesArray):\n",
    "        res = NEEDnurses(t) * RATIOworkforce(t)\n",
    "        NursesArray = np.append(NursesArray,res)\n",
    "    return NursesArray[t]"
   ]
  },
  {
   "cell_type": "code",
   "execution_count": 32,
   "metadata": {},
   "outputs": [],
   "source": [
    "def INDEXnursingquality(t):\n",
    "    # (30)\n",
    "    global INDEXnursingqualityArray\n",
    "    if t>len(INDEXnursingqualityArray):\n",
    "        INDEXnursingquality(t-1)\n",
    "    if t==len(INDEXnursingqualityArray):\n",
    "        res = NURSES(t)/(NEEDnurses(t) + 1)\n",
    "        INDEXnursingqualityArray = np.append(INDEXnursingqualityArray,res)\n",
    "    return INDEXnursingqualityArray[t]"
   ]
  },
  {
   "cell_type": "markdown",
   "metadata": {},
   "source": [
    "## 2.7 Modeling the regulation of foraging\n",
    "<div id='2-7'></div>"
   ]
  },
  {
   "cell_type": "markdown",
   "metadata": {},
   "source": [
    "We use these two functions in order to know the number of potentials foragers bees and the actual numbers of foragers."
   ]
  },
  {
   "cell_type": "code",
   "execution_count": 33,
   "metadata": {},
   "outputs": [],
   "source": [
    "def FORAGERS(t):\n",
    "    # (31) represents the available workforce for the foraging task.\n",
    "    global FORAGERSArray\n",
    "    if t>len(FORAGERSArray):\n",
    "        FORAGERS(t-1)\n",
    "    if t==len(FORAGERSArray):\n",
    "        res = FORAGERSpollen(t)+FORAGERSnectaractive(t)\n",
    "        FORAGERSArray = np.append(FORAGERSArray,res)\n",
    "    return FORAGERSArray[t]"
   ]
  },
  {
   "cell_type": "code",
   "execution_count": 34,
   "metadata": {},
   "outputs": [],
   "source": [
    "def FORAGERSactive(t):\n",
    "    # (32) represents the actual number of foragers that fly out\n",
    "    global FORAGERSactiveArray\n",
    "    if t>len(FORAGERSactiveArray):\n",
    "        FORAGERSactive(t-1)\n",
    "    if t==len(FORAGERSactiveArray):\n",
    "        res = FORAGERSpollenactive(t)+FORAGERSnectaractive(t)\n",
    "        FORAGERSactiveArray = np.append(FORAGERSactiveArray,res)\n",
    "    return FORAGERSactiveArray[t]"
   ]
  },
  {
   "cell_type": "markdown",
   "metadata": {},
   "source": [
    "### 2.7.1 Recruitment of pollen foragers"
   ]
  },
  {
   "cell_type": "markdown",
   "metadata": {},
   "source": [
    "Equations 33,34,35 and 36 calculates the pollen necessity for the day by calculates the sum of pollen necessity for the larvae and the pollen necessity for the adults."
   ]
  },
  {
   "cell_type": "code",
   "execution_count": 35,
   "metadata": {},
   "outputs": [],
   "source": [
    "def NEEDpollen(t):\n",
    "    # (33) calculate the colony’s pollen demand\n",
    "    global NEEDpollenArray\n",
    "    if t>len(NEEDpollenArray):\n",
    "        NEEDpollen(t-1)\n",
    "    if t==len(NEEDpollenArray):\n",
    "        res = NEEDpollen_larvae(t)+NEEDpollen_adult(t)\n",
    "        NEEDpollenArray = np.append(NEEDpollenArray,res)\n",
    "    return NEEDpollenArray[t]"
   ]
  },
  {
   "cell_type": "code",
   "execution_count": 36,
   "metadata": {},
   "outputs": [],
   "source": [
    "def NEEDpollen_larvae(t):\n",
    "    # (34) represents the pollen demand of larvae of all ages\n",
    "    global NEEDpollen_larvaeArray\n",
    "    if t>len(NEEDpollen_larvaeArray):\n",
    "        NEEDpollen_larvae(t-1)\n",
    "    if t==len(NEEDpollen_larvaeArray):\n",
    "        result = 0\n",
    "        for i in range(1,LIFESPANlarva):\n",
    "            result+= (POLLENNEEDlarva[i-1]*(LARVAE(i,t)))\n",
    "        NEEDpollen_larvaeArray = np.append(NEEDpollen_larvaeArray,result)\n",
    "    return NEEDpollen_larvaeArray[t]"
   ]
  },
  {
   "cell_type": "code",
   "execution_count": 37,
   "metadata": {},
   "outputs": [],
   "source": [
    "def NEEDpollen_adult(t):\n",
    "    # (35) represents the adult’s pollen demand\n",
    "    global NEEDpollen_adultArray\n",
    "    if t>len(NEEDpollen_adultArray):\n",
    "        NEEDpollen_adult(t-1)\n",
    "    if t==len(NEEDpollen_adultArray): \n",
    "        result = BEESadult(t) * POLLENNEEDadult + NURSES(t) * POLLENNEEDnurse\n",
    "        NEEDpollen_adultArray = np.append(NEEDpollen_adultArray,result)\n",
    "    return NEEDpollen_adultArray[t]"
   ]
  },
  {
   "cell_type": "code",
   "execution_count": 38,
   "metadata": {},
   "outputs": [],
   "source": [
    "def NEEDpollenincome(t):\n",
    "    # (36) represents the daily need for pollen income\n",
    "    global NEEDpollenincomeArray\n",
    "    if t>len(NEEDpollenincomeArray):\n",
    "        NEEDpollenincome(t-1)\n",
    "    if t==len(NEEDpollenincomeArray):\n",
    "        S = 0\n",
    "        if t==0:\n",
    "            S = 0\n",
    "        elif t==1:\n",
    "            S += NEEDpollen(t)\n",
    "            S += NEEDpollen(t-1)\n",
    "        else:\n",
    "            S += NEEDpollen(t)\n",
    "            S += NEEDpollen(t-1)\n",
    "            S += NEEDpollen(t-2)\n",
    "        tmp = S/3 * FACTORpollenstorage - STORESpollen(t)\n",
    "        result = max(0,tmp)\n",
    "        NEEDpollenincomeArray = np.append(NEEDpollenincomeArray,result)\n",
    "    return NEEDpollenincomeArray[t]"
   ]
  },
  {
   "cell_type": "markdown",
   "metadata": {},
   "source": [
    "From the four equations above, we can now calculate the number of pollen forager bees needed today and the potential number of pollen foragers as well as the actual number."
   ]
  },
  {
   "cell_type": "code",
   "execution_count": 39,
   "metadata": {},
   "outputs": [],
   "source": [
    "def NEEDpollenforagers(t):\n",
    "    # (37) models the number of pollen foragers needed according to the current need for additional pollen.\n",
    "    global NEEDpollenforagerArray\n",
    "    if t>len(NEEDpollenforagerArray):\n",
    "        NEEDpollenforagers(t-1)\n",
    "    if t==len(NEEDpollenforagerArray):\n",
    "        if t==0:\n",
    "            result = NEEDpollenincome(0) / (LOADpollenforager * TURNSpollenforager * FACTORforagingsuccess)\n",
    "        else:\n",
    "            result = NEEDpollenincome(t-1) / (LOADpollenforager * TURNSpollenforager * FACTORforagingsuccess)\n",
    "        NEEDpollenforagerArray = np.append(NEEDpollenforagerArray,result)\n",
    "    return NEEDpollenforagerArray[t]"
   ]
  },
  {
   "cell_type": "code",
   "execution_count": 40,
   "metadata": {},
   "outputs": [],
   "source": [
    "def FORAGERSpollen(t):\n",
    "    # (38) models the potential number of pollen foragers each day\n",
    "    global FORAGERSpollenArray\n",
    "    if t>len(FORAGERSpollenArray):\n",
    "        FORAGERSpollen(t-1)\n",
    "    if t==len(FORAGERSpollenArray):\n",
    "        max1 = NEEDpollenforagers(t) * RATIOworkforce(t)\n",
    "        max2 = (BEESadult(t)-NURSES(t))*FACTORminpollenforagers\n",
    "        min1 = max(max1,max2)\n",
    "        min2 = BEESadult(t) * FACTORforagingmax\n",
    "        result = min(min1,min2)\n",
    "        FORAGERSpollenArray = np.append(FORAGERSpollenArray,result)\n",
    "    return FORAGERSpollenArray[t]"
   ]
  },
  {
   "cell_type": "code",
   "execution_count": 41,
   "metadata": {},
   "outputs": [],
   "source": [
    "def FORAGERSpollenactive(t):\n",
    "    # (39) models the number of foragers that actually leave the hive for foraging flights\n",
    "    global FORAGERSpollenactiveArray\n",
    "    if t>len(FORAGERSpollenactiveArray):\n",
    "        FORAGERSpollenactive(t-1)\n",
    "    if t==len(FORAGERSpollenactiveArray):\n",
    "        result = FORAGERSpollen(t) * INDEXflight(t) * INDEXpollenoutside(t)\n",
    "        FORAGERSpollenactiveArray = np.append(FORAGERSpollenactiveArray,result)\n",
    "    return FORAGERSpollenactiveArray[t]"
   ]
  },
  {
   "cell_type": "markdown",
   "metadata": {},
   "source": [
    "\n",
    "\n",
    "\n",
    "### 2.7.2 Recruitment of nectar foragers"
   ]
  },
  {
   "cell_type": "markdown",
   "metadata": {},
   "source": [
    "Equations 40,41 and 42 calculates the nectar necessity for the day by calculates the sum of nectar necessity for the larvae and the nectar necessity for the adults."
   ]
  },
  {
   "cell_type": "code",
   "execution_count": 42,
   "metadata": {},
   "outputs": [],
   "source": [
    "def NEEDnectar(t):\n",
    "    # (40) model the demand for nectar\n",
    "    global NEEDnectarArray\n",
    "    if t>len(NEEDnectarArray):\n",
    "        NEEDnectar(t-1)\n",
    "    if t==len(NEEDnectarArray):\n",
    "        result = NEEDnectar_larvae(t) + NEEDnectar_adult(t)\n",
    "        NEEDnectarArray = np.append(NEEDnectarArray,result)\n",
    "    return NEEDnectarArray[t]"
   ]
  },
  {
   "cell_type": "code",
   "execution_count": 43,
   "metadata": {},
   "outputs": [],
   "source": [
    "def NEEDnectar_larvae(t):\n",
    "    # (41) model the demand for larvae nectar\n",
    "    global NEEDnectar_larvaeArray\n",
    "    if t>len(NEEDnectar_larvaeArray):\n",
    "        NEEDnectar_larvae(t-1)\n",
    "    if t==len(NEEDnectar_larvaeArray):\n",
    "        result = 0\n",
    "        for i in range(1,LIFESPANlarva):\n",
    "            result += NECTARNEEDlarva[i-1] * LARVAE(i,t)\n",
    "        NEEDnectar_larvaeArray = np.append(NEEDnectar_larvaeArray,result)\n",
    "    return NEEDnectar_larvaeArray[t]"
   ]
  },
  {
   "cell_type": "code",
   "execution_count": 44,
   "metadata": {},
   "outputs": [],
   "source": [
    "def NEEDnectar_adult(t):\n",
    "    # (42)model the demand for adult nectar\n",
    "    global NEEDnectar_adultArray\n",
    "    if t>len(NEEDnectar_adultArray):\n",
    "        NEEDnectar_adult(t-1)\n",
    "    if t==len(NEEDnectar_adultArray):\n",
    "        result = BEESadult(t) * NECTARNEEDadult + NURSES(t) * NECTARNEEDnurse + FORAGERSactive(t) * NECTARNEEDactiveforager\n",
    "        NEEDnectar_adultArray = np.append(NEEDnectar_adultArray,result)\n",
    "    return NEEDnectar_adultArray[t]"
   ]
  },
  {
   "cell_type": "markdown",
   "metadata": {},
   "source": [
    "This equation take the number of adults bees that are not occupied and compute the number of bees that will work in nectar tasks."
   ]
  },
  {
   "cell_type": "code",
   "execution_count": 45,
   "metadata": {},
   "outputs": [],
   "source": [
    "def WORKFORCEnectar(t):\n",
    "    # (43) calculates the number of adult bees that are not involved in other tasks and thus are still available for a task associated with nectar collection\n",
    "    global WORKFORCEnectarArray\n",
    "    if t>len(WORKFORCEnectarArray):\n",
    "        WORKFORCEnectar(t-1)\n",
    "    if t==len(WORKFORCEnectarArray):\n",
    "        result = 0\n",
    "        if (RATIOworkforce(t) == 1):\n",
    "            result = (BEESadult(t) * (1 - FACTORothertasks)) - NURSES(t) - FORAGERSpollen(t)\n",
    "        WORKFORCEnectarArray = np.append(WORKFORCEnectarArray,result)\n",
    "    return WORKFORCEnectarArray[t]"
   ]
  },
  {
   "cell_type": "markdown",
   "metadata": {},
   "source": [
    "From the equations 42 to 45, we can now model the number of potential nectar foragers as well as the actual number."
   ]
  },
  {
   "cell_type": "code",
   "execution_count": 46,
   "metadata": {},
   "outputs": [],
   "source": [
    "def FORAGERSnectar(t):\n",
    "    # (44) models the number of potential nectar foragers\n",
    "    global FORAGERSnectarArray\n",
    "    if t>len(FORAGERSnectarArray):\n",
    "        FORAGERSnectar(t-1)\n",
    "    if t==len(FORAGERSnectarArray):\n",
    "        min1 = (BEESadult(t) * FACTORforagingmax) - FORAGERSpollen(t)\n",
    "        min2 = WORKFORCEnectar(t) - PROCESSORS(t)\n",
    "        result = min(min1,min2)\n",
    "        FORAGERSnectarArray = np.append(FORAGERSnectarArray,result)\n",
    "    return FORAGERSnectarArray[t]"
   ]
  },
  {
   "cell_type": "code",
   "execution_count": 47,
   "metadata": {},
   "outputs": [],
   "source": [
    "def FORAGERSnectaractive(t): \n",
    "    # (45) models the number of nectar foragers that actually leave the hive for foraging flights\n",
    "    global FORAGERSnectaractiveArray\n",
    "    if t>len(FORAGERSnectaractiveArray):\n",
    "        FORAGERSnectaractive(t-1)\n",
    "    if t==len(FORAGERSnectaractiveArray):\n",
    "        result = FORAGERSnectar(t) * INDEXflight(t) * INDEXnectaroutside(t)\n",
    "        FORAGERSnectaractiveArray = np.append(FORAGERSnectaractiveArray,result)\n",
    "    return FORAGERSnectaractiveArray[t]"
   ]
  },
  {
   "cell_type": "markdown",
   "metadata": {},
   "source": [
    "## 2.8 Modeling the resource influx into the colony\n",
    "<div id='2-8'></div>"
   ]
  },
  {
   "cell_type": "markdown",
   "metadata": {},
   "source": [
    "As the parts above calculates the number of active pollen and nectar foragers, we can now project the daily influx of pollen and nectar"
   ]
  },
  {
   "cell_type": "code",
   "execution_count": 48,
   "metadata": {},
   "outputs": [],
   "source": [
    "def INCOMEpollen(t):\n",
    "    # (46) project the daily influx of pollen\n",
    "    global INCOMEpollenArray\n",
    "    if t>len(INCOMEpollenArray):\n",
    "        INCOMEpollen(t-1)\n",
    "    if t==len(INCOMEpollenArray):\n",
    "        result = FORAGERSpollenactive(t) * LOADpollenforager * TURNSpollenforager * FACTORforagingstoch(t) * FACTORforagingsuccess\n",
    "        INCOMEpollenArray = np.append(INCOMEpollenArray,result)\n",
    "    return INCOMEpollenArray[t]"
   ]
  },
  {
   "cell_type": "code",
   "execution_count": 49,
   "metadata": {},
   "outputs": [],
   "source": [
    "def FACTORforagingstoch(t):\n",
    "    # (47) used to vary the daily foraging success symmetrically around 1\n",
    "    result = random.uniform(0.75, 1.25)\n",
    "    return(result)"
   ]
  },
  {
   "cell_type": "code",
   "execution_count": 50,
   "metadata": {},
   "outputs": [],
   "source": [
    "def INDEXpollensituation(t):\n",
    "    # (48) describes the level of the pollen stores in relation to the demand situation of the colony\n",
    "    global INDEXpollensituationArray\n",
    "    if t>len(INDEXpollensituationArray):\n",
    "        INDEXpollensituation(t-1)\n",
    "    if t==len(INDEXpollensituationArray):\n",
    "        min1 = STORESpollen(t) / (NEEDpollen(t) * FACTORpollenstorage + 1)\n",
    "        result = min(1,min1)\n",
    "        INDEXpollensituationArray = np.append(INDEXpollensituationArray,result)\n",
    "    return INDEXpollensituationArray[t]"
   ]
  },
  {
   "cell_type": "code",
   "execution_count": 51,
   "metadata": {},
   "outputs": [],
   "source": [
    "def INCOMEnectar(t):\n",
    "    # (49) project the daily influx of nectar\n",
    "    global INCOMEnectarArray\n",
    "    if t>len(INCOMEnectarArray):\n",
    "        INCOMEnectar(t-1)\n",
    "    if t==len(INCOMEnectarArray):\n",
    "        min1 = FORAGERSnectaractive(t) * LOADnectarforager * TURNSnectarforager * FACTORforagingstoch(t) * FACTORforagingsuccess\n",
    "        min2 = CELLSempty(t - 1)\n",
    "        result = min(min1,min2)\n",
    "        INCOMEnectarArray = np.append(INCOMEnectarArray,result)\n",
    "    return INCOMEnectarArray[t]"
   ]
  },
  {
   "cell_type": "markdown",
   "metadata": {},
   "source": [
    "## 2.9 Regulation of food processing\n",
    "<div id='2-9'></div>"
   ]
  },
  {
   "cell_type": "markdown",
   "metadata": {},
   "source": [
    "The number of nectar processing bees and foraging bees should normally be in balance. However, nectar processing has priority over nectar treatment so that it is always available for foraging. "
   ]
  },
  {
   "cell_type": "code",
   "execution_count": 52,
   "metadata": {},
   "outputs": [],
   "source": [
    "def NEEDprocessors(t):\n",
    "    #(50)\n",
    "    global NEEDprocessorsArray\n",
    "    if t>len(NEEDprocessorsArray):\n",
    "        NEEDprocessors(t-1)\n",
    "    if t==len(NEEDprocessorsArray):\n",
    "        if t==0:\n",
    "            result = STORESnectar(0)*ProcessorsPerCell\n",
    "        else:\n",
    "            result = STORESnectar(t-1)*ProcessorsPerCell\n",
    "        NEEDprocessorsArray = np.append(NEEDprocessorsArray,result)\n",
    "    return NEEDprocessorsArray[t]"
   ]
  },
  {
   "cell_type": "code",
   "execution_count": 53,
   "metadata": {},
   "outputs": [],
   "source": [
    "def PROCESSORS(t):\n",
    "    #(51)\n",
    "    global PROCESSORSArray\n",
    "    if t>len(PROCESSORSArray):\n",
    "        PROCESSORS(t-1)\n",
    "    if t==len(PROCESSORSArray):\n",
    "        \n",
    "        result = min(NEEDprocessors(t), WORKFORCEnectar(t))\n",
    "        PROCESSORSArray = np.append(PROCESSORSArray,result)\n",
    "    return PROCESSORSArray[t]"
   ]
  },
  {
   "cell_type": "code",
   "execution_count": 54,
   "metadata": {},
   "outputs": [],
   "source": [
    "def PROCESSEDnectar(t):\n",
    "    #(52)\n",
    "    global PROCESSEDnectarArray\n",
    "    if t>len(PROCESSEDnectarArray):\n",
    "        PROCESSEDnectar(t-1)\n",
    "    if t==len(PROCESSEDnectarArray):\n",
    "        if t==0:\n",
    "            result = min(STORESnectar(0)-USAGEnectar(t), PROCESSORS(t)/ProcessorsPerCell)\n",
    "        else:\n",
    "            result = min(STORESnectar(t-1)-USAGEnectar(t), PROCESSORS(t)/ProcessorsPerCell)\n",
    "        PROCESSEDnectarArray = np.append(PROCESSEDnectarArray,result)\n",
    "    return PROCESSEDnectarArray[t]"
   ]
  },
  {
   "cell_type": "markdown",
   "metadata": {},
   "source": [
    "The system proposed by the model is simplified compared to what exists in nature. Here we use only the nectare stored one day before."
   ]
  },
  {
   "cell_type": "markdown",
   "metadata": {},
   "source": [
    "## 2.10 Management of nutrient stores\n",
    "<div id='2-10'></div>"
   ]
  },
  {
   "cell_type": "markdown",
   "metadata": {},
   "source": [
    "The daily usage (consumption) of pollen is highly dependent on the amount of pollen stored. When it is too low the bees have the possibility to reduce their consumption and feed less their brood."
   ]
  },
  {
   "cell_type": "code",
   "execution_count": 55,
   "metadata": {},
   "outputs": [],
   "source": [
    "def USAGEpollen(t):\n",
    "    #(53)\n",
    "    global USAGEpollenArray\n",
    "    if t>len(USAGEpollenArray):\n",
    "        USAGEpollen(t-1)\n",
    "    if t==len(USAGEpollenArray):\n",
    "        if t==0:\n",
    "            result = min(STORESpollen(t), NEEDpollen(0)*(1-(FACTORpollensavingmax*(1-INDEXpollensituation(0)))))\n",
    "        else:\n",
    "            result = min(STORESpollen(t-1), NEEDpollen(t-1)*(1-(FACTORpollensavingmax*(1-INDEXpollensituation(t-1)))))\n",
    "        USAGEpollenArray = np.append(USAGEpollenArray,result)\n",
    "    return USAGEpollenArray[t]"
   ]
  },
  {
   "cell_type": "markdown",
   "metadata": {},
   "source": [
    "The daily amount of stored pollen is expressed as bellow."
   ]
  },
  {
   "cell_type": "code",
   "execution_count": 56,
   "metadata": {},
   "outputs": [],
   "source": [
    "def STORESpollen(t):\n",
    "    #(54)\n",
    "    global STORESpollenArray\n",
    "    if t>len(STORESpollenArray):\n",
    "        STORESpollen(t-1)\n",
    "    if t==len(STORESpollenArray):\n",
    "        if t==0:\n",
    "            result = INITpollen\n",
    "        else:\n",
    "            result = STORESpollen(t-1) + INCOMEpollen(t) - USAGEpollen(t)\n",
    "        STORESpollenArray = np.append(STORESpollenArray,result)\n",
    "    return STORESpollenArray[t]"
   ]
  },
  {
   "cell_type": "markdown",
   "metadata": {},
   "source": [
    "The use of pollen and nectar also depends on the stock situation. The bees first favour the consumption of fresh nectar and then pick up the stored nectar. In winter the bees are more likely to draw from stored nectar."
   ]
  },
  {
   "cell_type": "code",
   "execution_count": 57,
   "metadata": {},
   "outputs": [],
   "source": [
    "def USAGEnectar(t):\n",
    "    #(55)\n",
    "    global USAGEnectarArray\n",
    "    if t>len(USAGEnectarArray):\n",
    "        USAGEnectar(t-1)\n",
    "    if t==len(USAGEnectarArray):\n",
    "        if t==0:\n",
    "            result = min(STORESnectar(0), NEEDnectar(0))\n",
    "        else:\n",
    "            result = min(STORESnectar(t-1), NEEDnectar(t))\n",
    "        USAGEnectarArray = np.append(USAGEnectarArray,result)\n",
    "    return USAGEnectarArray[t]"
   ]
  },
  {
   "cell_type": "code",
   "execution_count": 58,
   "metadata": {},
   "outputs": [],
   "source": [
    "def USAGEhoney(t):\n",
    "    #(56)\n",
    "    global USAGEhoneyArray\n",
    "    if t>len(USAGEhoneyArray):\n",
    "        USAGEhoney(t-1)\n",
    "    if t==len(USAGEhoneyArray):\n",
    "        if t==0:\n",
    "            result = min(STOREShoney(0), (NEEDnectar(t)-USAGEnectar(t))*RATIOnectar_to_honey)\n",
    "        else:\n",
    "            result = min(STOREShoney(t-1), (NEEDnectar(t)-USAGEnectar(t))*RATIOnectar_to_honey)\n",
    "        USAGEhoneyArray = np.append(USAGEhoneyArray,result)\n",
    "    return USAGEhoneyArray[t]"
   ]
  },
  {
   "cell_type": "markdown",
   "metadata": {},
   "source": [
    "From the equations 49, 52, 55, 56 we can deduce the 2 following functions."
   ]
  },
  {
   "cell_type": "code",
   "execution_count": 59,
   "metadata": {},
   "outputs": [],
   "source": [
    "def STORESnectar(t):\n",
    "    #(57)\n",
    "    global STORESnectarArray\n",
    "    if t>len(STORESnectarArray):\n",
    "        STORESnectar(t-1)\n",
    "    if t==len(STORESnectarArray):\n",
    "        if t==0:\n",
    "            result = INITnectar\n",
    "        else:\n",
    "            result = STORESnectar(t-1)+INCOMEnectar(t) - USAGEnectar(t)-PROCESSEDnectar(t)\n",
    "        STORESnectarArray = np.append(STORESnectarArray,result)\n",
    "    return STORESnectarArray[t]"
   ]
  },
  {
   "cell_type": "code",
   "execution_count": 60,
   "metadata": {},
   "outputs": [],
   "source": [
    "def STOREShoney(t):\n",
    "    #(58)\n",
    "    global STOREShoneyArray\n",
    "    if t>len(STOREShoneyArray):\n",
    "        STOREShoneyArray(t-1)\n",
    "    if t==len(STOREShoneyArray):\n",
    "        if t==0:\n",
    "            result = INIThoney\n",
    "        else:\n",
    "            result = STOREShoney(t-1)-USAGEhoney(t)+(PROCESSEDnectar(t)*RATIOnectar_to_honey)\n",
    "        STOREShoneyArray = np.append(STOREShoneyArray,result)\n",
    "    return STOREShoneyArray[t]"
   ]
  },
  {
   "cell_type": "markdown",
   "metadata": {},
   "source": [
    "The weight of the hive is given in kg. To obtain it, the weight of each of the elements of the hive must be added together. "
   ]
  },
  {
   "cell_type": "code",
   "execution_count": 61,
   "metadata": {},
   "outputs": [],
   "source": [
    "def WEIGHTcolony(t):\n",
    "    #(59)\n",
    "    global WEIGHTcolonyArray\n",
    "    if t>len(WEIGHTcolonyArray):\n",
    "        WEIGHTcolony(t-1)\n",
    "    if t==len(WEIGHTcolonyArray):\n",
    "        if t==0:\n",
    "            result = INITWEIGHTcolony\n",
    "        else:\n",
    "            res = 0\n",
    "            for i in range(1, LIFESPANlarva):\n",
    "                res = res + (w_larva[i-1]*LARVAE(i,t))\n",
    "\n",
    "            result = (1/1000)*(w_hivebase+w_cellsbase*CELLShive0+w_pollen*STORESpollen(t)\n",
    "                    +w_honey*STOREShoney(t)+w_egg*CELLSeggs(t)\n",
    "                    +w_pupa*CELLSpupae(t)\n",
    "                    +res\n",
    "                    +w_adult*BEESadult(t))\n",
    "        WEIGHTcolonyArray = np.append(WEIGHTcolonyArray,result)\n",
    "    return WEIGHTcolonyArray[t]"
   ]
  },
  {
   "cell_type": "markdown",
   "metadata": {},
   "source": [
    "A number of bees are sometimes not necessary because of the weather or the fact that the cells of the hive are already filled."
   ]
  },
  {
   "cell_type": "code",
   "execution_count": 62,
   "metadata": {},
   "outputs": [],
   "source": [
    "def BEESlazy(t):\n",
    "    #(60)\n",
    "    global BEESlazyArray\n",
    "    if t>len(BEESlazyArray):\n",
    "        BEESlazy(t-1)\n",
    "    if t==len(BEESlazyArray):\n",
    "        result = (BEESadult(t)*(1-FACTORothertasks))-FORAGERSactive(t)-NURSES(t)-PROCESSORS(t)\n",
    "        BEESlazyArray = np.append(BEESlazyArray,result)\n",
    "    return BEESlazyArray[t]"
   ]
  },
  {
   "cell_type": "markdown",
   "metadata": {},
   "source": [
    "## Swarming extension"
   ]
  },
  {
   "cell_type": "code",
   "execution_count": 63,
   "metadata": {},
   "outputs": [],
   "source": [
    "#def FACTORqueen(t):\n",
    "  # (61)\n",
    "#    if ((swd - 30) <= t and t < (swd -3)):\n",
    "#        res = 1.2\n",
    "#    elif ((swd - 3) <= t and t < (swd + 14)):\n",
    "#        res = 0\n",
    "#    else:\n",
    "#        res = 1\n",
    "#    return res"
   ]
  },
  {
   "cell_type": "code",
   "execution_count": 64,
   "metadata": {},
   "outputs": [],
   "source": [
    "#def ELRbase(t):\n",
    "  # (62)\n",
    "#    if (t<swd):\n",
    "#        res = 2000\n",
    "#    else:\n",
    "#        res = 1200\n",
    "#    return res"
   ]
  },
  {
   "cell_type": "code",
   "execution_count": 65,
   "metadata": {},
   "outputs": [],
   "source": [
    "#def BEESswarm(t):\n",
    "  # (63)\n",
    "#    if (t == swd):\n",
    "#        res = BEESadult(t-1) * 0.6\n",
    "#    else:\n",
    "#        res = 0\n",
    "#    return res"
   ]
  },
  {
   "cell_type": "code",
   "execution_count": 66,
   "metadata": {},
   "outputs": [],
   "source": [
    "#def TURNSnectarforager(t):\n",
    "    # (64)\n",
    "#    return 15 + 7 * ((CELLSempty(t-1))/(CELLShive(t)+1))"
   ]
  },
  {
   "cell_type": "code",
   "execution_count": 67,
   "metadata": {},
   "outputs": [],
   "source": [
    "#def LOSShoney_swarm(t):\n",
    "    # (65)\n",
    "#    if t == swd:\n",
    "#        return min(STOREShoney(t-1),BEESswarm(t)*LOADnectarforager)\n",
    "#    else:\n",
    "#        return 0"
   ]
  },
  {
   "cell_type": "code",
   "execution_count": 68,
   "metadata": {},
   "outputs": [],
   "source": [
    "#def USAGEhoney(t):\n",
    "    # (56a)\n",
    "#    return min((STOREShoney(t-1),((NEEDnectar(t)-USAGEnectar(t))*RATIOnectar_to_honey)+LOSShoney_swarm(t))"
   ]
  },
  {
   "cell_type": "code",
   "execution_count": 69,
   "metadata": {},
   "outputs": [],
   "source": [
    "#def CELLShive(t):\n",
    "    # (67)\n",
    "#    if t <= swd:\n",
    "#        return CELLShive0\n",
    "#    elif swd < t and t <= (swd + 7):\n",
    "#        return CELLShive(t-1)+(2000/7)\n",
    "#    elif (swd + 7) < t and t <= (swd + 97):\n",
    "#        return CELLShive(t-1)+(8000/90)\n",
    "#    elif t > (swd + 97):\n",
    "#        return CELLShive(t-1)"
   ]
  },
  {
   "cell_type": "markdown",
   "metadata": {},
   "source": [
    "# 3. Running the model\n",
    "<div id='3'></div>"
   ]
  },
  {
   "cell_type": "code",
   "execution_count": 70,
   "metadata": {},
   "outputs": [],
   "source": [
    "def Main(daysEnd):\n",
    "    t = np.arange(daysEnd+1)\n",
    "    for i in range(len(t)):\n",
    "        CELLSeggs(t[i])\n",
    "        CELLSlarvae(t[i])\n",
    "        CELLSpupae(t[i])\n",
    "        CELLSbrood(t[i])\n",
    "        BEESadult(t[i])\n",
    "        STORESpollen(t[i])\n",
    "        STORESnectar(t[i])\n",
    "        STOREShoney(t[i])\n",
    "        WEIGHTcolony(t[i])\n",
    "    dFResult = pd.DataFrame({'STORESpollen' : STORESpollenArray, 'STOREShoney' : STOREShoneyArray, 'STORESnectar' : STORESnectarArray, 'BroodCells' : CELLSbroodArray,'BEESadult' : BEESadultArray,'WEIGHTcolony' : WEIGHTcolonyArray})\n",
    "    return dFResult"
   ]
  },
  {
   "cell_type": "code",
   "execution_count": 71,
   "metadata": {
    "scrolled": false
   },
   "outputs": [
    {
     "data": {
      "text/plain": [
       "Text(0.5, 1.0, 'Season Coeff')"
      ]
     },
     "execution_count": 71,
     "metadata": {},
     "output_type": "execute_result"
    },
    {
     "data": {
      "image/png": "[encoded data removed]",
      "text/plain": [
       "<Figure size 720x360 with 1 Axes>"
      ]
     },
     "metadata": {},
     "output_type": "display_data"
    }
   ],
   "source": [
    "import matplotlib.pyplot as plt\n",
    "import numpy as np\n",
    "\n",
    "graph = []\n",
    "\n",
    "for i in range(366):\n",
    "    graph.append(season(i))\n",
    "\n",
    "plt.figure(figsize=(10,5))\n",
    "plt.plot(np.linspace(1,366, 366), graph)\n",
    "plt.title(\"Season Coeff\")"
   ]
  },
  {
   "cell_type": "code",
   "execution_count": 72,
   "metadata": {
    "scrolled": true
   },
   "outputs": [],
   "source": [
    "res = Main(365)\n",
    "res.to_csv(\"out.csv\")"
   ]
  },
  {
   "cell_type": "code",
   "execution_count": 73,
   "metadata": {},
   "outputs": [
    {
     "data": {
      "text/html": [
       "<div>\n",
       "<style scoped>\n",
       "    .dataframe tbody tr th:only-of-type {\n",
       "        vertical-align: middle;\n",
       "    }\n",
       "\n",
       "    .dataframe tbody tr th {\n",
       "        vertical-align: top;\n",
       "    }\n",
       "\n",
       "    .dataframe thead th {\n",
       "        text-align: right;\n",
       "    }\n",
       "</style>\n",
       "<table border=\"1\" class=\"dataframe\">\n",
       "  <thead>\n",
       "    <tr style=\"text-align: right;\">\n",
       "      <th></th>\n",
       "      <th>STORESpollen</th>\n",
       "      <th>STOREShoney</th>\n",
       "      <th>STORESnectar</th>\n",
       "      <th>BroodCells</th>\n",
       "      <th>BEESadult</th>\n",
       "      <th>WEIGHTcolony</th>\n",
       "    </tr>\n",
       "  </thead>\n",
       "  <tbody>\n",
       "    <tr>\n",
       "      <th>count</th>\n",
       "      <td>366.000000</td>\n",
       "      <td>366.000000</td>\n",
       "      <td>366.000000</td>\n",
       "      <td>366.000000</td>\n",
       "      <td>366.000000</td>\n",
       "      <td>366.000000</td>\n",
       "    </tr>\n",
       "    <tr>\n",
       "      <th>mean</th>\n",
       "      <td>276.820272</td>\n",
       "      <td>14059.289092</td>\n",
       "      <td>1185.881439</td>\n",
       "      <td>5573.918611</td>\n",
       "      <td>19597.193151</td>\n",
       "      <td>32.838950</td>\n",
       "    </tr>\n",
       "    <tr>\n",
       "      <th>std</th>\n",
       "      <td>328.270859</td>\n",
       "      <td>13136.381769</td>\n",
       "      <td>1510.149801</td>\n",
       "      <td>6650.114797</td>\n",
       "      <td>9918.297805</td>\n",
       "      <td>6.473335</td>\n",
       "    </tr>\n",
       "    <tr>\n",
       "      <th>min</th>\n",
       "      <td>0.000000</td>\n",
       "      <td>0.000000</td>\n",
       "      <td>0.000000</td>\n",
       "      <td>0.000000</td>\n",
       "      <td>6593.572057</td>\n",
       "      <td>24.306317</td>\n",
       "    </tr>\n",
       "    <tr>\n",
       "      <th>25%</th>\n",
       "      <td>2.602738</td>\n",
       "      <td>0.000000</td>\n",
       "      <td>11.894026</td>\n",
       "      <td>51.779896</td>\n",
       "      <td>10799.180511</td>\n",
       "      <td>25.902412</td>\n",
       "    </tr>\n",
       "    <tr>\n",
       "      <th>50%</th>\n",
       "      <td>91.563417</td>\n",
       "      <td>17780.344225</td>\n",
       "      <td>291.205120</td>\n",
       "      <td>1583.053399</td>\n",
       "      <td>17376.069349</td>\n",
       "      <td>34.216687</td>\n",
       "    </tr>\n",
       "    <tr>\n",
       "      <th>75%</th>\n",
       "      <td>608.123188</td>\n",
       "      <td>20724.697889</td>\n",
       "      <td>2217.022460</td>\n",
       "      <td>12971.800926</td>\n",
       "      <td>28489.858978</td>\n",
       "      <td>37.019312</td>\n",
       "    </tr>\n",
       "    <tr>\n",
       "      <th>max</th>\n",
       "      <td>954.706885</td>\n",
       "      <td>50000.000000</td>\n",
       "      <td>5089.661985</td>\n",
       "      <td>20428.103778</td>\n",
       "      <td>36848.846121</td>\n",
       "      <td>50.000000</td>\n",
       "    </tr>\n",
       "  </tbody>\n",
       "</table>\n",
       "</div>"
      ],
      "text/plain": [
       "       STORESpollen   STOREShoney  STORESnectar    BroodCells     BEESadult  \\\n",
       "count    366.000000    366.000000    366.000000    366.000000    366.000000   \n",
       "mean     276.820272  14059.289092   1185.881439   5573.918611  19597.193151   \n",
       "std      328.270859  13136.381769   1510.149801   6650.114797   9918.297805   \n",
       "min        0.000000      0.000000      0.000000      0.000000   6593.572057   \n",
       "25%        2.602738      0.000000     11.894026     51.779896  10799.180511   \n",
       "50%       91.563417  17780.344225    291.205120   1583.053399  17376.069349   \n",
       "75%      608.123188  20724.697889   2217.022460  12971.800926  28489.858978   \n",
       "max      954.706885  50000.000000   5089.661985  20428.103778  36848.846121   \n",
       "\n",
       "       WEIGHTcolony  \n",
       "count    366.000000  \n",
       "mean      32.838950  \n",
       "std        6.473335  \n",
       "min       24.306317  \n",
       "25%       25.902412  \n",
       "50%       34.216687  \n",
       "75%       37.019312  \n",
       "max       50.000000  "
      ]
     },
     "execution_count": 73,
     "metadata": {},
     "output_type": "execute_result"
    }
   ],
   "source": [
    "res.describe()"
   ]
  },
  {
   "cell_type": "code",
   "execution_count": 74,
   "metadata": {},
   "outputs": [
    {
     "data": {
      "text/plain": [
       "<matplotlib.legend.Legend at 0x158ad109f70>"
      ]
     },
     "execution_count": 74,
     "metadata": {},
     "output_type": "execute_result"
    },
    {
     "data": {
      "image/png": "[encoded data removed]",
      "text/plain": [
       "<Figure size 864x864 with 3 Axes>"
      ]
     },
     "metadata": {},
     "output_type": "display_data"
    }
   ],
   "source": [
    "plt.figure(figsize=(12,12))\n",
    "\n",
    "plt.subplot(2,2,1)\n",
    "\n",
    "res['STORESnectar'].plot(label = \"Store nectare\")\n",
    "res['STORESpollen'].plot(label = \"Store pollen\")\n",
    "res['STOREShoney'].plot(label = \"Store honey\")\n",
    "plt.legend()\n",
    "\n",
    "plt.subplot(2,2,2)\n",
    "\n",
    "res['BEESadult'].plot(label = \"Bees adult\")\n",
    "res['BroodCells'].plot(label = \"Brood cells\")\n",
    "\n",
    "plt.legend()\n",
    "\n",
    "plt.subplot(2,2,3)\n",
    "res['WEIGHTcolony'].plot(label = \"WEIGHT colony\")\n",
    "plt.legend()"
   ]
  },
  {
   "cell_type": "code",
   "execution_count": 75,
   "metadata": {
    "scrolled": false
   },
   "outputs": [
    {
     "data": {
      "text/plain": [
       "Text(0, 0.5, 'usage honey [cells / days]')"
      ]
     },
     "execution_count": 75,
     "metadata": {},
     "output_type": "execute_result"
    },
    {
     "data": {
      "image/png": "[encoded data removed]",
      "text/plain": [
       "<Figure size 1008x1224 with 6 Axes>"
      ]
     },
     "metadata": {},
     "output_type": "display_data"
    }
   ],
   "source": [
    "plt.figure(figsize=(14,17))\n",
    "\n",
    "t = np.arange(366)\n",
    "\n",
    "plt.subplot(3,2,1)\n",
    "#plt.legend(loc = 'upper right')\n",
    "plt.plot(t, BEESadultArray,color = 'black')\n",
    "plt.title('Adult bee population dynamics')\n",
    "plt.xlabel('Date')\n",
    "plt.ylabel('Number of adult bees')\n",
    "\n",
    "\n",
    "plt.subplot(3,2,2)\n",
    "plt.plot(t, STORESpollenArray,color = 'black')\n",
    "plt.title('StorePollen')\n",
    "plt.xlabel('Date')\n",
    "plt.ylabel('pollen stores [filled cells]')\n",
    "\n",
    "plt.subplot(3,2,3)\n",
    "plt.plot(t,CELLSbroodArray,color  = 'black')\n",
    "plt.title('Brood cells')\n",
    "plt.xlabel('Date')\n",
    "plt.ylabel('Brood cells')\n",
    "\n",
    "plt.subplot(3,2,4)\n",
    "plt.plot(t, STOREShoneyArray,color = 'black')\n",
    "plt.title('STOREShoney')\n",
    "plt.xlabel('Date')\n",
    "plt.ylabel('honey stores [filled cells]')\n",
    "\n",
    "plt.subplot(3,2,5)\n",
    "plt.plot(t, STORESnectarArray,color = 'black')\n",
    "plt.title('STORESnectar')\n",
    "plt.xlabel('Date')\n",
    "plt.ylabel('nectar stores [filled cells]')\n",
    "\n",
    "plt.subplot(3,2,6)\n",
    "plt.plot(t, USAGEhoneyArray,color = 'black')\n",
    "plt.title('USAGEhoney')\n",
    "plt.xlabel('Date')\n",
    "plt.ylabel('usage honey [cells / days]')"
   ]
  }
 ],
 "metadata": {
  "kernelspec": {
   "display_name": "Python 3",
   "language": "python",
   "name": "python3"
  },
  "language_info": {
   "codemirror_mode": {
    "name": "ipython",
    "version": 3
   },
   "file_extension": ".py",
   "mimetype": "text/x-python",
   "name": "python",
   "nbconvert_exporter": "python",
   "pygments_lexer": "ipython3",
   "version": "3.8.5"
  }
 },
 "nbformat": 4,
 "nbformat_minor": 4
}
