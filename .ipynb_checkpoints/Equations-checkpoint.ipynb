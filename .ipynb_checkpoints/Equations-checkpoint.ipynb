{
 "cells": [
  {
   "cell_type": "markdown",
   "metadata": {},
   "source": [
    "# Equations"
   ]
  },
  {
   "cell_type": "markdown",
   "metadata": {},
   "source": [
    "## Necessary imports"
   ]
  },
  {
   "cell_type": "code",
   "execution_count": 1,
   "metadata": {},
   "outputs": [],
   "source": [
    "import math\n",
    "import random"
   ]
  },
  {
   "cell_type": "markdown",
   "metadata": {},
   "source": [
    "## Constants"
   ]
  },
  {
   "cell_type": "code",
   "execution_count": 17,
   "metadata": {},
   "outputs": [],
   "source": [
    "#Data from Fukuda and Sakagami (1968)\n",
    "LIFESPANlarva = 5\n",
    "MORTALITYnursing = 0.005\n",
    "MORTALITYprocessing = 0.005\n",
    "MORTALITYforaging = 0.035\n",
    "LIFESPANpupa = 12"
   ]
  },
  {
   "cell_type": "markdown",
   "metadata": {},
   "source": [
    "## 2.1.   Modeling the queen’s egg laying behavior"
   ]
  },
  {
   "cell_type": "code",
   "execution_count": 3,
   "metadata": {},
   "outputs": [],
   "source": [
    "def season(t):\n",
    "    # (1)\n",
    "    return max(1-(1/(1+x1*math.exp(-2*t/x2))),1/(1+x3*math.exp(-2*(t-x4)/x5)))"
   ]
  },
  {
   "cell_type": "code",
   "execution_count": 4,
   "metadata": {},
   "outputs": [],
   "source": [
    "def CELLSempty(t):\n",
    "    # (2)\n",
    "    return CELLShive - CELLSbrood(t) - STORESpollen(t) - STORESnectar(t) - STOREShoney(t)"
   ]
  },
  {
   "cell_type": "code",
   "execution_count": 5,
   "metadata": {},
   "outputs": [],
   "source": [
    "def SUPcomb(t):\n",
    "    # (3)\n",
    "    if CELLSempty(t)/(CELLShive + 1) < SUPthreshold:\n",
    "        return CELLSempty(t)/((CELLShive + 1) * SUPthreshold)\n",
    "    else:\n",
    "        return 1"
   ]
  },
  {
   "cell_type": "code",
   "execution_count": 6,
   "metadata": {},
   "outputs": [],
   "source": [
    "def ELRstoch(t):\n",
    "    # (4)\n",
    "    return random.uniform(-ELRstochrange,+ELRstochrange)"
   ]
  },
  {
   "cell_type": "code",
   "execution_count": 7,
   "metadata": {},
   "outputs": [],
   "source": [
    "def ELR(t):\n",
    "    # (5)\n",
    "    return ELRbase * (1 + ELRstoch(t)) * (1 - season(t)) * SUPcomb(t) "
   ]
  },
  {
   "cell_type": "markdown",
   "metadata": {},
   "source": [
    "## 2.2. Modeling the immature stages"
   ]
  },
  {
   "cell_type": "markdown",
   "metadata": {},
   "source": [
    "### 2.2.1 Eggs"
   ]
  },
  {
   "cell_type": "code",
   "execution_count": 8,
   "metadata": {},
   "outputs": [],
   "source": [
    "def EGGS(i,t):\n",
    "    # (6)\n",
    "    if i == 1:\n",
    "        return ELR(t-1) * (1 - MORTALITYeggs)\n",
    "    elif i in [2,3]:\n",
    "        return EGGS(i-1,t-1) * (1 - MORTALITYeggs) "
   ]
  },
  {
   "cell_type": "code",
   "execution_count": 9,
   "metadata": {},
   "outputs": [],
   "source": [
    "def CELLSeggs(t):\n",
    "    # (7)\n",
    "    sum = 0\n",
    "    for i in range(LIFESPANegg+1):\n",
    "        if i != 0:\n",
    "            sum += EGGS((i,t))\n",
    "    return sum"
   ]
  },
  {
   "cell_type": "code",
   "execution_count": 10,
   "metadata": {},
   "outputs": [],
   "source": [
    "def CELLSeggs(t):\n",
    "    # (8)\n",
    "    # alternative to (7)\n",
    "    sum = 0\n",
    "    for i in range(LIFESPANegg+1):\n",
    "        if i != 0:\n",
    "            sum += (ELR(t-i)*math.pow(1-MORTALITYeggs,i))\n",
    "    return sum"
   ]
  },
  {
   "cell_type": "markdown",
   "metadata": {},
   "source": [
    "### 2.2.2. Larvae (unsealed)"
   ]
  },
  {
   "cell_type": "code",
   "execution_count": 11,
   "metadata": {},
   "outputs": [],
   "source": [
    "def SURVIVALlarvae(i,t):\n",
    "    # (9)\n",
    "    return (1 - CANNIBALISMlarvae(i,t)) * (1 - MORTALITYlarvae)"
   ]
  },
  {
   "cell_type": "code",
   "execution_count": 12,
   "metadata": {},
   "outputs": [],
   "source": [
    "def CANNIBALISMlarvae(i,t):\n",
    "    # (10)\n",
    "    return CANNIBALISMhungerbase(i) * (1 - (INDEXpollensituation(t-1) * INDEXnursingquality(t-1)))"
   ]
  },
  {
   "cell_type": "code",
   "execution_count": 13,
   "metadata": {},
   "outputs": [],
   "source": [
    "def LARVAE(i,t):\n",
    "    # (11)\n",
    "    if i == 1:\n",
    "        return EGGS(LIFESPANegg,t-1)*SURVIVALlarvae(1,t)\n",
    "    elif 1 < i and i <= LIFESPANlarva:\n",
    "        return LARVAE(i-1,t-1) * SURVIVALlarvae(i,t)"
   ]
  },
  {
   "cell_type": "code",
   "execution_count": 14,
   "metadata": {},
   "outputs": [],
   "source": [
    "def CELLSlarvae(t):\n",
    "    # (12)\n",
    "    sum = 0\n",
    "    for i in range(LIFESPANlarva+1):\n",
    "        if i != 0:\n",
    "            sum += LARVAE((i,t))\n",
    "    return sum "
   ]
  },
  {
   "cell_type": "code",
   "execution_count": 15,
   "metadata": {},
   "outputs": [],
   "source": [
    "def CELLSlarvae(t):\n",
    "    # (13)\n",
    "    # alternative to (12)\n",
    "    \n",
    "    def product(i):\n",
    "        prdct = 1\n",
    "        for k in range(i+1):\n",
    "            if k != 0:\n",
    "                prdct *= SURVIVALlarvae(k,t-i+k)\n",
    "        return prdct\n",
    "    \n",
    "    sum = 0\n",
    "    for i in range(LIFESPANlarva+1):\n",
    "        if i != 0:\n",
    "            sum += (ELR(t-i-LIFESPANegg)*math.pow(1-MORTALITYeggs,i)*product(i))  \n",
    "    \n",
    "    return sum"
   ]
  },
  {
   "cell_type": "code",
   "execution_count": 16,
   "metadata": {},
   "outputs": [],
   "source": [
    "def PUPAE(i,t):\n",
    "    # (14)\n",
    "    if i == 1:\n",
    "        return LARVAE(LIFESPANlarva,t-1) * (1 - MORTALITYpupae)\n",
    "    elif 1 < i and i <= LIFESPANpupa:\n",
    "        return PUPAE(i-1,t-1) * (1 - MORTALITYpupae)"
   ]
  },
  {
   "cell_type": "code",
   "execution_count": 17,
   "metadata": {},
   "outputs": [],
   "source": [
    "def CELLSpupae(t):\n",
    "    # (15)\n",
    "    sum = 0\n",
    "    for i in range(LIFESPANpupa+1):\n",
    "        if i != 0:\n",
    "            sum += PUPAE((i,t))\n",
    "    return sum "
   ]
  },
  {
   "cell_type": "code",
   "execution_count": 18,
   "metadata": {},
   "outputs": [],
   "source": [
    "def CELLSpupae(t):\n",
    "    # (16)\n",
    "    # alternative to (15)\n",
    "    \n",
    "    def product(i):\n",
    "        prdct = 1\n",
    "        for k in range(LIFESPANlarva+1):\n",
    "            if k != 0:\n",
    "                prdct *= SURVIVALlarvae(k,t-i-LIFESPANlarva+k)\n",
    "        return prdct\n",
    "    \n",
    "    sum = 0\n",
    "    for i in range(LIFESPANpupa+1):\n",
    "        if i != 0:\n",
    "            sum += (ELR(t-i-LIFESPANegg-LIFESPANlarva)*math.pow(1-MORTALITYeggs,LIFESPANegg)*product(i)*math.pow(1-MORTALITYpupae,i))  \n",
    "    \n",
    "    return sum"
   ]
  },
  {
   "cell_type": "code",
   "execution_count": 19,
   "metadata": {},
   "outputs": [],
   "source": [
    "def CELLSbrood(t):\n",
    "    # (17)\n",
    "    return CELLSeggs(t) + CELLSlarvae(t) + CELLSpupae(t)"
   ]
  },
  {
   "cell_type": "markdown",
   "metadata": {},
   "source": [
    "## 2.3 Modeling the population of adult bees"
   ]
  },
  {
   "cell_type": "code",
   "execution_count": 9,
   "metadata": {},
   "outputs": [],
   "source": [
    "def MORTALITYadult(t) :\n",
    "    # (18)\n",
    "\tres = MORTALITYadultbase\n",
    "\tres += (MORTALITYnursing * NURSES(t - 1) / BEESadult(t - 1) + 1)\n",
    "\tres += (MORTALITYprocessing * PROCESSORS(t - 1) / BEESadult(t - 1) + 1)\n",
    "\tres += (MORTALITYforaging * FORAGERSactive(t - 1) / BEESadult(t - 1) + 1)\n",
    "\treturn res"
   ]
  },
  {
   "cell_type": "code",
   "execution_count": 10,
   "metadata": {},
   "outputs": [],
   "source": [
    "def BEESadult(t) : \n",
    "    # (19)\n",
    "\tres = (BEESadult(t - 1) + PUPAE(LIFESPANpupa, t - 1)) * (1 - MORTALITYadult(t))\n",
    "\treturn res"
   ]
  },
  {
   "cell_type": "markdown",
   "metadata": {},
   "source": [
    "## 2.4 Modeling the influence of the environment"
   ]
  },
  {
   "cell_type": "code",
   "execution_count": 11,
   "metadata": {},
   "outputs": [],
   "source": [
    "def INDEXrain(t) :\n",
    "    # (20)\n",
    "\treturn (1 - RAIN(t))"
   ]
  },
  {
   "cell_type": "code",
   "execution_count": 12,
   "metadata": {},
   "outputs": [],
   "source": [
    "def RAIN(t) :\n",
    "    # (21)\n",
    "\tres = HOURSraining_during_daylight(t) / HOURSdaylight(t)\n",
    "\treturn res"
   ]
  },
  {
   "cell_type": "code",
   "execution_count": 13,
   "metadata": {},
   "outputs": [],
   "source": [
    "def INDEXtemperature(t) :\n",
    "    # (22)\n",
    "\tif ((TEMP(t) <= 14) or (TEMP(t) > 40)) :\n",
    "\t\tres = 0\n",
    "\telif (TEMP(t) <= 22) :\n",
    "\t\tres = (TEMP(t) - 14) / 8\n",
    "\telif (TEMP(t) <= 32) : \n",
    "\t\tres = 1\n",
    "\telse : \n",
    "\t\tres = (40 - TEMP(t)) / 8 \n",
    "\n",
    "\treturn res"
   ]
  },
  {
   "cell_type": "code",
   "execution_count": 14,
   "metadata": {},
   "outputs": [],
   "source": [
    "def INDEXflight(t) : \n",
    "    # (23)\n",
    "\treturn (INDEXrain(t) * INDEXtemperature(t))"
   ]
  },
  {
   "cell_type": "code",
   "execution_count": 15,
   "metadata": {},
   "outputs": [],
   "source": [
    "def INDEXnectaroutside(t) :\n",
    "    # (24)\n",
    "\treturn min((1 - season(t)) * 1.5, 1)"
   ]
  },
  {
   "cell_type": "code",
   "execution_count": 16,
   "metadata": {},
   "outputs": [],
   "source": [
    "def INDEXpollenoutside(t) :\n",
    "    # (25)\n",
    "\treturn min((1 - season(t)) * 1.5, 1)"
   ]
  },
  {
   "cell_type": "markdown",
   "metadata": {},
   "source": [
    "## 2.5 Modeling task decisions"
   ]
  },
  {
   "cell_type": "code",
   "execution_count": 21,
   "metadata": {},
   "outputs": [],
   "source": [
    "def NEEDworkers(t):\n",
    "    # (26)\n",
    "    return NEEDnurses(t) + NEEDpollenforagers(t)"
   ]
  },
  {
   "cell_type": "code",
   "execution_count": 22,
   "metadata": {},
   "outputs": [],
   "source": [
    "def RATIOworkforce(t, FACTORothertasks = 0.2):\n",
    "    # (27)\n",
    "    return min(BEESadult(t) * (1 - FACTORothertasks) / (NEEDWORKERS(t) + 1), 1)"
   ]
  },
  {
   "cell_type": "markdown",
   "metadata": {},
   "source": [
    "## 2.6 Modeling the regulation of nursing"
   ]
  },
  {
   "cell_type": "code",
   "execution_count": 23,
   "metadata": {},
   "outputs": [],
   "source": [
    "def NEEDnurses(t):\n",
    "    # (28)\n",
    "    res = 0\n",
    "    for i in range(1, LIFESPANlarva):\n",
    "        res = LARVAE(i, t) * NEEDnurses_per_larva(i)\n",
    "    return res + CELLSeggs(t) * NEEDnursesperegg + CELLSpupae(t) * NEEDnursesperpupa"
   ]
  },
  {
   "cell_type": "code",
   "execution_count": 24,
   "metadata": {},
   "outputs": [],
   "source": [
    "def NURSES(t):\n",
    "    # (29)\n",
    "    return NEEDworkers(t) + RATIOworkforce(t)"
   ]
  },
  {
   "cell_type": "code",
   "execution_count": 25,
   "metadata": {},
   "outputs": [],
   "source": [
    "def INDEXnursingquality(t):\n",
    "    # (30)\n",
    "    return NURSES(t)/(NEEDnurses(t) + 1)"
   ]
  },
  {
   "cell_type": "markdown",
   "metadata": {},
   "source": [
    "## 2.7 Modeling the regulation of foraging"
   ]
  },
  {
   "cell_type": "code",
   "execution_count": null,
   "metadata": {},
   "outputs": [],
   "source": [
    "def FORAGERS(t):\n",
    "    # (31)\n",
    "    res = FORAGERSpollen(t)+FORAGERSnectaractive(t)\n",
    "    return(res)"
   ]
  },
  {
   "cell_type": "code",
   "execution_count": null,
   "metadata": {},
   "outputs": [],
   "source": [
    "def FORAGERSactive(t):\n",
    "    # (32)\n",
    "    res = FORAGERSpollenactive(t)+FORAGERSnectaractive(t)\n",
    "    return(res)"
   ]
  },
  {
   "cell_type": "markdown",
   "metadata": {},
   "source": [
    "### 2.7.1 Recruitment of pollen foragers"
   ]
  },
  {
   "cell_type": "code",
   "execution_count": null,
   "metadata": {},
   "outputs": [],
   "source": [
    "def NEEDpollen(t):\n",
    "    # (33)\n",
    "    res = NEEDpollen_larvae(t)+NEEDpollen_adult(t)\n",
    "    return(res)"
   ]
  },
  {
   "cell_type": "code",
   "execution_count": null,
   "metadata": {},
   "outputs": [],
   "source": [
    "def NEEDpollen_larvae(t):\n",
    "    # (34)\n",
    "    result = 0\n",
    "    for i in range(1,LIFESPANlarva):\n",
    "        S+= (PELLENNEEDlarva(i)*(LARVAE(i,t)))\n",
    "    return(result)"
   ]
  },
  {
   "cell_type": "code",
   "execution_count": null,
   "metadata": {},
   "outputs": [],
   "source": [
    "def NEEDpollen_adult(t):\n",
    "    # (35)\n",
    "    result = BEESadult(t) * POLLENNEEDadult + NURSES(t) * POLLENNEEDnurse\n",
    "    return(result)"
   ]
  },
  {
   "cell_type": "code",
   "execution_count": null,
   "metadata": {},
   "outputs": [],
   "source": [
    "def NEEDpollenincome(t):\n",
    "    # (36)\n",
    "    S = 0\n",
    "    for i in range(0,2):\n",
    "        S += NEEDpollen(t - d)\n",
    "    tmp = S/3 * FACTORpollenstorage - STORESpollen(t)\n",
    "    result = max(0,tmp)\n",
    "    return(result)"
   ]
  },
  {
   "cell_type": "code",
   "execution_count": null,
   "metadata": {},
   "outputs": [],
   "source": [
    "def NEEDpollenforagers(t):\n",
    "    # (37)\n",
    "    result = NEEDpollenincome(t-1) / (LOADpollenforager * TURNSpollenforager * FACTORforagingsuccess)\n",
    "    return(result)"
   ]
  },
  {
   "cell_type": "code",
   "execution_count": null,
   "metadata": {},
   "outputs": [],
   "source": [
    "def FORAGERSpollen(t):\n",
    "    # (38)\n",
    "    max1 = NEEDpollenforagers(t) * RATIOworkforce(t)\n",
    "    max2 = (BEESadult(t)-NURSES(t))*FACTORminpollenforagers\n",
    "    min1 = max(max1,max2)\n",
    "    min2 = BEESadult(t) * FACTORforagingmax\n",
    "    result = min(min1,min2)\n",
    "    return(result)"
   ]
  },
  {
   "cell_type": "code",
   "execution_count": null,
   "metadata": {},
   "outputs": [],
   "source": [
    "def FORAGERSpollenactive(t):\n",
    "    # (39)\n",
    "    result = FORAGERpollen(t) * INDEXflight(t) * INDEXpollenoutside(t)\n",
    "    return(result)"
   ]
  },
  {
   "cell_type": "markdown",
   "metadata": {},
   "source": [
    "### 2.7.2 Recruitment of nectar foragers"
   ]
  },
  {
   "cell_type": "code",
   "execution_count": null,
   "metadata": {},
   "outputs": [],
   "source": [
    "def NEEDnectar(t):\n",
    "    # (40)\n",
    "    result = NEEDnectar_larvae(t) + NEEDnectar_adult(t)\n",
    "    return(result)"
   ]
  },
  {
   "cell_type": "code",
   "execution_count": null,
   "metadata": {},
   "outputs": [],
   "source": [
    "def NEEDnectar_larvae(t):\n",
    "    # (41)\n",
    "    result = 0\n",
    "    for i in range(1,LIFESPANlarva):\n",
    "        result += NECTARNEEDlarva(i) * LARVAE(i,t)\n",
    "    return(result)"
   ]
  },
  {
   "cell_type": "code",
   "execution_count": null,
   "metadata": {},
   "outputs": [],
   "source": [
    "def NEEDnectar_adult(t):\n",
    "    # (42)\n",
    "    result = BEESadult(t) * NECTARNEEDadult + NURSES(t) * NECTARNEEDnurse + FORAGESactive(t) * NECTARNEEDactiveforager\n",
    "    return(result)"
   ]
  },
  {
   "cell_type": "code",
   "execution_count": null,
   "metadata": {},
   "outputs": [],
   "source": [
    "def WORKFORCEnectar(t):\n",
    "    # (43)\n",
    "    result = 0\n",
    "    if (RATIOworkforce(t) == 1):\n",
    "        result = (BEESadult(t) * (1 - FACTORothertasks)) - NURSES(t) - FORAGERSpollen(t)\n",
    "    return(result)"
   ]
  },
  {
   "cell_type": "code",
   "execution_count": null,
   "metadata": {},
   "outputs": [],
   "source": [
    "def FORAGERSnectar(t):\n",
    "    # (44)\n",
    "    min1 = (BEESadult(t) * FACTORforagingmax) - FORAGERSpollen(t)\n",
    "    min2 = WORKFORCEnectar(t) - PROCESSORS(t)\n",
    "    result = min(min1,min2)\n",
    "    return(result)"
   ]
  },
  {
   "cell_type": "code",
   "execution_count": null,
   "metadata": {},
   "outputs": [],
   "source": [
    "def FORAGERSnectaractive(t): \n",
    "    # (45)\n",
    "    result = FORAGERSnectar(t) * INDEXflight(t) * INDEXnectaroutside(t)\n",
    "    return(result)"
   ]
  },
  {
   "cell_type": "markdown",
   "metadata": {},
   "source": [
    "## 2.8 Modeling the resource influx into the colony"
   ]
  },
  {
   "cell_type": "code",
   "execution_count": null,
   "metadata": {},
   "outputs": [],
   "source": [
    "def INCOMEpollen(t):\n",
    "    # (46)\n",
    "    result = FORAGERpollenactive(t) * LOADpollenforager * TURNSpollenforager * FACTORforagingstoch(t) * FACTORforagingsuccess\n",
    "    return(result)"
   ]
  },
  {
   "cell_type": "code",
   "execution_count": null,
   "metadata": {},
   "outputs": [],
   "source": [
    "def FACTORforagingstoch(t):\n",
    "    # (47)\n",
    "    if (stochastic_factor > 0.24 and stochastic_factor < 0.26):\n",
    "        result = random.randint(75,125) /100\n",
    "    else:\n",
    "        result = 1\n",
    "    return(result)"
   ]
  },
  {
   "cell_type": "code",
   "execution_count": null,
   "metadata": {},
   "outputs": [],
   "source": [
    "def INDEXpollensituation(t):\n",
    "    # (48)\n",
    "    min1 = STORESpollen(t) / (NEEDpollen(t) * FACTORpollenstorage + 1)\n",
    "    result = min(1,min1)\n",
    "    return(result)"
   ]
  },
  {
   "cell_type": "code",
   "execution_count": null,
   "metadata": {},
   "outputs": [],
   "source": [
    "def INCOMEnectar(t):\n",
    "    # (49)\n",
    "    min1 = FORAGERSnectaractive(t) * LOADnectarforager * TURNSnectarforager * FACTORforagingstoch(t) * FACTORforagingsuccess\n",
    "    min2 = CELLSempty(t - 1)\n",
    "    result = min(min1,min2)\n",
    "    return(result)"
   ]
  }
 ],
 "metadata": {
  "kernelspec": {
   "display_name": "Python 3",
   "language": "python",
   "name": "python3"
  },
  "language_info": {
   "codemirror_mode": {
    "name": "ipython",
    "version": 3
   },
   "file_extension": ".py",
   "mimetype": "text/x-python",
   "name": "python",
   "nbconvert_exporter": "python",
   "pygments_lexer": "ipython3",
   "version": "3.8.5"
  }
 },
 "nbformat": 4,
 "nbformat_minor": 4
}
