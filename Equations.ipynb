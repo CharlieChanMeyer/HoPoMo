{
 "cells": [
  {
   "cell_type": "markdown",
   "metadata": {},
   "source": [
    "<img src=\"CYTech.png\" style=\"display: block; margin-left: auto; margin-right: auto; width: 30%;\">"
   ]
  },
  {
   "cell_type": "markdown",
   "metadata": {},
   "source": [
    "<h1 style=\"text-align:center; font-size:400%;\"> Beenamics </h1>\n",
    "<h1 style=\"text-align:center; font-size:200%; color:#666666\"> Implementation of HoPoMo model </h1>\n",
    "<br>\n",
    "<h4 style=\"text-align:center;\"> Jesse DINGLEY, Félix FROMENT, Charlie MEYER, Luca ORDONNEAU, Pierre VIRGAUX</p>"
   ]
  },
  {
   "cell_type": "markdown",
   "metadata": {},
   "source": [
    "For this project we worked on the HoPoMo model. Bees are essential to pollination and their presence guarantees us better yields for our farmers. We worked on the article that first appeared in Elsevier's newspaper and then in \"ECOLOGICAL MODELLING\" in 2007. We have implemented the equations in Python in order to reproduce the exposed model."
   ]
  },
  {
   "cell_type": "markdown",
   "metadata": {},
   "source": [
    "\n",
    "***\n",
    "\n",
    "  ## <b>1.</b> <a href=\"#1\">Setting up</a>\n",
    "  \n",
    "\n",
    " \n",
    " ## <b>2.</b> <a href=\"#2\"> Model Implementation</a>\n",
    " \n",
    " ### &nbsp;&nbsp;&nbsp;&nbsp;&nbsp;&nbsp; <b>2.1.</b>  <a href=\"#2-1\">Modeling the queen’s egg laying behavior</a>\n",
    "\n",
    " ### &nbsp;&nbsp;&nbsp;&nbsp;&nbsp;&nbsp; <b>2.2.</b>  <a href=\"#2-2\">Modeling the immature stages</a>\n",
    "\n",
    " ### &nbsp;&nbsp;&nbsp;&nbsp;&nbsp;&nbsp; <b>2.3.</b>  <a href=\"#2-3\">Modeling the population of adult bees</a>\n",
    "\n",
    " ### &nbsp;&nbsp;&nbsp;&nbsp;&nbsp;&nbsp; <b>2.4.</b>  <a href=\"#2-4\">Modeling the influence of the environment</a>\n",
    "  \n",
    " ### &nbsp;&nbsp;&nbsp;&nbsp;&nbsp;&nbsp; <b>2.5.</b>  <a href=\"#2-5\">Modeling task decisions</a>\n",
    "\n",
    " ### &nbsp;&nbsp;&nbsp;&nbsp;&nbsp;&nbsp; <b>2.6.</b>  <a href=\"#2-6\">Modeling the regulation of nursing</a>\n",
    "\n",
    " ### &nbsp;&nbsp;&nbsp;&nbsp;&nbsp;&nbsp; <b>2.7.</b>  <a href=\"#2-7\">Modeling the regulation of foraging</a>\n",
    "\n",
    " ### &nbsp;&nbsp;&nbsp;&nbsp;&nbsp;&nbsp; <b>2.8.</b>  <a href=\"#2-8\">Modeling the resource influx into the colony</a>\n",
    "\n",
    " ### &nbsp;&nbsp;&nbsp;&nbsp;&nbsp;&nbsp; <b>2.9.</b>  <a href=\"#2-9\">Regulation of food processing</a>\n",
    "\n",
    " ### &nbsp;&nbsp;&nbsp;&nbsp;&nbsp;&nbsp; <b>2.10.</b>  <a href=\"#2-10\">Management of nutrient stores</a>\n",
    "\n",
    "\n",
    " ## <b>3.</b> <a href=\"#3\">Running the model</a>\n",
    " \n",
    " ### &nbsp;&nbsp;&nbsp;&nbsp;&nbsp;&nbsp; <a href=\"#3-1\">Execution</a>\n",
    "\n",
    " ### &nbsp;&nbsp;&nbsp;&nbsp;&nbsp;&nbsp; <a href=\"#3-2\">Interpretation</a>\n",
    "\n",
    "\n",
    " ## <b>4.</b> <a href=\"#4\">Swarming extension</a>\n",
    " \n",
    " ### &nbsp;&nbsp;&nbsp;&nbsp;&nbsp;&nbsp; <a href=\"#4-1\">Modeling the \"mother colony\" </a>\n",
    " ### &nbsp;&nbsp;&nbsp;&nbsp;&nbsp;&nbsp; <a href=\"#4-2\">Modeling the \"daughter colony\" </a>\n"
   ]
  },
  {
   "cell_type": "markdown",
   "metadata": {},
   "source": [
    "# 1. Setting up\n",
    "<div id='1'></div>"
   ]
  },
  {
   "cell_type": "markdown",
   "metadata": {},
   "source": [
    "## Necessary imports"
   ]
  },
  {
   "cell_type": "code",
   "execution_count": 125,
   "metadata": {},
   "outputs": [],
   "source": [
    "import math\n",
    "import random\n",
    "import pandas as pd\n",
    "import numpy as np\n",
    "\n",
    "import requests\n",
    "from pprint import pprint\n",
    "import datetime\n",
    "from datetime import datetime\n",
    "from time import *\n",
    "\n",
    "import plotly.graph_objs as go\n",
    "from plotly.offline import init_notebook_mode, iplot\n",
    "from IPython.display import display, Markdown, Latex\n",
    "from plotly.subplots import make_subplots\n",
    "from plotly import tools\n",
    "\n",
    "import matplotlib.pyplot as plt\n",
    "plt.style.use('fivethirtyeight')"
   ]
  },
  {
   "cell_type": "markdown",
   "metadata": {},
   "source": [
    "## Constants"
   ]
  },
  {
   "cell_type": "markdown",
   "metadata": {},
   "source": [
    "The operation of a hive is particularly complex and requires many pre-calculated values. The operation of a hive is particularly complex and requires many pre-calculated values. Many of these were given explicitly in the article, others were read from the graphs given and some were not. For some of them we determined them experimentally by observing the results graphs. We have synthesized all these variables in an appex file so that the user can easily modify it."
   ]
  },
  {
   "cell_type": "code",
   "execution_count": 2,
   "metadata": {},
   "outputs": [],
   "source": [
    "from variables import *"
   ]
  },
  {
   "cell_type": "markdown",
   "metadata": {},
   "source": [
    "## Array Initializations"
   ]
  },
  {
   "cell_type": "markdown",
   "metadata": {},
   "source": [
    "As you can see we use a lot of lists to try to control infinite recursion problems. In the article the equations are given but the handling of the initial conditions remains free to be interpreted with the chosen programming language. This method is a bit brutal but it allows us to stop the recursion problem and gives us the necessary lists to build the data frames."
   ]
  },
  {
   "cell_type": "code",
   "execution_count": 3,
   "metadata": {},
   "outputs": [],
   "source": [
    "global CELLSemptyArray, SUPcombArray, ELRArray, CELLSeggsArray, CELLSlarvaeArray, CELLSpupaeArray, CELLSbroodArray, MORTALITYadultArray, BEESadultArray, INDEXflightArray, INDEXnectaroutsideArray, INDEXpollenoutsideArray, NEEDworkersArray, RATIOworkforceArray, NEEDnursesArray, NursesArray, INDEXnursingqualityArray, FORAGERSArray, FORAGERSactiveArray, NEEDpollenArray, NEEDpollen_larvaeArray, NEEDpollen_adultArray, NEEDpollenincomeArray, NEEDpollenforagerArray, FORAGERSpollenArray, FORAGERSpollenactiveArray, NEEDnectarArray, NEEDnectar_larvaeArray, NEEDnectar_adultArray, WORKFORCEnectarArray, FORAGERSnectarArray, FORAGERSnectaractiveArray, INCOMEpollenArray, INCOMEnectarArray, INDEXpollensituationArray, NEEDprocessorsArray, PROCESSORSArray, PROCESSEDnectarArray, USAGEpollenArray, STORESpollenArray, USAGEnectarArray, USAGEhoneyArray, STORESnectarArray, STOREShoneyArray, WEIGHTcolonyArray, BEESlazyArray, TEMPArray\n",
    "CELLSemptyArray = []\n",
    "SUPcombArray = []\n",
    "ELRArray = []\n",
    "CELLSeggsArray = []\n",
    "CELLSlarvaeArray = []\n",
    "CELLSpupaeArray = []\n",
    "CELLSbroodArray = []\n",
    "MORTALITYadultArray = []\n",
    "BEESadultArray = []\n",
    "INDEXflightArray = []\n",
    "INDEXnectaroutsideArray = []\n",
    "INDEXpollenoutsideArray = []\n",
    "NEEDworkersArray = []\n",
    "NEEDnursesArray = []\n",
    "RATIOworkforceArray = []\n",
    "NursesArray = []\n",
    "INDEXnursingqualityArray = []\n",
    "FORAGERSArray = []\n",
    "FORAGERSactiveArray = []\n",
    "NEEDpollenArray = []\n",
    "NEEDpollen_larvaeArray = []\n",
    "NEEDpollen_adultArray = []\n",
    "NEEDpollenincomeArray = []\n",
    "NEEDpollenforagerArray = []\n",
    "FORAGERSpollenArray = []\n",
    "FORAGERSpollenactiveArray = []\n",
    "NEEDnectarArray = []\n",
    "NEEDnectar_larvaeArray = []\n",
    "NEEDnectar_adultArray = []\n",
    "WORKFORCEnectarArray = []\n",
    "FORAGERSnectarArray = []\n",
    "FORAGERSnectaractiveArray = []\n",
    "INCOMEpollenArray = []\n",
    "INCOMEnectarArray = []\n",
    "INDEXpollensituationArray = []\n",
    "NEEDprocessorsArray = []\n",
    "PROCESSORSArray = []\n",
    "PROCESSEDnectarArray = []\n",
    "USAGEpollenArray = []\n",
    "STORESpollenArray = []\n",
    "USAGEnectarArray = []\n",
    "USAGEhoneyArray = []\n",
    "STORESnectarArray = []\n",
    "STOREShoneyArray = []\n",
    "WEIGHTcolonyArray = []\n",
    "BEESlazyArray = []\n",
    "TEMPArray1 = np.linspace(15, 35, 183)\n",
    "TEMPArray2 = np.linspace(35, 15, 183)\n",
    "TEMPArray = np.concatenate([TEMPArray1,TEMPArray2])\n",
    "\n",
    "#Swarm extension : Part 1\n",
    "\n",
    "global ELRArray_swarm, BEESswarmArray, BEESadultArray_swarm, LOSShoney_swarmArray, USAGEhoneyArray_swarm, TURNSnectarforagerArray, WEIGHTcolonyArray_swarm\n",
    "\n",
    "ELRArray_swarm = []\n",
    "BEESswarmArray = []\n",
    "BEESadultArray_swarm = []\n",
    "LOSShoney_swarmArray = []\n",
    "USAGEhoneyArray_swarm = []\n",
    "TURNSnectarforagerArray = []\n",
    "WEIGHTcolonyArray_swarm = []\n",
    "\n",
    "#Sawrm extension : Part 2\n",
    "global FACTORqueenArray, NEEDnectarbuildingArray, NEEDnectar_adultArray_swarm, CELLShiveArray, CELLSemptyArray_swarm, WEIGHTcolonyArray_swarm2, TURNSnectarforagerArray_swarm2, BEESadultArray_swarm2, ELRArray_swarm2\n",
    "\n",
    "FACTORqueenArray = []\n",
    "NEEDnectarbuildingArray = []\n",
    "NEEDnectar_adultArray_swarm = []\n",
    "CELLShiveArray = []\n",
    "CELLSemptyArray_swarm = []\n",
    "SUPcombArray_swarm = []\n",
    "WEIGHTcolonyArray_swarm2 = []\n",
    "TURNSnectarforagerArray_swarm2 = []\n",
    "BEESadultArray_swarm2 = []\n",
    "ELRArray_swarm2 = []"
   ]
  },
  {
   "cell_type": "markdown",
   "metadata": {},
   "source": [
    "# 2. Model implementation\n",
    "<div id='2'></div>"
   ]
  },
  {
   "cell_type": "markdown",
   "metadata": {},
   "source": [
    "## 2.1.   Modeling the queen’s egg laying behavior\n",
    "<div id='2-1'></div>\n",
    "<div id='2'></div>"
   ]
  },
  {
   "cell_type": "markdown",
   "metadata": {},
   "source": [
    "This seasonal factor influences the queen's daily egg-laying rate, it also affects the nectar and\n",
    "the availability of pollen in the environment."
   ]
  },
  {
   "cell_type": "code",
   "execution_count": 4,
   "metadata": {},
   "outputs": [],
   "source": [
    "def season(t):\n",
    "    # (1)\n",
    "    return max(1-(1/(1+x1*math.exp(-2*t/x2))),1/(1+x3*math.exp(-2*(t-x4)/x5)))"
   ]
  },
  {
   "cell_type": "markdown",
   "metadata": {},
   "source": [
    "Number of empty cells at a day $t$."
   ]
  },
  {
   "cell_type": "code",
   "execution_count": 5,
   "metadata": {},
   "outputs": [],
   "source": [
    "def CELLSempty(t):\n",
    "    # (2)\n",
    "    global CELLSemptyArray\n",
    "    if t>len(CELLSemptyArray):\n",
    "        CELLSempty(t-1)\n",
    "    if t==len(CELLSemptyArray):\n",
    "        res = CELLShive0 - CELLSbrood(t) - STORESpollen(t) - STORESnectar(t) - STOREShoney(t)\n",
    "        CELLSemptyArray = np.append(CELLSemptyArray, res)\n",
    "    return CELLSemptyArray[t]"
   ]
  },
  {
   "cell_type": "markdown",
   "metadata": {},
   "source": [
    "Describes the suppression in egg laying when the available empty space in the hive is below a threshold value : `SUPthreshold`"
   ]
  },
  {
   "cell_type": "code",
   "execution_count": 6,
   "metadata": {},
   "outputs": [],
   "source": [
    "def SUPcomb(t):\n",
    "    # (3)\n",
    "    global SUPcombArray\n",
    "    if t>len(SUPcombArray):\n",
    "        SUPcomb(t-1)\n",
    "    if t == len(SUPcombArray):\n",
    "        if CELLSempty(t)/(CELLShive0 + 1) < SUPthreshold:\n",
    "            res = CELLSempty(t)/((CELLShive0 + 1) * SUPthreshold)\n",
    "        else:\n",
    "            res = 1\n",
    "        SUPcombArray = np.append(SUPcombArray, res)\n",
    "    return SUPcombArray[t]"
   ]
  },
  {
   "cell_type": "markdown",
   "metadata": {},
   "source": [
    "Factor around 0, so as not to be deterministic."
   ]
  },
  {
   "cell_type": "code",
   "execution_count": 7,
   "metadata": {},
   "outputs": [],
   "source": [
    "def ELRstoch(t):\n",
    "    # (4)\n",
    "    return random.uniform(-ERLstochrange,ERLstochrange)"
   ]
  },
  {
   "cell_type": "markdown",
   "metadata": {},
   "source": [
    "Modeling of the whole queen's daily laying rate at day $t$."
   ]
  },
  {
   "cell_type": "code",
   "execution_count": 8,
   "metadata": {},
   "outputs": [],
   "source": [
    "def ELR(t):\n",
    "    # (5)\n",
    "    global ELRArray\n",
    "    if t > len(ELRArray):\n",
    "        ELR(t-1)\n",
    "    if t == len(ELRArray):\n",
    "        res = ELRbase0 * (1 + ELRstoch(t)) * (1 - season(t)) * SUPcomb(t)\n",
    "        ELRArray = np.append(ELRArray, res)\n",
    "    return ELRArray[t]"
   ]
  },
  {
   "cell_type": "markdown",
   "metadata": {},
   "source": [
    "## 2.2. Modeling the immature stages\n",
    "<div id='2-2'></div>"
   ]
  },
  {
   "cell_type": "markdown",
   "metadata": {},
   "source": [
    "### 2.2.1 Eggs"
   ]
  },
  {
   "cell_type": "code",
   "execution_count": 9,
   "metadata": {},
   "outputs": [],
   "source": [
    "def EGGS(i,t):\n",
    "    # (6)\n",
    "    if t==0:\n",
    "        res = 0\n",
    "    elif i == 1:\n",
    "        res = ELR(t-1) * (1 - MORTALITYeggs)\n",
    "    elif i in [2,3]:\n",
    "        res = EGGS(i-1,t-1) * (1 - MORTALITYeggs)\n",
    "    return res"
   ]
  },
  {
   "cell_type": "markdown",
   "metadata": {},
   "source": [
    "Calculation of the daily total number of eggs."
   ]
  },
  {
   "cell_type": "code",
   "execution_count": 10,
   "metadata": {},
   "outputs": [],
   "source": [
    "def CELLSeggs(t):\n",
    "    # (7)\n",
    "    global CELLSeggsArray\n",
    "    if t > len(CELLSeggsArray):\n",
    "        CELLSeggs(t-1)\n",
    "    if t == len(CELLSeggsArray):\n",
    "        sum = 0\n",
    "        for i in range(1,LIFESPANegg):\n",
    "            sum += EGGS(i,t)\n",
    "        CELLSeggsArray = np.append(CELLSeggsArray, sum)\n",
    "    return CELLSeggsArray[t]"
   ]
  },
  {
   "cell_type": "markdown",
   "metadata": {},
   "source": [
    "### 2.2.2. Larvae (unsealed)"
   ]
  },
  {
   "cell_type": "markdown",
   "metadata": {},
   "source": [
    "\n",
    "We model the aging process of larvae with the notion of cannibalism depending on the age of the larvae."
   ]
  },
  {
   "cell_type": "code",
   "execution_count": 11,
   "metadata": {},
   "outputs": [],
   "source": [
    "def SURVIVALlarvae(i,t):\n",
    "    # (9)\n",
    "    return (1 - CANNIBALISMlarvae(i,t)) * (1 - MORTALITYlarvae)"
   ]
  },
  {
   "cell_type": "code",
   "execution_count": 12,
   "metadata": {},
   "outputs": [],
   "source": [
    "def CANNIBALISMlarvae(i,t):\n",
    "    # (10)\n",
    "    if t == 0:\n",
    "        res = 0\n",
    "    else:\n",
    "        res = CANNIBALISMhungerbase[i-1] * (1 - (INDEXpollensituation(t-1) * INDEXnursingquality(t-1)))\n",
    "    return res"
   ]
  },
  {
   "cell_type": "markdown",
   "metadata": {},
   "source": [
    "Calculation of the daily demographics of the age of the larvae. "
   ]
  },
  {
   "cell_type": "code",
   "execution_count": 13,
   "metadata": {},
   "outputs": [],
   "source": [
    "def LARVAE(i,t):\n",
    "    # (11)\n",
    "    if t==0:\n",
    "        res = 0\n",
    "    elif i == 1:\n",
    "        res = EGGS(LIFESPANegg,t-1)*SURVIVALlarvae(1,t)\n",
    "    elif 1 < i and i <= LIFESPANlarva:\n",
    "        res = LARVAE(i-1,t-1) * SURVIVALlarvae(i,t)\n",
    "    return res"
   ]
  },
  {
   "cell_type": "markdown",
   "metadata": {},
   "source": [
    "Calculation of daily number of cells containing any age of larvae."
   ]
  },
  {
   "cell_type": "code",
   "execution_count": 14,
   "metadata": {},
   "outputs": [],
   "source": [
    "def CELLSlarvae(t):\n",
    "    # (12)\n",
    "    global CELLSlarvaeArray\n",
    "    if t > len(CELLSlarvaeArray):\n",
    "        CELLSlarvae(t-1)\n",
    "    if t == len(CELLSlarvaeArray):\n",
    "        sum = 0\n",
    "        for i in range(1, LIFESPANlarva):\n",
    "            sum += LARVAE(i,t)\n",
    "        CELLSlarvaeArray = np.append(CELLSlarvaeArray, sum)\n",
    "    return CELLSlarvaeArray[t] "
   ]
  },
  {
   "cell_type": "code",
   "execution_count": 15,
   "metadata": {},
   "outputs": [],
   "source": [
    "# def CELLSlarvae13(t):\n",
    "#     # (13)\n",
    "#     # alternative to (12)\n",
    "    \n",
    "#     def product(i):\n",
    "#         prdct = 1\n",
    "#         for k in range(i+1):\n",
    "#             if k != 0:\n",
    "#                 prdct *= SURVIVALlarvae(k,t-i+k)\n",
    "#         return prdct\n",
    "    \n",
    "#     sum = 0\n",
    "#     for i in range(LIFESPANlarva+1):\n",
    "#         if i != 0:\n",
    "#             sum += (ELR(t-i-LIFESPANegg)*math.pow(1-MORTALITYeggs,i)*product(i))  \n",
    "    \n",
    "#     return sum"
   ]
  },
  {
   "cell_type": "markdown",
   "metadata": {},
   "source": [
    "Calculation of age demographics of all sealed broods."
   ]
  },
  {
   "cell_type": "code",
   "execution_count": 16,
   "metadata": {},
   "outputs": [],
   "source": [
    "def PUPAE(i,t):\n",
    "    # (14)\n",
    "    if t==0:\n",
    "        res =0\n",
    "    elif i == 1:\n",
    "        res = LARVAE(LIFESPANlarva,t-1) * (1 - MORTALITYpupae)\n",
    "    elif 1 < i and i <= LIFESPANpupa:\n",
    "        res = PUPAE(i-1,t-1) * (1 - MORTALITYpupae)\n",
    "    return res"
   ]
  },
  {
   "cell_type": "markdown",
   "metadata": {},
   "source": [
    "Calculation of the daily age demographics of the sealed brood."
   ]
  },
  {
   "cell_type": "code",
   "execution_count": 17,
   "metadata": {},
   "outputs": [],
   "source": [
    "def CELLSpupae(t):\n",
    "    # (15)\n",
    "    global CELLSpupaeArray\n",
    "    if t > len(CELLSpupaeArray):\n",
    "        CELLSpupae(t-1)\n",
    "    if t == len(CELLSpupaeArray):\n",
    "        sum = 0\n",
    "        for i in range(1,LIFESPANpupa):\n",
    "            sum += PUPAE(i,t)\n",
    "        CELLSpupaeArray = np.append(CELLSpupaeArray, sum)\n",
    "    return CELLSpupaeArray[t] "
   ]
  },
  {
   "cell_type": "code",
   "execution_count": 18,
   "metadata": {},
   "outputs": [],
   "source": [
    "# def CELLSpupae16(t):\n",
    "#     # (16)\n",
    "#     # alternative to (15)\n",
    "    \n",
    "#     def product(i):\n",
    "#         prdct = 1\n",
    "#         for k in range(LIFESPANlarva+1):\n",
    "#             if k != 0:\n",
    "#                 prdct *= SURVIVALlarvae(k,t-i-LIFESPANlarva+k)\n",
    "#         return prdct\n",
    "    \n",
    "#     sum = 0\n",
    "#     for i in range(LIFESPANpupa+1):\n",
    "#         if i != 0:\n",
    "#             sum += (ELR(t-i-LIFESPANegg-LIFESPANlarva)*math.pow(1-MORTALITYeggs,LIFESPANegg)*product(i)*math.pow(1-MORTALITYpupae,i))  \n",
    "    \n",
    "#     return sum"
   ]
  },
  {
   "cell_type": "markdown",
   "metadata": {},
   "source": [
    "Calculation of the total number of cells filled with brood can now be calculated."
   ]
  },
  {
   "cell_type": "code",
   "execution_count": 19,
   "metadata": {},
   "outputs": [],
   "source": [
    "def CELLSbrood(t):\n",
    "    # (17)\n",
    "    global CELLSbroodArray\n",
    "    if t > len(CELLSbroodArray):\n",
    "        CELLSbrood(t-1)\n",
    "    if t == len(CELLSbroodArray):\n",
    "        if t==0:\n",
    "            res = INITCELLSbrood\n",
    "        else:\n",
    "            res = CELLSeggs(t) + CELLSlarvae(t) + CELLSpupae(t)\n",
    "        CELLSbroodArray = np.append(CELLSbroodArray, res)\n",
    "    return CELLSbroodArray[t]"
   ]
  },
  {
   "cell_type": "markdown",
   "metadata": {},
   "source": [
    "## 2.3 Modeling the population of adult bees\n",
    "<div id='2-3'></div>"
   ]
  },
  {
   "cell_type": "markdown",
   "metadata": {},
   "source": [
    "Modeling of the global daily mortality rate of adult bees."
   ]
  },
  {
   "cell_type": "code",
   "execution_count": 20,
   "metadata": {},
   "outputs": [],
   "source": [
    "def MORTALITYadult(t) :\n",
    "    # (18)\n",
    "    global MORTALITYadultArray\n",
    "    if t > len(MORTALITYadultArray):\n",
    "        MORTALITYadult(t-1)\n",
    "    if t == len(MORTALITYadultArray):\n",
    "        if t == 0:\n",
    "            res = MORTALITYadultbase\n",
    "        else:\n",
    "            res = MORTALITYadultbase\n",
    "            res += (MORTALITYnursing * NURSES(t - 1) / (BEESadult(t - 1) + 1))\n",
    "            res += (MORTALITYprocessing * PROCESSORS(t - 1) / (BEESadult(t - 1) + 1))\n",
    "            res += (MORTALITYforaging * FORAGERSactive(t - 1) / (BEESadult(t - 1) + 1))\n",
    "        MORTALITYadultArray = np.append(MORTALITYadultArray, res)\n",
    "    return MORTALITYadultArray[t]"
   ]
  },
  {
   "cell_type": "markdown",
   "metadata": {},
   "source": [
    "We model using the global mortality rate and the daily number of newly emerging bees, the daily number of adult bees in the colony."
   ]
  },
  {
   "cell_type": "code",
   "execution_count": 21,
   "metadata": {},
   "outputs": [],
   "source": [
    "def BEESadult(t) : \n",
    "    # (19)\n",
    "    global BEESadultArray\n",
    "    if t>len(BEESadultArray):\n",
    "        BEESadult(t-1)\n",
    "    if t==len(BEESadultArray):\n",
    "        if t==0:\n",
    "            res = INITBEESadult\n",
    "        else:\n",
    "            res = (BEESadult(t-1) + PUPAE(LIFESPANpupa, t-1))*(1 - MORTALITYadult(t))\n",
    "        BEESadultArray = np.append(BEESadultArray, res)\n",
    "    return BEESadultArray[t]"
   ]
  },
  {
   "cell_type": "markdown",
   "metadata": {},
   "source": [
    "## 2.4 Modeling the influence of the environment\n",
    "<div id='2-4'></div>"
   ]
  },
  {
   "cell_type": "markdown",
   "metadata": {},
   "source": [
    "`INDEXrain` has a value between 0 and 1. The closer it is to one, the less rain has affected the foraging on that day. `RAIN` correpesponds the amount of rain on a given day."
   ]
  },
  {
   "cell_type": "code",
   "execution_count": 22,
   "metadata": {},
   "outputs": [],
   "source": [
    "def INDEXrain(t) :\n",
    "    # (20)\n",
    "\treturn (1 - RAIN(t))"
   ]
  },
  {
   "cell_type": "code",
   "execution_count": 23,
   "metadata": {},
   "outputs": [],
   "source": [
    "def RAIN(t) :\n",
    "    # (21)\n",
    "    #res = HOURSraining_during_daylight(t) / HOURSdaylight(t)\n",
    "    res = 0\n",
    "    return res"
   ]
  },
  {
   "cell_type": "markdown",
   "metadata": {},
   "source": [
    "Just like `INDEXrain`, `INDEXtemperature` also has a value between 0 and 1. The closer it is to one, the greater the flight activity for the temperature. `TEMP` correponds to the mean daily temperature. "
   ]
  },
  {
   "cell_type": "code",
   "execution_count": 24,
   "metadata": {},
   "outputs": [],
   "source": [
    "def TEMP(t):\n",
    "    global TEMPArray\n",
    "    return TEMPArray[t]\n",
    "\n",
    "def INDEXtemperature(t) :\n",
    "    # (22)\n",
    "\tif ((TEMP(t) <= 14) or (TEMP(t) > 40)) :\n",
    "\t\tres = 0\n",
    "\telif (TEMP(t) <= 22) :\n",
    "\t\tres = (TEMP(t) - 14) / 8\n",
    "\telif (TEMP(t) <= 32) : \n",
    "\t\tres = 1\n",
    "\telse : \n",
    "\t\tres = (40 - TEMP(t)) / 8 \n",
    "\n",
    "\treturn res"
   ]
  },
  {
   "cell_type": "markdown",
   "metadata": {},
   "source": [
    "By multiplying the two previous environmental factors we can determine how good the overall flight conditions are. The corresponding function is `INDEXflight`. It returns once again a value between 0 and 1. The closer it is to one, the better the conditions."
   ]
  },
  {
   "cell_type": "code",
   "execution_count": 25,
   "metadata": {},
   "outputs": [],
   "source": [
    "def INDEXflight(t): \n",
    "    # (23)\n",
    "    global INDEXflightArray\n",
    "    if t > len(INDEXflightArray):\n",
    "        INDEXflight(t-1)\n",
    "    if t == len(INDEXflightArray):\n",
    "        res = (INDEXrain(t) * INDEXtemperature(t))# * (1 - vent*3.6/45)\n",
    "        INDEXflightArray = np.append(INDEXflightArray, res)\n",
    "    return INDEXflightArray[t]"
   ]
  },
  {
   "cell_type": "markdown",
   "metadata": {},
   "source": [
    "We can also consider other factors such as the amount of nectar and pollen available:"
   ]
  },
  {
   "cell_type": "code",
   "execution_count": 26,
   "metadata": {},
   "outputs": [],
   "source": [
    "def INDEXnectaroutside(t) :\n",
    "    # (24)\n",
    "    global INDEXnectaroutsideArray\n",
    "    if t > len(INDEXnectaroutsideArray):\n",
    "        INDEXnectaroutside(t-1)\n",
    "    if t == len(INDEXnectaroutsideArray):\n",
    "        #if (humidity < 60):\n",
    "            #res = 0\n",
    "        #else:\n",
    "            #res = min((1 - season(t)) * 1.5, 1)\n",
    "        res = min((1 - season(t)) * 1.5, 1)\n",
    "        INDEXnectaroutsideArray = np.append(INDEXnectaroutsideArray, res)\n",
    "    return INDEXnectaroutsideArray[t]"
   ]
  },
  {
   "cell_type": "code",
   "execution_count": 27,
   "metadata": {},
   "outputs": [],
   "source": [
    "def INDEXpollenoutside(t) :\n",
    "    # (25)\n",
    "    global INDEXpollenoutsideArray\n",
    "    if t > len(INDEXpollenoutsideArray):\n",
    "        INDEXpollenoutside(t-1)\n",
    "    if t == len(INDEXpollenoutsideArray):\n",
    "        res = min((1 - season(t)) * 1.5, 1)\n",
    "        INDEXpollenoutsideArray = np.append(INDEXpollenoutsideArray, res)\n",
    "    return INDEXpollenoutsideArray[t]"
   ]
  },
  {
   "cell_type": "markdown",
   "metadata": {},
   "source": [
    "## 2.5 Modeling task decisions\n",
    "<div id='2-5'></div>"
   ]
  },
  {
   "cell_type": "markdown",
   "metadata": {},
   "source": [
    "Here we model the workforce of the colony. `NEEDworkers` models the daily worker need in the two high priority tasks (nursing and pollen foraging). `RATIOworkforce` models the daily ratio of workforce to workload."
   ]
  },
  {
   "cell_type": "code",
   "execution_count": 28,
   "metadata": {},
   "outputs": [],
   "source": [
    "def NEEDworkers(t):\n",
    "    # (26)\n",
    "    global NEEDworkersArray\n",
    "    if t > len(NEEDworkersArray):\n",
    "        NEEDworkers(t-1)\n",
    "    if t == len(NEEDworkersArray):\n",
    "        res = NEEDnurses(t) + NEEDpollenforagers(t)\n",
    "        NEEDworkersArray = np.append(NEEDworkersArray, res)\n",
    "    return NEEDworkersArray[t]"
   ]
  },
  {
   "cell_type": "code",
   "execution_count": 29,
   "metadata": {},
   "outputs": [],
   "source": [
    "def RATIOworkforce(t):\n",
    "    # (27)\n",
    "    global RATIOworkforceArray\n",
    "    if t > len(RATIOworkforceArray):\n",
    "        RATIOworkforce(t-1)\n",
    "    if t == len(RATIOworkforceArray):\n",
    "        res = min(BEESadult(t) * (1 - FACTORothertasks) / (NEEDworkers(t) + 1), 1)\n",
    "        RATIOworkforceArray = np.append(RATIOworkforceArray, res)\n",
    "    return RATIOworkforceArray[t]"
   ]
  },
  {
   "cell_type": "markdown",
   "metadata": {},
   "source": [
    "## 2.6 Modeling the regulation of nursing\n",
    "<div id='2-6'></div>"
   ]
  },
  {
   "cell_type": "markdown",
   "metadata": {},
   "source": [
    "Theses functions models the need of nurses, the actual number of nurses for the day as well as the nursing quality."
   ]
  },
  {
   "cell_type": "code",
   "execution_count": 30,
   "metadata": {},
   "outputs": [],
   "source": [
    "def NEEDnurses(t):\n",
    "    # (28)\n",
    "    global NEEDnursesArray\n",
    "    if t > len(NEEDnursesArray):\n",
    "        NEEDnurses(t-1)\n",
    "    if t == len(NEEDnursesArray):\n",
    "        res = 0\n",
    "        for i in range(1, LIFESPANlarva):\n",
    "            res += LARVAE(i, t) * NEEDnurses_per_larva[i-1]\n",
    "        res += CELLSeggs(t) * NEEDnurses_per_egg + CELLSpupae(t) * NEEDnurses_per_pupa\n",
    "        NEEDnursesArray = np.append(NEEDnursesArray,res)\n",
    "    return NEEDnursesArray[t]"
   ]
  },
  {
   "cell_type": "code",
   "execution_count": 31,
   "metadata": {},
   "outputs": [],
   "source": [
    "def NURSES(t):\n",
    "    # (29)\n",
    "    global NursesArray\n",
    "    if t > len(NursesArray):\n",
    "        NURSES(t-1)\n",
    "    if t==len(NursesArray):\n",
    "        res = NEEDnurses(t) * RATIOworkforce(t)\n",
    "        NursesArray = np.append(NursesArray,res)\n",
    "    return NursesArray[t]"
   ]
  },
  {
   "cell_type": "code",
   "execution_count": 32,
   "metadata": {},
   "outputs": [],
   "source": [
    "def INDEXnursingquality(t):\n",
    "    # (30)\n",
    "    global INDEXnursingqualityArray\n",
    "    if t>len(INDEXnursingqualityArray):\n",
    "        INDEXnursingquality(t-1)\n",
    "    if t==len(INDEXnursingqualityArray):\n",
    "        res = NURSES(t)/(NEEDnurses(t) + 1)\n",
    "        INDEXnursingqualityArray = np.append(INDEXnursingqualityArray,res)\n",
    "    return INDEXnursingqualityArray[t]"
   ]
  },
  {
   "cell_type": "markdown",
   "metadata": {},
   "source": [
    "## 2.7 Modeling the regulation of foraging\n",
    "<div id='2-7'></div>"
   ]
  },
  {
   "cell_type": "markdown",
   "metadata": {},
   "source": [
    "We use these two functions in order to know the number of potentials forager bees and the actual numbers of foragers."
   ]
  },
  {
   "cell_type": "code",
   "execution_count": 33,
   "metadata": {},
   "outputs": [],
   "source": [
    "def FORAGERS(t):\n",
    "    # (31) represents the available workforce for the foraging task.\n",
    "    global FORAGERSArray\n",
    "    if t>len(FORAGERSArray):\n",
    "        FORAGERS(t-1)\n",
    "    if t==len(FORAGERSArray):\n",
    "        res = FORAGERSpollen(t)+FORAGERSnectar(t)\n",
    "        FORAGERSArray = np.append(FORAGERSArray,res)\n",
    "    return FORAGERSArray[t]"
   ]
  },
  {
   "cell_type": "code",
   "execution_count": 34,
   "metadata": {},
   "outputs": [],
   "source": [
    "def FORAGERSactive(t):\n",
    "    # (32) represents the actual number of foragers that fly out\n",
    "    global FORAGERSactiveArray\n",
    "    if t>len(FORAGERSactiveArray):\n",
    "        FORAGERSactive(t-1)\n",
    "    if t==len(FORAGERSactiveArray):\n",
    "        res = FORAGERSpollenactive(t)+FORAGERSnectaractive(t)\n",
    "        FORAGERSactiveArray = np.append(FORAGERSactiveArray,res)\n",
    "    return FORAGERSactiveArray[t]"
   ]
  },
  {
   "cell_type": "markdown",
   "metadata": {},
   "source": [
    "### 2.7.1 Recruitment of pollen foragers"
   ]
  },
  {
   "cell_type": "markdown",
   "metadata": {},
   "source": [
    "Equations (33), (34), (35) and (36) calculate the necessary pollen for the day by calculating the sum of necessary pollen for the larvae and the necessary pollen for the adults."
   ]
  },
  {
   "cell_type": "code",
   "execution_count": 35,
   "metadata": {},
   "outputs": [],
   "source": [
    "def NEEDpollen(t):\n",
    "    # (33) calculate the colony’s pollen demand\n",
    "    global NEEDpollenArray\n",
    "    if t>len(NEEDpollenArray):\n",
    "        NEEDpollen(t-1)\n",
    "    if t==len(NEEDpollenArray):\n",
    "        res = NEEDpollen_larvae(t)+NEEDpollen_adult(t)\n",
    "        NEEDpollenArray = np.append(NEEDpollenArray,res)\n",
    "    return NEEDpollenArray[t]"
   ]
  },
  {
   "cell_type": "code",
   "execution_count": 36,
   "metadata": {},
   "outputs": [],
   "source": [
    "def NEEDpollen_larvae(t):\n",
    "    # (34) represents the pollen demand of larvae of all ages\n",
    "    global NEEDpollen_larvaeArray\n",
    "    if t>len(NEEDpollen_larvaeArray):\n",
    "        NEEDpollen_larvae(t-1)\n",
    "    if t==len(NEEDpollen_larvaeArray):\n",
    "        result = 0\n",
    "        for i in range(1,LIFESPANlarva):\n",
    "            result+= (POLLENNEEDlarva[i-1]*(LARVAE(i,t)))\n",
    "        NEEDpollen_larvaeArray = np.append(NEEDpollen_larvaeArray,result)\n",
    "    return NEEDpollen_larvaeArray[t]"
   ]
  },
  {
   "cell_type": "code",
   "execution_count": 37,
   "metadata": {},
   "outputs": [],
   "source": [
    "def NEEDpollen_adult(t):\n",
    "    # (35) represents the adult’s pollen demand\n",
    "    global NEEDpollen_adultArray\n",
    "    if t>len(NEEDpollen_adultArray):\n",
    "        NEEDpollen_adult(t-1)\n",
    "    if t==len(NEEDpollen_adultArray): \n",
    "        result = BEESadult(t) * POLLENNEEDadult + NURSES(t) * POLLENNEEDnurse\n",
    "        NEEDpollen_adultArray = np.append(NEEDpollen_adultArray,result)\n",
    "    return NEEDpollen_adultArray[t]"
   ]
  },
  {
   "cell_type": "code",
   "execution_count": 38,
   "metadata": {},
   "outputs": [],
   "source": [
    "def NEEDpollenincome(t):\n",
    "    # (36) represents the daily need for pollen income\n",
    "    global NEEDpollenincomeArray\n",
    "    if t>len(NEEDpollenincomeArray):\n",
    "        NEEDpollenincome(t-1)\n",
    "    if t==len(NEEDpollenincomeArray):\n",
    "        S = 0\n",
    "        if t==0:\n",
    "            S = 0\n",
    "        elif t==1:\n",
    "            S += NEEDpollen(t)\n",
    "            S += NEEDpollen(t-1)\n",
    "        else:\n",
    "            S += NEEDpollen(t)\n",
    "            S += NEEDpollen(t-1)\n",
    "            S += NEEDpollen(t-2)\n",
    "        tmp = S/3 * FACTORpollenstorage - STORESpollen(t)\n",
    "        result = max(0,tmp)\n",
    "        NEEDpollenincomeArray = np.append(NEEDpollenincomeArray,result)\n",
    "    return NEEDpollenincomeArray[t]"
   ]
  },
  {
   "cell_type": "markdown",
   "metadata": {},
   "source": [
    "From the four equations above, we can now calculate the number of pollen forager bees needed today and the potential number of pollen foragers as well as the actual number."
   ]
  },
  {
   "cell_type": "code",
   "execution_count": 39,
   "metadata": {},
   "outputs": [],
   "source": [
    "def NEEDpollenforagers(t):\n",
    "    # (37) models the number of pollen foragers needed according to the current need for additional pollen.\n",
    "    global NEEDpollenforagerArray\n",
    "    if t>len(NEEDpollenforagerArray):\n",
    "        NEEDpollenforagers(t-1)\n",
    "    if t==len(NEEDpollenforagerArray):\n",
    "        if t==0:\n",
    "            result = NEEDpollenincome(0) / (LOADpollenforager * TURNSpollenforager * FACTORforagingsuccess)\n",
    "        else:\n",
    "            result = NEEDpollenincome(t-1) / (LOADpollenforager * TURNSpollenforager * FACTORforagingsuccess)\n",
    "        NEEDpollenforagerArray = np.append(NEEDpollenforagerArray,result)\n",
    "    return NEEDpollenforagerArray[t]"
   ]
  },
  {
   "cell_type": "code",
   "execution_count": 40,
   "metadata": {},
   "outputs": [],
   "source": [
    "def FORAGERSpollen(t):\n",
    "    # (38) models the potential number of pollen foragers each day\n",
    "    global FORAGERSpollenArray\n",
    "    if t>len(FORAGERSpollenArray):\n",
    "        FORAGERSpollen(t-1)\n",
    "    if t==len(FORAGERSpollenArray):\n",
    "        max1 = NEEDpollenforagers(t) * RATIOworkforce(t)\n",
    "        max2 = (BEESadult(t)-NURSES(t))*FACTORminpollenforagers\n",
    "        min1 = max(max1,max2)\n",
    "        min2 = BEESadult(t) * FACTORforagingmax\n",
    "        result = min(min1,min2)\n",
    "        FORAGERSpollenArray = np.append(FORAGERSpollenArray,result)\n",
    "    return FORAGERSpollenArray[t]"
   ]
  },
  {
   "cell_type": "code",
   "execution_count": 41,
   "metadata": {},
   "outputs": [],
   "source": [
    "def FORAGERSpollenactive(t):\n",
    "    # (39) models the number of foragers that actually leave the hive for foraging flights\n",
    "    global FORAGERSpollenactiveArray\n",
    "    if t>len(FORAGERSpollenactiveArray):\n",
    "        FORAGERSpollenactive(t-1)\n",
    "    if t==len(FORAGERSpollenactiveArray):\n",
    "        result = FORAGERSpollen(t) * INDEXflight(t) * INDEXpollenoutside(t)\n",
    "        FORAGERSpollenactiveArray = np.append(FORAGERSpollenactiveArray,result)\n",
    "    return FORAGERSpollenactiveArray[t]"
   ]
  },
  {
   "cell_type": "markdown",
   "metadata": {},
   "source": [
    "\n",
    "\n",
    "\n",
    "### 2.7.2 Recruitment of nectar foragers"
   ]
  },
  {
   "cell_type": "markdown",
   "metadata": {},
   "source": [
    "Equations (40), (41) and (42) calculate the necessary nectar for the day by calculating the sum of necessary nectar for the larvae and the necessary nectar for the adults."
   ]
  },
  {
   "cell_type": "code",
   "execution_count": 42,
   "metadata": {},
   "outputs": [],
   "source": [
    "def NEEDnectar(t):\n",
    "    # (40) model the demand for nectar\n",
    "    global NEEDnectarArray\n",
    "    if t>len(NEEDnectarArray):\n",
    "        NEEDnectar(t-1)\n",
    "    if t==len(NEEDnectarArray):\n",
    "        result = NEEDnectar_larvae(t) + NEEDnectar_adult(t)\n",
    "        NEEDnectarArray = np.append(NEEDnectarArray,result)\n",
    "    return NEEDnectarArray[t]"
   ]
  },
  {
   "cell_type": "code",
   "execution_count": 43,
   "metadata": {},
   "outputs": [],
   "source": [
    "def NEEDnectar_larvae(t):\n",
    "    # (41) model the demand for larvae nectar\n",
    "    global NEEDnectar_larvaeArray\n",
    "    if t>len(NEEDnectar_larvaeArray):\n",
    "        NEEDnectar_larvae(t-1)\n",
    "    if t==len(NEEDnectar_larvaeArray):\n",
    "        result = 0\n",
    "        for i in range(1,LIFESPANlarva):\n",
    "            result += NECTARNEEDlarva[i-1] * LARVAE(i,t)\n",
    "        NEEDnectar_larvaeArray = np.append(NEEDnectar_larvaeArray,result)\n",
    "    return NEEDnectar_larvaeArray[t]"
   ]
  },
  {
   "cell_type": "code",
   "execution_count": 44,
   "metadata": {},
   "outputs": [],
   "source": [
    "def NEEDnectar_adult(t):\n",
    "    # (42)model the demand for adult nectar\n",
    "    global NEEDnectar_adultArray\n",
    "    if t>len(NEEDnectar_adultArray):\n",
    "        NEEDnectar_adult(t-1)\n",
    "    if t==len(NEEDnectar_adultArray):\n",
    "        result = BEESadult(t) * NECTARNEEDadult + NURSES(t) * NECTARNEEDnurse + FORAGERSactive(t) * NECTARNEEDactiveforager\n",
    "        NEEDnectar_adultArray = np.append(NEEDnectar_adultArray,result)\n",
    "    return NEEDnectar_adultArray[t]"
   ]
  },
  {
   "cell_type": "markdown",
   "metadata": {},
   "source": [
    "This equation take the number of adults bees that are not occupied and computes the number of bees that will work in nectar tasks."
   ]
  },
  {
   "cell_type": "code",
   "execution_count": 45,
   "metadata": {},
   "outputs": [],
   "source": [
    "def WORKFORCEnectar(t):\n",
    "    # (43) calculates the number of adult bees that are not involved in other tasks and thus are still available for a task associated with nectar collection\n",
    "    global WORKFORCEnectarArray\n",
    "    if t>len(WORKFORCEnectarArray):\n",
    "        WORKFORCEnectar(t-1)\n",
    "    if t==len(WORKFORCEnectarArray):\n",
    "        result = 0\n",
    "        if (RATIOworkforce(t) == 1):\n",
    "            result = (BEESadult(t) * (1 - FACTORothertasks)) - NURSES(t) - FORAGERSpollen(t)\n",
    "        WORKFORCEnectarArray = np.append(WORKFORCEnectarArray,result)\n",
    "    return WORKFORCEnectarArray[t]"
   ]
  },
  {
   "cell_type": "markdown",
   "metadata": {},
   "source": [
    "From the equations (42) to (45), we can now model the number of potential nectar foragers as well as the actual number."
   ]
  },
  {
   "cell_type": "code",
   "execution_count": 46,
   "metadata": {},
   "outputs": [],
   "source": [
    "def FORAGERSnectar(t):\n",
    "    # (44) models the number of potential nectar foragers\n",
    "    global FORAGERSnectarArray\n",
    "    if t>len(FORAGERSnectarArray):\n",
    "        FORAGERSnectar(t-1)\n",
    "    if t==len(FORAGERSnectarArray):\n",
    "        min1 = (BEESadult(t) * FACTORforagingmax) - FORAGERSpollen(t)\n",
    "        min2 = WORKFORCEnectar(t) - PROCESSORS(t)\n",
    "        result = min(min1,min2)\n",
    "        FORAGERSnectarArray = np.append(FORAGERSnectarArray,result)\n",
    "    return FORAGERSnectarArray[t]"
   ]
  },
  {
   "cell_type": "code",
   "execution_count": 47,
   "metadata": {},
   "outputs": [],
   "source": [
    "def FORAGERSnectaractive(t): \n",
    "    # (45) models the number of nectar foragers that actually leave the hive for foraging flights\n",
    "    global FORAGERSnectaractiveArray\n",
    "    if t>len(FORAGERSnectaractiveArray):\n",
    "        FORAGERSnectaractive(t-1)\n",
    "    if t==len(FORAGERSnectaractiveArray):\n",
    "        result = FORAGERSnectar(t) * INDEXflight(t) * INDEXnectaroutside(t)\n",
    "        FORAGERSnectaractiveArray = np.append(FORAGERSnectaractiveArray,result)\n",
    "    return FORAGERSnectaractiveArray[t]"
   ]
  },
  {
   "cell_type": "markdown",
   "metadata": {},
   "source": [
    "## 2.8 Modeling the resource influx into the colony\n",
    "<div id='2-8'></div>"
   ]
  },
  {
   "cell_type": "markdown",
   "metadata": {},
   "source": [
    "As the parts above calculates the number of active pollen and nectar foragers, we can now project the daily influx of pollen and nectar."
   ]
  },
  {
   "cell_type": "code",
   "execution_count": 48,
   "metadata": {},
   "outputs": [],
   "source": [
    "def INCOMEpollen(t):\n",
    "    # (46) project the daily influx of pollen\n",
    "    global INCOMEpollenArray\n",
    "    if t>len(INCOMEpollenArray):\n",
    "        INCOMEpollen(t-1)\n",
    "    if t==len(INCOMEpollenArray):\n",
    "        result = FORAGERSpollenactive(t) * LOADpollenforager * TURNSpollenforager * FACTORforagingstoch(t) * FACTORforagingsuccess\n",
    "        INCOMEpollenArray = np.append(INCOMEpollenArray,result)\n",
    "    return INCOMEpollenArray[t]"
   ]
  },
  {
   "cell_type": "code",
   "execution_count": 49,
   "metadata": {},
   "outputs": [],
   "source": [
    "def FACTORforagingstoch(t):\n",
    "    # (47) used to vary the daily foraging success symmetrically around 1\n",
    "    result = random.uniform(0.75, 1.25)\n",
    "    return(result)"
   ]
  },
  {
   "cell_type": "code",
   "execution_count": 50,
   "metadata": {},
   "outputs": [],
   "source": [
    "def INDEXpollensituation(t):\n",
    "    # (48) describes the level of the pollen stores in relation to the demand situation of the colony\n",
    "    global INDEXpollensituationArray\n",
    "    if t>len(INDEXpollensituationArray):\n",
    "        INDEXpollensituation(t-1)\n",
    "    if t==len(INDEXpollensituationArray):\n",
    "        min1 = STORESpollen(t) / (NEEDpollen(t) * FACTORpollenstorage + 1)\n",
    "        result = min(1,min1)\n",
    "        INDEXpollensituationArray = np.append(INDEXpollensituationArray,result)\n",
    "    return INDEXpollensituationArray[t]"
   ]
  },
  {
   "cell_type": "code",
   "execution_count": 51,
   "metadata": {},
   "outputs": [],
   "source": [
    "def INCOMEnectar(t):\n",
    "    # (49) project the daily influx of nectar\n",
    "    global INCOMEnectarArray\n",
    "    if t>len(INCOMEnectarArray):\n",
    "        INCOMEnectar(t-1)\n",
    "    if t==len(INCOMEnectarArray):\n",
    "        min1 = FORAGERSnectaractive(t) * LOADnectarforager * TURNSnectarforager * FACTORforagingstoch(t) * FACTORforagingsuccess\n",
    "        if t == 0:\n",
    "            min2 = CELLSempty(0)\n",
    "        else:\n",
    "            min2 = CELLSempty(t-1)\n",
    "        result = min(min1,min2)\n",
    "        INCOMEnectarArray = np.append(INCOMEnectarArray,result)\n",
    "    return INCOMEnectarArray[t]"
   ]
  },
  {
   "cell_type": "markdown",
   "metadata": {},
   "source": [
    "## 2.9 Regulation of food processing\n",
    "<div id='2-9'></div>"
   ]
  },
  {
   "cell_type": "markdown",
   "metadata": {},
   "source": [
    "The number of nectar processing bees and foraging bees should normally be in balance. However, nectar processing has priority over nectar treatment so that it is always available for foraging. "
   ]
  },
  {
   "cell_type": "code",
   "execution_count": 52,
   "metadata": {},
   "outputs": [],
   "source": [
    "def NEEDprocessors(t):\n",
    "    #(50)\n",
    "    global NEEDprocessorsArray\n",
    "    if t>len(NEEDprocessorsArray):\n",
    "        NEEDprocessors(t-1)\n",
    "    if t==len(NEEDprocessorsArray):\n",
    "        if t==0:\n",
    "            result = STORESnectar(0)*ProcessorsPerCell\n",
    "        else:\n",
    "            result = STORESnectar(t-1)*ProcessorsPerCell\n",
    "        NEEDprocessorsArray = np.append(NEEDprocessorsArray,result)\n",
    "    return NEEDprocessorsArray[t]"
   ]
  },
  {
   "cell_type": "code",
   "execution_count": 53,
   "metadata": {},
   "outputs": [],
   "source": [
    "def PROCESSORS(t):\n",
    "    #(51)\n",
    "    global PROCESSORSArray\n",
    "    if t>len(PROCESSORSArray):\n",
    "        PROCESSORS(t-1)\n",
    "    if t==len(PROCESSORSArray):\n",
    "        result = min(NEEDprocessors(t), WORKFORCEnectar(t))\n",
    "        PROCESSORSArray = np.append(PROCESSORSArray,result)\n",
    "    return PROCESSORSArray[t]"
   ]
  },
  {
   "cell_type": "code",
   "execution_count": 54,
   "metadata": {},
   "outputs": [],
   "source": [
    "def PROCESSEDnectar(t):\n",
    "    #(52)\n",
    "    global PROCESSEDnectarArray\n",
    "    if t>len(PROCESSEDnectarArray):\n",
    "        PROCESSEDnectar(t-1)\n",
    "    if t==len(PROCESSEDnectarArray):\n",
    "        if t==0:\n",
    "            result = min(STORESnectar(0)-USAGEnectar(t), PROCESSORS(t)/ProcessorsPerCell)\n",
    "        else:\n",
    "            result = min(STORESnectar(t-1)-USAGEnectar(t), PROCESSORS(t)/ProcessorsPerCell)\n",
    "        PROCESSEDnectarArray = np.append(PROCESSEDnectarArray,result)\n",
    "    return PROCESSEDnectarArray[t]"
   ]
  },
  {
   "cell_type": "markdown",
   "metadata": {},
   "source": [
    "The system proposed by the model is simplified compared to what exists in nature. Here we use only the nectar stored one day before."
   ]
  },
  {
   "cell_type": "markdown",
   "metadata": {},
   "source": [
    "## 2.10 Management of nutrient stores\n",
    "<div id='2-10'></div>"
   ]
  },
  {
   "cell_type": "markdown",
   "metadata": {},
   "source": [
    "The daily usage (consumption) of pollen is highly dependent on the amount of pollen stored. When it is too low the bees have the possibility to reduce their consumption and feed less of their brood."
   ]
  },
  {
   "cell_type": "code",
   "execution_count": 55,
   "metadata": {},
   "outputs": [],
   "source": [
    "def USAGEpollen(t):\n",
    "    #(53)\n",
    "    global USAGEpollenArray\n",
    "    if t>len(USAGEpollenArray):\n",
    "        USAGEpollen(t-1)\n",
    "    if t==len(USAGEpollenArray):\n",
    "        if t==0:\n",
    "            result = min(STORESpollen(t), NEEDpollen(0)*(1-(FACTORpollensavingmax*(1-INDEXpollensituation(0)))))\n",
    "        else:\n",
    "            result = min(STORESpollen(t-1), NEEDpollen(t-1)*(1-(FACTORpollensavingmax*(1-INDEXpollensituation(t-1)))))\n",
    "        USAGEpollenArray = np.append(USAGEpollenArray,result)\n",
    "    return USAGEpollenArray[t]"
   ]
  },
  {
   "cell_type": "markdown",
   "metadata": {},
   "source": [
    "The daily amount of stored pollen is expressed as below."
   ]
  },
  {
   "cell_type": "code",
   "execution_count": 56,
   "metadata": {},
   "outputs": [],
   "source": [
    "def STORESpollen(t):\n",
    "    #(54)\n",
    "    global STORESpollenArray\n",
    "    if t>len(STORESpollenArray):\n",
    "        STORESpollen(t-1)\n",
    "    if t==len(STORESpollenArray):\n",
    "        if t==0:\n",
    "            result = INITpollen\n",
    "        else:\n",
    "            result = STORESpollen(t-1) + INCOMEpollen(t) - USAGEpollen(t)\n",
    "        STORESpollenArray = np.append(STORESpollenArray,result)\n",
    "    return STORESpollenArray[t]"
   ]
  },
  {
   "cell_type": "markdown",
   "metadata": {},
   "source": [
    "The use of pollen and nectar also depends on the storage situation. The bees first favour the consumption of fresh nectar and then pick up the stored nectar. In winter the bees are more likely to draw from stored nectar."
   ]
  },
  {
   "cell_type": "code",
   "execution_count": 57,
   "metadata": {},
   "outputs": [],
   "source": [
    "def USAGEnectar(t):\n",
    "    #(55)\n",
    "    global USAGEnectarArray\n",
    "    if t>len(USAGEnectarArray):\n",
    "        USAGEnectar(t-1)\n",
    "    if t==len(USAGEnectarArray):\n",
    "        if t==0:\n",
    "            result = min(STORESnectar(0), NEEDnectar(0))\n",
    "        else:\n",
    "            result = min(STORESnectar(t-1), NEEDnectar(t))\n",
    "        USAGEnectarArray = np.append(USAGEnectarArray,result)\n",
    "    return USAGEnectarArray[t]"
   ]
  },
  {
   "cell_type": "code",
   "execution_count": 58,
   "metadata": {},
   "outputs": [],
   "source": [
    "def USAGEhoney(t):\n",
    "    #(56)\n",
    "    global USAGEhoneyArray\n",
    "    if t>len(USAGEhoneyArray):\n",
    "        USAGEhoney(t-1)\n",
    "    if t==len(USAGEhoneyArray):\n",
    "        if t==0:\n",
    "            result = min(STOREShoney(0), (NEEDnectar(t)-USAGEnectar(t))*RATIOnectar_to_honey)\n",
    "        else:\n",
    "            result = min(STOREShoney(t-1), (NEEDnectar(t)-USAGEnectar(t))*RATIOnectar_to_honey)\n",
    "        USAGEhoneyArray = np.append(USAGEhoneyArray,result)\n",
    "    return USAGEhoneyArray[t]"
   ]
  },
  {
   "cell_type": "markdown",
   "metadata": {},
   "source": [
    "From the equations (49), (52), (55) and (56) we can deduce the 2 following functions."
   ]
  },
  {
   "cell_type": "code",
   "execution_count": 59,
   "metadata": {},
   "outputs": [],
   "source": [
    "def STORESnectar(t):\n",
    "    #(57)\n",
    "    global STORESnectarArray\n",
    "    if t>len(STORESnectarArray):\n",
    "        STORESnectar(t-1)\n",
    "    if t==len(STORESnectarArray):\n",
    "        if t==0:\n",
    "            result = INITnectar\n",
    "        else:\n",
    "            result = STORESnectar(t-1)+INCOMEnectar(t) - USAGEnectar(t)-PROCESSEDnectar(t)\n",
    "        STORESnectarArray = np.append(STORESnectarArray,result)\n",
    "    return STORESnectarArray[t]"
   ]
  },
  {
   "cell_type": "code",
   "execution_count": 60,
   "metadata": {},
   "outputs": [],
   "source": [
    "def STOREShoney(t):\n",
    "    #(58)\n",
    "    global STOREShoneyArray\n",
    "    if t>len(STOREShoneyArray):\n",
    "        STOREShoneyArray(t-1)\n",
    "    if t==len(STOREShoneyArray):\n",
    "        if t==0:\n",
    "            result = INIThoney\n",
    "        else:\n",
    "            result = STOREShoney(t-1)-USAGEhoney(t)+(PROCESSEDnectar(t)*RATIOnectar_to_honey)\n",
    "        STOREShoneyArray = np.append(STOREShoneyArray,result)\n",
    "    return STOREShoneyArray[t]"
   ]
  },
  {
   "cell_type": "markdown",
   "metadata": {},
   "source": [
    "The weight of the hive is given in kg. To obtain it, the weight of each of the elements of the hive must be added together. "
   ]
  },
  {
   "cell_type": "code",
   "execution_count": 61,
   "metadata": {},
   "outputs": [],
   "source": [
    "def WEIGHTcolony(t):\n",
    "    #(59)\n",
    "    global WEIGHTcolonyArray\n",
    "    if t>len(WEIGHTcolonyArray):\n",
    "        WEIGHTcolony(t-1)\n",
    "    if t==len(WEIGHTcolonyArray):\n",
    "        if t==0:\n",
    "            result = INITWEIGHTcolony\n",
    "        else:\n",
    "            res = 0\n",
    "            for i in range(1, LIFESPANlarva):\n",
    "                res = res + (w_larva[i-1]*LARVAE(i,t))\n",
    "\n",
    "            result = (1/1000)*(w_hivebase+w_cellsbase*CELLShive0+w_pollen*STORESpollen(t)\n",
    "                    +w_nectar*STORESnectar(t)\n",
    "                    +w_honey*STOREShoney(t)+w_egg*CELLSeggs(t)\n",
    "                    +w_pupa*CELLSpupae(t)\n",
    "                    +res\n",
    "                    +w_adult*BEESadult(t))\n",
    "        WEIGHTcolonyArray = np.append(WEIGHTcolonyArray,result)\n",
    "    return WEIGHTcolonyArray[t]"
   ]
  },
  {
   "cell_type": "markdown",
   "metadata": {},
   "source": [
    "A number of bees are sometimes not necessary because of the weather or the fact that the cells of the hive are already filled."
   ]
  },
  {
   "cell_type": "code",
   "execution_count": 62,
   "metadata": {},
   "outputs": [],
   "source": [
    "def BEESlazy(t):\n",
    "    #(60)\n",
    "    global BEESlazyArray\n",
    "    if t>len(BEESlazyArray):\n",
    "        BEESlazy(t-1)\n",
    "    if t==len(BEESlazyArray):\n",
    "        result = (BEESadult(t)*(1-FACTORothertasks))-FORAGERSactive(t)-NURSES(t)-PROCESSORS(t)\n",
    "        BEESlazyArray = np.append(BEESlazyArray,result)\n",
    "    return BEESlazyArray[t]"
   ]
  },
  {
   "cell_type": "markdown",
   "metadata": {},
   "source": [
    "# 3. Running the model\n",
    "<div id='3'></div>"
   ]
  },
  {
   "cell_type": "markdown",
   "metadata": {},
   "source": [
    "## 3.1. Execution\n",
    "<div id='3-1'></div>"
   ]
  },
  {
   "cell_type": "code",
   "execution_count": 63,
   "metadata": {},
   "outputs": [],
   "source": [
    "def Main(daysEnd, swarm = 0):\n",
    "    \n",
    "    #api\n",
    "    \n",
    "    t = np.arange(daysEnd+1)\n",
    "    for i in range(len(t)):\n",
    "        CELLSeggs(t[i])\n",
    "        CELLSlarvae(t[i])\n",
    "        CELLSpupae(t[i])\n",
    "        CELLSbrood(t[i])\n",
    "        BEESadult(t[i])\n",
    "        STORESpollen(t[i])\n",
    "        STORESnectar(t[i])\n",
    "        STOREShoney(t[i])\n",
    "        WEIGHTcolony(t[i])\n",
    "    dFResult = pd.DataFrame({'STORESpollen' : STORESpollenArray, 'STOREShoney' : STOREShoneyArray, 'STORESnectar' : STORESnectarArray, 'BroodCells' : CELLSbroodArray,'BEESadult' : BEESadultArray,'WEIGHTcolony' : WEIGHTcolonyArray})\n",
    "    \n",
    "    if swarm==1 :\n",
    "        dFResult = pd.DataFrame({'STORESpollen' : STORESpollenArray, 'STOREShoney' : STOREShoneyArray, 'STORESnectar' : STORESnectarArray, 'BroodCells' : CELLSbroodArray,'BEESadult' : BEESadultArray_swarm,'WEIGHTcolony' : WEIGHTcolonyArray_swarm})\n",
    "    if swarm==2 :\n",
    "        dFResult = pd.DataFrame({'STORESpollen' : STORESpollenArray, 'STOREShoney' : STOREShoneyArray, 'STORESnectar' : STORESnectarArray, 'BroodCells' : CELLSbroodArray,'BEESadult' : BEESadultArray_swarm2,'WEIGHTcolony' : WEIGHTcolonyArray_swarm2})\n",
    "        \n",
    "    return dFResult"
   ]
  },
  {
   "cell_type": "code",
   "execution_count": 64,
   "metadata": {
    "scrolled": false
   },
   "outputs": [
    {
     "data": {
      "text/plain": [
       "Text(0.5, 1.0, 'Season Coeff')"
      ]
     },
     "execution_count": 64,
     "metadata": {},
     "output_type": "execute_result"
    },
    {
     "data": {
      "image/png": "[encoded data removed]",
      "text/plain": [
       "<Figure size 720x360 with 1 Axes>"
      ]
     },
     "metadata": {},
     "output_type": "display_data"
    }
   ],
   "source": [
    "import matplotlib.pyplot as plt\n",
    "import numpy as np\n",
    "\n",
    "graph = []\n",
    "\n",
    "for i in range(366):\n",
    "    graph.append(season(i))\n",
    "\n",
    "plt.figure(figsize=(10,5))\n",
    "plt.plot(np.linspace(1,366, 366), graph)\n",
    "plt.title(\"Season Coeff\")"
   ]
  },
  {
   "cell_type": "code",
   "execution_count": 65,
   "metadata": {
    "scrolled": true
   },
   "outputs": [],
   "source": [
    "res = Main(365)\n",
    "res.to_csv(\"out.csv\")"
   ]
  },
  {
   "cell_type": "code",
   "execution_count": 66,
   "metadata": {
    "scrolled": true
   },
   "outputs": [
    {
     "data": {
      "text/html": [
       "<div>\n",
       "<style scoped>\n",
       "    .dataframe tbody tr th:only-of-type {\n",
       "        vertical-align: middle;\n",
       "    }\n",
       "\n",
       "    .dataframe tbody tr th {\n",
       "        vertical-align: top;\n",
       "    }\n",
       "\n",
       "    .dataframe thead th {\n",
       "        text-align: right;\n",
       "    }\n",
       "</style>\n",
       "<table border=\"1\" class=\"dataframe\">\n",
       "  <thead>\n",
       "    <tr style=\"text-align: right;\">\n",
       "      <th></th>\n",
       "      <th>STORESpollen</th>\n",
       "      <th>STOREShoney</th>\n",
       "      <th>STORESnectar</th>\n",
       "      <th>BroodCells</th>\n",
       "      <th>BEESadult</th>\n",
       "      <th>WEIGHTcolony</th>\n",
       "    </tr>\n",
       "  </thead>\n",
       "  <tbody>\n",
       "    <tr>\n",
       "      <th>count</th>\n",
       "      <td>366.000000</td>\n",
       "      <td>366.000000</td>\n",
       "      <td>366.000000</td>\n",
       "      <td>366.000000</td>\n",
       "      <td>366.000000</td>\n",
       "      <td>366.000000</td>\n",
       "    </tr>\n",
       "    <tr>\n",
       "      <th>mean</th>\n",
       "      <td>1007.407200</td>\n",
       "      <td>77170.853958</td>\n",
       "      <td>1096.693650</td>\n",
       "      <td>6325.994119</td>\n",
       "      <td>22363.237854</td>\n",
       "      <td>65.401417</td>\n",
       "    </tr>\n",
       "    <tr>\n",
       "      <th>std</th>\n",
       "      <td>1239.212573</td>\n",
       "      <td>29761.430604</td>\n",
       "      <td>1541.958704</td>\n",
       "      <td>7584.757069</td>\n",
       "      <td>12164.168130</td>\n",
       "      <td>15.135201</td>\n",
       "    </tr>\n",
       "    <tr>\n",
       "      <th>min</th>\n",
       "      <td>0.000000</td>\n",
       "      <td>41338.090597</td>\n",
       "      <td>0.000000</td>\n",
       "      <td>0.000000</td>\n",
       "      <td>6259.497539</td>\n",
       "      <td>48.211201</td>\n",
       "    </tr>\n",
       "    <tr>\n",
       "      <th>25%</th>\n",
       "      <td>2.206436</td>\n",
       "      <td>49281.436890</td>\n",
       "      <td>12.477068</td>\n",
       "      <td>54.314006</td>\n",
       "      <td>11687.702092</td>\n",
       "      <td>49.327439</td>\n",
       "    </tr>\n",
       "    <tr>\n",
       "      <th>50%</th>\n",
       "      <td>114.128143</td>\n",
       "      <td>66172.331811</td>\n",
       "      <td>247.847203</td>\n",
       "      <td>1360.569834</td>\n",
       "      <td>19624.244243</td>\n",
       "      <td>64.230168</td>\n",
       "    </tr>\n",
       "    <tr>\n",
       "      <th>75%</th>\n",
       "      <td>2338.822635</td>\n",
       "      <td>110431.940234</td>\n",
       "      <td>1999.846018</td>\n",
       "      <td>14169.032757</td>\n",
       "      <td>34250.488818</td>\n",
       "      <td>80.941418</td>\n",
       "    </tr>\n",
       "    <tr>\n",
       "      <th>max</th>\n",
       "      <td>3384.811447</td>\n",
       "      <td>112860.919727</td>\n",
       "      <td>5849.693635</td>\n",
       "      <td>20215.888269</td>\n",
       "      <td>41284.513863</td>\n",
       "      <td>83.987587</td>\n",
       "    </tr>\n",
       "  </tbody>\n",
       "</table>\n",
       "</div>"
      ],
      "text/plain": [
       "       STORESpollen    STOREShoney  STORESnectar    BroodCells     BEESadult  \\\n",
       "count    366.000000     366.000000    366.000000    366.000000    366.000000   \n",
       "mean    1007.407200   77170.853958   1096.693650   6325.994119  22363.237854   \n",
       "std     1239.212573   29761.430604   1541.958704   7584.757069  12164.168130   \n",
       "min        0.000000   41338.090597      0.000000      0.000000   6259.497539   \n",
       "25%        2.206436   49281.436890     12.477068     54.314006  11687.702092   \n",
       "50%      114.128143   66172.331811    247.847203   1360.569834  19624.244243   \n",
       "75%     2338.822635  110431.940234   1999.846018  14169.032757  34250.488818   \n",
       "max     3384.811447  112860.919727   5849.693635  20215.888269  41284.513863   \n",
       "\n",
       "       WEIGHTcolony  \n",
       "count    366.000000  \n",
       "mean      65.401417  \n",
       "std       15.135201  \n",
       "min       48.211201  \n",
       "25%       49.327439  \n",
       "50%       64.230168  \n",
       "75%       80.941418  \n",
       "max       83.987587  "
      ]
     },
     "execution_count": 66,
     "metadata": {},
     "output_type": "execute_result"
    }
   ],
   "source": [
    "res.describe()"
   ]
  },
  {
   "cell_type": "code",
   "execution_count": 67,
   "metadata": {
    "scrolled": true
   },
   "outputs": [
    {
     "name": "stdout",
     "output_type": "stream",
     "text": [
      "{'current': {'clouds': 0,\n",
      "             'dew_point': 7.27,\n",
      "             'dt': 1613401311,\n",
      "             'feels_like': 13.52,\n",
      "             'humidity': 55,\n",
      "             'pressure': 1027,\n",
      "             'sunrise': 1613372440,\n",
      "             'sunset': 1613410351,\n",
      "             'temp': 16.32,\n",
      "             'uvi': 0.89,\n",
      "             'visibility': 10000,\n",
      "             'weather': [{'description': 'ciel dégagé',\n",
      "                          'icon': '01d',\n",
      "                          'id': 800,\n",
      "                          'main': 'Clear'}],\n",
      "             'wind_deg': 50,\n",
      "             'wind_speed': 3.09},\n",
      " 'daily': [{'clouds': 53,\n",
      "            'dew_point': 7.75,\n",
      "            'dt': 1613390400,\n",
      "            'feels_like': {'day': 15.03,\n",
      "                           'eve': 9.87,\n",
      "                           'morn': 4.83,\n",
      "                           'night': 7.2},\n",
      "            'humidity': 56,\n",
      "            'pop': 0,\n",
      "            'pressure': 1029,\n",
      "            'sunrise': 1613372440,\n",
      "            'sunset': 1613410351,\n",
      "            'temp': {'day': 16.4,\n",
      "                     'eve': 11.62,\n",
      "                     'max': 16.86,\n",
      "                     'min': 7.04,\n",
      "                     'morn': 7.28,\n",
      "                     'night': 9.75},\n",
      "            'uvi': 2.73,\n",
      "            'weather': [{'description': 'nuageux',\n",
      "                         'icon': '04d',\n",
      "                         'id': 803,\n",
      "                         'main': 'Clouds'}],\n",
      "            'wind_deg': 78,\n",
      "            'wind_speed': 1.15},\n",
      "           {'clouds': 23,\n",
      "            'dew_point': 8.25,\n",
      "            'dt': 1613476800,\n",
      "            'feels_like': {'day': 17.49,\n",
      "                           'eve': 7.77,\n",
      "                           'morn': 4.77,\n",
      "                           'night': 8.78},\n",
      "            'humidity': 47,\n",
      "            'pop': 0.21,\n",
      "            'pressure': 1023,\n",
      "            'sunrise': 1613458753,\n",
      "            'sunset': 1613496831,\n",
      "            'temp': {'day': 19.82,\n",
      "                     'eve': 11.03,\n",
      "                     'max': 20.1,\n",
      "                     'min': 7.96,\n",
      "                     'morn': 8.07,\n",
      "                     'night': 10},\n",
      "            'uvi': 2.31,\n",
      "            'weather': [{'description': 'peu nuageux',\n",
      "                         'icon': '02d',\n",
      "                         'id': 801,\n",
      "                         'main': 'Clouds'}],\n",
      "            'wind_deg': 232,\n",
      "            'wind_speed': 2.72},\n",
      "           {'clouds': 74,\n",
      "            'dew_point': 7.79,\n",
      "            'dt': 1613563200,\n",
      "            'feels_like': {'day': 15.69,\n",
      "                           'eve': 11.06,\n",
      "                           'morn': 5.76,\n",
      "                           'night': 8.07},\n",
      "            'humidity': 54,\n",
      "            'pop': 0.33,\n",
      "            'pressure': 1022,\n",
      "            'rain': 0.26,\n",
      "            'sunrise': 1613545066,\n",
      "            'sunset': 1613583312,\n",
      "            'temp': {'day': 17.09,\n",
      "                     'eve': 13.1,\n",
      "                     'max': 18.37,\n",
      "                     'min': 8.3,\n",
      "                     'morn': 8.3,\n",
      "                     'night': 11.06},\n",
      "            'uvi': 2.09,\n",
      "            'weather': [{'description': 'légère pluie',\n",
      "                         'icon': '10d',\n",
      "                         'id': 500,\n",
      "                         'main': 'Rain'}],\n",
      "            'wind_deg': 126,\n",
      "            'wind_speed': 1.24},\n",
      "           {'clouds': 100,\n",
      "            'dew_point': 8.06,\n",
      "            'dt': 1613649600,\n",
      "            'feels_like': {'day': 13.29,\n",
      "                           'eve': 6.31,\n",
      "                           'morn': 9.5,\n",
      "                           'night': 6.47},\n",
      "            'humidity': 56,\n",
      "            'pop': 0.92,\n",
      "            'pressure': 1015,\n",
      "            'rain': 2.95,\n",
      "            'sunrise': 1613631377,\n",
      "            'sunset': 1613669792,\n",
      "            'temp': {'day': 16.71,\n",
      "                     'eve': 8.68,\n",
      "                     'max': 16.71,\n",
      "                     'min': 8.33,\n",
      "                     'morn': 12.42,\n",
      "                     'night': 8.33},\n",
      "            'uvi': 1.7,\n",
      "            'weather': [{'description': 'légère pluie',\n",
      "                         'icon': '10d',\n",
      "                         'id': 500,\n",
      "                         'main': 'Rain'}],\n",
      "            'wind_deg': 247,\n",
      "            'wind_speed': 4.18},\n",
      "           {'clouds': 64,\n",
      "            'dew_point': 7.32,\n",
      "            'dt': 1613736000,\n",
      "            'feels_like': {'day': 14.27,\n",
      "                           'eve': 9.4,\n",
      "                           'morn': 5.35,\n",
      "                           'night': 7.23},\n",
      "            'humidity': 56,\n",
      "            'pop': 0.18,\n",
      "            'pressure': 1019,\n",
      "            'sunrise': 1613717687,\n",
      "            'sunset': 1613756271,\n",
      "            'temp': {'day': 16.01,\n",
      "                     'eve': 11.67,\n",
      "                     'max': 16.94,\n",
      "                     'min': 6.97,\n",
      "                     'morn': 7.99,\n",
      "                     'night': 9.9},\n",
      "            'uvi': 2.8,\n",
      "            'weather': [{'description': 'nuageux',\n",
      "                         'icon': '04d',\n",
      "                         'id': 803,\n",
      "                         'main': 'Clouds'}],\n",
      "            'wind_deg': 91,\n",
      "            'wind_speed': 1.56},\n",
      "           {'clouds': 74,\n",
      "            'dew_point': 8.06,\n",
      "            'dt': 1613822400,\n",
      "            'feels_like': {'day': 16.24,\n",
      "                           'eve': 11.1,\n",
      "                           'morn': 5.87,\n",
      "                           'night': 8.84},\n",
      "            'humidity': 50,\n",
      "            'pop': 0,\n",
      "            'pressure': 1017,\n",
      "            'sunrise': 1613803996,\n",
      "            'sunset': 1613842751,\n",
      "            'temp': {'day': 18.39,\n",
      "                     'eve': 12.82,\n",
      "                     'max': 18.56,\n",
      "                     'min': 9.13,\n",
      "                     'morn': 9.13,\n",
      "                     'night': 10.55},\n",
      "            'uvi': 3,\n",
      "            'weather': [{'description': 'nuageux',\n",
      "                         'icon': '04d',\n",
      "                         'id': 803,\n",
      "                         'main': 'Clouds'}],\n",
      "            'wind_deg': 68,\n",
      "            'wind_speed': 2.33},\n",
      "           {'clouds': 35,\n",
      "            'dew_point': 6.11,\n",
      "            'dt': 1613908800,\n",
      "            'feels_like': {'day': 16.22,\n",
      "                           'eve': 11.5,\n",
      "                           'morn': 5.3,\n",
      "                           'night': 9.06},\n",
      "            'humidity': 45,\n",
      "            'pop': 0,\n",
      "            'pressure': 1020,\n",
      "            'sunrise': 1613890303,\n",
      "            'sunset': 1613929230,\n",
      "            'temp': {'day': 18.18,\n",
      "                     'eve': 12.98,\n",
      "                     'max': 18.98,\n",
      "                     'min': 8.14,\n",
      "                     'morn': 8.14,\n",
      "                     'night': 10.76},\n",
      "            'uvi': 3,\n",
      "            'weather': [{'description': 'partiellement nuageux',\n",
      "                         'icon': '03d',\n",
      "                         'id': 802,\n",
      "                         'main': 'Clouds'}],\n",
      "            'wind_deg': 65,\n",
      "            'wind_speed': 1.5},\n",
      "           {'clouds': 4,\n",
      "            'dew_point': 7.25,\n",
      "            'dt': 1613995200,\n",
      "            'feels_like': {'day': 16.68,\n",
      "                           'eve': 12.61,\n",
      "                           'morn': 5.54,\n",
      "                           'night': 10.9},\n",
      "            'humidity': 48,\n",
      "            'pop': 0,\n",
      "            'pressure': 1026,\n",
      "            'sunrise': 1613976610,\n",
      "            'sunset': 1614015708,\n",
      "            'temp': {'day': 18.39,\n",
      "                     'eve': 13.86,\n",
      "                     'max': 19.57,\n",
      "                     'min': 8.24,\n",
      "                     'morn': 8.24,\n",
      "                     'night': 12.04},\n",
      "            'uvi': 3,\n",
      "            'weather': [{'description': 'ciel dégagé',\n",
      "                         'icon': '01d',\n",
      "                         'id': 800,\n",
      "                         'main': 'Clear'}],\n",
      "            'wind_deg': 70,\n",
      "            'wind_speed': 1.5}],\n",
      " 'hourly': [{'clouds': 0,\n",
      "             'dew_point': 7.27,\n",
      "             'dt': 1613401200,\n",
      "             'feels_like': 13.85,\n",
      "             'humidity': 55,\n",
      "             'pop': 0,\n",
      "             'pressure': 1027,\n",
      "             'temp': 16.32,\n",
      "             'uvi': 0.89,\n",
      "             'visibility': 10000,\n",
      "             'weather': [{'description': 'ciel dégagé',\n",
      "                          'icon': '01d',\n",
      "                          'id': 800,\n",
      "                          'main': 'Clear'}],\n",
      "             'wind_deg': 80,\n",
      "             'wind_speed': 2.61},\n",
      "            {'clouds': 49,\n",
      "             'dew_point': 9.08,\n",
      "             'dt': 1613404800,\n",
      "             'feels_like': 14.04,\n",
      "             'humidity': 64,\n",
      "             'pop': 0,\n",
      "             'pressure': 1027,\n",
      "             'temp': 15.87,\n",
      "             'uvi': 0.35,\n",
      "             'visibility': 10000,\n",
      "             'weather': [{'description': 'partiellement nuageux',\n",
      "                          'icon': '03d',\n",
      "                          'id': 802,\n",
      "                          'main': 'Clouds'}],\n",
      "             'wind_deg': 88,\n",
      "             'wind_speed': 2.33},\n",
      "            {'clouds': 78,\n",
      "             'dew_point': 9.13,\n",
      "             'dt': 1613408400,\n",
      "             'feels_like': 12.13,\n",
      "             'humidity': 74,\n",
      "             'pop': 0,\n",
      "             'pressure': 1027,\n",
      "             'temp': 13.67,\n",
      "             'uvi': 0,\n",
      "             'visibility': 10000,\n",
      "             'weather': [{'description': 'nuageux',\n",
      "                          'icon': '04d',\n",
      "                          'id': 803,\n",
      "                          'main': 'Clouds'}],\n",
      "             'wind_deg': 100,\n",
      "             'wind_speed': 1.94},\n",
      "            {'clouds': 94,\n",
      "             'dew_point': 8.11,\n",
      "             'dt': 1613412000,\n",
      "             'feels_like': 9.87,\n",
      "             'humidity': 79,\n",
      "             'pop': 0,\n",
      "             'pressure': 1028,\n",
      "             'temp': 11.62,\n",
      "             'uvi': 0,\n",
      "             'visibility': 10000,\n",
      "             'weather': [{'description': 'couvert',\n",
      "                          'icon': '04n',\n",
      "                          'id': 804,\n",
      "                          'main': 'Clouds'}],\n",
      "             'wind_deg': 123,\n",
      "             'wind_speed': 1.87},\n",
      "            {'clouds': 99,\n",
      "             'dew_point': 6.94,\n",
      "             'dt': 1613415600,\n",
      "             'feels_like': 8.74,\n",
      "             'humidity': 77,\n",
      "             'pop': 0,\n",
      "             'pressure': 1028,\n",
      "             'temp': 10.81,\n",
      "             'uvi': 0,\n",
      "             'visibility': 10000,\n",
      "             'weather': [{'description': 'couvert',\n",
      "                          'icon': '04n',\n",
      "                          'id': 804,\n",
      "                          'main': 'Clouds'}],\n",
      "             'wind_deg': 141,\n",
      "             'wind_speed': 1.94},\n",
      "            {'clouds': 100,\n",
      "             'dew_point': 5.93,\n",
      "             'dt': 1613419200,\n",
      "             'feels_like': 8.11,\n",
      "             'humidity': 74,\n",
      "             'pop': 0,\n",
      "             'pressure': 1028,\n",
      "             'temp': 10.34,\n",
      "             'uvi': 0,\n",
      "             'visibility': 10000,\n",
      "             'weather': [{'description': 'couvert',\n",
      "                          'icon': '04n',\n",
      "                          'id': 804,\n",
      "                          'main': 'Clouds'}],\n",
      "             'wind_deg': 155,\n",
      "             'wind_speed': 1.84},\n",
      "            {'clouds': 100,\n",
      "             'dew_point': 4.95,\n",
      "             'dt': 1613422800,\n",
      "             'feels_like': 7.65,\n",
      "             'humidity': 71,\n",
      "             'pop': 0,\n",
      "             'pressure': 1028,\n",
      "             'temp': 9.95,\n",
      "             'uvi': 0,\n",
      "             'visibility': 10000,\n",
      "             'weather': [{'description': 'couvert',\n",
      "                          'icon': '04n',\n",
      "                          'id': 804,\n",
      "                          'main': 'Clouds'}],\n",
      "             'wind_deg': 166,\n",
      "             'wind_speed': 1.66},\n",
      "            {'clouds': 100,\n",
      "             'dew_point': 3.98,\n",
      "             'dt': 1613426400,\n",
      "             'feels_like': 7.2,\n",
      "             'humidity': 67,\n",
      "             'pop': 0,\n",
      "             'pressure': 1027,\n",
      "             'temp': 9.75,\n",
      "             'uvi': 0,\n",
      "             'visibility': 10000,\n",
      "             'weather': [{'description': 'couvert',\n",
      "                          'icon': '04n',\n",
      "                          'id': 804,\n",
      "                          'main': 'Clouds'}],\n",
      "             'wind_deg': 158,\n",
      "             'wind_speed': 1.74},\n",
      "            {'clouds': 100,\n",
      "             'dew_point': 3.1,\n",
      "             'dt': 1613430000,\n",
      "             'feels_like': 6.72,\n",
      "             'humidity': 64,\n",
      "             'pop': 0,\n",
      "             'pressure': 1027,\n",
      "             'temp': 9.52,\n",
      "             'uvi': 0,\n",
      "             'visibility': 10000,\n",
      "             'weather': [{'description': 'couvert',\n",
      "                          'icon': '04n',\n",
      "                          'id': 804,\n",
      "                          'main': 'Clouds'}],\n",
      "             'wind_deg': 147,\n",
      "             'wind_speed': 1.87},\n",
      "            {'clouds': 100,\n",
      "             'dew_point': 2.29,\n",
      "             'dt': 1613433600,\n",
      "             'feels_like': 6.29,\n",
      "             'humidity': 62,\n",
      "             'pop': 0,\n",
      "             'pressure': 1027,\n",
      "             'temp': 9.15,\n",
      "             'uvi': 0,\n",
      "             'visibility': 10000,\n",
      "             'weather': [{'description': 'couvert',\n",
      "                          'icon': '04n',\n",
      "                          'id': 804,\n",
      "                          'main': 'Clouds'}],\n",
      "             'wind_deg': 147,\n",
      "             'wind_speed': 1.75},\n",
      "            {'clouds': 95,\n",
      "             'dew_point': 1.59,\n",
      "             'dt': 1613437200,\n",
      "             'feels_like': 5.86,\n",
      "             'humidity': 60,\n",
      "             'pop': 0,\n",
      "             'pressure': 1026,\n",
      "             'temp': 8.78,\n",
      "             'uvi': 0,\n",
      "             'visibility': 10000,\n",
      "             'weather': [{'description': 'couvert',\n",
      "                          'icon': '04n',\n",
      "                          'id': 804,\n",
      "                          'main': 'Clouds'}],\n",
      "             'wind_deg': 147,\n",
      "             'wind_speed': 1.65},\n",
      "            {'clouds': 85,\n",
      "             'dew_point': 1.04,\n",
      "             'dt': 1613440800,\n",
      "             'feels_like': 5.6,\n",
      "             'humidity': 59,\n",
      "             'pop': 0,\n",
      "             'pressure': 1026,\n",
      "             'temp': 8.48,\n",
      "             'uvi': 0,\n",
      "             'visibility': 10000,\n",
      "             'weather': [{'description': 'couvert',\n",
      "                          'icon': '04n',\n",
      "                          'id': 804,\n",
      "                          'main': 'Clouds'}],\n",
      "             'wind_deg': 148,\n",
      "             'wind_speed': 1.48},\n",
      "            {'clouds': 76,\n",
      "             'dew_point': 0.73,\n",
      "             'dt': 1613444400,\n",
      "             'feels_like': 5.36,\n",
      "             'humidity': 58,\n",
      "             'pop': 0,\n",
      "             'pressure': 1025,\n",
      "             'temp': 8.35,\n",
      "             'uvi': 0,\n",
      "             'visibility': 10000,\n",
      "             'weather': [{'description': 'nuageux',\n",
      "                          'icon': '04n',\n",
      "                          'id': 803,\n",
      "                          'main': 'Clouds'}],\n",
      "             'wind_deg': 148,\n",
      "             'wind_speed': 1.55},\n",
      "            {'clouds': 73,\n",
      "             'dew_point': 0.57,\n",
      "             'dt': 1613448000,\n",
      "             'feels_like': 5.11,\n",
      "             'humidity': 58,\n",
      "             'pop': 0,\n",
      "             'pressure': 1024,\n",
      "             'temp': 8.29,\n",
      "             'uvi': 0,\n",
      "             'visibility': 10000,\n",
      "             'weather': [{'description': 'nuageux',\n",
      "                          'icon': '04n',\n",
      "                          'id': 803,\n",
      "                          'main': 'Clouds'}],\n",
      "             'wind_deg': 145,\n",
      "             'wind_speed': 1.82},\n",
      "            {'clouds': 62,\n",
      "             'dew_point': 0.41,\n",
      "             'dt': 1613451600,\n",
      "             'feels_like': 4.96,\n",
      "             'humidity': 58,\n",
      "             'pop': 0,\n",
      "             'pressure': 1024,\n",
      "             'temp': 8.14,\n",
      "             'uvi': 0,\n",
      "             'visibility': 10000,\n",
      "             'weather': [{'description': 'nuageux',\n",
      "                          'icon': '04n',\n",
      "                          'id': 803,\n",
      "                          'main': 'Clouds'}],\n",
      "             'wind_deg': 147,\n",
      "             'wind_speed': 1.79},\n",
      "            {'clouds': 52,\n",
      "             'dew_point': 0.13,\n",
      "             'dt': 1613455200,\n",
      "             'feels_like': 4.77,\n",
      "             'humidity': 57,\n",
      "             'pop': 0,\n",
      "             'pressure': 1024,\n",
      "             'temp': 8.07,\n",
      "             'uvi': 0,\n",
      "             'visibility': 10000,\n",
      "             'weather': [{'description': 'nuageux',\n",
      "                          'icon': '04n',\n",
      "                          'id': 803,\n",
      "                          'main': 'Clouds'}],\n",
      "             'wind_deg': 145,\n",
      "             'wind_speed': 1.89},\n",
      "            {'clouds': 0,\n",
      "             'dew_point': -0.2,\n",
      "             'dt': 1613458800,\n",
      "             'feels_like': 4.56,\n",
      "             'humidity': 56,\n",
      "             'pop': 0,\n",
      "             'pressure': 1023,\n",
      "             'temp': 7.96,\n",
      "             'uvi': 0,\n",
      "             'visibility': 10000,\n",
      "             'weather': [{'description': 'ciel dégagé',\n",
      "                          'icon': '01d',\n",
      "                          'id': 800,\n",
      "                          'main': 'Clear'}],\n",
      "             'wind_deg': 155,\n",
      "             'wind_speed': 1.97},\n",
      "            {'clouds': 0,\n",
      "             'dew_point': 1.61,\n",
      "             'dt': 1613462400,\n",
      "             'feels_like': 6.11,\n",
      "             'humidity': 59,\n",
      "             'pop': 0,\n",
      "             'pressure': 1023,\n",
      "             'temp': 9.02,\n",
      "             'uvi': 0.31,\n",
      "             'visibility': 10000,\n",
      "             'weather': [{'description': 'ciel dégagé',\n",
      "                          'icon': '01d',\n",
      "                          'id': 800,\n",
      "                          'main': 'Clear'}],\n",
      "             'wind_deg': 167,\n",
      "             'wind_speed': 1.63},\n",
      "            {'clouds': 0,\n",
      "             'dew_point': 3.84,\n",
      "             'dt': 1613466000,\n",
      "             'feels_like': 10.16,\n",
      "             'humidity': 56,\n",
      "             'pop': 0,\n",
      "             'pressure': 1023,\n",
      "             'temp': 12.28,\n",
      "             'uvi': 0.89,\n",
      "             'visibility': 10000,\n",
      "             'weather': [{'description': 'ciel dégagé',\n",
      "                          'icon': '01d',\n",
      "                          'id': 800,\n",
      "                          'main': 'Clear'}],\n",
      "             'wind_deg': 207,\n",
      "             'wind_speed': 1.08},\n",
      "            {'clouds': 4,\n",
      "             'dew_point': 5.48,\n",
      "             'dt': 1613469600,\n",
      "             'feels_like': 12.77,\n",
      "             'humidity': 54,\n",
      "             'pop': 0,\n",
      "             'pressure': 1023,\n",
      "             'temp': 14.59,\n",
      "             'uvi': 1.45,\n",
      "             'visibility': 10000,\n",
      "             'weather': [{'description': 'ciel dégagé',\n",
      "                          'icon': '01d',\n",
      "                          'id': 800,\n",
      "                          'main': 'Clear'}],\n",
      "             'wind_deg': 222,\n",
      "             'wind_speed': 1.11},\n",
      "            {'clouds': 14,\n",
      "             'dew_point': 7.15,\n",
      "             'dt': 1613473200,\n",
      "             'feels_like': 14.8,\n",
      "             'humidity': 51,\n",
      "             'pop': 0,\n",
      "             'pressure': 1023,\n",
      "             'temp': 17.15,\n",
      "             'uvi': 2.06,\n",
      "             'visibility': 10000,\n",
      "             'weather': [{'description': 'peu nuageux',\n",
      "                          'icon': '02d',\n",
      "                          'id': 801,\n",
      "                          'main': 'Clouds'}],\n",
      "             'wind_deg': 200,\n",
      "             'wind_speed': 2.33},\n",
      "            {'clouds': 23,\n",
      "             'dew_point': 8.25,\n",
      "             'dt': 1613476800,\n",
      "             'feels_like': 17.49,\n",
      "             'humidity': 47,\n",
      "             'pop': 0,\n",
      "             'pressure': 1023,\n",
      "             'temp': 19.82,\n",
      "             'uvi': 2.31,\n",
      "             'visibility': 10000,\n",
      "             'weather': [{'description': 'peu nuageux',\n",
      "                          'icon': '02d',\n",
      "                          'id': 801,\n",
      "                          'main': 'Clouds'}],\n",
      "             'wind_deg': 232,\n",
      "             'wind_speed': 2.72},\n",
      "            {'clouds': 100,\n",
      "             'dew_point': 8.5,\n",
      "             'dt': 1613480400,\n",
      "             'feels_like': 16.69,\n",
      "             'humidity': 47,\n",
      "             'pop': 0,\n",
      "             'pressure': 1023,\n",
      "             'temp': 20.1,\n",
      "             'uvi': 2.27,\n",
      "             'visibility': 10000,\n",
      "             'weather': [{'description': 'couvert',\n",
      "                          'icon': '04d',\n",
      "                          'id': 804,\n",
      "                          'main': 'Clouds'}],\n",
      "             'wind_deg': 279,\n",
      "             'wind_speed': 4.36},\n",
      "            {'clouds': 100,\n",
      "             'dew_point': 8.01,\n",
      "             'dt': 1613484000,\n",
      "             'feels_like': 13.09,\n",
      "             'humidity': 53,\n",
      "             'pop': 0,\n",
      "             'pressure': 1022,\n",
      "             'temp': 17.48,\n",
      "             'uvi': 1.65,\n",
      "             'visibility': 10000,\n",
      "             'weather': [{'description': 'couvert',\n",
      "                          'icon': '04d',\n",
      "                          'id': 804,\n",
      "                          'main': 'Clouds'}],\n",
      "             'wind_deg': 296,\n",
      "             'wind_speed': 5.54},\n",
      "            {'clouds': 100,\n",
      "             'dew_point': 7.73,\n",
      "             'dt': 1613487600,\n",
      "             'feels_like': 12.51,\n",
      "             'humidity': 53,\n",
      "             'pop': 0,\n",
      "             'pressure': 1023,\n",
      "             'temp': 17.22,\n",
      "             'uvi': 0.91,\n",
      "             'visibility': 10000,\n",
      "             'weather': [{'description': 'couvert',\n",
      "                          'icon': '04d',\n",
      "                          'id': 804,\n",
      "                          'main': 'Clouds'}],\n",
      "             'wind_deg': 287,\n",
      "             'wind_speed': 5.91},\n",
      "            {'clouds': 98,\n",
      "             'dew_point': 7.75,\n",
      "             'dt': 1613491200,\n",
      "             'feels_like': 11.75,\n",
      "             'humidity': 57,\n",
      "             'pop': 0,\n",
      "             'pressure': 1023,\n",
      "             'temp': 16.26,\n",
      "             'uvi': 0.35,\n",
      "             'visibility': 10000,\n",
      "             'weather': [{'description': 'couvert',\n",
      "                          'icon': '04d',\n",
      "                          'id': 804,\n",
      "                          'main': 'Clouds'}],\n",
      "             'wind_deg': 286,\n",
      "             'wind_speed': 5.69},\n",
      "            {'clouds': 89,\n",
      "             'dew_point': 7.94,\n",
      "             'dt': 1613494800,\n",
      "             'feels_like': 9.14,\n",
      "             'humidity': 67,\n",
      "             'pop': 0,\n",
      "             'pressure': 1023,\n",
      "             'temp': 13.83,\n",
      "             'uvi': 0,\n",
      "             'visibility': 10000,\n",
      "             'weather': [{'description': 'couvert',\n",
      "                          'icon': '04d',\n",
      "                          'id': 804,\n",
      "                          'main': 'Clouds'}],\n",
      "             'wind_deg': 302,\n",
      "             'wind_speed': 5.97},\n",
      "            {'clouds': 90,\n",
      "             'dew_point': 7.91,\n",
      "             'dt': 1613498400,\n",
      "             'feels_like': 7.77,\n",
      "             'humidity': 81,\n",
      "             'pop': 0,\n",
      "             'pressure': 1024,\n",
      "             'temp': 11.03,\n",
      "             'uvi': 0,\n",
      "             'visibility': 10000,\n",
      "             'weather': [{'description': 'couvert',\n",
      "                          'icon': '04n',\n",
      "                          'id': 804,\n",
      "                          'main': 'Clouds'}],\n",
      "             'wind_deg': 312,\n",
      "             'wind_speed': 3.95},\n",
      "            {'clouds': 82,\n",
      "             'dew_point': 7.83,\n",
      "             'dt': 1613502000,\n",
      "             'feels_like': 7.35,\n",
      "             'humidity': 90,\n",
      "             'pop': 0.09,\n",
      "             'pressure': 1025,\n",
      "             'temp': 9.27,\n",
      "             'uvi': 0,\n",
      "             'visibility': 10000,\n",
      "             'weather': [{'description': 'nuageux',\n",
      "                          'icon': '04n',\n",
      "                          'id': 803,\n",
      "                          'main': 'Clouds'}],\n",
      "             'wind_deg': 286,\n",
      "             'wind_speed': 1.98},\n",
      "            {'clouds': 88,\n",
      "             'dew_point': 8.1,\n",
      "             'dt': 1613505600,\n",
      "             'feels_like': 8.32,\n",
      "             'humidity': 89,\n",
      "             'pop': 0.13,\n",
      "             'pressure': 1025,\n",
      "             'temp': 9.74,\n",
      "             'uvi': 0,\n",
      "             'visibility': 10000,\n",
      "             'weather': [{'description': 'couvert',\n",
      "                          'icon': '04n',\n",
      "                          'id': 804,\n",
      "                          'main': 'Clouds'}],\n",
      "             'wind_deg': 205,\n",
      "             'wind_speed': 1.37},\n",
      "            {'clouds': 91,\n",
      "             'dew_point': 8.35,\n",
      "             'dt': 1613509200,\n",
      "             'feels_like': 8.7,\n",
      "             'humidity': 89,\n",
      "             'pop': 0.21,\n",
      "             'pressure': 1025,\n",
      "             'temp': 9.94,\n",
      "             'uvi': 0,\n",
      "             'visibility': 10000,\n",
      "             'weather': [{'description': 'couvert',\n",
      "                          'icon': '04n',\n",
      "                          'id': 804,\n",
      "                          'main': 'Clouds'}],\n",
      "             'wind_deg': 202,\n",
      "             'wind_speed': 1.18},\n",
      "            {'clouds': 94,\n",
      "             'dew_point': 8.43,\n",
      "             'dt': 1613512800,\n",
      "             'feels_like': 8.78,\n",
      "             'humidity': 89,\n",
      "             'pop': 0.15,\n",
      "             'pressure': 1025,\n",
      "             'temp': 10,\n",
      "             'uvi': 0,\n",
      "             'visibility': 10000,\n",
      "             'weather': [{'description': 'couvert',\n",
      "                          'icon': '04n',\n",
      "                          'id': 804,\n",
      "                          'main': 'Clouds'}],\n",
      "             'wind_deg': 193,\n",
      "             'wind_speed': 1.17},\n",
      "            {'clouds': 94,\n",
      "             'dew_point': 8.48,\n",
      "             'dt': 1613516400,\n",
      "             'feels_like': 8.39,\n",
      "             'humidity': 89,\n",
      "             'pop': 0.15,\n",
      "             'pressure': 1025,\n",
      "             'temp': 10.11,\n",
      "             'uvi': 0,\n",
      "             'visibility': 10000,\n",
      "             'weather': [{'description': 'couvert',\n",
      "                          'icon': '04n',\n",
      "                          'id': 804,\n",
      "                          'main': 'Clouds'}],\n",
      "             'wind_deg': 167,\n",
      "             'wind_speed': 1.92},\n",
      "            {'clouds': 96,\n",
      "             'dew_point': 8.47,\n",
      "             'dt': 1613520000,\n",
      "             'feels_like': 7.62,\n",
      "             'humidity': 91,\n",
      "             'pop': 0.33,\n",
      "             'pressure': 1025,\n",
      "             'rain': {'1h': 0.26},\n",
      "             'temp': 9.74,\n",
      "             'uvi': 0,\n",
      "             'visibility': 10000,\n",
      "             'weather': [{'description': 'légère pluie',\n",
      "                          'icon': '10n',\n",
      "                          'id': 500,\n",
      "                          'main': 'Rain'}],\n",
      "             'wind_deg': 161,\n",
      "             'wind_speed': 2.48},\n",
      "            {'clouds': 100,\n",
      "             'dew_point': 8.19,\n",
      "             'dt': 1613523600,\n",
      "             'feels_like': 7.77,\n",
      "             'humidity': 91,\n",
      "             'pop': 0.13,\n",
      "             'pressure': 1025,\n",
      "             'temp': 9.52,\n",
      "             'uvi': 0,\n",
      "             'visibility': 10000,\n",
      "             'weather': [{'description': 'couvert',\n",
      "                          'icon': '04n',\n",
      "                          'id': 804,\n",
      "                          'main': 'Clouds'}],\n",
      "             'wind_deg': 151,\n",
      "             'wind_speed': 1.88},\n",
      "            {'clouds': 100,\n",
      "             'dew_point': 7.94,\n",
      "             'dt': 1613527200,\n",
      "             'feels_like': 7.82,\n",
      "             'humidity': 88,\n",
      "             'pop': 0.03,\n",
      "             'pressure': 1025,\n",
      "             'temp': 9.81,\n",
      "             'uvi': 0,\n",
      "             'visibility': 10000,\n",
      "             'weather': [{'description': 'couvert',\n",
      "                          'icon': '04n',\n",
      "                          'id': 804,\n",
      "                          'main': 'Clouds'}],\n",
      "             'wind_deg': 133,\n",
      "             'wind_speed': 2.15},\n",
      "            {'clouds': 100,\n",
      "             'dew_point': 7.11,\n",
      "             'dt': 1613530800,\n",
      "             'feels_like': 6.87,\n",
      "             'humidity': 88,\n",
      "             'pop': 0.03,\n",
      "             'pressure': 1024,\n",
      "             'temp': 8.93,\n",
      "             'uvi': 0,\n",
      "             'visibility': 10000,\n",
      "             'weather': [{'description': 'couvert',\n",
      "                          'icon': '04n',\n",
      "                          'id': 804,\n",
      "                          'main': 'Clouds'}],\n",
      "             'wind_deg': 128,\n",
      "             'wind_speed': 1.96},\n",
      "            {'clouds': 100,\n",
      "             'dew_point': 6.58,\n",
      "             'dt': 1613534400,\n",
      "             'feels_like': 6.49,\n",
      "             'humidity': 85,\n",
      "             'pop': 0,\n",
      "             'pressure': 1024,\n",
      "             'temp': 8.81,\n",
      "             'uvi': 0,\n",
      "             'visibility': 10000,\n",
      "             'weather': [{'description': 'couvert',\n",
      "                          'icon': '04n',\n",
      "                          'id': 804,\n",
      "                          'main': 'Clouds'}],\n",
      "             'wind_deg': 127,\n",
      "             'wind_speed': 2.13},\n",
      "            {'clouds': 100,\n",
      "             'dew_point': 5.96,\n",
      "             'dt': 1613538000,\n",
      "             'feels_like': 5.9,\n",
      "             'humidity': 84,\n",
      "             'pop': 0,\n",
      "             'pressure': 1024,\n",
      "             'temp': 8.45,\n",
      "             'uvi': 0,\n",
      "             'visibility': 10000,\n",
      "             'weather': [{'description': 'couvert',\n",
      "                          'icon': '04n',\n",
      "                          'id': 804,\n",
      "                          'main': 'Clouds'}],\n",
      "             'wind_deg': 125,\n",
      "             'wind_speed': 2.3},\n",
      "            {'clouds': 100,\n",
      "             'dew_point': 5.49,\n",
      "             'dt': 1613541600,\n",
      "             'feels_like': 5.76,\n",
      "             'humidity': 82,\n",
      "             'pop': 0,\n",
      "             'pressure': 1023,\n",
      "             'temp': 8.3,\n",
      "             'uvi': 0,\n",
      "             'visibility': 10000,\n",
      "             'weather': [{'description': 'couvert',\n",
      "                          'icon': '04n',\n",
      "                          'id': 804,\n",
      "                          'main': 'Clouds'}],\n",
      "             'wind_deg': 129,\n",
      "             'wind_speed': 2.14},\n",
      "            {'clouds': 84,\n",
      "             'dew_point': 5.23,\n",
      "             'dt': 1613545200,\n",
      "             'feels_like': 5.91,\n",
      "             'humidity': 80,\n",
      "             'pop': 0,\n",
      "             'pressure': 1023,\n",
      "             'temp': 8.47,\n",
      "             'uvi': 0,\n",
      "             'visibility': 10000,\n",
      "             'weather': [{'description': 'nuageux',\n",
      "                          'icon': '04d',\n",
      "                          'id': 803,\n",
      "                          'main': 'Clouds'}],\n",
      "             'wind_deg': 128,\n",
      "             'wind_speed': 2.12},\n",
      "            {'clouds': 79,\n",
      "             'dew_point': 5.91,\n",
      "             'dt': 1613548800,\n",
      "             'feels_like': 7.18,\n",
      "             'humidity': 78,\n",
      "             'pop': 0,\n",
      "             'pressure': 1023,\n",
      "             'temp': 9.49,\n",
      "             'uvi': 0.25,\n",
      "             'visibility': 10000,\n",
      "             'weather': [{'description': 'nuageux',\n",
      "                          'icon': '04d',\n",
      "                          'id': 803,\n",
      "                          'main': 'Clouds'}],\n",
      "             'wind_deg': 132,\n",
      "             'wind_speed': 1.94},\n",
      "            {'clouds': 76,\n",
      "             'dew_point': 6.89,\n",
      "             'dt': 1613552400,\n",
      "             'feels_like': 9.97,\n",
      "             'humidity': 72,\n",
      "             'pop': 0,\n",
      "             'pressure': 1023,\n",
      "             'temp': 11.66,\n",
      "             'uvi': 0.71,\n",
      "             'visibility': 10000,\n",
      "             'weather': [{'description': 'nuageux',\n",
      "                          'icon': '04d',\n",
      "                          'id': 803,\n",
      "                          'main': 'Clouds'}],\n",
      "             'wind_deg': 130,\n",
      "             'wind_speed': 1.34},\n",
      "            {'clouds': 79,\n",
      "             'dew_point': 7.43,\n",
      "             'dt': 1613556000,\n",
      "             'feels_like': 11.76,\n",
      "             'humidity': 67,\n",
      "             'pop': 0,\n",
      "             'pressure': 1023,\n",
      "             'temp': 13.33,\n",
      "             'uvi': 1.33,\n",
      "             'visibility': 10000,\n",
      "             'weather': [{'description': 'nuageux',\n",
      "                          'icon': '04d',\n",
      "                          'id': 803,\n",
      "                          'main': 'Clouds'}],\n",
      "             'wind_deg': 117,\n",
      "             'wind_speed': 1.35},\n",
      "            {'clouds': 73,\n",
      "             'dew_point': 7.67,\n",
      "             'dt': 1613559600,\n",
      "             'feels_like': 14.06,\n",
      "             'humidity': 58,\n",
      "             'pop': 0,\n",
      "             'pressure': 1022,\n",
      "             'temp': 15.67,\n",
      "             'uvi': 1.87,\n",
      "             'visibility': 10000,\n",
      "             'weather': [{'description': 'nuageux',\n",
      "                          'icon': '04d',\n",
      "                          'id': 803,\n",
      "                          'main': 'Clouds'}],\n",
      "             'wind_deg': 105,\n",
      "             'wind_speed': 1.44},\n",
      "            {'clouds': 74,\n",
      "             'dew_point': 7.79,\n",
      "             'dt': 1613563200,\n",
      "             'feels_like': 15.69,\n",
      "             'humidity': 54,\n",
      "             'pop': 0,\n",
      "             'pressure': 1022,\n",
      "             'temp': 17.09,\n",
      "             'uvi': 2.09,\n",
      "             'visibility': 10000,\n",
      "             'weather': [{'description': 'nuageux',\n",
      "                          'icon': '04d',\n",
      "                          'id': 803,\n",
      "                          'main': 'Clouds'}],\n",
      "             'wind_deg': 126,\n",
      "             'wind_speed': 1.24},\n",
      "            {'clouds': 44,\n",
      "             'dew_point': 7.85,\n",
      "             'dt': 1613566800,\n",
      "             'feels_like': 16.93,\n",
      "             'humidity': 51,\n",
      "             'pop': 0,\n",
      "             'pressure': 1021,\n",
      "             'temp': 17.94,\n",
      "             'uvi': 2.08,\n",
      "             'visibility': 10000,\n",
      "             'weather': [{'description': 'partiellement nuageux',\n",
      "                          'icon': '03d',\n",
      "                          'id': 802,\n",
      "                          'main': 'Clouds'}],\n",
      "             'wind_deg': 152,\n",
      "             'wind_speed': 0.66},\n",
      "            {'clouds': 29,\n",
      "             'dew_point': 7.81,\n",
      "             'dt': 1613570400,\n",
      "             'feels_like': 16.73,\n",
      "             'humidity': 50,\n",
      "             'pop': 0,\n",
      "             'pressure': 1020,\n",
      "             'temp': 18.37,\n",
      "             'uvi': 1.52,\n",
      "             'visibility': 10000,\n",
      "             'weather': [{'description': 'partiellement nuageux',\n",
      "                          'icon': '03d',\n",
      "                          'id': 802,\n",
      "                          'main': 'Clouds'}],\n",
      "             'wind_deg': 254,\n",
      "             'wind_speed': 1.6}],\n",
      " 'lat': 43.4167,\n",
      " 'lon': -0.5833,\n",
      " 'minutely': [{'dt': 1613401320, 'precipitation': 0},\n",
      "              {'dt': 1613401380, 'precipitation': 0},\n",
      "              {'dt': 1613401440, 'precipitation': 0},\n",
      "              {'dt': 1613401500, 'precipitation': 0},\n",
      "              {'dt': 1613401560, 'precipitation': 0},\n",
      "              {'dt': 1613401620, 'precipitation': 0},\n",
      "              {'dt': 1613401680, 'precipitation': 0},\n",
      "              {'dt': 1613401740, 'precipitation': 0},\n",
      "              {'dt': 1613401800, 'precipitation': 0},\n",
      "              {'dt': 1613401860, 'precipitation': 0},\n",
      "              {'dt': 1613401920, 'precipitation': 0},\n",
      "              {'dt': 1613401980, 'precipitation': 0},\n",
      "              {'dt': 1613402040, 'precipitation': 0},\n",
      "              {'dt': 1613402100, 'precipitation': 0},\n",
      "              {'dt': 1613402160, 'precipitation': 0},\n",
      "              {'dt': 1613402220, 'precipitation': 0},\n",
      "              {'dt': 1613402280, 'precipitation': 0},\n",
      "              {'dt': 1613402340, 'precipitation': 0},\n",
      "              {'dt': 1613402400, 'precipitation': 0},\n",
      "              {'dt': 1613402460, 'precipitation': 0},\n",
      "              {'dt': 1613402520, 'precipitation': 0},\n",
      "              {'dt': 1613402580, 'precipitation': 0},\n",
      "              {'dt': 1613402640, 'precipitation': 0},\n",
      "              {'dt': 1613402700, 'precipitation': 0},\n",
      "              {'dt': 1613402760, 'precipitation': 0},\n",
      "              {'dt': 1613402820, 'precipitation': 0},\n",
      "              {'dt': 1613402880, 'precipitation': 0},\n",
      "              {'dt': 1613402940, 'precipitation': 0},\n",
      "              {'dt': 1613403000, 'precipitation': 0},\n",
      "              {'dt': 1613403060, 'precipitation': 0},\n",
      "              {'dt': 1613403120, 'precipitation': 0},\n",
      "              {'dt': 1613403180, 'precipitation': 0},\n",
      "              {'dt': 1613403240, 'precipitation': 0},\n",
      "              {'dt': 1613403300, 'precipitation': 0},\n",
      "              {'dt': 1613403360, 'precipitation': 0},\n",
      "              {'dt': 1613403420, 'precipitation': 0},\n",
      "              {'dt': 1613403480, 'precipitation': 0},\n",
      "              {'dt': 1613403540, 'precipitation': 0},\n",
      "              {'dt': 1613403600, 'precipitation': 0},\n",
      "              {'dt': 1613403660, 'precipitation': 0},\n",
      "              {'dt': 1613403720, 'precipitation': 0},\n",
      "              {'dt': 1613403780, 'precipitation': 0},\n",
      "              {'dt': 1613403840, 'precipitation': 0},\n",
      "              {'dt': 1613403900, 'precipitation': 0},\n",
      "              {'dt': 1613403960, 'precipitation': 0},\n",
      "              {'dt': 1613404020, 'precipitation': 0},\n",
      "              {'dt': 1613404080, 'precipitation': 0},\n",
      "              {'dt': 1613404140, 'precipitation': 0},\n",
      "              {'dt': 1613404200, 'precipitation': 0},\n",
      "              {'dt': 1613404260, 'precipitation': 0},\n",
      "              {'dt': 1613404320, 'precipitation': 0},\n",
      "              {'dt': 1613404380, 'precipitation': 0},\n",
      "              {'dt': 1613404440, 'precipitation': 0},\n",
      "              {'dt': 1613404500, 'precipitation': 0},\n",
      "              {'dt': 1613404560, 'precipitation': 0},\n",
      "              {'dt': 1613404620, 'precipitation': 0},\n",
      "              {'dt': 1613404680, 'precipitation': 0},\n",
      "              {'dt': 1613404740, 'precipitation': 0},\n",
      "              {'dt': 1613404800, 'precipitation': 0},\n",
      "              {'dt': 1613404860, 'precipitation': 0},\n",
      "              {'dt': 1613404920, 'precipitation': 0}],\n",
      " 'timezone': 'Europe/Paris',\n",
      " 'timezone_offset': 3600}\n"
     ]
    }
   ],
   "source": [
    "date = datetime.datetime.now()\n",
    "\n",
    "r = requests.get(\"https://api.openweathermap.org/data/2.5/onecall?lat=43.4167&lon=-0.5833&dt=\"+str(int(date.timestamp()))+\"&exclude=minutely,hourly,alerts&units=metric&appid=0cb28a068f6a49e6d497aa1dc43d1f79&lang=fr\")\n",
    "data=r.json()\n",
    "pprint(data)"
   ]
  },
  {
   "cell_type": "code",
   "execution_count": 109,
   "metadata": {
    "scrolled": false
   },
   "outputs": [
    {
     "name": "stdout",
     "output_type": "stream",
     "text": [
      "37911\n"
     ]
    },
    {
     "data": {
      "text/plain": [
       "datetime.timedelta(seconds=37911)"
      ]
     },
     "execution_count": 109,
     "metadata": {},
     "output_type": "execute_result"
    }
   ],
   "source": [
    "pprint(data['daily'][0]['sunset'] - data['daily'][0]['sunrise'])\n",
    "datetime.fromtimestamp(data['daily'][0]['sunset']) - datetime.fromtimestamp(data['daily'][0]['sunrise'])"
   ]
  },
  {
   "cell_type": "code",
   "execution_count": 130,
   "metadata": {},
   "outputs": [
    {
     "name": "stdout",
     "output_type": "stream",
     "text": [
      "2021-02-15 13:00:00 = 0 : 0 : 0  heures de pluies pour  10 : 31 : 51  heures de soleil\n",
      "2021-02-16 13:00:00 = 0 : 0 : 0  heures de pluies pour  10 : 34 : 38  heures de soleil\n",
      "2021-02-17 13:00:00 = 0.0 : 15.0 : 36.0  heures de pluies pour  10 : 37 : 26  heures de soleil\n",
      "2021-02-18 13:00:00 = 2.0 : 57.0 : 0.0  heures de pluies pour  10 : 40 : 15  heures de soleil\n",
      "2021-02-19 13:00:00 = 0 : 0 : 0  heures de pluies pour  10 : 43 : 4  heures de soleil\n",
      "2021-02-20 13:00:00 = 0 : 0 : 0  heures de pluies pour  10 : 45 : 55  heures de soleil\n",
      "2021-02-21 13:00:00 = 0 : 0 : 0  heures de pluies pour  10 : 48 : 47  heures de soleil\n",
      "2021-02-22 13:00:00 = 0 : 0 : 0  heures de pluies pour  10 : 51 : 38  heures de soleil\n"
     ]
    }
   ],
   "source": [
    "n = len(data['hourly'])\n",
    "m = len(data['daily'])\n",
    "for i in range(0,m):\n",
    "    today = datetime.fromtimestamp(data['daily'][i]['dt'])\n",
    "    rain = 0\n",
    "    rainh = 0\n",
    "    rainm = 0\n",
    "    rains = 0\n",
    "    if 'rain' in data['daily'][i]:\n",
    "        rain = data['daily'][i]['rain'] \n",
    "    rains = rain *3600\n",
    "    rainh, rains = divmod(rains, 3600)\n",
    "    rainm, rains = divmod(rains, 60)\n",
    "    \n",
    "    sd = (data['daily'][i]['sunset'] - data['daily'][i]['sunrise'])\n",
    "    hd, sd = divmod(sd, 3600)\n",
    "    md, sd = divmod(sd, 60)\n",
    "    \n",
    "    print(today, '=',rainh,':',rainm,':',rains,' heures de pluies pour ', hd, ':',md,':',sd ,' heures de soleil')"
   ]
  },
  {
   "cell_type": "code",
   "execution_count": 128,
   "metadata": {
    "scrolled": false
   },
   "outputs": [
    {
     "data": {
      "application/vnd.plotly.v1+json": {
       "config": {
        "plotlyServerURL": "https://plot.ly"
       },
       "data": [
        {
         "hovertemplate": " j: %{x} <br> val: %{y:.1f}",
         "mode": "lines",
         "name": "Adult Bees",
         "showlegend": true,
         "type": "scatter",
         "xaxis": "x",
         "y": [
          15000,
          14849.915849198136,
          14701.311878827582,
          14554.16131869263,
          14408.456972918268,
          14264.185757476062,
          14121.333553407225,
          13979.88370659736,
          13839.805329485229,
          13701.096366189347,
          13563.747267833709,
          13427.728367327276,
          13293.025612758429,
          13159.613699444704,
          13027.49194176774,
          12896.628239921676,
          12767.03244893132,
          12638.665831454633,
          12511.501483756965,
          12385.553850301972,
          12260.773706680016,
          12137.89898310256,
          12016.197869351936,
          11895.681955340448,
          11776.368793678572,
          11658.14652505108,
          11541.021828762021,
          11424.992695481636,
          11310.124356538412,
          11196.291382158859,
          11083.531743847465,
          10971.80701124126,
          10861.099544507577,
          10751.437318703776,
          10642.777450482667,
          10535.103806495687,
          10428.285699773378,
          10322.40289513079,
          10217.534211764252,
          10113.608638346313,
          10010.634340456996,
          9908.366609276867,
          9806.945512986958,
          9706.269561993799,
          9606.311294175715,
          9507.362564447982,
          9408.991484588452,
          9311.348020862053,
          9214.564043813682,
          9118.51464395132,
          9023.265778308416,
          8928.648819234591,
          8834.599911808391,
          8740.8403674128,
          8647.905082696037,
          8555.37786886294,
          8463.937521814338,
          8372.964216698361,
          8282.21426760313,
          8192.566614925698,
          8102.784217379984,
          8013.135149083796,
          7923.957985370935,
          7836.010046935192,
          7748.612253514781,
          7661.538281102158,
          7574.830047111271,
          7490.107310705369,
          7404.5322189012395,
          7320.84232306142,
          7237.418283827218,
          7156.94863291628,
          7076.527506322821,
          6997.11012752175,
          6921.3167579667825,
          6846.305975091594,
          6774.219341066228,
          6705.263025754244,
          6639.979123761404,
          6578.054633722683,
          6523.559752402869,
          6472.591740761003,
          6425.548036672921,
          6384.200450293439,
          6345.844597650013,
          6317.621695328493,
          6291.549275604056,
          6275.144980008626,
          6265.52841260654,
          6259.4975389705,
          6274.717019473955,
          6300.010494686931,
          6330.141029973536,
          6380.705222348186,
          6434.5037833240585,
          6504.8563248785185,
          6572.779220805695,
          6672.135786730165,
          6775.613143580356,
          6916.76798972214,
          7059.75705812857,
          7214.860446837117,
          7378.1847746249405,
          7593.484046540905,
          7800.630395959915,
          8038.0153211160705,
          8244.927719389001,
          8499.397967853454,
          8751.448539732464,
          9053.333752155193,
          9345.14946899479,
          9653.7013657538,
          9948.015395991599,
          10303.796624554436,
          10664.769754472192,
          11039.118179367377,
          11412.964503586418,
          11815.207371819628,
          12244.243478844057,
          12637.747539558146,
          13038.12822294214,
          13482.661607401475,
          13918.552245657169,
          14402.262123936387,
          14842.859243747609,
          15321.51730088242,
          15747.854730225545,
          16250.804476238478,
          16669.072990436234,
          17184.984036457925,
          17596.88982252768,
          18179.586214834297,
          18599.509708979393,
          19103.57852608416,
          19505.741734716405,
          20015.459215344843,
          20447.772559180077,
          20970.08156189853,
          21409.28282205975,
          21895.08964789281,
          22361.528599494595,
          22847.039197282404,
          23260.500692843598,
          23754.34137009949,
          24189.36466208325,
          24674.992289303438,
          25076.03968083493,
          25562.465282522197,
          25981.948517142584,
          26436.12153600174,
          26862.396909269013,
          27228.507593405768,
          27653.122277975,
          28065.6749016661,
          28490.674156214493,
          28843.54179822765,
          29232.11666142568,
          29617.954236826874,
          29990.93836444323,
          30426.067970973665,
          30752.595846612247,
          31092.475467304077,
          31479.50431436017,
          31850.9188273685,
          32238.48078624741,
          32617.8545374446,
          32949.892710269116,
          33350.505053596054,
          33733.18491586637,
          34091.463678923494,
          34457.63322756671,
          34833.01193669296,
          35182.60344392588,
          35521.22213756967,
          35890.49468287219,
          36234.303302675406,
          36559.260175419906,
          36920.48453646972,
          37258.45612114494,
          37579.45452925803,
          37924.88930967809,
          38233.509809012554,
          38522.94297602598,
          38785.47129607709,
          39043.81685345049,
          39343.023570145626,
          39615.20174494198,
          39843.03965284662,
          40080.65247482195,
          40239.57114155698,
          40387.277827668775,
          40530.92476301046,
          40669.76284994662,
          40810.86499085626,
          40914.67491570134,
          40998.743787035186,
          41049.41492095734,
          41058.2497132565,
          41058.058446609764,
          41098.05444439441,
          41088.31506339755,
          41071.43313312738,
          41041.97860142594,
          41044.604875048775,
          41046.89486934442,
          41025.135647250034,
          41022.90420571249,
          40998.29494735751,
          40991.34082607312,
          40998.707014900596,
          40998.905775064806,
          40996.12052537177,
          40991.991001955816,
          41014.672425768134,
          41029.695270029995,
          41066.03051336681,
          41103.341025892376,
          41164.44713081408,
          41196.52766162837,
          41222.99687438028,
          41259.54735019323,
          41275.50543606879,
          41284.5138634965,
          41254.86179300531,
          41258.051349352485,
          41258.294703683314,
          41234.0918549137,
          41216.08651483804,
          41182.16946517947,
          41129.33623200211,
          41078.60858618664,
          41006.453165930994,
          40919.809808028614,
          40840.044626146635,
          40736.67978213754,
          40626.45082366613,
          40511.87384773465,
          40373.110775387315,
          40206.961391196935,
          40049.35600491314,
          39874.10500382989,
          39678.65942147617,
          39477.21950101462,
          39278.25024816618,
          39058.71794538167,
          38839.48520717593,
          38612.8718285593,
          38380.29350004856,
          38132.77537039353,
          37871.065999064995,
          37605.782376515635,
          37336.91809100621,
          37055.332014307496,
          36767.60484809107,
          36473.698562220794,
          36175.704154224695,
          35871.680394679905,
          35563.863124792195,
          35253.031714192104,
          34939.96878995824,
          34622.4551598579,
          34303.49719741817,
          33983.69708508228,
          33662.50143560884,
          33342.66572700313,
          33023.17763305788,
          32706.889790152265,
          32392.618394968464,
          32080.070413011174,
          31770.61961775488,
          31463.283323521096,
          31157.635065901966,
          30854.994663798938,
          30554.71363009285,
          30256.756569523583,
          29961.07297338831,
          29667.984618173963,
          29377.605344342857,
          29089.808713837338,
          28804.157810765326,
          28521.329706227545,
          28240.911578320698,
          27963.018409602897,
          27687.745235982886,
          27414.820603853044,
          27144.4030860739,
          26876.668720224192,
          26611.36238209333,
          26348.376579175743,
          26087.919909569133,
          25829.97104777347,
          25574.213791967086,
          25320.861821556635,
          25069.97362515399,
          24821.567696175534,
          24575.369933475737,
          24331.58180910885,
          24090.05034295567,
          23850.855370179732,
          23613.998556976367,
          23379.414699335674,
          23147.1125943301,
          22916.99875365889,
          22689.140268597905,
          22463.498877762646,
          22239.960666809242,
          22018.659434324476,
          21799.557865532537,
          21582.525500759344,
          21367.639278374983,
          21154.85282580979,
          20944.1630917367,
          20735.51067892314,
          20528.898834039384,
          20324.30140360334,
          20121.737456310442,
          19921.16539445322,
          19722.56921354303,
          19525.919271915096,
          19331.19317830246,
          19138.38854763207,
          18947.469310362725,
          18758.450632456934,
          18571.30231410587,
          18385.980811363126,
          18202.505467563744,
          18020.831143930845,
          17840.957038387787,
          17662.871039376605,
          17486.543342791643,
          17311.965588115632,
          17139.10861970168,
          16967.97361049213,
          16798.53009849006,
          16630.767131801393,
          16464.666305372797,
          16300.220415721265,
          16137.405826976337,
          15976.207367933377,
          15816.61198109926,
          15658.60250055321,
          15502.162432270927,
          15347.280371038982,
          15193.934797442216,
          15042.116283284218,
          14891.812489627038,
          14743.002034773324,
          14595.672286164066,
          14449.809785575837,
          14305.402409203276,
          14162.434407867127,
          14020.889196291357,
          13880.756196716984,
          13742.019707813997,
          13604.664573427837,
          13468.679114175704,
          13334.050424457691,
          13200.765066531703,
          13068.80864444499,
          12938.16885385574,
          12808.832948456178,
          12680.787332634627,
          12554.019012346585,
          12428.516920075523,
          12304.266380205952,
          12181.257255764845
         ],
         "yaxis": "y"
        },
        {
         "hovertemplate": " j: %{x} <br> val: %{y:.1f}",
         "mode": "lines",
         "name": "Pollen Stores",
         "showlegend": true,
         "type": "scatter",
         "xaxis": "x2",
         "y": [
          0,
          0.035819887204867076,
          0.14529276861230278,
          0.28555768596070896,
          0.3158722312751725,
          0.2716913536913238,
          0.39242204710861284,
          0.43317627592028196,
          0.5018990879435491,
          0.4707090270773898,
          0.502931269584161,
          0.5719821290875262,
          0.949455776978172,
          0.6738465602580728,
          1.102002798088011,
          0.9476907214355554,
          1.3855944416373083,
          1.0720811421948433,
          1.237535706030818,
          1.214209644322187,
          1.9121814962945383,
          2.266099889000598,
          1.8853997316521216,
          1.9134101419996368,
          2.3137971601373506,
          2.586067012768722,
          2.621523011139085,
          2.671518758947717,
          3.432192001611776,
          3.5376199094303136,
          4.765041679988938,
          4.278656807967179,
          5.456363721450607,
          5.800958814109173,
          4.79251641400036,
          5.484626339090074,
          7.541398540240035,
          7.397013918949757,
          8.5262170818755,
          8.47625135469528,
          9.65421404499572,
          10.142905034824773,
          12.524485542479395,
          12.509628568236325,
          13.74878826648831,
          10.619548777643447,
          11.840814844672044,
          14.032888328971817,
          16.15907504690398,
          20.75070433890312,
          14.939121969125786,
          23.029670809859788,
          19.35805793864106,
          25.798885847610187,
          20.942337675207092,
          32.250470917913376,
          32.190739110082816,
          30.08053049211378,
          46.10574440399225,
          50.336484403797854,
          61.06320689444071,
          63.00579325968726,
          72.49937994311378,
          90.94335618216539,
          114.21318437327753,
          113.70211418262966,
          117.71502883915753,
          139.95438829400587,
          144.95696869288324,
          174.68240895507319,
          176.11324299368306,
          198.98790631968555,
          212.58675219489066,
          226.06188851962867,
          275.25827581044814,
          280.20406916641065,
          301.2026215182163,
          334.0120340860731,
          347.2105462095579,
          360.0988717272549,
          402.154802053323,
          418.92702372622296,
          490.1060691317479,
          540.1141558820865,
          547.6084045276344,
          560.7660483552022,
          643.3189755470237,
          734.6585985730942,
          725.5289930670361,
          757.8765323344564,
          776.6540247226787,
          855.0700897414868,
          876.3279284094366,
          971.456998518577,
          1005.0772115151236,
          1027.868059004577,
          1095.9179650007065,
          1244.0516986757102,
          1246.0592245286994,
          1291.3745016079945,
          1408.043199327234,
          1441.7584990224843,
          1567.2102753941836,
          1486.5494680435272,
          1560.0083351013907,
          1724.789030785323,
          1706.2547587289744,
          1822.8742313843563,
          1865.125919095839,
          1853.9512655139927,
          1896.4050314800345,
          1934.8712406363866,
          2019.1030287691813,
          2021.1259298017371,
          2006.0534471611234,
          2264.7728254321537,
          2109.734336026195,
          2097.649770783628,
          2226.433476520083,
          2250.854500035296,
          2431.1709247846125,
          2340.057083336762,
          2507.2559029192325,
          2446.503534475536,
          2620.809218138657,
          2449.8333282049625,
          2545.8204919795207,
          2630.4219091021955,
          2759.7570309796456,
          2735.5013974542567,
          2698.918907672408,
          2869.0664645819074,
          2778.19482985257,
          2867.682883388966,
          2812.5490086850923,
          2838.4962619361995,
          2839.929954570567,
          3024.764150656286,
          2880.262802608082,
          2875.5584213583966,
          3076.56503139549,
          3094.588533383382,
          3098.599901561088,
          3011.9405158814598,
          2943.3444518366796,
          3109.7119025505544,
          3196.310003093387,
          3061.9338717105884,
          3231.6334031807505,
          3203.5222165845225,
          3031.8342697855433,
          3384.8114473524074,
          3238.6214457401697,
          3301.4274027039028,
          3260.099116839154,
          3306.6988442091324,
          3353.239877101877,
          3321.245614280292,
          3272.2736951863467,
          3336.5235856460395,
          3200.090191234487,
          3347.911440222957,
          3343.193011434739,
          3342.822177440248,
          3350.832653219807,
          3189.7140946454406,
          3165.9664443102856,
          3093.7448985007973,
          3019.7837802200575,
          3306.872182258138,
          3144.932045988638,
          3118.0368313623503,
          3188.7164925368643,
          2981.1383406867535,
          2900.7777822190506,
          2942.519290358112,
          3102.5036689160406,
          3028.5024639806716,
          2885.6300930718735,
          2944.7629985417543,
          2775.274410653895,
          2790.084905353685,
          2689.3965189026003,
          2914.3890532307405,
          2747.5334162840045,
          2700.816663921431,
          2655.83862116701,
          2835.6301314827247,
          2694.0816310057135,
          2812.368336597542,
          2759.8114145808368,
          2659.9251744706817,
          2831.3033605413675,
          2732.3821916245865,
          2669.814678114563,
          2726.511209183781,
          2749.8011605244023,
          2736.5975791217734,
          2739.208914805479,
          2817.136444574984,
          2726.6279563960125,
          2823.8615769599414,
          2788.6160287645507,
          2622.807742340594,
          2715.399274307002,
          2641.3191898380796,
          2543.349704475768,
          2406.6159892497967,
          2538.923912430435,
          2459.6812002446036,
          2339.9200490314483,
          2411.2054974681796,
          2335.5303910061402,
          2192.8887965230947,
          2136.2408937106447,
          2133.723050503082,
          2049.9423200326846,
          1990.7419973266376,
          1974.8984782560387,
          1931.1030684728348,
          1832.1163058958352,
          1718.173483647315,
          1581.8928236960169,
          1612.76877027299,
          1536.4424456303423,
          1399.741035767664,
          1389.2434176111797,
          1360.3477820361159,
          1262.5656642901743,
          1234.4562884764061,
          1187.0314870756113,
          1134.5586459572003,
          1027.7352298428157,
          957.3712272825987,
          902.1268245743792,
          864.7041032817715,
          763.8014066712772,
          693.3897800005842,
          647.1334293694422,
          577.6991420948725,
          503.4779231445965,
          466.3315500186601,
          422.9650917818369,
          360.4435203940893,
          289.5724739003408,
          240.02888036367779,
          195.163699513072,
          143.83063188106314,
          114.04310071319983,
          86.46716285779635,
          107.44578198396343,
          89.55651770363633,
          81.66843046147312,
          82.17090583420728,
          59.87731358396374,
          53.965040437915405,
          62.843217111240335,
          48.16913056683808,
          56.203033470892905,
          41.18506503143017,
          31.051484577662578,
          45.736738134832464,
          40.59605756437047,
          26.09027570461481,
          25.803675367215362,
          26.411347985117175,
          29.69293147337863,
          22.998971259493047,
          22.459942971455362,
          18.847021942073305,
          18.059965274965585,
          19.6041485733476,
          14.85850008149633,
          12.472544508497997,
          13.915908941455815,
          10.60326488973465,
          11.301043011989265,
          9.766768251092458,
          10.807980229296533,
          7.194747535844201,
          8.414949952483616,
          6.022616496986075,
          8.883906628895822,
          5.939433262685494,
          6.689732706176551,
          4.989469511374487,
          4.58827595337333,
          5.690518410440964,
          5.576120063585492,
          3.7990701437821457,
          3.6975516737002234,
          4.434272493553385,
          3.7757650645585557,
          3.6013015924530842,
          2.667310735715347,
          2.999537850517754,
          2.2817168543406376,
          2.186547382099284,
          1.9810869537568667,
          2.1056865389603274,
          1.4160865270005463,
          1.5568395063898142,
          1.4826627883821493,
          1.336183706257831,
          1.0567252525126127,
          1.2968911098965537,
          1.29875157453401,
          1.1178369445619847,
          1.0331338125312843,
          0.8799155429562733,
          0.7812671070084332,
          0.5795840084524493,
          0.47515218258301606,
          0.5936445638111942,
          0.6105415108003591,
          0.36460670635050296,
          0.38248991182083303,
          0.3956626905484639,
          0.3942124088195298,
          0.2717273717046622,
          0.2853967931396959,
          0.22805498602496055,
          0.2691872307238495,
          0.20654873634975074,
          0.2233481735687352,
          0.1944584137752297,
          0.16356617728582723,
          0.15130092276895257,
          0.11124362334528481,
          0.12268924490394617,
          0.13330878641011978,
          0.1140296191861001,
          0.08237970168210085,
          0.06817815659475224,
          0.06477582757903921,
          0.05314789829272959,
          0.05904434899715344,
          0.048447600833703724,
          0.04540834717154782,
          0.05465487319704779,
          0.03367325103586778,
          0.03697269421266798,
          0.030424726430649696,
          0.033922704178999216,
          0.023585872830891585,
          0.027896077689602478,
          0.02019994317211061,
          0.020054908373160957,
          0.014544788356308874,
          0.014219880567869762,
          0.013490463419588289,
          0.01290260180205919,
          0.011883040550166382,
          0.009174884796544908,
          0.009266716117196094,
          0.005722152037548011,
          0.006972322792974238,
          0.004751947664217944,
          0.004136122837642173,
          0.004121925271674699,
          0.0032333433070687624,
          0.0024137282986102324,
          0.002338108461952806,
          0.0019504054363844794,
          0.0016229101879959946,
          0.0016663933060061887
         ],
         "yaxis": "y2"
        },
        {
         "hovertemplate": " j: %{x} <br> val: %{y:.1f}",
         "mode": "lines",
         "name": "Brood cells",
         "showlegend": true,
         "type": "scatter",
         "xaxis": "x3",
         "y": [
          0,
          3.994666674681331,
          8.14992742072583,
          8.66323657066373,
          12.240800263401411,
          15.1794100608785,
          16.90710044006107,
          18.821885733400656,
          20.2166112309407,
          22.375026094148946,
          24.541393204826715,
          27.02114529358717,
          29.83900760975658,
          32.55233046235067,
          35.477731210042634,
          38.75111351069221,
          41.93525570043408,
          45.5359180014394,
          49.409312304679986,
          53.7784604568339,
          57.74829712127604,
          61.49867062651519,
          65.82440378457238,
          70.37135222232399,
          74.74122083350298,
          80.44864785023935,
          85.72417264250319,
          90.93317711939122,
          98.24324374975369,
          105.51596365941222,
          112.29878111104452,
          120.51657256927385,
          129.36619385896762,
          137.20572924494266,
          145.76174432826593,
          155.44800395327727,
          166.36835604967123,
          177.60822203552027,
          188.8307472972025,
          203.2199728040348,
          218.14139115035513,
          231.6129486986907,
          247.94747272319466,
          266.95325936781114,
          283.91902076389533,
          302.15632582467265,
          323.9626477554833,
          346.95078082393684,
          368.88047613428193,
          394.24449544670813,
          421.30855169397495,
          449.2390242877459,
          482.836835695474,
          513.8196867719959,
          550.4011900254535,
          585.2838125973037,
          622.1469219894924,
          669.8743209537158,
          715.6976352148114,
          761.1631302426301,
          818.3857814050599,
          881.9990961773134,
          942.0260681358307,
          1010.3866766835858,
          1086.6048379318725,
          1179.0344577089982,
          1265.1371291963944,
          1351.0449674495862,
          1463.3686565945338,
          1564.232085913789,
          1682.85777137309,
          1815.3230466872633,
          1942.266403046503,
          2085.3731596202942,
          2243.215717971832,
          2411.9689105920343,
          2572.428841959822,
          2757.0672769567286,
          2949.037424121319,
          3131.612746210092,
          3341.67816965121,
          3548.973512021739,
          3769.464604005713,
          4040.333661996968,
          4301.611582113735,
          4551.638035872607,
          4795.317453886991,
          5075.921717171646,
          5430.378712507898,
          5728.291418022762,
          5993.249802583077,
          6274.276616283853,
          6590.47812887589,
          6931.439408762704,
          7292.1799724700395,
          7626.331219767704,
          7915.231838224012,
          8269.681587068131,
          8696.057474828793,
          9017.335468701493,
          9353.418756082709,
          9750.198860785196,
          10103.760317552831,
          10498.859646239187,
          10825.796633907124,
          11134.424367661,
          11607.330204339454,
          11950.597069910495,
          12282.387444641638,
          12654.913220705508,
          12970.02827219536,
          13327.883303757257,
          13627.316705689143,
          13930.894260242396,
          14238.915413435629,
          14456.028562470296,
          14788.191838792656,
          14996.998300267971,
          15171.511934714843,
          15430.525666383859,
          15654.072880468993,
          15954.917524887562,
          16123.852757479035,
          16315.935272142744,
          16538.41271541218,
          16752.615570139915,
          16951.90790690437,
          17060.09442270996,
          17311.022176185586,
          17600.794559413953,
          17679.932076365258,
          17796.084445617344,
          18018.220852171577,
          18224.486034103993,
          18413.56367099165,
          18462.72029866215,
          18547.144158595132,
          18692.217945555472,
          18859.13710466259,
          18940.757543732758,
          18931.12647064815,
          19105.762250725853,
          19270.38113025534,
          19347.2595821613,
          19350.2020308989,
          19400.965144642898,
          19464.693658017582,
          19606.611937595975,
          19617.469489857816,
          19683.11213473689,
          19781.267009089453,
          19802.761354540344,
          19857.267736844038,
          19921.619017773664,
          19999.98792633741,
          20037.919201252822,
          20050.528047611755,
          20122.60720338428,
          20116.292470930654,
          20117.309873100814,
          20215.888268884744,
          20147.347956964695,
          20145.367907981978,
          20141.79261019552,
          20095.951044714027,
          20157.534981988298,
          20055.193340955448,
          19880.26317312324,
          19819.96763875014,
          19696.75108128088,
          19673.90748724664,
          19629.305682102182,
          19411.167741718178,
          19309.744055752795,
          19227.279541975106,
          19010.083152670053,
          18887.53375919279,
          18795.121039921323,
          18651.618948839707,
          18498.674087071468,
          18291.664841831356,
          18101.63637511479,
          18022.897675813627,
          17850.68655242407,
          17760.317649322576,
          17519.643234740295,
          17269.67768685614,
          17115.292544680182,
          16974.031129634248,
          16844.98578302955,
          16660.331644089467,
          16510.724824132383,
          16289.465813248176,
          16164.46281800456,
          16039.686403399679,
          15809.994706390395,
          15705.405153375848,
          15566.513056405525,
          15376.13864760757,
          15253.306549919262,
          15111.702062336646,
          14962.480240742661,
          14780.253077626609,
          14605.031435768,
          14372.332408032185,
          14225.115089545048,
          14000.785759214397,
          13758.056742075103,
          13470.507119522788,
          13226.648203228942,
          13017.371984990077,
          12698.176072006667,
          12379.460864468614,
          12130.391355705511,
          11766.64942646305,
          11399.791604755597,
          11073.46501454599,
          10701.943849140192,
          10331.540864234532,
          10000.903575418033,
          9638.310169580851,
          9263.798990827428,
          8926.54176186445,
          8545.739132841041,
          8186.781156827251,
          7845.564107518385,
          7464.59367229192,
          7115.607620980913,
          6792.250266782741,
          6435.875958694846,
          6106.288401720716,
          5810.753525858621,
          5473.330152222714,
          5155.505520382092,
          4849.2849191233545,
          4552.296167952734,
          4278.605812942262,
          4014.44847555703,
          3741.685354643306,
          3499.21191920742,
          3265.3349001550364,
          3028.365971868757,
          2804.5425021358437,
          2596.293517278752,
          2389.695850105877,
          2192.4142035745726,
          1996.1358517484186,
          1824.7823514363852,
          1664.2948060844064,
          1510.9103697937917,
          1370.094701112013,
          1243.17032853714,
          1130.3225191713054,
          1026.562655528215,
          928.9565283107701,
          844.4835423510056,
          766.8908906128634,
          699.4112943118819,
          637.5050858890212,
          583.1681807307671,
          538.3049952497485,
          496.903448615433,
          461.07549060762756,
          430.2375212199971,
          401.03496694717137,
          372.9251035946449,
          349.1731457836806,
          326.066561826203,
          302.59771750348045,
          283.3233690116889,
          265.82735349246013,
          246.58990962676245,
          230.1699719556717,
          215.05879426387645,
          201.15979695928021,
          188.4572270759602,
          175.3780124968349,
          164.12248521278275,
          153.62106680151646,
          143.7517840417896,
          134.29521819417246,
          125.65814714075206,
          117.59250247211236,
          109.98506884504147,
          102.95190832639179,
          95.78969261427042,
          89.44021826523274,
          84.04545580140308,
          78.22324849469301,
          72.9155121757816,
          68.46180889468678,
          64.1074869099361,
          60.02661229994555,
          55.920642100086894,
          52.30352962557363,
          48.98663741537426,
          45.94280259953871,
          42.98481967029032,
          40.20757880674131,
          37.61463138470867,
          35.146475761998644,
          32.81634191479027,
          30.641034925490256,
          28.707444489214645,
          26.781197381939812,
          25.053200770468276,
          23.47128856263042,
          21.8821666840137,
          20.560440464536136,
          19.21751520014378,
          17.931446716087674,
          16.79569921580495,
          15.69823186595928,
          14.737294905177537,
          13.719535294977447,
          12.814732237801561,
          11.993949274773762,
          11.20759518786084,
          10.474630068326187,
          9.803108157719876,
          9.200003310512056,
          8.585644626508133,
          8.027046472686687,
          7.50759978074476,
          6.997359045643005,
          6.5824960312629734,
          6.154060209676231,
          5.725260878869829,
          5.365097354721495,
          5.018256752171997,
          4.711231314517061,
          4.3937146129228655,
          4.111896969062111,
          3.8660977943118446,
          3.6065532220807954,
          3.3659563613654004,
          3.153234828442552,
          2.9483796510562534,
          2.754828983771402,
          2.5749684646007385,
          2.415834964951852,
          2.2601523691690804,
          2.1120118512636115,
          1.980338412807876,
          1.8484231593188747,
          1.7270171076571144,
          1.6245733033492935,
          1.5149459617588754,
          1.419001865728813,
          1.3290107146839802,
          1.2401635986622654,
          1.1635833491850183,
          1.084914674412024,
          1.0176557281003913,
          0.9526778174199737,
          0.8902162763551589,
          0.8343599500724216,
          0.7795142371905585,
          0.7309543679974382,
          0.6839974332019256,
          0.6385292727977868,
          0.5979372785486239,
          0.5600223222013334,
          0.5253484192977389,
          0.49025038924238484,
          0.4589498347994273
         ],
         "yaxis": "y3"
        },
        {
         "hovertemplate": " j: %{x} <br> val: %{y:.1f}",
         "mode": "lines",
         "name": "Honey Stores",
         "showlegend": true,
         "type": "scatter",
         "xaxis": "x4",
         "y": [
          50000,
          49970.17041278028,
          49940.945197979134,
          49912.27199490093,
          49883.92620872227,
          49855.72752104842,
          49827.70231984133,
          49800.21422709918,
          49773.02536487919,
          49745.803936991004,
          49719.07115248733,
          49692.73741346075,
          49667.126969105186,
          49641.623487676945,
          49616.82333321072,
          49591.66492418709,
          49567.00861391363,
          49543.23614723538,
          49519.056707448304,
          49495.73824905675,
          49472.88472388274,
          49451.121119594136,
          49428.902595742635,
          49406.53966875475,
          49386.27494632843,
          49367.18170747911,
          49348.69954613631,
          49329.106079021934,
          49311.057154570764,
          49292.99615406217,
          49275.941918560595,
          49261.24343669207,
          49243.818761607756,
          49227.86367617161,
          49210.6747119893,
          49198.6020359536,
          49186.74653540405,
          49172.9022964001,
          49159.29089498525,
          49145.01018215463,
          49134.835659634235,
          49127.528500864944,
          49121.23910446272,
          49120.240901248624,
          49114.635417132435,
          49114.69974166885,
          49115.60135366405,
          49118.676895577744,
          49122.12576825579,
          49118.62794720232,
          49120.51195894924,
          49128.43617372365,
          49143.32947414154,
          49150.51905753835,
          49164.7641189646,
          49168.47901624823,
          49171.26732765459,
          49191.88114267869,
          49196.96078586317,
          49233.538257768676,
          49264.3899340269,
          49306.185184888134,
          49321.815506517654,
          49335.178640487866,
          49362.599539900606,
          49408.43377821536,
          49422.110910516145,
          49483.94109342893,
          49526.87153782925,
          49566.94547814335,
          49585.90721241507,
          49645.8227639144,
          49704.181171637996,
          49733.05314721425,
          49789.59919457326,
          49843.15179874956,
          49905.716330916,
          49953.49589365325,
          50005.368051039695,
          50067.081797676336,
          50112.43131137862,
          50137.54594002046,
          50137.525212224435,
          50179.00782447906,
          50205.67108341812,
          50233.109772320764,
          50224.910855819646,
          50187.86731936514,
          50133.937233567514,
          50120.336566574595,
          50081.026998784175,
          49991.42669268227,
          49954.567755034615,
          49822.39664959544,
          49766.50024778015,
          49583.2192410453,
          49490.282518279084,
          49277.58380197454,
          49150.03016425368,
          48916.34938529785,
          48756.0930324794,
          48478.8561829118,
          48313.13832167741,
          47991.12506693412,
          47815.55891061501,
          47422.15205199331,
          47240.05574537207,
          46864.83747566302,
          46668.68544516323,
          46289.087716904534,
          46085.72155667014,
          45645.75930644265,
          45389.111294471295,
          45012.90259068664,
          44741.4178093682,
          44413.40652518834,
          44141.083171365695,
          43861.726175691394,
          43570.6744875722,
          43239.308272931645,
          42999.933789470175,
          42742.30285104096,
          42622.14204515933,
          42274.282692640314,
          42263.70614042804,
          41883.682981586855,
          42106.543083230405,
          41572.71985745088,
          41893.27702952337,
          41426.85644574256,
          41955.24408764051,
          41338.09059683291,
          41711.253391460035,
          41349.93692430637,
          41780.41882319049,
          41338.276567914145,
          41778.86537701955,
          41463.261816705985,
          41765.605010518346,
          41840.02719231912,
          42196.88492334892,
          42272.59726796104,
          42717.303198271606,
          42764.15709284254,
          43106.94327750508,
          43087.501123851485,
          43722.185290802,
          43931.89450977947,
          44291.885726360306,
          44903.04214183516,
          44957.96491562687,
          45725.25080300558,
          45687.50663119848,
          46400.2596873098,
          46802.20586909007,
          47453.279684049616,
          47945.89160959454,
          48392.339458409646,
          49377.61375434507,
          49643.29133665636,
          50090.76515591809,
          50775.07969555133,
          51568.38727492854,
          51843.185757536194,
          52628.31597573633,
          53285.01846839629,
          54295.947177776405,
          54716.983767858605,
          55431.407024477456,
          56111.32579039878,
          56520.90830970677,
          57378.6865291642,
          58173.383738803845,
          58531.07732658854,
          59337.19740220897,
          60181.45774672903,
          60799.25521919351,
          61245.0206307359,
          62176.79120780065,
          63157.83037000828,
          64065.04861979658,
          64915.79317174229,
          65758.72831645054,
          66585.93530535435,
          67177.07479523754,
          67687.65098807217,
          68449.14230319882,
          69047.88816228362,
          70139.03601802123,
          71292.30870088685,
          72427.6021224834,
          73145.4339612489,
          73757.25789218646,
          74981.56861923852,
          75715.21940636245,
          76709.65563435559,
          78054.76401329371,
          79312.58157491474,
          80371.48209745747,
          81233.84503889721,
          82714.29799706164,
          83928.1554842424,
          85418.76629910091,
          86615.37430598651,
          88289.6039311495,
          89326.754296586,
          90388.68890545145,
          91833.3299853259,
          92720.10017186652,
          93731.20190912262,
          94911.52370802886,
          95640.0545835709,
          96709.53328664714,
          97429.48641143282,
          98592.01090816817,
          99187.60141942346,
          99762.15844072566,
          100606.44194388979,
          101650.5454864425,
          102137.87755059762,
          103139.590117532,
          103939.93484594647,
          104855.15094715335,
          105639.4378446991,
          106044.56604489089,
          106685.48621427604,
          107115.52928734713,
          107584.00264966452,
          107919.78721844657,
          108246.82946710038,
          108716.65337503413,
          109045.83056575348,
          109341.32717398825,
          109769.11946896857,
          110210.60823933463,
          110424.60997956747,
          110683.6042386389,
          110912.2464138015,
          111108.29756081114,
          111310.84756416107,
          111530.98471605817,
          111784.14232383887,
          111894.26473634694,
          112108.61137949348,
          112172.53063978665,
          112274.90610151707,
          112323.40418934371,
          112381.2870299138,
          112510.18086043576,
          112603.66492770953,
          112636.28196546597,
          112673.47370178957,
          112701.29850439943,
          112749.4077077486,
          112763.0068806506,
          112765.41423885564,
          112781.13692689396,
          112785.34233585975,
          112820.30959395913,
          112851.63109702693,
          112855.3123713847,
          112860.91972709811,
          112859.5360569473,
          112850.28745171947,
          112852.73561893386,
          112828.87475589104,
          112808.75663789018,
          112797.48693563217,
          112772.05350295335,
          112738.2413679463,
          112711.69603469099,
          112690.75054252322,
          112655.4150862312,
          112629.34312024129,
          112600.8583461215,
          112557.06307389734,
          112523.36781497674,
          112482.09842545378,
          112448.39223588984,
          112408.9871195618,
          112370.67783865979,
          112329.65393939186,
          112289.17058505752,
          112249.49468383862,
          112209.24177761296,
          112166.35006283241,
          112122.25486968643,
          112075.3481165598,
          112033.14561459512,
          111987.6915727587,
          111944.84619677068,
          111902.58960198746,
          111856.71014467253,
          111811.63541032544,
          111768.2919024692,
          111723.48514301317,
          111679.2316380416,
          111636.57875484107,
          111591.92306133435,
          111547.93074292046,
          111503.4694533273,
          111460.72616324876,
          111417.51793357267,
          111374.07000694254,
          111332.34324978293,
          111289.92766241878,
          111247.24126074453,
          111205.68038839092,
          111163.72626701536,
          111122.23562084876,
          111081.22672428522,
          111040.71081543586,
          111000.27510435524,
          110960.38771873165,
          110920.39789678788,
          110881.1096506231,
          110841.9958859702,
          110803.38364203375,
          110765.08515323618,
          110726.91592465312,
          110689.28245438467,
          110651.82179341707,
          110614.69998233,
          110578.02024556442,
          110541.58671995593,
          110505.52968420382,
          110469.7663144676,
          110434.38365241018,
          110399.23885945101,
          110364.48263833452,
          110329.95271746206,
          110295.79806834826,
          110261.93907266224,
          110228.38487029534,
          110195.21570279755,
          110162.31700399538,
          110129.77017131718,
          110097.53728909351,
          110065.63278880552,
          110034.05321953777,
          110002.75283962219,
          109971.76707255111,
          109941.1023360972,
          109910.73887215559,
          109880.67947561036,
          109850.913439635,
          109821.43586314553,
          109792.24341553844,
          109763.33767675648,
          109734.73533390077,
          109706.41637640815,
          109678.3743191572,
          109650.61350184848,
          109623.11955473207,
          109595.90417306789,
          109568.96306549103,
          109542.28561316142,
          109515.87726176501,
          109489.73455201462,
          109463.84923529356,
          109438.22324054292,
          109412.85234971305,
          109387.73614415836,
          109362.86988638289,
          109338.25290129114,
          109313.88254027591
         ],
         "yaxis": "y4"
        },
        {
         "hovertemplate": " j: %{x} <br> val: %{y:.1f}",
         "mode": "lines",
         "name": "Colony Weight",
         "showlegend": true,
         "type": "scatter",
         "xaxis": "x6",
         "y": [
          50,
          49.72052876672539,
          49.69137813356516,
          49.6624506935882,
          49.63364753580056,
          49.60507354859295,
          49.57723321042848,
          49.549476082168184,
          49.52163343252907,
          49.49457841670163,
          49.46783831203267,
          49.44180820438929,
          49.415696764642796,
          49.390280624787316,
          49.36438507614367,
          49.33924429460855,
          49.31505793290992,
          49.28990506637269,
          49.26616640067479,
          49.24252555262896,
          49.21997041847848,
          49.19643437344394,
          49.17298318478508,
          49.15209556451026,
          49.13151749844395,
          49.11101452683733,
          49.089031468805416,
          49.06953798538147,
          49.049459597171634,
          49.03042612761984,
          49.0137820885154,
          48.99258343524873,
          48.97503942454798,
          48.95530997359578,
          48.94163052065446,
          48.925790069987336,
          48.90816642300684,
          48.89156154652832,
          48.87456746855026,
          48.86229409546627,
          48.85115746872392,
          48.83948037621217,
          48.83354863735598,
          48.81918281819215,
          48.81402809983282,
          48.80574935269017,
          48.80046447460395,
          48.79473849293413,
          48.78158483421999,
          48.778934109604826,
          48.77754200813881,
          48.7836755477394,
          48.7749864915772,
          48.780844635675074,
          48.76898449353124,
          48.76614117445811,
          48.781022863396345,
          48.76870639936606,
          48.80330096925394,
          48.81185719252909,
          48.83744912307955,
          48.82683584396327,
          48.83134972195056,
          48.85497992046496,
          48.89245898040867,
          48.880206610439345,
          48.93941681302778,
          48.95607892095943,
          48.97774992980503,
          48.985429732258105,
          49.044000427435584,
          49.08294081060868,
          49.09023674101014,
          49.14598717594456,
          49.19179364316396,
          49.240925565764215,
          49.274121961642926,
          49.32350378461004,
          49.37896444058916,
          49.412237188531456,
          49.440802544363784,
          49.45083130610172,
          49.53661523170949,
          49.57910581965936,
          49.62128151848402,
          49.62779053217467,
          49.64095305743642,
          49.66289634138776,
          49.714940328161866,
          49.72357218295431,
          49.69341469127676,
          49.763422456565976,
          49.697668933232265,
          49.78113559186692,
          49.68097346508612,
          49.73666708594919,
          49.63432304939503,
          49.7075812445761,
          49.59693210765406,
          49.62491292966803,
          49.51553357489071,
          49.56342801752024,
          49.42024709338654,
          49.46060328060141,
          49.23648619484463,
          49.37036075918339,
          49.160143762442026,
          49.256515153132746,
          49.05848137832406,
          49.12699941746313,
          48.8760397495936,
          48.93512797359548,
          48.78259567137136,
          48.781605419838904,
          48.66528513720759,
          48.698709580460765,
          48.60188487744126,
          48.5209439914172,
          48.445373710660824,
          48.46133411345364,
          48.44251128982217,
          48.511965256352624,
          48.334319574079096,
          48.56700129640335,
          48.30761111270913,
          48.77128035499596,
          48.21120073585999,
          48.91488553006485,
          48.38726833320249,
          49.2443259813783,
          48.388203402418696,
          49.225954447635374,
          48.72228547793924,
          49.454828875687106,
          48.8322116699382,
          49.592430413549344,
          49.10614576210945,
          49.70489840631436,
          49.66044205817387,
          50.045430548330664,
          50.04480197766595,
          50.54008245841106,
          50.42243893334999,
          50.78774281873585,
          50.62379796563031,
          51.382711173267495,
          51.34811714319248,
          51.64019210871933,
          52.16122981477793,
          51.952352500193165,
          52.730280669222296,
          52.41084389608417,
          53.19377985106165,
          53.30926095009237,
          53.80584469442153,
          54.03005986113862,
          54.29044635322127,
          55.098061147759324,
          54.87967681869479,
          55.28197473233119,
          55.75831692552732,
          56.279255804286905,
          56.174792044222066,
          56.88624941067945,
          57.18458784349211,
          57.88500321264335,
          57.785404552516034,
          58.31954497974486,
          58.65192667649539,
          58.79440913233444,
          59.47210516175628,
          59.843687825813156,
          59.80152197065628,
          60.43568273328302,
          60.876897605204036,
          61.08075798640324,
          61.25789194177427,
          62.000296426619485,
          62.49820055504724,
          62.92685419608095,
          63.289282619083835,
          63.72186271577491,
          64.11708959788795,
          64.3432465921207,
          64.51877100320702,
          65.03220317432925,
          65.23081638837628,
          66.10723531362311,
          66.69797169723803,
          67.2826198109778,
          67.3812993611928,
          67.6002429589765,
          68.59901285621827,
          68.65939866346359,
          69.28713968336581,
          70.16548123386161,
          70.74472508347387,
          71.1446669414146,
          71.44538848350365,
          72.54823543493684,
          72.96218197324572,
          73.8734048945946,
          74.26863561912899,
          75.32010445677213,
          75.47168485294982,
          75.97718601378695,
          76.87309002122336,
          76.93030561947171,
          77.5042203526929,
          78.14662088668052,
          78.18762650428154,
          78.89153013669427,
          78.99234298321709,
          79.75468159884697,
          79.66296202378095,
          79.89449881623362,
          80.40228720448447,
          80.97727636948308,
          80.84992917158235,
          81.5849540651627,
          81.79446376013657,
          82.24163849980312,
          82.47622000207937,
          82.40820270574109,
          82.79511983449336,
          82.80306152059146,
          82.99567639303078,
          83.02644829311542,
          83.10799007192739,
          83.35846316497857,
          83.37556428649982,
          83.43667677063334,
          83.64182995348463,
          83.79723963306915,
          83.70231329736643,
          83.79253486665857,
          83.81139667740125,
          83.81911749781854,
          83.85510382313645,
          83.90490414931618,
          83.97875431035683,
          83.88679430254598,
          83.9875866987275,
          83.86526818604386,
          83.86707203971197,
          83.7944534574973,
          83.76493752570322,
          83.80734284329652,
          83.77612422718697,
          83.70019131171702,
          83.67652223678597,
          83.63341828047426,
          83.62032121232278,
          83.56120792677976,
          83.50585801432848,
          83.47636939682168,
          83.43099337171597,
          83.42097989439993,
          83.39519786542934,
          83.33773710715512,
          83.30008246921028,
          83.2601670638958,
          83.21223731720153,
          83.17950993205982,
          83.11561924351223,
          83.0715019524078,
          83.03592723138595,
          82.97814963124455,
          82.92136689731012,
          82.87709706131997,
          82.83573161710633,
          82.7765062731075,
          82.7345856096459,
          82.68566218013066,
          82.62302479454952,
          82.5793133616045,
          82.52284373528946,
          82.47881057920831,
          82.42529143681107,
          82.3754256474336,
          82.32349623381178,
          82.27321469340534,
          82.22503301522306,
          82.17478167995077,
          82.12317094966912,
          82.071513245223,
          82.01819149796108,
          81.97220171736332,
          81.91998780679849,
          81.87238450860097,
          81.82461784913829,
          81.7730794209216,
          81.7244482181888,
          81.67758137450029,
          81.62828738053588,
          81.58098196232909,
          81.53511047629875,
          81.48655233619814,
          81.44009867853349,
          81.39310083021037,
          81.34828428396003,
          81.30242337540021,
          81.2567626823809,
          81.21332188311945,
          81.16837396024269,
          81.1238777999966,
          81.08092975624218,
          81.03711823706648,
          80.9942739993023,
          80.9518902484689,
          80.90999993853693,
          80.86811698222705,
          80.82701768055263,
          80.78576395067802,
          80.74550872876986,
          80.70519300064379,
          80.66558762866529,
          80.62623935106433,
          80.5870537778389,
          80.54854362857603,
          80.51014674314675,
          80.47219386675619,
          80.43474186787768,
          80.39747401461587,
          80.36067881720727,
          80.32416567249919,
          80.28807825807887,
          80.25221920969861,
          80.21682151169372,
          80.18163758913555,
          80.14691005955709,
          80.11245351964128,
          80.07833167443223,
          80.04462804552186,
          80.01116990115032,
          79.9781037618306,
          79.94534742203459,
          79.91292865670803,
          79.88083864384127,
          79.84902971076737,
          79.81755558283403,
          79.78641251959017,
          79.7555672343734,
          79.72503552114703,
          79.69479781081093,
          79.66486136116286,
          79.6352160456429,
          79.60586892224894,
          79.57683242563606,
          79.54807628592502,
          79.51960288833612,
          79.49141845038244,
          79.4635037678211,
          79.43587851916264,
          79.4085300660866,
          79.38144677627939,
          79.35464130566365,
          79.3281035077429,
          79.301826215361,
          79.27581452301189,
          79.250061427466,
          79.22456769194717,
          79.19932696321769,
          79.17434017471282,
          79.14960310000077,
          79.12511207226444
         ],
         "yaxis": "y6"
        }
       ],
       "layout": {
        "autosize": false,
        "height": 1200,
        "template": {
         "data": {
          "bar": [
           {
            "error_x": {
             "color": "#2a3f5f"
            },
            "error_y": {
             "color": "#2a3f5f"
            },
            "marker": {
             "line": {
              "color": "#E5ECF6",
              "width": 0.5
             }
            },
            "type": "bar"
           }
          ],
          "barpolar": [
           {
            "marker": {
             "line": {
              "color": "#E5ECF6",
              "width": 0.5
             }
            },
            "type": "barpolar"
           }
          ],
          "carpet": [
           {
            "aaxis": {
             "endlinecolor": "#2a3f5f",
             "gridcolor": "white",
             "linecolor": "white",
             "minorgridcolor": "white",
             "startlinecolor": "#2a3f5f"
            },
            "baxis": {
             "endlinecolor": "#2a3f5f",
             "gridcolor": "white",
             "linecolor": "white",
             "minorgridcolor": "white",
             "startlinecolor": "#2a3f5f"
            },
            "type": "carpet"
           }
          ],
          "choropleth": [
           {
            "colorbar": {
             "outlinewidth": 0,
             "ticks": ""
            },
            "type": "choropleth"
           }
          ],
          "contour": [
           {
            "colorbar": {
             "outlinewidth": 0,
             "ticks": ""
            },
            "colorscale": [
             [
              0,
              "#0d0887"
             ],
             [
              0.1111111111111111,
              "#46039f"
             ],
             [
              0.2222222222222222,
              "#7201a8"
             ],
             [
              0.3333333333333333,
              "#9c179e"
             ],
             [
              0.4444444444444444,
              "#bd3786"
             ],
             [
              0.5555555555555556,
              "#d8576b"
             ],
             [
              0.6666666666666666,
              "#ed7953"
             ],
             [
              0.7777777777777778,
              "#fb9f3a"
             ],
             [
              0.8888888888888888,
              "#fdca26"
             ],
             [
              1,
              "#f0f921"
             ]
            ],
            "type": "contour"
           }
          ],
          "contourcarpet": [
           {
            "colorbar": {
             "outlinewidth": 0,
             "ticks": ""
            },
            "type": "contourcarpet"
           }
          ],
          "heatmap": [
           {
            "colorbar": {
             "outlinewidth": 0,
             "ticks": ""
            },
            "colorscale": [
             [
              0,
              "#0d0887"
             ],
             [
              0.1111111111111111,
              "#46039f"
             ],
             [
              0.2222222222222222,
              "#7201a8"
             ],
             [
              0.3333333333333333,
              "#9c179e"
             ],
             [
              0.4444444444444444,
              "#bd3786"
             ],
             [
              0.5555555555555556,
              "#d8576b"
             ],
             [
              0.6666666666666666,
              "#ed7953"
             ],
             [
              0.7777777777777778,
              "#fb9f3a"
             ],
             [
              0.8888888888888888,
              "#fdca26"
             ],
             [
              1,
              "#f0f921"
             ]
            ],
            "type": "heatmap"
           }
          ],
          "heatmapgl": [
           {
            "colorbar": {
             "outlinewidth": 0,
             "ticks": ""
            },
            "colorscale": [
             [
              0,
              "#0d0887"
             ],
             [
              0.1111111111111111,
              "#46039f"
             ],
             [
              0.2222222222222222,
              "#7201a8"
             ],
             [
              0.3333333333333333,
              "#9c179e"
             ],
             [
              0.4444444444444444,
              "#bd3786"
             ],
             [
              0.5555555555555556,
              "#d8576b"
             ],
             [
              0.6666666666666666,
              "#ed7953"
             ],
             [
              0.7777777777777778,
              "#fb9f3a"
             ],
             [
              0.8888888888888888,
              "#fdca26"
             ],
             [
              1,
              "#f0f921"
             ]
            ],
            "type": "heatmapgl"
           }
          ],
          "histogram": [
           {
            "marker": {
             "colorbar": {
              "outlinewidth": 0,
              "ticks": ""
             }
            },
            "type": "histogram"
           }
          ],
          "histogram2d": [
           {
            "colorbar": {
             "outlinewidth": 0,
             "ticks": ""
            },
            "colorscale": [
             [
              0,
              "#0d0887"
             ],
             [
              0.1111111111111111,
              "#46039f"
             ],
             [
              0.2222222222222222,
              "#7201a8"
             ],
             [
              0.3333333333333333,
              "#9c179e"
             ],
             [
              0.4444444444444444,
              "#bd3786"
             ],
             [
              0.5555555555555556,
              "#d8576b"
             ],
             [
              0.6666666666666666,
              "#ed7953"
             ],
             [
              0.7777777777777778,
              "#fb9f3a"
             ],
             [
              0.8888888888888888,
              "#fdca26"
             ],
             [
              1,
              "#f0f921"
             ]
            ],
            "type": "histogram2d"
           }
          ],
          "histogram2dcontour": [
           {
            "colorbar": {
             "outlinewidth": 0,
             "ticks": ""
            },
            "colorscale": [
             [
              0,
              "#0d0887"
             ],
             [
              0.1111111111111111,
              "#46039f"
             ],
             [
              0.2222222222222222,
              "#7201a8"
             ],
             [
              0.3333333333333333,
              "#9c179e"
             ],
             [
              0.4444444444444444,
              "#bd3786"
             ],
             [
              0.5555555555555556,
              "#d8576b"
             ],
             [
              0.6666666666666666,
              "#ed7953"
             ],
             [
              0.7777777777777778,
              "#fb9f3a"
             ],
             [
              0.8888888888888888,
              "#fdca26"
             ],
             [
              1,
              "#f0f921"
             ]
            ],
            "type": "histogram2dcontour"
           }
          ],
          "mesh3d": [
           {
            "colorbar": {
             "outlinewidth": 0,
             "ticks": ""
            },
            "type": "mesh3d"
           }
          ],
          "parcoords": [
           {
            "line": {
             "colorbar": {
              "outlinewidth": 0,
              "ticks": ""
             }
            },
            "type": "parcoords"
           }
          ],
          "pie": [
           {
            "automargin": true,
            "type": "pie"
           }
          ],
          "scatter": [
           {
            "marker": {
             "colorbar": {
              "outlinewidth": 0,
              "ticks": ""
             }
            },
            "type": "scatter"
           }
          ],
          "scatter3d": [
           {
            "line": {
             "colorbar": {
              "outlinewidth": 0,
              "ticks": ""
             }
            },
            "marker": {
             "colorbar": {
              "outlinewidth": 0,
              "ticks": ""
             }
            },
            "type": "scatter3d"
           }
          ],
          "scattercarpet": [
           {
            "marker": {
             "colorbar": {
              "outlinewidth": 0,
              "ticks": ""
             }
            },
            "type": "scattercarpet"
           }
          ],
          "scattergeo": [
           {
            "marker": {
             "colorbar": {
              "outlinewidth": 0,
              "ticks": ""
             }
            },
            "type": "scattergeo"
           }
          ],
          "scattergl": [
           {
            "marker": {
             "colorbar": {
              "outlinewidth": 0,
              "ticks": ""
             }
            },
            "type": "scattergl"
           }
          ],
          "scattermapbox": [
           {
            "marker": {
             "colorbar": {
              "outlinewidth": 0,
              "ticks": ""
             }
            },
            "type": "scattermapbox"
           }
          ],
          "scatterpolar": [
           {
            "marker": {
             "colorbar": {
              "outlinewidth": 0,
              "ticks": ""
             }
            },
            "type": "scatterpolar"
           }
          ],
          "scatterpolargl": [
           {
            "marker": {
             "colorbar": {
              "outlinewidth": 0,
              "ticks": ""
             }
            },
            "type": "scatterpolargl"
           }
          ],
          "scatterternary": [
           {
            "marker": {
             "colorbar": {
              "outlinewidth": 0,
              "ticks": ""
             }
            },
            "type": "scatterternary"
           }
          ],
          "surface": [
           {
            "colorbar": {
             "outlinewidth": 0,
             "ticks": ""
            },
            "colorscale": [
             [
              0,
              "#0d0887"
             ],
             [
              0.1111111111111111,
              "#46039f"
             ],
             [
              0.2222222222222222,
              "#7201a8"
             ],
             [
              0.3333333333333333,
              "#9c179e"
             ],
             [
              0.4444444444444444,
              "#bd3786"
             ],
             [
              0.5555555555555556,
              "#d8576b"
             ],
             [
              0.6666666666666666,
              "#ed7953"
             ],
             [
              0.7777777777777778,
              "#fb9f3a"
             ],
             [
              0.8888888888888888,
              "#fdca26"
             ],
             [
              1,
              "#f0f921"
             ]
            ],
            "type": "surface"
           }
          ],
          "table": [
           {
            "cells": {
             "fill": {
              "color": "#EBF0F8"
             },
             "line": {
              "color": "white"
             }
            },
            "header": {
             "fill": {
              "color": "#C8D4E3"
             },
             "line": {
              "color": "white"
             }
            },
            "type": "table"
           }
          ]
         },
         "layout": {
          "annotationdefaults": {
           "arrowcolor": "#2a3f5f",
           "arrowhead": 0,
           "arrowwidth": 1
          },
          "autotypenumbers": "strict",
          "coloraxis": {
           "colorbar": {
            "outlinewidth": 0,
            "ticks": ""
           }
          },
          "colorscale": {
           "diverging": [
            [
             0,
             "#8e0152"
            ],
            [
             0.1,
             "#c51b7d"
            ],
            [
             0.2,
             "#de77ae"
            ],
            [
             0.3,
             "#f1b6da"
            ],
            [
             0.4,
             "#fde0ef"
            ],
            [
             0.5,
             "#f7f7f7"
            ],
            [
             0.6,
             "#e6f5d0"
            ],
            [
             0.7,
             "#b8e186"
            ],
            [
             0.8,
             "#7fbc41"
            ],
            [
             0.9,
             "#4d9221"
            ],
            [
             1,
             "#276419"
            ]
           ],
           "sequential": [
            [
             0,
             "#0d0887"
            ],
            [
             0.1111111111111111,
             "#46039f"
            ],
            [
             0.2222222222222222,
             "#7201a8"
            ],
            [
             0.3333333333333333,
             "#9c179e"
            ],
            [
             0.4444444444444444,
             "#bd3786"
            ],
            [
             0.5555555555555556,
             "#d8576b"
            ],
            [
             0.6666666666666666,
             "#ed7953"
            ],
            [
             0.7777777777777778,
             "#fb9f3a"
            ],
            [
             0.8888888888888888,
             "#fdca26"
            ],
            [
             1,
             "#f0f921"
            ]
           ],
           "sequentialminus": [
            [
             0,
             "#0d0887"
            ],
            [
             0.1111111111111111,
             "#46039f"
            ],
            [
             0.2222222222222222,
             "#7201a8"
            ],
            [
             0.3333333333333333,
             "#9c179e"
            ],
            [
             0.4444444444444444,
             "#bd3786"
            ],
            [
             0.5555555555555556,
             "#d8576b"
            ],
            [
             0.6666666666666666,
             "#ed7953"
            ],
            [
             0.7777777777777778,
             "#fb9f3a"
            ],
            [
             0.8888888888888888,
             "#fdca26"
            ],
            [
             1,
             "#f0f921"
            ]
           ]
          },
          "colorway": [
           "#636efa",
           "#EF553B",
           "#00cc96",
           "#ab63fa",
           "#FFA15A",
           "#19d3f3",
           "#FF6692",
           "#B6E880",
           "#FF97FF",
           "#FECB52"
          ],
          "font": {
           "color": "#2a3f5f"
          },
          "geo": {
           "bgcolor": "white",
           "lakecolor": "white",
           "landcolor": "#E5ECF6",
           "showlakes": true,
           "showland": true,
           "subunitcolor": "white"
          },
          "hoverlabel": {
           "align": "left"
          },
          "hovermode": "closest",
          "mapbox": {
           "style": "light"
          },
          "paper_bgcolor": "white",
          "plot_bgcolor": "#E5ECF6",
          "polar": {
           "angularaxis": {
            "gridcolor": "white",
            "linecolor": "white",
            "ticks": ""
           },
           "bgcolor": "#E5ECF6",
           "radialaxis": {
            "gridcolor": "white",
            "linecolor": "white",
            "ticks": ""
           }
          },
          "scene": {
           "xaxis": {
            "backgroundcolor": "#E5ECF6",
            "gridcolor": "white",
            "gridwidth": 2,
            "linecolor": "white",
            "showbackground": true,
            "ticks": "",
            "zerolinecolor": "white"
           },
           "yaxis": {
            "backgroundcolor": "#E5ECF6",
            "gridcolor": "white",
            "gridwidth": 2,
            "linecolor": "white",
            "showbackground": true,
            "ticks": "",
            "zerolinecolor": "white"
           },
           "zaxis": {
            "backgroundcolor": "#E5ECF6",
            "gridcolor": "white",
            "gridwidth": 2,
            "linecolor": "white",
            "showbackground": true,
            "ticks": "",
            "zerolinecolor": "white"
           }
          },
          "shapedefaults": {
           "line": {
            "color": "#2a3f5f"
           }
          },
          "ternary": {
           "aaxis": {
            "gridcolor": "white",
            "linecolor": "white",
            "ticks": ""
           },
           "baxis": {
            "gridcolor": "white",
            "linecolor": "white",
            "ticks": ""
           },
           "bgcolor": "#E5ECF6",
           "caxis": {
            "gridcolor": "white",
            "linecolor": "white",
            "ticks": ""
           }
          },
          "title": {
           "x": 0.05
          },
          "xaxis": {
           "automargin": true,
           "gridcolor": "white",
           "linecolor": "white",
           "ticks": "",
           "title": {
            "standoff": 15
           },
           "zerolinecolor": "white",
           "zerolinewidth": 2
          },
          "yaxis": {
           "automargin": true,
           "gridcolor": "white",
           "linecolor": "white",
           "ticks": "",
           "title": {
            "standoff": 15
           },
           "zerolinecolor": "white",
           "zerolinewidth": 2
          }
         }
        },
        "width": 1200,
        "xaxis": {
         "anchor": "y",
         "domain": [
          0,
          0.45
         ]
        },
        "xaxis2": {
         "anchor": "y2",
         "domain": [
          0.55,
          1
         ]
        },
        "xaxis3": {
         "anchor": "y3",
         "domain": [
          0,
          0.45
         ]
        },
        "xaxis4": {
         "anchor": "y4",
         "domain": [
          0.55,
          1
         ]
        },
        "xaxis5": {
         "anchor": "y5",
         "domain": [
          0,
          0.45
         ]
        },
        "xaxis6": {
         "anchor": "y6",
         "domain": [
          0.55,
          1
         ]
        },
        "yaxis": {
         "anchor": "x",
         "domain": [
          0.7,
          1
         ],
         "range": [
          0,
          60000
         ],
         "title": {
          "text": "adult bees"
         }
        },
        "yaxis2": {
         "anchor": "x2",
         "domain": [
          0.7,
          1
         ],
         "range": [
          0,
          6000
         ],
         "title": {
          "text": "pollen stores"
         }
        },
        "yaxis3": {
         "anchor": "x3",
         "domain": [
          0.35,
          0.6499999999999999
         ],
         "range": [
          0,
          35000
         ],
         "title": {
          "text": "brood cells"
         }
        },
        "yaxis4": {
         "anchor": "x4",
         "domain": [
          0.35,
          0.6499999999999999
         ],
         "range": [
          0,
          180000
         ],
         "title": {
          "text": "honey stores"
         }
        },
        "yaxis5": {
         "anchor": "x5",
         "domain": [
          0,
          0.3
         ]
        },
        "yaxis6": {
         "anchor": "x6",
         "domain": [
          0,
          0.3
         ],
         "range": [
          0,
          180
         ],
         "title": {
          "text": "colony weight"
         }
        }
       }
      },
      "text/html": [
       "<div>                            <div id=\"9a98987d-083f-46c8-af43-741941a9e4b4\" class=\"plotly-graph-div\" style=\"height:1200px; width:1200px;\"></div>            <script type=\"text/javascript\">                require([\"plotly\"], function(Plotly) {                    window.PLOTLYENV=window.PLOTLYENV || {};                                    if (document.getElementById(\"9a98987d-083f-46c8-af43-741941a9e4b4\")) {                    Plotly.newPlot(                        \"9a98987d-083f-46c8-af43-741941a9e4b4\",                        [{\"hovertemplate\": \" j: %{x} <br> val: %{y:.1f}\", \"mode\": \"lines\", \"name\": \"Adult Bees\", \"showlegend\": true, \"type\": \"scatter\", \"xaxis\": \"x\", \"y\": [15000.0, 14849.915849198136, 14701.311878827582, 14554.16131869263, 14408.456972918268, 14264.185757476062, 14121.333553407225, 13979.88370659736, 13839.805329485229, 13701.096366189347, 13563.747267833709, 13427.728367327276, 13293.025612758429, 13159.613699444704, 13027.49194176774, 12896.628239921676, 12767.03244893132, 12638.665831454633, 12511.501483756965, 12385.553850301972, 12260.773706680016, 12137.89898310256, 12016.197869351936, 11895.681955340448, 11776.368793678572, 11658.14652505108, 11541.021828762021, 11424.992695481636, 11310.124356538412, 11196.291382158859, 11083.531743847465, 10971.80701124126, 10861.099544507577, 10751.437318703776, 10642.777450482667, 10535.103806495687, 10428.285699773378, 10322.40289513079, 10217.534211764252, 10113.608638346313, 10010.634340456996, 9908.366609276867, 9806.945512986958, 9706.269561993799, 9606.311294175715, 9507.362564447982, 9408.991484588452, 9311.348020862053, 9214.564043813682, 9118.51464395132, 9023.265778308416, 8928.648819234591, 8834.599911808391, 8740.8403674128, 8647.905082696037, 8555.37786886294, 8463.937521814338, 8372.964216698361, 8282.21426760313, 8192.566614925698, 8102.784217379984, 8013.135149083796, 7923.957985370935, 7836.010046935192, 7748.612253514781, 7661.538281102158, 7574.830047111271, 7490.107310705369, 7404.5322189012395, 7320.84232306142, 7237.418283827218, 7156.94863291628, 7076.527506322821, 6997.11012752175, 6921.3167579667825, 6846.305975091594, 6774.219341066228, 6705.263025754244, 6639.979123761404, 6578.054633722683, 6523.559752402869, 6472.591740761003, 6425.548036672921, 6384.200450293439, 6345.844597650013, 6317.621695328493, 6291.549275604056, 6275.144980008626, 6265.52841260654, 6259.4975389705, 6274.717019473955, 6300.010494686931, 6330.141029973536, 6380.705222348186, 6434.5037833240585, 6504.8563248785185, 6572.779220805695, 6672.135786730165, 6775.613143580356, 6916.76798972214, 7059.75705812857, 7214.860446837117, 7378.1847746249405, 7593.484046540905, 7800.630395959915, 8038.0153211160705, 8244.927719389001, 8499.397967853454, 8751.448539732464, 9053.333752155193, 9345.14946899479, 9653.7013657538, 9948.015395991599, 10303.796624554436, 10664.769754472192, 11039.118179367377, 11412.964503586418, 11815.207371819628, 12244.243478844057, 12637.747539558146, 13038.12822294214, 13482.661607401475, 13918.552245657169, 14402.262123936387, 14842.859243747609, 15321.51730088242, 15747.854730225545, 16250.804476238478, 16669.072990436234, 17184.984036457925, 17596.88982252768, 18179.586214834297, 18599.509708979393, 19103.57852608416, 19505.741734716405, 20015.459215344843, 20447.772559180077, 20970.08156189853, 21409.28282205975, 21895.08964789281, 22361.528599494595, 22847.039197282404, 23260.500692843598, 23754.34137009949, 24189.36466208325, 24674.992289303438, 25076.03968083493, 25562.465282522197, 25981.948517142584, 26436.12153600174, 26862.396909269013, 27228.507593405768, 27653.122277975, 28065.6749016661, 28490.674156214493, 28843.54179822765, 29232.11666142568, 29617.954236826874, 29990.93836444323, 30426.067970973665, 30752.595846612247, 31092.475467304077, 31479.50431436017, 31850.9188273685, 32238.48078624741, 32617.8545374446, 32949.892710269116, 33350.505053596054, 33733.18491586637, 34091.463678923494, 34457.63322756671, 34833.01193669296, 35182.60344392588, 35521.22213756967, 35890.49468287219, 36234.303302675406, 36559.260175419906, 36920.48453646972, 37258.45612114494, 37579.45452925803, 37924.88930967809, 38233.509809012554, 38522.94297602598, 38785.47129607709, 39043.81685345049, 39343.023570145626, 39615.20174494198, 39843.03965284662, 40080.65247482195, 40239.57114155698, 40387.277827668775, 40530.92476301046, 40669.76284994662, 40810.86499085626, 40914.67491570134, 40998.743787035186, 41049.41492095734, 41058.2497132565, 41058.058446609764, 41098.05444439441, 41088.31506339755, 41071.43313312738, 41041.97860142594, 41044.604875048775, 41046.89486934442, 41025.135647250034, 41022.90420571249, 40998.29494735751, 40991.34082607312, 40998.707014900596, 40998.905775064806, 40996.12052537177, 40991.991001955816, 41014.672425768134, 41029.695270029995, 41066.03051336681, 41103.341025892376, 41164.44713081408, 41196.52766162837, 41222.99687438028, 41259.54735019323, 41275.50543606879, 41284.5138634965, 41254.86179300531, 41258.051349352485, 41258.294703683314, 41234.0918549137, 41216.08651483804, 41182.16946517947, 41129.33623200211, 41078.60858618664, 41006.453165930994, 40919.809808028614, 40840.044626146635, 40736.67978213754, 40626.45082366613, 40511.87384773465, 40373.110775387315, 40206.961391196935, 40049.35600491314, 39874.10500382989, 39678.65942147617, 39477.21950101462, 39278.25024816618, 39058.71794538167, 38839.48520717593, 38612.8718285593, 38380.29350004856, 38132.77537039353, 37871.065999064995, 37605.782376515635, 37336.91809100621, 37055.332014307496, 36767.60484809107, 36473.698562220794, 36175.704154224695, 35871.680394679905, 35563.863124792195, 35253.031714192104, 34939.96878995824, 34622.4551598579, 34303.49719741817, 33983.69708508228, 33662.50143560884, 33342.66572700313, 33023.17763305788, 32706.889790152265, 32392.618394968464, 32080.070413011174, 31770.61961775488, 31463.283323521096, 31157.635065901966, 30854.994663798938, 30554.71363009285, 30256.756569523583, 29961.07297338831, 29667.984618173963, 29377.605344342857, 29089.808713837338, 28804.157810765326, 28521.329706227545, 28240.911578320698, 27963.018409602897, 27687.745235982886, 27414.820603853044, 27144.4030860739, 26876.668720224192, 26611.36238209333, 26348.376579175743, 26087.919909569133, 25829.97104777347, 25574.213791967086, 25320.861821556635, 25069.97362515399, 24821.567696175534, 24575.369933475737, 24331.58180910885, 24090.05034295567, 23850.855370179732, 23613.998556976367, 23379.414699335674, 23147.1125943301, 22916.99875365889, 22689.140268597905, 22463.498877762646, 22239.960666809242, 22018.659434324476, 21799.557865532537, 21582.525500759344, 21367.639278374983, 21154.85282580979, 20944.1630917367, 20735.51067892314, 20528.898834039384, 20324.30140360334, 20121.737456310442, 19921.16539445322, 19722.56921354303, 19525.919271915096, 19331.19317830246, 19138.38854763207, 18947.469310362725, 18758.450632456934, 18571.30231410587, 18385.980811363126, 18202.505467563744, 18020.831143930845, 17840.957038387787, 17662.871039376605, 17486.543342791643, 17311.965588115632, 17139.10861970168, 16967.97361049213, 16798.53009849006, 16630.767131801393, 16464.666305372797, 16300.220415721265, 16137.405826976337, 15976.207367933377, 15816.61198109926, 15658.60250055321, 15502.162432270927, 15347.280371038982, 15193.934797442216, 15042.116283284218, 14891.812489627038, 14743.002034773324, 14595.672286164066, 14449.809785575837, 14305.402409203276, 14162.434407867127, 14020.889196291357, 13880.756196716984, 13742.019707813997, 13604.664573427837, 13468.679114175704, 13334.050424457691, 13200.765066531703, 13068.80864444499, 12938.16885385574, 12808.832948456178, 12680.787332634627, 12554.019012346585, 12428.516920075523, 12304.266380205952, 12181.257255764845], \"yaxis\": \"y\"}, {\"hovertemplate\": \" j: %{x} <br> val: %{y:.1f}\", \"mode\": \"lines\", \"name\": \"Pollen Stores\", \"showlegend\": true, \"type\": \"scatter\", \"xaxis\": \"x2\", \"y\": [0.0, 0.035819887204867076, 0.14529276861230278, 0.28555768596070896, 0.3158722312751725, 0.2716913536913238, 0.39242204710861284, 0.43317627592028196, 0.5018990879435491, 0.4707090270773898, 0.502931269584161, 0.5719821290875262, 0.949455776978172, 0.6738465602580728, 1.102002798088011, 0.9476907214355554, 1.3855944416373083, 1.0720811421948433, 1.237535706030818, 1.214209644322187, 1.9121814962945383, 2.266099889000598, 1.8853997316521216, 1.9134101419996368, 2.3137971601373506, 2.586067012768722, 2.621523011139085, 2.671518758947717, 3.432192001611776, 3.5376199094303136, 4.765041679988938, 4.278656807967179, 5.456363721450607, 5.800958814109173, 4.79251641400036, 5.484626339090074, 7.541398540240035, 7.397013918949757, 8.5262170818755, 8.47625135469528, 9.65421404499572, 10.142905034824773, 12.524485542479395, 12.509628568236325, 13.74878826648831, 10.619548777643447, 11.840814844672044, 14.032888328971817, 16.15907504690398, 20.75070433890312, 14.939121969125786, 23.029670809859788, 19.35805793864106, 25.798885847610187, 20.942337675207092, 32.250470917913376, 32.190739110082816, 30.08053049211378, 46.10574440399225, 50.336484403797854, 61.06320689444071, 63.00579325968726, 72.49937994311378, 90.94335618216539, 114.21318437327753, 113.70211418262966, 117.71502883915753, 139.95438829400587, 144.95696869288324, 174.68240895507319, 176.11324299368306, 198.98790631968555, 212.58675219489066, 226.06188851962867, 275.25827581044814, 280.20406916641065, 301.2026215182163, 334.0120340860731, 347.2105462095579, 360.0988717272549, 402.154802053323, 418.92702372622296, 490.1060691317479, 540.1141558820865, 547.6084045276344, 560.7660483552022, 643.3189755470237, 734.6585985730942, 725.5289930670361, 757.8765323344564, 776.6540247226787, 855.0700897414868, 876.3279284094366, 971.456998518577, 1005.0772115151236, 1027.868059004577, 1095.9179650007065, 1244.0516986757102, 1246.0592245286994, 1291.3745016079945, 1408.043199327234, 1441.7584990224843, 1567.2102753941836, 1486.5494680435272, 1560.0083351013907, 1724.789030785323, 1706.2547587289744, 1822.8742313843563, 1865.125919095839, 1853.9512655139927, 1896.4050314800345, 1934.8712406363866, 2019.1030287691813, 2021.1259298017371, 2006.0534471611234, 2264.7728254321537, 2109.734336026195, 2097.649770783628, 2226.433476520083, 2250.854500035296, 2431.1709247846125, 2340.057083336762, 2507.2559029192325, 2446.503534475536, 2620.809218138657, 2449.8333282049625, 2545.8204919795207, 2630.4219091021955, 2759.7570309796456, 2735.5013974542567, 2698.918907672408, 2869.0664645819074, 2778.19482985257, 2867.682883388966, 2812.5490086850923, 2838.4962619361995, 2839.929954570567, 3024.764150656286, 2880.262802608082, 2875.5584213583966, 3076.56503139549, 3094.588533383382, 3098.599901561088, 3011.9405158814598, 2943.3444518366796, 3109.7119025505544, 3196.310003093387, 3061.9338717105884, 3231.6334031807505, 3203.5222165845225, 3031.8342697855433, 3384.8114473524074, 3238.6214457401697, 3301.4274027039028, 3260.099116839154, 3306.6988442091324, 3353.239877101877, 3321.245614280292, 3272.2736951863467, 3336.5235856460395, 3200.090191234487, 3347.911440222957, 3343.193011434739, 3342.822177440248, 3350.832653219807, 3189.7140946454406, 3165.9664443102856, 3093.7448985007973, 3019.7837802200575, 3306.872182258138, 3144.932045988638, 3118.0368313623503, 3188.7164925368643, 2981.1383406867535, 2900.7777822190506, 2942.519290358112, 3102.5036689160406, 3028.5024639806716, 2885.6300930718735, 2944.7629985417543, 2775.274410653895, 2790.084905353685, 2689.3965189026003, 2914.3890532307405, 2747.5334162840045, 2700.816663921431, 2655.83862116701, 2835.6301314827247, 2694.0816310057135, 2812.368336597542, 2759.8114145808368, 2659.9251744706817, 2831.3033605413675, 2732.3821916245865, 2669.814678114563, 2726.511209183781, 2749.8011605244023, 2736.5975791217734, 2739.208914805479, 2817.136444574984, 2726.6279563960125, 2823.8615769599414, 2788.6160287645507, 2622.807742340594, 2715.399274307002, 2641.3191898380796, 2543.349704475768, 2406.6159892497967, 2538.923912430435, 2459.6812002446036, 2339.9200490314483, 2411.2054974681796, 2335.5303910061402, 2192.8887965230947, 2136.2408937106447, 2133.723050503082, 2049.9423200326846, 1990.7419973266376, 1974.8984782560387, 1931.1030684728348, 1832.1163058958352, 1718.173483647315, 1581.8928236960169, 1612.76877027299, 1536.4424456303423, 1399.741035767664, 1389.2434176111797, 1360.3477820361159, 1262.5656642901743, 1234.4562884764061, 1187.0314870756113, 1134.5586459572003, 1027.7352298428157, 957.3712272825987, 902.1268245743792, 864.7041032817715, 763.8014066712772, 693.3897800005842, 647.1334293694422, 577.6991420948725, 503.4779231445965, 466.3315500186601, 422.9650917818369, 360.4435203940893, 289.5724739003408, 240.02888036367779, 195.163699513072, 143.83063188106314, 114.04310071319983, 86.46716285779635, 107.44578198396343, 89.55651770363633, 81.66843046147312, 82.17090583420728, 59.87731358396374, 53.965040437915405, 62.843217111240335, 48.16913056683808, 56.203033470892905, 41.18506503143017, 31.051484577662578, 45.736738134832464, 40.59605756437047, 26.09027570461481, 25.803675367215362, 26.411347985117175, 29.69293147337863, 22.998971259493047, 22.459942971455362, 18.847021942073305, 18.059965274965585, 19.6041485733476, 14.85850008149633, 12.472544508497997, 13.915908941455815, 10.60326488973465, 11.301043011989265, 9.766768251092458, 10.807980229296533, 7.194747535844201, 8.414949952483616, 6.022616496986075, 8.883906628895822, 5.939433262685494, 6.689732706176551, 4.989469511374487, 4.58827595337333, 5.690518410440964, 5.576120063585492, 3.7990701437821457, 3.6975516737002234, 4.434272493553385, 3.7757650645585557, 3.6013015924530842, 2.667310735715347, 2.999537850517754, 2.2817168543406376, 2.186547382099284, 1.9810869537568667, 2.1056865389603274, 1.4160865270005463, 1.5568395063898142, 1.4826627883821493, 1.336183706257831, 1.0567252525126127, 1.2968911098965537, 1.29875157453401, 1.1178369445619847, 1.0331338125312843, 0.8799155429562733, 0.7812671070084332, 0.5795840084524493, 0.47515218258301606, 0.5936445638111942, 0.6105415108003591, 0.36460670635050296, 0.38248991182083303, 0.3956626905484639, 0.3942124088195298, 0.2717273717046622, 0.2853967931396959, 0.22805498602496055, 0.2691872307238495, 0.20654873634975074, 0.2233481735687352, 0.1944584137752297, 0.16356617728582723, 0.15130092276895257, 0.11124362334528481, 0.12268924490394617, 0.13330878641011978, 0.1140296191861001, 0.08237970168210085, 0.06817815659475224, 0.06477582757903921, 0.05314789829272959, 0.05904434899715344, 0.048447600833703724, 0.04540834717154782, 0.05465487319704779, 0.03367325103586778, 0.03697269421266798, 0.030424726430649696, 0.033922704178999216, 0.023585872830891585, 0.027896077689602478, 0.02019994317211061, 0.020054908373160957, 0.014544788356308874, 0.014219880567869762, 0.013490463419588289, 0.01290260180205919, 0.011883040550166382, 0.009174884796544908, 0.009266716117196094, 0.005722152037548011, 0.006972322792974238, 0.004751947664217944, 0.004136122837642173, 0.004121925271674699, 0.0032333433070687624, 0.0024137282986102324, 0.002338108461952806, 0.0019504054363844794, 0.0016229101879959946, 0.0016663933060061887], \"yaxis\": \"y2\"}, {\"hovertemplate\": \" j: %{x} <br> val: %{y:.1f}\", \"mode\": \"lines\", \"name\": \"Brood cells\", \"showlegend\": true, \"type\": \"scatter\", \"xaxis\": \"x3\", \"y\": [0.0, 3.994666674681331, 8.14992742072583, 8.66323657066373, 12.240800263401411, 15.1794100608785, 16.90710044006107, 18.821885733400656, 20.2166112309407, 22.375026094148946, 24.541393204826715, 27.02114529358717, 29.83900760975658, 32.55233046235067, 35.477731210042634, 38.75111351069221, 41.93525570043408, 45.5359180014394, 49.409312304679986, 53.7784604568339, 57.74829712127604, 61.49867062651519, 65.82440378457238, 70.37135222232399, 74.74122083350298, 80.44864785023935, 85.72417264250319, 90.93317711939122, 98.24324374975369, 105.51596365941222, 112.29878111104452, 120.51657256927385, 129.36619385896762, 137.20572924494266, 145.76174432826593, 155.44800395327727, 166.36835604967123, 177.60822203552027, 188.8307472972025, 203.2199728040348, 218.14139115035513, 231.6129486986907, 247.94747272319466, 266.95325936781114, 283.91902076389533, 302.15632582467265, 323.9626477554833, 346.95078082393684, 368.88047613428193, 394.24449544670813, 421.30855169397495, 449.2390242877459, 482.836835695474, 513.8196867719959, 550.4011900254535, 585.2838125973037, 622.1469219894924, 669.8743209537158, 715.6976352148114, 761.1631302426301, 818.3857814050599, 881.9990961773134, 942.0260681358307, 1010.3866766835858, 1086.6048379318725, 1179.0344577089982, 1265.1371291963944, 1351.0449674495862, 1463.3686565945338, 1564.232085913789, 1682.85777137309, 1815.3230466872633, 1942.266403046503, 2085.3731596202942, 2243.215717971832, 2411.9689105920343, 2572.428841959822, 2757.0672769567286, 2949.037424121319, 3131.612746210092, 3341.67816965121, 3548.973512021739, 3769.464604005713, 4040.333661996968, 4301.611582113735, 4551.638035872607, 4795.317453886991, 5075.921717171646, 5430.378712507898, 5728.291418022762, 5993.249802583077, 6274.276616283853, 6590.47812887589, 6931.439408762704, 7292.1799724700395, 7626.331219767704, 7915.231838224012, 8269.681587068131, 8696.057474828793, 9017.335468701493, 9353.418756082709, 9750.198860785196, 10103.760317552831, 10498.859646239187, 10825.796633907124, 11134.424367661, 11607.330204339454, 11950.597069910495, 12282.387444641638, 12654.913220705508, 12970.02827219536, 13327.883303757257, 13627.316705689143, 13930.894260242396, 14238.915413435629, 14456.028562470296, 14788.191838792656, 14996.998300267971, 15171.511934714843, 15430.525666383859, 15654.072880468993, 15954.917524887562, 16123.852757479035, 16315.935272142744, 16538.41271541218, 16752.615570139915, 16951.90790690437, 17060.09442270996, 17311.022176185586, 17600.794559413953, 17679.932076365258, 17796.084445617344, 18018.220852171577, 18224.486034103993, 18413.56367099165, 18462.72029866215, 18547.144158595132, 18692.217945555472, 18859.13710466259, 18940.757543732758, 18931.12647064815, 19105.762250725853, 19270.38113025534, 19347.2595821613, 19350.2020308989, 19400.965144642898, 19464.693658017582, 19606.611937595975, 19617.469489857816, 19683.11213473689, 19781.267009089453, 19802.761354540344, 19857.267736844038, 19921.619017773664, 19999.98792633741, 20037.919201252822, 20050.528047611755, 20122.60720338428, 20116.292470930654, 20117.309873100814, 20215.888268884744, 20147.347956964695, 20145.367907981978, 20141.79261019552, 20095.951044714027, 20157.534981988298, 20055.193340955448, 19880.26317312324, 19819.96763875014, 19696.75108128088, 19673.90748724664, 19629.305682102182, 19411.167741718178, 19309.744055752795, 19227.279541975106, 19010.083152670053, 18887.53375919279, 18795.121039921323, 18651.618948839707, 18498.674087071468, 18291.664841831356, 18101.63637511479, 18022.897675813627, 17850.68655242407, 17760.317649322576, 17519.643234740295, 17269.67768685614, 17115.292544680182, 16974.031129634248, 16844.98578302955, 16660.331644089467, 16510.724824132383, 16289.465813248176, 16164.46281800456, 16039.686403399679, 15809.994706390395, 15705.405153375848, 15566.513056405525, 15376.13864760757, 15253.306549919262, 15111.702062336646, 14962.480240742661, 14780.253077626609, 14605.031435768, 14372.332408032185, 14225.115089545048, 14000.785759214397, 13758.056742075103, 13470.507119522788, 13226.648203228942, 13017.371984990077, 12698.176072006667, 12379.460864468614, 12130.391355705511, 11766.64942646305, 11399.791604755597, 11073.46501454599, 10701.943849140192, 10331.540864234532, 10000.903575418033, 9638.310169580851, 9263.798990827428, 8926.54176186445, 8545.739132841041, 8186.781156827251, 7845.564107518385, 7464.59367229192, 7115.607620980913, 6792.250266782741, 6435.875958694846, 6106.288401720716, 5810.753525858621, 5473.330152222714, 5155.505520382092, 4849.2849191233545, 4552.296167952734, 4278.605812942262, 4014.44847555703, 3741.685354643306, 3499.21191920742, 3265.3349001550364, 3028.365971868757, 2804.5425021358437, 2596.293517278752, 2389.695850105877, 2192.4142035745726, 1996.1358517484186, 1824.7823514363852, 1664.2948060844064, 1510.9103697937917, 1370.094701112013, 1243.17032853714, 1130.3225191713054, 1026.562655528215, 928.9565283107701, 844.4835423510056, 766.8908906128634, 699.4112943118819, 637.5050858890212, 583.1681807307671, 538.3049952497485, 496.903448615433, 461.07549060762756, 430.2375212199971, 401.03496694717137, 372.9251035946449, 349.1731457836806, 326.066561826203, 302.59771750348045, 283.3233690116889, 265.82735349246013, 246.58990962676245, 230.1699719556717, 215.05879426387645, 201.15979695928021, 188.4572270759602, 175.3780124968349, 164.12248521278275, 153.62106680151646, 143.7517840417896, 134.29521819417246, 125.65814714075206, 117.59250247211236, 109.98506884504147, 102.95190832639179, 95.78969261427042, 89.44021826523274, 84.04545580140308, 78.22324849469301, 72.9155121757816, 68.46180889468678, 64.1074869099361, 60.02661229994555, 55.920642100086894, 52.30352962557363, 48.98663741537426, 45.94280259953871, 42.98481967029032, 40.20757880674131, 37.61463138470867, 35.146475761998644, 32.81634191479027, 30.641034925490256, 28.707444489214645, 26.781197381939812, 25.053200770468276, 23.47128856263042, 21.8821666840137, 20.560440464536136, 19.21751520014378, 17.931446716087674, 16.79569921580495, 15.69823186595928, 14.737294905177537, 13.719535294977447, 12.814732237801561, 11.993949274773762, 11.20759518786084, 10.474630068326187, 9.803108157719876, 9.200003310512056, 8.585644626508133, 8.027046472686687, 7.50759978074476, 6.997359045643005, 6.5824960312629734, 6.154060209676231, 5.725260878869829, 5.365097354721495, 5.018256752171997, 4.711231314517061, 4.3937146129228655, 4.111896969062111, 3.8660977943118446, 3.6065532220807954, 3.3659563613654004, 3.153234828442552, 2.9483796510562534, 2.754828983771402, 2.5749684646007385, 2.415834964951852, 2.2601523691690804, 2.1120118512636115, 1.980338412807876, 1.8484231593188747, 1.7270171076571144, 1.6245733033492935, 1.5149459617588754, 1.419001865728813, 1.3290107146839802, 1.2401635986622654, 1.1635833491850183, 1.084914674412024, 1.0176557281003913, 0.9526778174199737, 0.8902162763551589, 0.8343599500724216, 0.7795142371905585, 0.7309543679974382, 0.6839974332019256, 0.6385292727977868, 0.5979372785486239, 0.5600223222013334, 0.5253484192977389, 0.49025038924238484, 0.4589498347994273], \"yaxis\": \"y3\"}, {\"hovertemplate\": \" j: %{x} <br> val: %{y:.1f}\", \"mode\": \"lines\", \"name\": \"Honey Stores\", \"showlegend\": true, \"type\": \"scatter\", \"xaxis\": \"x4\", \"y\": [50000.0, 49970.17041278028, 49940.945197979134, 49912.27199490093, 49883.92620872227, 49855.72752104842, 49827.70231984133, 49800.21422709918, 49773.02536487919, 49745.803936991004, 49719.07115248733, 49692.73741346075, 49667.126969105186, 49641.623487676945, 49616.82333321072, 49591.66492418709, 49567.00861391363, 49543.23614723538, 49519.056707448304, 49495.73824905675, 49472.88472388274, 49451.121119594136, 49428.902595742635, 49406.53966875475, 49386.27494632843, 49367.18170747911, 49348.69954613631, 49329.106079021934, 49311.057154570764, 49292.99615406217, 49275.941918560595, 49261.24343669207, 49243.818761607756, 49227.86367617161, 49210.6747119893, 49198.6020359536, 49186.74653540405, 49172.9022964001, 49159.29089498525, 49145.01018215463, 49134.835659634235, 49127.528500864944, 49121.23910446272, 49120.240901248624, 49114.635417132435, 49114.69974166885, 49115.60135366405, 49118.676895577744, 49122.12576825579, 49118.62794720232, 49120.51195894924, 49128.43617372365, 49143.32947414154, 49150.51905753835, 49164.7641189646, 49168.47901624823, 49171.26732765459, 49191.88114267869, 49196.96078586317, 49233.538257768676, 49264.3899340269, 49306.185184888134, 49321.815506517654, 49335.178640487866, 49362.599539900606, 49408.43377821536, 49422.110910516145, 49483.94109342893, 49526.87153782925, 49566.94547814335, 49585.90721241507, 49645.8227639144, 49704.181171637996, 49733.05314721425, 49789.59919457326, 49843.15179874956, 49905.716330916, 49953.49589365325, 50005.368051039695, 50067.081797676336, 50112.43131137862, 50137.54594002046, 50137.525212224435, 50179.00782447906, 50205.67108341812, 50233.109772320764, 50224.910855819646, 50187.86731936514, 50133.937233567514, 50120.336566574595, 50081.026998784175, 49991.42669268227, 49954.567755034615, 49822.39664959544, 49766.50024778015, 49583.2192410453, 49490.282518279084, 49277.58380197454, 49150.03016425368, 48916.34938529785, 48756.0930324794, 48478.8561829118, 48313.13832167741, 47991.12506693412, 47815.55891061501, 47422.15205199331, 47240.05574537207, 46864.83747566302, 46668.68544516323, 46289.087716904534, 46085.72155667014, 45645.75930644265, 45389.111294471295, 45012.90259068664, 44741.4178093682, 44413.40652518834, 44141.083171365695, 43861.726175691394, 43570.6744875722, 43239.308272931645, 42999.933789470175, 42742.30285104096, 42622.14204515933, 42274.282692640314, 42263.70614042804, 41883.682981586855, 42106.543083230405, 41572.71985745088, 41893.27702952337, 41426.85644574256, 41955.24408764051, 41338.09059683291, 41711.253391460035, 41349.93692430637, 41780.41882319049, 41338.276567914145, 41778.86537701955, 41463.261816705985, 41765.605010518346, 41840.02719231912, 42196.88492334892, 42272.59726796104, 42717.303198271606, 42764.15709284254, 43106.94327750508, 43087.501123851485, 43722.185290802, 43931.89450977947, 44291.885726360306, 44903.04214183516, 44957.96491562687, 45725.25080300558, 45687.50663119848, 46400.2596873098, 46802.20586909007, 47453.279684049616, 47945.89160959454, 48392.339458409646, 49377.61375434507, 49643.29133665636, 50090.76515591809, 50775.07969555133, 51568.38727492854, 51843.185757536194, 52628.31597573633, 53285.01846839629, 54295.947177776405, 54716.983767858605, 55431.407024477456, 56111.32579039878, 56520.90830970677, 57378.6865291642, 58173.383738803845, 58531.07732658854, 59337.19740220897, 60181.45774672903, 60799.25521919351, 61245.0206307359, 62176.79120780065, 63157.83037000828, 64065.04861979658, 64915.79317174229, 65758.72831645054, 66585.93530535435, 67177.07479523754, 67687.65098807217, 68449.14230319882, 69047.88816228362, 70139.03601802123, 71292.30870088685, 72427.6021224834, 73145.4339612489, 73757.25789218646, 74981.56861923852, 75715.21940636245, 76709.65563435559, 78054.76401329371, 79312.58157491474, 80371.48209745747, 81233.84503889721, 82714.29799706164, 83928.1554842424, 85418.76629910091, 86615.37430598651, 88289.6039311495, 89326.754296586, 90388.68890545145, 91833.3299853259, 92720.10017186652, 93731.20190912262, 94911.52370802886, 95640.0545835709, 96709.53328664714, 97429.48641143282, 98592.01090816817, 99187.60141942346, 99762.15844072566, 100606.44194388979, 101650.5454864425, 102137.87755059762, 103139.590117532, 103939.93484594647, 104855.15094715335, 105639.4378446991, 106044.56604489089, 106685.48621427604, 107115.52928734713, 107584.00264966452, 107919.78721844657, 108246.82946710038, 108716.65337503413, 109045.83056575348, 109341.32717398825, 109769.11946896857, 110210.60823933463, 110424.60997956747, 110683.6042386389, 110912.2464138015, 111108.29756081114, 111310.84756416107, 111530.98471605817, 111784.14232383887, 111894.26473634694, 112108.61137949348, 112172.53063978665, 112274.90610151707, 112323.40418934371, 112381.2870299138, 112510.18086043576, 112603.66492770953, 112636.28196546597, 112673.47370178957, 112701.29850439943, 112749.4077077486, 112763.0068806506, 112765.41423885564, 112781.13692689396, 112785.34233585975, 112820.30959395913, 112851.63109702693, 112855.3123713847, 112860.91972709811, 112859.5360569473, 112850.28745171947, 112852.73561893386, 112828.87475589104, 112808.75663789018, 112797.48693563217, 112772.05350295335, 112738.2413679463, 112711.69603469099, 112690.75054252322, 112655.4150862312, 112629.34312024129, 112600.8583461215, 112557.06307389734, 112523.36781497674, 112482.09842545378, 112448.39223588984, 112408.9871195618, 112370.67783865979, 112329.65393939186, 112289.17058505752, 112249.49468383862, 112209.24177761296, 112166.35006283241, 112122.25486968643, 112075.3481165598, 112033.14561459512, 111987.6915727587, 111944.84619677068, 111902.58960198746, 111856.71014467253, 111811.63541032544, 111768.2919024692, 111723.48514301317, 111679.2316380416, 111636.57875484107, 111591.92306133435, 111547.93074292046, 111503.4694533273, 111460.72616324876, 111417.51793357267, 111374.07000694254, 111332.34324978293, 111289.92766241878, 111247.24126074453, 111205.68038839092, 111163.72626701536, 111122.23562084876, 111081.22672428522, 111040.71081543586, 111000.27510435524, 110960.38771873165, 110920.39789678788, 110881.1096506231, 110841.9958859702, 110803.38364203375, 110765.08515323618, 110726.91592465312, 110689.28245438467, 110651.82179341707, 110614.69998233, 110578.02024556442, 110541.58671995593, 110505.52968420382, 110469.7663144676, 110434.38365241018, 110399.23885945101, 110364.48263833452, 110329.95271746206, 110295.79806834826, 110261.93907266224, 110228.38487029534, 110195.21570279755, 110162.31700399538, 110129.77017131718, 110097.53728909351, 110065.63278880552, 110034.05321953777, 110002.75283962219, 109971.76707255111, 109941.1023360972, 109910.73887215559, 109880.67947561036, 109850.913439635, 109821.43586314553, 109792.24341553844, 109763.33767675648, 109734.73533390077, 109706.41637640815, 109678.3743191572, 109650.61350184848, 109623.11955473207, 109595.90417306789, 109568.96306549103, 109542.28561316142, 109515.87726176501, 109489.73455201462, 109463.84923529356, 109438.22324054292, 109412.85234971305, 109387.73614415836, 109362.86988638289, 109338.25290129114, 109313.88254027591], \"yaxis\": \"y4\"}, {\"hovertemplate\": \" j: %{x} <br> val: %{y:.1f}\", \"mode\": \"lines\", \"name\": \"Colony Weight\", \"showlegend\": true, \"type\": \"scatter\", \"xaxis\": \"x6\", \"y\": [50.0, 49.72052876672539, 49.69137813356516, 49.6624506935882, 49.63364753580056, 49.60507354859295, 49.57723321042848, 49.549476082168184, 49.52163343252907, 49.49457841670163, 49.46783831203267, 49.44180820438929, 49.415696764642796, 49.390280624787316, 49.36438507614367, 49.33924429460855, 49.31505793290992, 49.28990506637269, 49.26616640067479, 49.24252555262896, 49.21997041847848, 49.19643437344394, 49.17298318478508, 49.15209556451026, 49.13151749844395, 49.11101452683733, 49.089031468805416, 49.06953798538147, 49.049459597171634, 49.03042612761984, 49.0137820885154, 48.99258343524873, 48.97503942454798, 48.95530997359578, 48.94163052065446, 48.925790069987336, 48.90816642300684, 48.89156154652832, 48.87456746855026, 48.86229409546627, 48.85115746872392, 48.83948037621217, 48.83354863735598, 48.81918281819215, 48.81402809983282, 48.80574935269017, 48.80046447460395, 48.79473849293413, 48.78158483421999, 48.778934109604826, 48.77754200813881, 48.7836755477394, 48.7749864915772, 48.780844635675074, 48.76898449353124, 48.76614117445811, 48.781022863396345, 48.76870639936606, 48.80330096925394, 48.81185719252909, 48.83744912307955, 48.82683584396327, 48.83134972195056, 48.85497992046496, 48.89245898040867, 48.880206610439345, 48.93941681302778, 48.95607892095943, 48.97774992980503, 48.985429732258105, 49.044000427435584, 49.08294081060868, 49.09023674101014, 49.14598717594456, 49.19179364316396, 49.240925565764215, 49.274121961642926, 49.32350378461004, 49.37896444058916, 49.412237188531456, 49.440802544363784, 49.45083130610172, 49.53661523170949, 49.57910581965936, 49.62128151848402, 49.62779053217467, 49.64095305743642, 49.66289634138776, 49.714940328161866, 49.72357218295431, 49.69341469127676, 49.763422456565976, 49.697668933232265, 49.78113559186692, 49.68097346508612, 49.73666708594919, 49.63432304939503, 49.7075812445761, 49.59693210765406, 49.62491292966803, 49.51553357489071, 49.56342801752024, 49.42024709338654, 49.46060328060141, 49.23648619484463, 49.37036075918339, 49.160143762442026, 49.256515153132746, 49.05848137832406, 49.12699941746313, 48.8760397495936, 48.93512797359548, 48.78259567137136, 48.781605419838904, 48.66528513720759, 48.698709580460765, 48.60188487744126, 48.5209439914172, 48.445373710660824, 48.46133411345364, 48.44251128982217, 48.511965256352624, 48.334319574079096, 48.56700129640335, 48.30761111270913, 48.77128035499596, 48.21120073585999, 48.91488553006485, 48.38726833320249, 49.2443259813783, 48.388203402418696, 49.225954447635374, 48.72228547793924, 49.454828875687106, 48.8322116699382, 49.592430413549344, 49.10614576210945, 49.70489840631436, 49.66044205817387, 50.045430548330664, 50.04480197766595, 50.54008245841106, 50.42243893334999, 50.78774281873585, 50.62379796563031, 51.382711173267495, 51.34811714319248, 51.64019210871933, 52.16122981477793, 51.952352500193165, 52.730280669222296, 52.41084389608417, 53.19377985106165, 53.30926095009237, 53.80584469442153, 54.03005986113862, 54.29044635322127, 55.098061147759324, 54.87967681869479, 55.28197473233119, 55.75831692552732, 56.279255804286905, 56.174792044222066, 56.88624941067945, 57.18458784349211, 57.88500321264335, 57.785404552516034, 58.31954497974486, 58.65192667649539, 58.79440913233444, 59.47210516175628, 59.843687825813156, 59.80152197065628, 60.43568273328302, 60.876897605204036, 61.08075798640324, 61.25789194177427, 62.000296426619485, 62.49820055504724, 62.92685419608095, 63.289282619083835, 63.72186271577491, 64.11708959788795, 64.3432465921207, 64.51877100320702, 65.03220317432925, 65.23081638837628, 66.10723531362311, 66.69797169723803, 67.2826198109778, 67.3812993611928, 67.6002429589765, 68.59901285621827, 68.65939866346359, 69.28713968336581, 70.16548123386161, 70.74472508347387, 71.1446669414146, 71.44538848350365, 72.54823543493684, 72.96218197324572, 73.8734048945946, 74.26863561912899, 75.32010445677213, 75.47168485294982, 75.97718601378695, 76.87309002122336, 76.93030561947171, 77.5042203526929, 78.14662088668052, 78.18762650428154, 78.89153013669427, 78.99234298321709, 79.75468159884697, 79.66296202378095, 79.89449881623362, 80.40228720448447, 80.97727636948308, 80.84992917158235, 81.5849540651627, 81.79446376013657, 82.24163849980312, 82.47622000207937, 82.40820270574109, 82.79511983449336, 82.80306152059146, 82.99567639303078, 83.02644829311542, 83.10799007192739, 83.35846316497857, 83.37556428649982, 83.43667677063334, 83.64182995348463, 83.79723963306915, 83.70231329736643, 83.79253486665857, 83.81139667740125, 83.81911749781854, 83.85510382313645, 83.90490414931618, 83.97875431035683, 83.88679430254598, 83.9875866987275, 83.86526818604386, 83.86707203971197, 83.7944534574973, 83.76493752570322, 83.80734284329652, 83.77612422718697, 83.70019131171702, 83.67652223678597, 83.63341828047426, 83.62032121232278, 83.56120792677976, 83.50585801432848, 83.47636939682168, 83.43099337171597, 83.42097989439993, 83.39519786542934, 83.33773710715512, 83.30008246921028, 83.2601670638958, 83.21223731720153, 83.17950993205982, 83.11561924351223, 83.0715019524078, 83.03592723138595, 82.97814963124455, 82.92136689731012, 82.87709706131997, 82.83573161710633, 82.7765062731075, 82.7345856096459, 82.68566218013066, 82.62302479454952, 82.5793133616045, 82.52284373528946, 82.47881057920831, 82.42529143681107, 82.3754256474336, 82.32349623381178, 82.27321469340534, 82.22503301522306, 82.17478167995077, 82.12317094966912, 82.071513245223, 82.01819149796108, 81.97220171736332, 81.91998780679849, 81.87238450860097, 81.82461784913829, 81.7730794209216, 81.7244482181888, 81.67758137450029, 81.62828738053588, 81.58098196232909, 81.53511047629875, 81.48655233619814, 81.44009867853349, 81.39310083021037, 81.34828428396003, 81.30242337540021, 81.2567626823809, 81.21332188311945, 81.16837396024269, 81.1238777999966, 81.08092975624218, 81.03711823706648, 80.9942739993023, 80.9518902484689, 80.90999993853693, 80.86811698222705, 80.82701768055263, 80.78576395067802, 80.74550872876986, 80.70519300064379, 80.66558762866529, 80.62623935106433, 80.5870537778389, 80.54854362857603, 80.51014674314675, 80.47219386675619, 80.43474186787768, 80.39747401461587, 80.36067881720727, 80.32416567249919, 80.28807825807887, 80.25221920969861, 80.21682151169372, 80.18163758913555, 80.14691005955709, 80.11245351964128, 80.07833167443223, 80.04462804552186, 80.01116990115032, 79.9781037618306, 79.94534742203459, 79.91292865670803, 79.88083864384127, 79.84902971076737, 79.81755558283403, 79.78641251959017, 79.7555672343734, 79.72503552114703, 79.69479781081093, 79.66486136116286, 79.6352160456429, 79.60586892224894, 79.57683242563606, 79.54807628592502, 79.51960288833612, 79.49141845038244, 79.4635037678211, 79.43587851916264, 79.4085300660866, 79.38144677627939, 79.35464130566365, 79.3281035077429, 79.301826215361, 79.27581452301189, 79.250061427466, 79.22456769194717, 79.19932696321769, 79.17434017471282, 79.14960310000077, 79.12511207226444], \"yaxis\": \"y6\"}],                        {\"autosize\": false, \"height\": 1200, \"template\": {\"data\": {\"bar\": [{\"error_x\": {\"color\": \"#2a3f5f\"}, \"error_y\": {\"color\": \"#2a3f5f\"}, \"marker\": {\"line\": {\"color\": \"#E5ECF6\", \"width\": 0.5}}, \"type\": \"bar\"}], \"barpolar\": [{\"marker\": {\"line\": {\"color\": \"#E5ECF6\", \"width\": 0.5}}, \"type\": \"barpolar\"}], \"carpet\": [{\"aaxis\": {\"endlinecolor\": \"#2a3f5f\", \"gridcolor\": \"white\", \"linecolor\": \"white\", \"minorgridcolor\": \"white\", \"startlinecolor\": \"#2a3f5f\"}, \"baxis\": {\"endlinecolor\": \"#2a3f5f\", \"gridcolor\": \"white\", \"linecolor\": \"white\", \"minorgridcolor\": \"white\", \"startlinecolor\": \"#2a3f5f\"}, \"type\": \"carpet\"}], \"choropleth\": [{\"colorbar\": {\"outlinewidth\": 0, \"ticks\": \"\"}, \"type\": \"choropleth\"}], \"contour\": [{\"colorbar\": {\"outlinewidth\": 0, \"ticks\": \"\"}, \"colorscale\": [[0.0, \"#0d0887\"], [0.1111111111111111, \"#46039f\"], [0.2222222222222222, \"#7201a8\"], [0.3333333333333333, \"#9c179e\"], [0.4444444444444444, \"#bd3786\"], [0.5555555555555556, \"#d8576b\"], [0.6666666666666666, \"#ed7953\"], [0.7777777777777778, \"#fb9f3a\"], [0.8888888888888888, \"#fdca26\"], [1.0, \"#f0f921\"]], \"type\": \"contour\"}], \"contourcarpet\": [{\"colorbar\": {\"outlinewidth\": 0, \"ticks\": \"\"}, \"type\": \"contourcarpet\"}], \"heatmap\": [{\"colorbar\": {\"outlinewidth\": 0, \"ticks\": \"\"}, \"colorscale\": [[0.0, \"#0d0887\"], [0.1111111111111111, \"#46039f\"], [0.2222222222222222, \"#7201a8\"], [0.3333333333333333, \"#9c179e\"], [0.4444444444444444, \"#bd3786\"], [0.5555555555555556, \"#d8576b\"], [0.6666666666666666, \"#ed7953\"], [0.7777777777777778, \"#fb9f3a\"], [0.8888888888888888, \"#fdca26\"], [1.0, \"#f0f921\"]], \"type\": \"heatmap\"}], \"heatmapgl\": [{\"colorbar\": {\"outlinewidth\": 0, \"ticks\": \"\"}, \"colorscale\": [[0.0, \"#0d0887\"], [0.1111111111111111, \"#46039f\"], [0.2222222222222222, \"#7201a8\"], [0.3333333333333333, \"#9c179e\"], [0.4444444444444444, \"#bd3786\"], [0.5555555555555556, \"#d8576b\"], [0.6666666666666666, \"#ed7953\"], [0.7777777777777778, \"#fb9f3a\"], [0.8888888888888888, \"#fdca26\"], [1.0, \"#f0f921\"]], \"type\": \"heatmapgl\"}], \"histogram\": [{\"marker\": {\"colorbar\": {\"outlinewidth\": 0, \"ticks\": \"\"}}, \"type\": \"histogram\"}], \"histogram2d\": [{\"colorbar\": {\"outlinewidth\": 0, \"ticks\": \"\"}, \"colorscale\": [[0.0, \"#0d0887\"], [0.1111111111111111, \"#46039f\"], [0.2222222222222222, \"#7201a8\"], [0.3333333333333333, \"#9c179e\"], [0.4444444444444444, \"#bd3786\"], [0.5555555555555556, \"#d8576b\"], [0.6666666666666666, \"#ed7953\"], [0.7777777777777778, \"#fb9f3a\"], [0.8888888888888888, \"#fdca26\"], [1.0, \"#f0f921\"]], \"type\": \"histogram2d\"}], \"histogram2dcontour\": [{\"colorbar\": {\"outlinewidth\": 0, \"ticks\": \"\"}, \"colorscale\": [[0.0, \"#0d0887\"], [0.1111111111111111, \"#46039f\"], [0.2222222222222222, \"#7201a8\"], [0.3333333333333333, \"#9c179e\"], [0.4444444444444444, \"#bd3786\"], [0.5555555555555556, \"#d8576b\"], [0.6666666666666666, \"#ed7953\"], [0.7777777777777778, \"#fb9f3a\"], [0.8888888888888888, \"#fdca26\"], [1.0, \"#f0f921\"]], \"type\": \"histogram2dcontour\"}], \"mesh3d\": [{\"colorbar\": {\"outlinewidth\": 0, \"ticks\": \"\"}, \"type\": \"mesh3d\"}], \"parcoords\": [{\"line\": {\"colorbar\": {\"outlinewidth\": 0, \"ticks\": \"\"}}, \"type\": \"parcoords\"}], \"pie\": [{\"automargin\": true, \"type\": \"pie\"}], \"scatter\": [{\"marker\": {\"colorbar\": {\"outlinewidth\": 0, \"ticks\": \"\"}}, \"type\": \"scatter\"}], \"scatter3d\": [{\"line\": {\"colorbar\": {\"outlinewidth\": 0, \"ticks\": \"\"}}, \"marker\": {\"colorbar\": {\"outlinewidth\": 0, \"ticks\": \"\"}}, \"type\": \"scatter3d\"}], \"scattercarpet\": [{\"marker\": {\"colorbar\": {\"outlinewidth\": 0, \"ticks\": \"\"}}, \"type\": \"scattercarpet\"}], \"scattergeo\": [{\"marker\": {\"colorbar\": {\"outlinewidth\": 0, \"ticks\": \"\"}}, \"type\": \"scattergeo\"}], \"scattergl\": [{\"marker\": {\"colorbar\": {\"outlinewidth\": 0, \"ticks\": \"\"}}, \"type\": \"scattergl\"}], \"scattermapbox\": [{\"marker\": {\"colorbar\": {\"outlinewidth\": 0, \"ticks\": \"\"}}, \"type\": \"scattermapbox\"}], \"scatterpolar\": [{\"marker\": {\"colorbar\": {\"outlinewidth\": 0, \"ticks\": \"\"}}, \"type\": \"scatterpolar\"}], \"scatterpolargl\": [{\"marker\": {\"colorbar\": {\"outlinewidth\": 0, \"ticks\": \"\"}}, \"type\": \"scatterpolargl\"}], \"scatterternary\": [{\"marker\": {\"colorbar\": {\"outlinewidth\": 0, \"ticks\": \"\"}}, \"type\": \"scatterternary\"}], \"surface\": [{\"colorbar\": {\"outlinewidth\": 0, \"ticks\": \"\"}, \"colorscale\": [[0.0, \"#0d0887\"], [0.1111111111111111, \"#46039f\"], [0.2222222222222222, \"#7201a8\"], [0.3333333333333333, \"#9c179e\"], [0.4444444444444444, \"#bd3786\"], [0.5555555555555556, \"#d8576b\"], [0.6666666666666666, \"#ed7953\"], [0.7777777777777778, \"#fb9f3a\"], [0.8888888888888888, \"#fdca26\"], [1.0, \"#f0f921\"]], \"type\": \"surface\"}], \"table\": [{\"cells\": {\"fill\": {\"color\": \"#EBF0F8\"}, \"line\": {\"color\": \"white\"}}, \"header\": {\"fill\": {\"color\": \"#C8D4E3\"}, \"line\": {\"color\": \"white\"}}, \"type\": \"table\"}]}, \"layout\": {\"annotationdefaults\": {\"arrowcolor\": \"#2a3f5f\", \"arrowhead\": 0, \"arrowwidth\": 1}, \"autotypenumbers\": \"strict\", \"coloraxis\": {\"colorbar\": {\"outlinewidth\": 0, \"ticks\": \"\"}}, \"colorscale\": {\"diverging\": [[0, \"#8e0152\"], [0.1, \"#c51b7d\"], [0.2, \"#de77ae\"], [0.3, \"#f1b6da\"], [0.4, \"#fde0ef\"], [0.5, \"#f7f7f7\"], [0.6, \"#e6f5d0\"], [0.7, \"#b8e186\"], [0.8, \"#7fbc41\"], [0.9, \"#4d9221\"], [1, \"#276419\"]], \"sequential\": [[0.0, \"#0d0887\"], [0.1111111111111111, \"#46039f\"], [0.2222222222222222, \"#7201a8\"], [0.3333333333333333, \"#9c179e\"], [0.4444444444444444, \"#bd3786\"], [0.5555555555555556, \"#d8576b\"], [0.6666666666666666, \"#ed7953\"], [0.7777777777777778, \"#fb9f3a\"], [0.8888888888888888, \"#fdca26\"], [1.0, \"#f0f921\"]], \"sequentialminus\": [[0.0, \"#0d0887\"], [0.1111111111111111, \"#46039f\"], [0.2222222222222222, \"#7201a8\"], [0.3333333333333333, \"#9c179e\"], [0.4444444444444444, \"#bd3786\"], [0.5555555555555556, \"#d8576b\"], [0.6666666666666666, \"#ed7953\"], [0.7777777777777778, \"#fb9f3a\"], [0.8888888888888888, \"#fdca26\"], [1.0, \"#f0f921\"]]}, \"colorway\": [\"#636efa\", \"#EF553B\", \"#00cc96\", \"#ab63fa\", \"#FFA15A\", \"#19d3f3\", \"#FF6692\", \"#B6E880\", \"#FF97FF\", \"#FECB52\"], \"font\": {\"color\": \"#2a3f5f\"}, \"geo\": {\"bgcolor\": \"white\", \"lakecolor\": \"white\", \"landcolor\": \"#E5ECF6\", \"showlakes\": true, \"showland\": true, \"subunitcolor\": \"white\"}, \"hoverlabel\": {\"align\": \"left\"}, \"hovermode\": \"closest\", \"mapbox\": {\"style\": \"light\"}, \"paper_bgcolor\": \"white\", \"plot_bgcolor\": \"#E5ECF6\", \"polar\": {\"angularaxis\": {\"gridcolor\": \"white\", \"linecolor\": \"white\", \"ticks\": \"\"}, \"bgcolor\": \"#E5ECF6\", \"radialaxis\": {\"gridcolor\": \"white\", \"linecolor\": \"white\", \"ticks\": \"\"}}, \"scene\": {\"xaxis\": {\"backgroundcolor\": \"#E5ECF6\", \"gridcolor\": \"white\", \"gridwidth\": 2, \"linecolor\": \"white\", \"showbackground\": true, \"ticks\": \"\", \"zerolinecolor\": \"white\"}, \"yaxis\": {\"backgroundcolor\": \"#E5ECF6\", \"gridcolor\": \"white\", \"gridwidth\": 2, \"linecolor\": \"white\", \"showbackground\": true, \"ticks\": \"\", \"zerolinecolor\": \"white\"}, \"zaxis\": {\"backgroundcolor\": \"#E5ECF6\", \"gridcolor\": \"white\", \"gridwidth\": 2, \"linecolor\": \"white\", \"showbackground\": true, \"ticks\": \"\", \"zerolinecolor\": \"white\"}}, \"shapedefaults\": {\"line\": {\"color\": \"#2a3f5f\"}}, \"ternary\": {\"aaxis\": {\"gridcolor\": \"white\", \"linecolor\": \"white\", \"ticks\": \"\"}, \"baxis\": {\"gridcolor\": \"white\", \"linecolor\": \"white\", \"ticks\": \"\"}, \"bgcolor\": \"#E5ECF6\", \"caxis\": {\"gridcolor\": \"white\", \"linecolor\": \"white\", \"ticks\": \"\"}}, \"title\": {\"x\": 0.05}, \"xaxis\": {\"automargin\": true, \"gridcolor\": \"white\", \"linecolor\": \"white\", \"ticks\": \"\", \"title\": {\"standoff\": 15}, \"zerolinecolor\": \"white\", \"zerolinewidth\": 2}, \"yaxis\": {\"automargin\": true, \"gridcolor\": \"white\", \"linecolor\": \"white\", \"ticks\": \"\", \"title\": {\"standoff\": 15}, \"zerolinecolor\": \"white\", \"zerolinewidth\": 2}}}, \"width\": 1200, \"xaxis\": {\"anchor\": \"y\", \"domain\": [0.0, 0.45]}, \"xaxis2\": {\"anchor\": \"y2\", \"domain\": [0.55, 1.0]}, \"xaxis3\": {\"anchor\": \"y3\", \"domain\": [0.0, 0.45]}, \"xaxis4\": {\"anchor\": \"y4\", \"domain\": [0.55, 1.0]}, \"xaxis5\": {\"anchor\": \"y5\", \"domain\": [0.0, 0.45]}, \"xaxis6\": {\"anchor\": \"y6\", \"domain\": [0.55, 1.0]}, \"yaxis\": {\"anchor\": \"x\", \"domain\": [0.7, 1.0], \"range\": [0, 60000], \"title\": {\"text\": \"adult bees\"}}, \"yaxis2\": {\"anchor\": \"x2\", \"domain\": [0.7, 1.0], \"range\": [0, 6000], \"title\": {\"text\": \"pollen stores\"}}, \"yaxis3\": {\"anchor\": \"x3\", \"domain\": [0.35, 0.6499999999999999], \"range\": [0, 35000], \"title\": {\"text\": \"brood cells\"}}, \"yaxis4\": {\"anchor\": \"x4\", \"domain\": [0.35, 0.6499999999999999], \"range\": [0, 180000], \"title\": {\"text\": \"honey stores\"}}, \"yaxis5\": {\"anchor\": \"x5\", \"domain\": [0.0, 0.3]}, \"yaxis6\": {\"anchor\": \"x6\", \"domain\": [0.0, 0.3], \"range\": [0, 180], \"title\": {\"text\": \"colony weight\"}}},                        {\"responsive\": true}                    ).then(function(){\n",
       "                            \n",
       "var gd = document.getElementById('9a98987d-083f-46c8-af43-741941a9e4b4');\n",
       "var x = new MutationObserver(function (mutations, observer) {{\n",
       "        var display = window.getComputedStyle(gd).display;\n",
       "        if (!display || display === 'none') {{\n",
       "            console.log([gd, 'removed!']);\n",
       "            Plotly.purge(gd);\n",
       "            observer.disconnect();\n",
       "        }}\n",
       "}});\n",
       "\n",
       "// Listen for the removal of the full notebook cells\n",
       "var notebookContainer = gd.closest('#notebook-container');\n",
       "if (notebookContainer) {{\n",
       "    x.observe(notebookContainer, {childList: true});\n",
       "}}\n",
       "\n",
       "// Listen for the clearing of the current output cell\n",
       "var outputEl = gd.closest('.output');\n",
       "if (outputEl) {{\n",
       "    x.observe(outputEl, {childList: true});\n",
       "}}\n",
       "\n",
       "                        })                };                });            </script>        </div>"
      ]
     },
     "metadata": {},
     "output_type": "display_data"
    }
   ],
   "source": [
    "fig = make_subplots(rows=3, cols=2, vertical_spacing=0.05)\n",
    "\n",
    "fig.add_trace(\n",
    "    go.Scatter(y=res.BEESadult, name=\"Adult Bees\", mode='lines', xaxis=\"x\", yaxis=\"y1\", hovertemplate=\" j: %{x} <br> val: %{y:.1f}\", showlegend = True),\n",
    "    row=1, col=1\n",
    ")\n",
    "fig.add_trace(\n",
    "    go.Scatter(y=res.STORESpollen, name=\"Pollen Stores\", mode='lines', xaxis=\"x\", yaxis=\"y2\", hovertemplate=\" j: %{x} <br> val: %{y:.1f}\",showlegend = True),\n",
    "    row=1, col=2\n",
    ")\n",
    "fig.add_trace(\n",
    "    go.Scatter(y=res.BroodCells, name=\"Brood cells\", mode='lines', xaxis=\"x\", yaxis=\"y3\", hovertemplate=\" j: %{x} <br> val: %{y:.1f}\",showlegend = True),\n",
    "    row=2, col=1\n",
    ")\n",
    "fig.add_trace(\n",
    "    go.Scatter(y=res.STOREShoney, name=\"Honey Stores\", mode='lines', xaxis=\"x\", yaxis=\"y4\", hovertemplate=\" j: %{x} <br> val: %{y:.1f}\",showlegend = True),\n",
    "    row=2, col=2\n",
    ")\n",
    "fig.add_trace(\n",
    "    go.Scatter(y=res.WEIGHTcolony, name=\"Colony Weight\", mode='lines', xaxis=\"x\", yaxis=\"y6\", hovertemplate=\" j: %{x} <br> val: %{y:.1f}\",showlegend = True),\n",
    "    row=3, col=2\n",
    ")\n",
    "\n",
    "fig.update_yaxes(title_text=\"adult bees\", range=[0, 60000], row=1, col=1)\n",
    "fig.update_yaxes(title_text=\"pollen stores\", range=[0, 6000], row=1, col=2)\n",
    "fig.update_yaxes(title_text=\"brood cells\", range=[0, 35000], row=2, col=1)\n",
    "fig.update_yaxes(title_text=\"honey stores\", range=[0, 180000], row=2, col=2)\n",
    "fig.update_yaxes(title_text=\"colony weight\", range=[0, 180], row=3, col=2)\n",
    "#fig.update_yaxes(title_text = 'Temp (°C)', ticks=\"outside\", range=[-4, 30], tickwidth=1, nticks=30, tickcolor='crimson', showgrid=False, showline = True,secondary_y=False, spikesnap='cursor',spikethickness=1)\n",
    "fig.update_layout(autosize=False, height=1200, width=1200)\n",
    "fig.show()"
   ]
  },
  {
   "cell_type": "code",
   "execution_count": 70,
   "metadata": {
    "scrolled": false
   },
   "outputs": [
    {
     "data": {
      "text/plain": [
       "Text(0, 0.5, 'nectar stores [filled cells]')"
      ]
     },
     "execution_count": 70,
     "metadata": {},
     "output_type": "execute_result"
    },
    {
     "data": {
      "image/png": "[encoded data removed]",
      "text/plain": [
       "<Figure size 1008x1224 with 5 Axes>"
      ]
     },
     "metadata": {},
     "output_type": "display_data"
    }
   ],
   "source": [
    "plt.figure(figsize=(14,17))\n",
    "\n",
    "t = np.arange(366)\n",
    "\n",
    "plt.subplot(3,2,1)\n",
    "#plt.legend(loc = 'upper right')\n",
    "plt.plot(t, BEESadultArray,color = 'black')\n",
    "plt.title('Adult bee population dynamics')\n",
    "plt.xlabel('Date')\n",
    "plt.ylabel('Number of adult bees')\n",
    "\n",
    "\n",
    "plt.subplot(3,2,2)\n",
    "plt.plot(t, STORESpollenArray,color = 'black')\n",
    "plt.title('StorePollen')\n",
    "plt.xlabel('Date')\n",
    "plt.ylabel('pollen stores [filled cells]')\n",
    "\n",
    "plt.subplot(3,2,3)\n",
    "plt.plot(t,CELLSbroodArray,color  = 'black')\n",
    "plt.title('Brood cells')\n",
    "plt.xlabel('Date')\n",
    "plt.ylabel('Brood cells')\n",
    "\n",
    "plt.subplot(3,2,4)\n",
    "plt.plot(t, STOREShoneyArray,color = 'black')\n",
    "plt.title('STOREShoney')\n",
    "plt.xlabel('Date')\n",
    "plt.ylabel('honey stores [filled cells]')\n",
    "\n",
    "plt.subplot(3,2,5)\n",
    "plt.plot(t, STORESnectarArray,color = 'black')\n",
    "plt.title('STORESnectar')\n",
    "plt.xlabel('Date')\n",
    "plt.ylabel('nectar stores [filled cells]')"
   ]
  },
  {
   "cell_type": "markdown",
   "metadata": {},
   "source": [
    "## 3.2 Interpretation\n",
    "<div id='3-2'></div>"
   ]
  },
  {
   "cell_type": "markdown",
   "metadata": {},
   "source": [
    "We decided to interpret the 5 graphs above because they show the primary materials (brood, adults, nectar, honey and pollen).\n",
    "\n",
    "The graph <b>\"Adult bee population\"</b> shows the number of adult bees in the colony. There is a peak on the 200th day due to the `x4` parameter which represents the day when the queen lays the most eggs. The egg cells hatch a few days later (`x4 = 155`).\n",
    "\n",
    "At the same time, the graph <b>\"StorePollen\"</b> shows the amount of pollen stored by the bees in the hive. The curve is similar to that of the \"Adult bee population\" which is normal, the two variables are correlated.\n",
    "\n",
    "Similarly, the graph <b>\"STORESnectar\"</b> shows that the bees will collect nectar to store it in the cells of the hive.\n",
    "\n",
    "The nectar and pollen will be used to feed the hive (the larvae, the adult bees) but also 40% of this nectar will be transformed into honey (`RATIOnectar_to_honey`).\n",
    "\n",
    "The graph <b>\"BROODcells\"</b> represents the children of the colony (eggs -> larvae -> pupae), the peak represents the moment when the queen lays the maximum number of eggs. \n",
    "\n",
    "<b>\"STOREShoney\"</b> is supposed to represent the honey stored in the cells of the hive however the graph does not show it, our function is broken."
   ]
  },
  {
   "cell_type": "markdown",
   "metadata": {},
   "source": [
    "# 4. Swarming extension\n",
    "<div id='4'></div>"
   ]
  },
  {
   "cell_type": "markdown",
   "metadata": {},
   "source": [
    "### Modeling the 'mother colony'\n",
    "<div id='4-1'></div>"
   ]
  },
  {
   "cell_type": "code",
   "execution_count": 71,
   "metadata": {},
   "outputs": [],
   "source": [
    "def FACTORqueen(t):\n",
    "    #(61)\n",
    "    \n",
    "    if ((swd - 30) <= t and t < (swd - 3)):\n",
    "        res = 1.2\n",
    "    elif ((swd - 3) <= t and t < (swd + 14)):\n",
    "        res = 0\n",
    "    else:\n",
    "        res = 1\n",
    "    return res"
   ]
  },
  {
   "cell_type": "code",
   "execution_count": 72,
   "metadata": {},
   "outputs": [],
   "source": [
    "def ELRbase(t):\n",
    "  # (62)\n",
    "    if (t<swd):\n",
    "        res = 2000\n",
    "    else:\n",
    "        res = 1200\n",
    "    return res"
   ]
  },
  {
   "cell_type": "code",
   "execution_count": 73,
   "metadata": {},
   "outputs": [],
   "source": [
    "def ELR(t):\n",
    "    # (5a)\n",
    "    global ELRArray_swarm\n",
    "    if t > len(ELRArray_swarm):\n",
    "        ELR(t-1)\n",
    "    if t == len(ELRArray_swarm):\n",
    "        res = ELRbase(t) * (1 + ELRstoch(t)) * (1 - season(t)) * SUPcomb(t) * FACTORqueen(t)\n",
    "        ELRArray_swarm = np.append(ELRArray_swarm, res)\n",
    "    return ELRArray_swarm[t]"
   ]
  },
  {
   "cell_type": "code",
   "execution_count": 74,
   "metadata": {},
   "outputs": [],
   "source": [
    "def BEESswarm(t):\n",
    "  # (63)\n",
    "    global BEESswarmArray\n",
    "    \n",
    "    if t > len(BEESswarmArray):\n",
    "        BEESswarm(t - 1)\n",
    "    if t == len(BEESswarmArray):\n",
    "        if (t == swd):\n",
    "            res = BEESadult(t-1) * 0.6\n",
    "        else:\n",
    "            res = 0\n",
    "            \n",
    "        BEESswarmArray = np.append(BEESswarmArray, res)\n",
    "        \n",
    "    return BEESswarmArray[t]"
   ]
  },
  {
   "cell_type": "code",
   "execution_count": 75,
   "metadata": {},
   "outputs": [],
   "source": [
    "def BEESadult(t) : \n",
    "    # (19a)\n",
    "    global BEESadultArray_swarm\n",
    "    \n",
    "    if t>len(BEESadultArray_swarm):\n",
    "        BEESadult(t-1)\n",
    "    if t==len(BEESadultArray_swarm):\n",
    "        if t==0:\n",
    "            res = INITBEESadult\n",
    "        else:\n",
    "            res = (BEESadult(t-1) + PUPAE(LIFESPANpupa, t-1))*(1 - MORTALITYadult(t)) - BEESswarm(t)\n",
    "        BEESadultArray_swarm = np.append(BEESadultArray_swarm, res)\n",
    "    return BEESadultArray_swarm[t]"
   ]
  },
  {
   "cell_type": "code",
   "execution_count": 76,
   "metadata": {},
   "outputs": [],
   "source": [
    "def TURNSnectarforager(t):\n",
    "    # (64)\n",
    "    global TURNSnectarforagerArray\n",
    "    \n",
    "    if t > len(TURNSnectarforagerArray):\n",
    "        TURNSnectarforager(t - 1)\n",
    "    if t == len(TURNSnectarforagerArray):\n",
    "        if t == 0:\n",
    "            TURNSnectarforagerArray = np.append(TURNSnectarforagerArray, 15 + 7 * ((CELLSempty(0))/(CELLShive0+1)))\n",
    "        else:\n",
    "            TURNSnectarforagerArray = np.append(TURNSnectarforagerArray, 15 + 7 * ((CELLSempty(t-1))/(CELLShive0+1)))\n",
    "        \n",
    "    return TURNSnectarforagerArray[t]"
   ]
  },
  {
   "cell_type": "code",
   "execution_count": 77,
   "metadata": {},
   "outputs": [],
   "source": [
    "def LOSShoney_swarm(t):\n",
    "    # (65)\n",
    "    global LOSShoney_swarmArray\n",
    "    \n",
    "    if t > len(LOSShoney_swarmArray):\n",
    "        LOSShoney_swarm(t - 1)\n",
    "        \n",
    "    if t == len(LOSShoney_swarmArray):\n",
    "        if t == swd:\n",
    "            res = min(STOREShoney(t-1),BEESswarm(t)*LOADnectarforager)\n",
    "        else:\n",
    "            res = 0\n",
    "        LOSShoney_swarmArray = np.append(LOSShoney_swarmArray, res)\n",
    "        \n",
    "    return LOSShoney_swarm[t]"
   ]
  },
  {
   "cell_type": "code",
   "execution_count": 78,
   "metadata": {},
   "outputs": [],
   "source": [
    "def USAGEhoney(t):\n",
    "    #(56a)\n",
    "    global USAGEhoneyArray_swarm\n",
    "    \n",
    "    if t>len(USAGEhoneyArray_swarm):\n",
    "        USAGEhoney(t-1)\n",
    "    if t==len(USAGEhoneyArray_swarm):\n",
    "        if t==0:\n",
    "            result = min(STOREShoney(0), ((NEEDnectar(t)-USAGEnectar(t))*RATIOnectar_to_honey) + LOSShoney_swarm(t))\n",
    "        else:\n",
    "            result = min(STOREShoney(t-1), ((NEEDnectar(t)-USAGEnectar(t))*RATIOnectar_to_honey) + LOSShoney_swarm(t))\n",
    "        USAGEhoneyArray_swarm = np.append(USAGEhoneyArray_swarm,result)\n",
    "    return USAGEhoneyArray_swarm[t]"
   ]
  },
  {
   "cell_type": "code",
   "execution_count": 79,
   "metadata": {},
   "outputs": [],
   "source": [
    "def WEIGHTcolony(t):\n",
    "    #(59)\n",
    "    global WEIGHTcolonyArray_swarm\n",
    "    if t>len(WEIGHTcolonyArray_swarm):\n",
    "        WEIGHTcolony(t-1)\n",
    "    if t==len(WEIGHTcolonyArray_swarm):\n",
    "        if t==0:\n",
    "            result = INITWEIGHTcolony\n",
    "        else:\n",
    "            res = 0\n",
    "            for i in range(1, LIFESPANlarva):\n",
    "                res = res + (w_larva[i-1]*LARVAE(i,t))\n",
    "\n",
    "            result = (1/1000)*(w_hivebase+w_cellsbase*CELLShive0+w_pollen*STORESpollen(t)\n",
    "                    +w_nectar*STORESnectar(t)\n",
    "                    +w_honey*STOREShoney(t)+w_egg*CELLSeggs(t)\n",
    "                    +w_pupa*CELLSpupae(t)\n",
    "                    +res\n",
    "                    +w_adult*BEESadult(t))\n",
    "        WEIGHTcolonyArray_swarm = np.append(WEIGHTcolonyArray_swarm,result)\n",
    "    return WEIGHTcolonyArray_swarm[t]"
   ]
  },
  {
   "cell_type": "code",
   "execution_count": 80,
   "metadata": {},
   "outputs": [],
   "source": [
    "res_swarming = Main(365, swarm= 1)"
   ]
  },
  {
   "cell_type": "code",
   "execution_count": 81,
   "metadata": {},
   "outputs": [
    {
     "data": {
      "text/plain": [
       "<matplotlib.legend.Legend at 0x26416f5e580>"
      ]
     },
     "execution_count": 81,
     "metadata": {},
     "output_type": "execute_result"
    },
    {
     "data": {
      "image/png": "[encoded data removed]",
      "text/plain": [
       "<Figure size 864x864 with 2 Axes>"
      ]
     },
     "metadata": {},
     "output_type": "display_data"
    }
   ],
   "source": [
    "plt.figure(figsize=(12,12))\n",
    "\n",
    "plt.subplot(2,2,1)\n",
    "res_swarming['BEESadult'].plot(label = \"BEESadult : Mother Colony\")\n",
    "res['BEESadult'].plot(label = \"BEESadult : No swarm\")\n",
    "plt.legend()\n",
    "\n",
    "plt.subplot(2,2,2)\n",
    "res_swarming['WEIGHTcolony'].plot(label = \"Colony weight : Mother Colony\")\n",
    "res['WEIGHTcolony'].plot(label = \"Colony weight : No swarm\")\n",
    "plt.legend()"
   ]
  },
  {
   "cell_type": "markdown",
   "metadata": {},
   "source": [
    "In red, we have a colony that has high congestion (high laying rate, little comb space) ans does swarm on day t=140"
   ]
  },
  {
   "cell_type": "markdown",
   "metadata": {},
   "source": [
    "### Modeling the 'daughter colony'\n",
    "<div id='4-2'></div>"
   ]
  },
  {
   "cell_type": "code",
   "execution_count": 82,
   "metadata": {},
   "outputs": [],
   "source": [
    "def FACTORqueen(t):\n",
    "    #(61a)\n",
    "    global FACTORqueenArray\n",
    "    if t > len(FACTORqueenArray):\n",
    "        FACTORqueen(t-1)\n",
    "    if t == len(FACTORqueenArray):\n",
    "        if (t <= swd):\n",
    "            res = 0\n",
    "        elif (swd) < t and t <= (swd + 5):\n",
    "            res = FACTORqueen(t-1) +0.2\n",
    "        elif t > (swd+5):\n",
    "            res = 1\n",
    "        FACTORqueenArray = np.append(FACTORqueenArray, res)\n",
    "    return FACTORqueenArray[t]"
   ]
  },
  {
   "cell_type": "code",
   "execution_count": 83,
   "metadata": {},
   "outputs": [],
   "source": [
    "def NEEDnectarbuilding(t):\n",
    "    # (66)\n",
    "    global NEEDnectarbuildingArray\n",
    "    \n",
    "    if t > len(NEEDnectarbuildingArray):\n",
    "        NEEDnectarbuilding(t-1)\n",
    "    if t == len(NEEDnectarbuildingArray):\n",
    "        if t == 0:\n",
    "            res = 0\n",
    "        else:\n",
    "            res = (CELLShive(t) - CELLShive(t-1)) * RATIOnectar_to_wax\n",
    "        NEEDnectarbuildingArray = np.append(NEEDnectarbuildingArray, res)\n",
    "    return NEEDnectarbuildingArray[t]"
   ]
  },
  {
   "cell_type": "code",
   "execution_count": 84,
   "metadata": {},
   "outputs": [],
   "source": [
    "def NEEDnectar_adult(t):\n",
    "    # (42a)model the demand for adult nectar\n",
    "    global NEEDnectar_adultArray_swarm\n",
    "    if t>len(NEEDnectar_adultArray_swarm):\n",
    "        NEEDnectar_adult(t-1)\n",
    "    if t==len(NEEDnectar_adultArray_swarm):\n",
    "        result = BEESadult(t) * NECTARNEEDadult + NURSES(t) * NECTARNEEDnurse + FORAGERSactive(t) * NECTARNEEDactiveforager + NEEDnectarbuilding(t)\n",
    "        NEEDnectar_adultArray_swarm = np.append(NEEDnectar_adultArray_swarm,result)\n",
    "    return NEEDnectar_adultArray_swarm[t]"
   ]
  },
  {
   "cell_type": "code",
   "execution_count": 85,
   "metadata": {},
   "outputs": [],
   "source": [
    "def CELLShive(t):\n",
    "    # (67)\n",
    "    global CELLShiveArray\n",
    "    if t > len(CELLShiveArray):\n",
    "        CELLShive(t-1)\n",
    "    if t == len(CELLShiveArray):      \n",
    "        if t <= swd:\n",
    "            res = 0\n",
    "        elif swd < t and t <= (swd + 7):\n",
    "            res = CELLShive(t-1)+(2000/7)\n",
    "        elif (swd + 7) < t and t <= (swd + 97):\n",
    "            res = CELLShive(t-1)+(8000/90)\n",
    "        elif t > (swd + 97):\n",
    "            res = CELLShive(t-1)\n",
    "        CELLShiveArray = np.append(CELLShiveArray, res)\n",
    "    return CELLShiveArray[t]"
   ]
  },
  {
   "cell_type": "code",
   "execution_count": 86,
   "metadata": {},
   "outputs": [],
   "source": [
    "def CELLSempty(t):\n",
    "    # (2a)\n",
    "    global CELLSemptyArray_swarm\n",
    "    if t>len(CELLSemptyArray_swarm):\n",
    "        CELLSempty(t-1)\n",
    "    if t==len(CELLSemptyArray_swarm):\n",
    "        res = CELLShive(t) - CELLSbrood(t) - STORESpollen(t) - STORESnectar(t) - STOREShoney(t)\n",
    "        CELLSemptyArray_swarm = np.append(CELLSemptyArray_swarm, res)\n",
    "    return CELLSemptyArray_swarm[t]"
   ]
  },
  {
   "cell_type": "code",
   "execution_count": 87,
   "metadata": {},
   "outputs": [],
   "source": [
    "def SUPcomb(t):\n",
    "    # (3a)\n",
    "    global SUPcombArray_swarm\n",
    "    if t>len(SUPcombArray_swarm):\n",
    "        SUPcomb(t-1)\n",
    "    if t == len(SUPcombArray_swarm):\n",
    "        if CELLSempty(t)/(CELLShive(t) + 1) < SUPthreshold:\n",
    "            res = CELLSempty(t)/((CELLShive(t) + 1) * SUPthreshold)\n",
    "        else:\n",
    "            res = 1\n",
    "        SUPcombArray_swarm = np.append(SUPcombArray_swarm, res)\n",
    "    return SUPcombArray_swarm[t]"
   ]
  },
  {
   "cell_type": "code",
   "execution_count": 88,
   "metadata": {},
   "outputs": [],
   "source": [
    "def WEIGHTcolony(t):\n",
    "    #(59a)\n",
    "    global WEIGHTcolonyArray_swarm2\n",
    "    if t>len(WEIGHTcolonyArray_swarm2):\n",
    "        WEIGHTcolony(t-1)\n",
    "    if t==len(WEIGHTcolonyArray_swarm2):\n",
    "        if t==0:\n",
    "            result = INITWEIGHTcolony\n",
    "        else:\n",
    "            res = 0\n",
    "            for i in range(1, LIFESPANlarva):\n",
    "                res = res + (w_larva[i-1]*LARVAE(i,t))\n",
    "\n",
    "            result = (1/1000)*(w_hivebase+w_cellsbase*CELLShive(t)+w_pollen*STORESpollen(t)\n",
    "                    +w_nectar*STORESnectar(t)\n",
    "                    +w_honey*STOREShoney(t)+w_egg*CELLSeggs(t)\n",
    "                    +w_pupa*CELLSpupae(t)\n",
    "                    +res\n",
    "                    +w_adult*BEESadult(t))\n",
    "        WEIGHTcolonyArray_swarm2 = np.append(WEIGHTcolonyArray_swarm2,result)\n",
    "    return WEIGHTcolonyArray_swarm2[t]"
   ]
  },
  {
   "cell_type": "code",
   "execution_count": 89,
   "metadata": {},
   "outputs": [],
   "source": [
    "def TURNSnectarforager(t):\n",
    "    # (64a)\n",
    "    global TURNSnectarforagerArray_swarm2\n",
    "    \n",
    "    if t > len(TURNSnectarforagerArray_swarm2):\n",
    "        TURNSnectarforager(t - 1)\n",
    "    if t == len(TURNSnectarforagerArray_swarm2):\n",
    "        if t == 0:\n",
    "            TURNSnectarforagerArray_swarm2 = np.append(TURNSnectarforagerArray_swarm2, 15 + 7 * (CELLSempty(0)/(CELLShive(0)+1)))\n",
    "        else:\n",
    "            TURNSnectarforagerArray_swarm2 = np.append(TURNSnectarforagerArray_swarm2, 15 + 7 * ((CELLSempty(t-1))/(CELLShive(t)+1)))\n",
    "    return TURNSnectarforagerArray_swarm2[t]"
   ]
  },
  {
   "cell_type": "code",
   "execution_count": 90,
   "metadata": {},
   "outputs": [],
   "source": [
    "def BEESadult(t):\n",
    "    # (19b)\n",
    "    global BEESadultArray_swarm2\n",
    "    \n",
    "    if t>len(BEESadultArray_swarm2):\n",
    "        BEESadult(t-1)\n",
    "    if t==len(BEESadultArray_swarm2):\n",
    "        if t==0:\n",
    "            res = INITBEESadult\n",
    "        else:\n",
    "            res = (BEESadult(t-1) + PUPAE(LIFESPANpupa, t-1))*(1 - MORTALITYadult(t)) - BEESswarm(t)\n",
    "        BEESadultArray_swarm2 = np.append(BEESadultArray_swarm2, res)\n",
    "    return BEESadultArray_swarm2[t]"
   ]
  },
  {
   "cell_type": "code",
   "execution_count": 91,
   "metadata": {},
   "outputs": [],
   "source": [
    "def ELR(t):\n",
    "    # (5b)\n",
    "    global ELRArray_swarm2\n",
    "    if t > len(ELRArray_swarm2):\n",
    "        ELR(t-1)\n",
    "    if t == len(ELRArray_swarm2):\n",
    "        res = ELRbase(t) * (1 + ELRstoch(t)) * (1 - season(t)) * SUPcomb(t) * FACTORqueen(t)\n",
    "        ELRArray_swarm2 = np.append(ELRArray_swarm2, res)\n",
    "    return ELRArray_swarm2[t]"
   ]
  },
  {
   "cell_type": "code",
   "execution_count": 92,
   "metadata": {},
   "outputs": [],
   "source": [
    "res_swarming_2 = Main(365, swarm= 2)"
   ]
  },
  {
   "cell_type": "code",
   "execution_count": 93,
   "metadata": {
    "scrolled": true
   },
   "outputs": [
    {
     "data": {
      "text/plain": [
       "<matplotlib.legend.Legend at 0x26417026eb0>"
      ]
     },
     "execution_count": 93,
     "metadata": {},
     "output_type": "execute_result"
    },
    {
     "data": {
      "image/png": "[encoded data removed]",
      "text/plain": [
       "<Figure size 864x864 with 2 Axes>"
      ]
     },
     "metadata": {},
     "output_type": "display_data"
    }
   ],
   "source": [
    "plt.figure(figsize=(12,12))\n",
    "\n",
    "plt.subplot(2,2,1)\n",
    "res_swarming['BEESadult'].plot(label = \"BEESadult : Mother Colony\")\n",
    "res['BEESadult'].plot(label = \"BEESadult : No swarm\")\n",
    "res_swarming_2['BEESadult'].plot(label = \"BEESadult : Daughter Colony\")\n",
    "plt.legend()\n",
    "\n",
    "plt.subplot(2,2,2)\n",
    "res_swarming['WEIGHTcolony'].plot(label = \"Colony weight : Mother Colony\")\n",
    "res['WEIGHTcolony'].plot(label = \"Colony weight : No swarm\")\n",
    "res_swarming_2['WEIGHTcolony'].plot(label = \"Colony weight : Daughter Colony\")\n",
    "plt.legend()"
   ]
  },
  {
   "cell_type": "markdown",
   "metadata": {},
   "source": [
    "We have a problem in this example: Daughter colony"
   ]
  }
 ],
 "metadata": {
  "kernelspec": {
   "display_name": "Python 3",
   "language": "python",
   "name": "python3"
  },
  "language_info": {
   "codemirror_mode": {
    "name": "ipython",
    "version": 3
   },
   "file_extension": ".py",
   "mimetype": "text/x-python",
   "name": "python",
   "nbconvert_exporter": "python",
   "pygments_lexer": "ipython3",
   "version": "3.8.5"
  }
 },
 "nbformat": 4,
 "nbformat_minor": 4
}
